{
 "cells": [
  {
   "cell_type": "markdown",
   "metadata": {},
   "source": [
    "## Python Dateioperationen - eine kruze Einführung"
   ]
  },
  {
   "cell_type": "code",
   "execution_count": 1,
   "metadata": {},
   "outputs": [],
   "source": [
    "import os"
   ]
  },
  {
   "cell_type": "markdown",
   "metadata": {},
   "source": [
    "Pfad des Scripts anzeigen:"
   ]
  },
  {
   "cell_type": "code",
   "execution_count": 2,
   "metadata": {},
   "outputs": [
    {
     "data": {
      "text/plain": [
       "'c:\\\\Users\\\\NataliaArchipenko\\\\Desktop\\\\Python\\\\Datenoerationen'"
      ]
     },
     "execution_count": 2,
     "metadata": {},
     "output_type": "execute_result"
    }
   ],
   "source": [
    "os.getcwd()"
   ]
  },
  {
   "cell_type": "markdown",
   "metadata": {},
   "source": [
    "Pfad des Scripts wechseln:"
   ]
  },
  {
   "cell_type": "code",
   "execution_count": 3,
   "metadata": {},
   "outputs": [
    {
     "data": {
      "text/plain": [
       "'c:\\\\Users\\\\NataliaArchipenko\\\\Desktop\\\\Python'"
      ]
     },
     "execution_count": 3,
     "metadata": {},
     "output_type": "execute_result"
    }
   ],
   "source": [
    "pfad= \"..\"\n",
    "os.chdir(pfad)\n",
    "os.getcwd()"
   ]
  },
  {
   "cell_type": "markdown",
   "metadata": {},
   "source": [
    "Inhalt des aktuellen Verzeichnis anzeigen:"
   ]
  },
  {
   "cell_type": "code",
   "execution_count": 4,
   "metadata": {},
   "outputs": [
    {
     "data": {
      "text/plain": [
       "['.my_venv',\n",
       " 'ALII Tabelle',\n",
       " 'Auswalstruckturen Aufgaben Python',\n",
       " 'Datenoerationen',\n",
       " 'Dictionary',\n",
       " 'ExcellTabelle',\n",
       " 'Funktionen',\n",
       " 'Jupiter_Test.ipynb',\n",
       " 'lösung excell',\n",
       " 'Matplotlib',\n",
       " 'Modularisierung',\n",
       " 'numPY',\n",
       " 'OOP',\n",
       " 'pip',\n",
       " 'Projekt Gesichterkennung',\n",
       " 'Python-Grundlagen-master.zip',\n",
       " 'requirements.txt',\n",
       " 'SET',\n",
       " 'Statistik',\n",
       " 'STRING',\n",
       " 'sudoku',\n",
       " 'tabelle_modular',\n",
       " 'Theory Python',\n",
       " 'try_except',\n",
       " 'venv_test.ipynb']"
      ]
     },
     "execution_count": 4,
     "metadata": {},
     "output_type": "execute_result"
    }
   ],
   "source": [
    "os.listdir()"
   ]
  },
  {
   "cell_type": "markdown",
   "metadata": {},
   "source": [
    "\n",
    "Eine Datei schreiben : \n",
    "```py\n",
    "with open('beispiel.txt', 'w') as file: \n",
    "\tfile.write(\"Das ist ein Beispieltext.\\n\")\n",
    "```\t \n",
    "\n",
    "Eine Datei lesen :\n",
    "```py\n",
    "with open('beispiel.txt', 'r') as file: \n",
    "\tcontent = file.read() print(\"Inhalt der Datei:\", content)\n",
    "```\t\n",
    "\n",
    "Um Pfade zu konstruieren, kannst du die Funktion `os.path.join()` verwenden, die sicherstellt, dass die richtigen Trennzeichen verwendet werden:\n",
    "```py\n",
    "verzeichnis = 'mein_verzeichnis' \n",
    "datei_name = 'meine_datei.txt' \n",
    "kompletter_pfad = os.path.join(verzeichnis, datei_name) \n",
    "print(\"Kompletter Pfad:\", kompletter)\n",
    "```\n",
    "Um alle Dateien in einem Verzeichnis mit einer bestimmten Endung (z.B. `.txt`) zu öffnen, kannst du eine Schleife verwenden:\n",
    "```py\n",
    "for datei in os.listdir(): \n",
    "\tif datei.endswith('.txt'): \n",
    "\t\twith open(datei, 'r') as file: \n",
    "\t\t\tinhalt = file.read() \n",
    "\t\t\tprint(f\"Inhalt der Datei {datei}:\\n{inhalt}\\n\")\n",
    "\t\t\tdir_pfad = os.getcwd()\n",
    "\t\t\tabs_pfad = os.path.join(dir_pfad, datei)\n",
    "\t\t\tprint(f\"Absoluter Pfad der Datei {datei}: {abs_pfad}\")\n",
    "```\n",
    "\n",
    "Jupyter cell magic zum Erstellen einer Datei benutzen:\n",
    "```\n",
    "%%writefile example.txt \n",
    "Dies ist der Inhalt einer Datei, der von Cell Magic %%writefile geschrieben wurde.\n",
    "```\n",
    "\n",
    "| Modus   | Beschreibung                                                                                            | Datei erforderlich? | Plattformunabhängig |\n",
    "|---------|---------------------------------------------------------------------------------------------------------|---------------------|----------------------|\n",
    "| `\"r\"`   | **Lesen**: Öffnet eine bestehende Datei nur zum Lesen. Löst Fehler aus, wenn die Datei nicht existiert. | Ja                  | Ja                   |\n",
    "| `\"w\"`   | **Schreiben (Überschreiben)**: Öffnet eine Datei zum Schreiben und überschreibt sie. Erstellt die Datei, falls sie nicht existiert. | Nein                | Ja                   |\n",
    "| `\"a\"`   | **Anhängen**: Öffnet eine Datei zum Schreiben und fügt den neuen Inhalt am Ende an. Erstellt die Datei, falls sie nicht existiert. | Nein                | Ja                   |\n",
    "| `\"x\"`   | **Erstellen**: Erstellt eine Datei zum Schreiben. Fehler, wenn die Datei bereits existiert.            | Nein                | Ja                   |\n",
    "| `\"r+\"`  | **Lesen und Schreiben**: Öffnet eine Datei zum Lesen und Schreiben. Fehler, wenn die Datei nicht existiert. | Ja              | Ja                   |\n",
    "| `\"w+\"`  | **Lesen und Schreiben (Überschreiben)**: Öffnet eine Datei zum Lesen und Schreiben, überschreibt sie oder erstellt sie. | Nein            | Ja                   |\n",
    "| `\"a+\"`  | **Lesen und Anhängen**: Öffnet eine Datei zum Lesen und Anhängen. Erstellt die Datei, falls sie nicht existiert. | Nein            | Ja                   |\n",
    "| `\"b\"`   | **Binärmodus**: Fügt an einen Modus `\"r\"`, `\"w\"`, `\"a\"`, `\"x\"`, `\"r+\"`, `\"w+\"`, `\"a+\"` an, um eine Datei im Binärformat zu öffnen. | -             | Ja                   |\n",
    "| `\"t\"`   | **Textmodus**: Standardmodus für Textdateien. Wird häufig mit `\"r\"`, `\"w\"`, `\"a\"`, etc. kombiniert und ist Standard, daher optional. | -             | Ja                   |\n",
    "\n",
    "### Beispiele für Kombinationsmodi:\n",
    "\n",
    "-   `\"rb\"`: Lesen einer Datei im Binärmodus.\n",
    "-   `\"w+b\"`: Lesen und Schreiben im Binärmodus, Datei wird überschrieben oder erstellt.\n",
    "-   `\"a+t\"`: Anhängen im Textmodus und gleichzeitig lesend öffnen.\n",
    "\n",
    "Die Modi funktionieren unabhängig vom Betriebssystem, sofern der Dateizugriff erlaubt ist."
   ]
  },
  {
   "cell_type": "code",
   "execution_count": null,
   "metadata": {},
   "outputs": [],
   "source": []
  },
  {
   "cell_type": "code",
   "execution_count": 5,
   "metadata": {},
   "outputs": [],
   "source": [
    "with open('beispiel.txt', 'w') as file: \n",
    "\tfile.write(\"Das ist ein Beispieltext.\\n\")"
   ]
  },
  {
   "cell_type": "code",
   "execution_count": 7,
   "metadata": {},
   "outputs": [
    {
     "name": "stdout",
     "output_type": "stream",
     "text": [
      "Inhalt der Datei: Das ist ein Beispieltext.\n",
      "\n"
     ]
    }
   ],
   "source": [
    "with open('beispiel.txt', 'r') as file: \n",
    "\tcontent = file.read()\n",
    "\tprint(\"Inhalt der Datei:\", content)"
   ]
  },
  {
   "cell_type": "code",
   "execution_count": 16,
   "metadata": {},
   "outputs": [
    {
     "name": "stdout",
     "output_type": "stream",
     "text": [
      "Kompletter Pfad: c:/Users/NataliaArchipenko\\meine_datei.txt\n"
     ]
    }
   ],
   "source": [
    "verzeichnis = 'c:/Users/NataliaArchipenko' #r'C:\\Users\\NataliaArchipenko' #'mein_verzeichnis' \n",
    "datei_name = 'meine_datei.txt' \n",
    "kompletter_pfad = os.path.join(verzeichnis, datei_name) \n",
    "print(\"Kompletter Pfad:\", kompletter_pfad)"
   ]
  },
  {
   "cell_type": "code",
   "execution_count": 9,
   "metadata": {},
   "outputs": [
    {
     "name": "stdout",
     "output_type": "stream",
     "text": [
      "Inhalt der Datei beispiel.txt:\n",
      "Das ist ein Beispieltext.\n",
      "\n",
      "\n",
      "Absoluter Pfad der Datei beispiel.txt: c:\\Users\\NataliaArchipenko\\Desktop\\Python\\beispiel.txt\n",
      "Inhalt der Datei requirements.txt:\n",
      "ExifRead==2.3.1\n",
      "Flask-SQLAlchemy==2.4.4\n",
      "Flask==1.1.2\n",
      "HTMLParser==0.0.2\n",
      "cycler==0.10.0\n",
      "\n",
      "Absoluter Pfad der Datei requirements.txt: c:\\Users\\NataliaArchipenko\\Desktop\\Python\\requirements.txt\n"
     ]
    }
   ],
   "source": [
    "for datei in os.listdir(): \n",
    "\tif datei.endswith('.txt'): \n",
    "\t\twith open(datei, 'r') as file: \n",
    "\t\t\tinhalt = file.read() \n",
    "\t\t\tprint(f\"Inhalt der Datei {datei}:\\n{inhalt}\\n\")\n",
    "\t\t\tdir_pfad = os.getcwd()\n",
    "\t\t\tabs_pfad = os.path.join(dir_pfad, datei)\n",
    "\t\t\tprint(f\"Absoluter Pfad der Datei {datei}: {abs_pfad}\")"
   ]
  },
  {
   "cell_type": "code",
   "execution_count": 12,
   "metadata": {},
   "outputs": [
    {
     "name": "stdout",
     "output_type": "stream",
     "text": [
      "Overwriting example.txt\n"
     ]
    }
   ],
   "source": [
    "%%writefile example.txt \n",
    "Dies ist der Inhalt einer Datei, der von Cell Magic %%writefile geschrieben wurde.\n",
    "Das ist noch eine Zeile."
   ]
  },
  {
   "cell_type": "markdown",
   "metadata": {},
   "source": []
  }
 ],
 "metadata": {
  "kernelspec": {
   "display_name": "Python 3",
   "language": "python",
   "name": "python3"
  },
  "language_info": {
   "codemirror_mode": {
    "name": "ipython",
    "version": 3
   },
   "file_extension": ".py",
   "mimetype": "text/x-python",
   "name": "python",
   "nbconvert_exporter": "python",
   "pygments_lexer": "ipython3",
   "version": "3.12.4"
  }
 },
 "nbformat": 4,
 "nbformat_minor": 2
}
