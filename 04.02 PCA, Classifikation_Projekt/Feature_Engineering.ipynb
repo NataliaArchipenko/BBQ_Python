{
 "cells": [
  {
   "cell_type": "markdown",
   "metadata": {},
   "source": [
    "# Feature Engineering\n",
    "\n",
    "## Einleitung\n",
    "Feature Engineering ist ein essenzieller Bestandteil des maschinellen Lernens, bei dem Rohdaten in ein Format umgewandelt werden, das für Modelle besser geeignet ist. Dabei können Features skaliert, transformiert, kodiert oder sogar neue Features extrahiert werden.\n",
    "\n",
    "Wir werden die folgenden Techniken behandeln:\n",
    "- Skalierung und Normalisierung\n",
    "- Imputation\n",
    "- Kodierung\n",
    "- Merkmalsauswahl\n",
    "- Transformation\n",
    "- Merkmalsextraktion"
   ]
  },
  {
   "cell_type": "markdown",
   "metadata": {},
   "source": [
    "## 1. Behandlung von Ausreißern\n",
    "### 1.1 Identifikation von Ausreißern\n",
    "Es gibt verschiedene Techniken zur Identifikation von Ausreißern, darunter die Verwendung von Z-Scores und des Interquartilsabstands (IQR). Der Z-Score misst, wie viele Standardabweichungen ein Wert vom Mittelwert entfernt ist. Ein Wert mit einem Z-Score über 3 (oder unter -3) gilt oft als Ausreißer. Der IQR ist der Abstand zwischen dem 1. und 3. Quartil der Verteilung. Werte außerhalb des Bereichs von Q1 - 1.5 * IQR und Q3 + 1.5 * IQR gelten ebenfalls als Ausreißer.\n",
    "#### 1.1.1 Identifikation von Ausreißern mit Z-Score"
   ]
  },
  {
   "cell_type": "code",
   "execution_count": 5,
   "metadata": {},
   "outputs": [
    {
     "name": "stdout",
     "output_type": "stream",
     "text": [
      "Ausreißer-Index: (array([100]), array([0]))\n"
     ]
    }
   ],
   "source": [
    "import numpy as np\n",
    "import pandas as pd\n",
    "from scipy import stats\n",
    "\n",
    "# Beispiel-Daten\n",
    "rand_normal = list(np.random.normal(10,4,100))\n",
    "df = pd.DataFrame({'Feature1': rand_normal + [50]})\n",
    "\n",
    "# Berechnung des Z-Scores\n",
    "z_scores = np.abs(stats.zscore(df))\n",
    "outliers = np.where(z_scores > 3)  # Werte, die mehr als 3 Standardabweichungen entfernt sind\n",
    "print(\"Ausreißer-Index:\", outliers)"
   ]
  },
  {
   "cell_type": "markdown",
   "metadata": {},
   "source": [
    "#### 1.1.2 Identifikation von Ausreißern mit IQR"
   ]
  },
  {
   "cell_type": "code",
   "execution_count": 9,
   "metadata": {},
   "outputs": [
    {
     "name": "stdout",
     "output_type": "stream",
     "text": [
      "Ausreißer:\n",
      "       Feature1\n",
      "26    0.415967\n",
      "100  50.000000\n"
     ]
    }
   ],
   "source": [
    "import numpy as np\n",
    "import pandas as pd\n",
    "\n",
    "# Beispiel-Daten\n",
    "rand_normal = list(np.random.normal(10,4,100))\n",
    "df = pd.DataFrame({'Feature1': rand_normal + [50]})\n",
    "\n",
    "# Berechnung des IQR\n",
    "Q1 = df['Feature1'].quantile(0.25)\n",
    "Q3 = df['Feature1'].quantile(0.75)\n",
    "IQR = Q3 - Q1\n",
    "\n",
    "# Identifikation von Ausreißern\n",
    "outliers = df[(df['Feature1'] < (Q1 - 1.5 * IQR)) | (df['Feature1'] > (Q3 + 1.5 * IQR))]\n",
    "print(\"Ausreißer:\\n\", outliers)"
   ]
  },
  {
   "cell_type": "markdown",
   "metadata": {},
   "source": [
    "### 1.2 Methoden zur Ausreißerbehandlung\n",
    "Nachdem Ausreißer identifiziert wurden, gibt es mehrere Ansätze, um mit ihnen umzugehen:\n",
    "\n",
    "- Winsorisierung: Hierbei werden die Ausreißer durch den nächstgelegenen nicht-Ausreißerwert ersetzt (z. B. den 1. oder 99. Perzentilwert).\n",
    "- Zensurierung: Extreme Werte werden durch den Schwellenwert ersetzt, um sie innerhalb eines akzeptablen Bereichs zu halten.\n",
    "- Entfernen: In manchen Fällen werden Ausreißer einfach aus den Daten entfernt, insbesondere wenn sie durch Fehler verursacht wurden.\n",
    "- Transformationen: Eine logarithmische Transformation (siehe 3.3) oder Box-Cox-Transformation kann helfen, die Auswirkungen von Ausreißern zu mildern, indem sie die Skala der Daten verändert.\n",
    "\n",
    "#### Beispiel: Winsorisierung der Daten"
   ]
  },
  {
   "cell_type": "code",
   "execution_count": 13,
   "metadata": {},
   "outputs": [
    {
     "name": "stdout",
     "output_type": "stream",
     "text": [
      "Winsorisierte Daten:\n",
      "    Feature1\n",
      "0          2\n",
      "1          2\n",
      "2          3\n",
      "3          4\n",
      "4          5\n",
      "5          6\n",
      "6          7\n",
      "7          8\n",
      "8          9\n",
      "9        100\n",
      "10       200\n",
      "11       200\n"
     ]
    }
   ],
   "source": [
    "from scipy.stats import mstats\n",
    "\n",
    "df = pd.DataFrame({'Feature1': [1, 2, 3, 4, 5, 6, 7, 8, 9 ,100, 200, 600000000]})\n",
    "\n",
    "# Winsorisierung der Daten (5% unten und 5% oben)\n",
    "df['Feature1'] = mstats.winsorize(df['Feature1'], limits=[0.1, 0.1])\n",
    "\n",
    "print(\"Winsorisierte Daten:\")\n",
    "print(df)\n"
   ]
  },
  {
   "cell_type": "markdown",
   "metadata": {},
   "source": [
    "## 2. Imputation (Umgang mit fehlenden Werten)\n",
    "\n",
    "### 2.1 Mittelwert-, Median- und Modus-Imputation\n",
    "Bei dieser Methode werden fehlende Werte durch den Mittelwert oder Median der jeweiligen Spalte ersetzt. Die Mittelwert-Imputation eignet sich für normalverteilte Daten, während die Median-Imputation bei schiefen Verteilungen robuster ist. Der Modus kann bei kategorischen Daten verwendet werden."
   ]
  },
  {
   "cell_type": "code",
   "execution_count": 14,
   "metadata": {},
   "outputs": [
    {
     "name": "stdout",
     "output_type": "stream",
     "text": [
      "Mittelwert-Imputation:\n",
      "      A     B\n",
      "0  1.0  10.0\n",
      "1  2.0  32.5\n",
      "2  3.0  30.0\n",
      "3  4.0  40.0\n",
      "4  5.0  50.0\n",
      "\n",
      "Median-Imputation:\n",
      "      A     B\n",
      "0  1.0  10.0\n",
      "1  2.0  35.0\n",
      "2  3.0  30.0\n",
      "3  4.0  40.0\n",
      "4  5.0  50.0\n"
     ]
    }
   ],
   "source": [
    "import pandas as pd\n",
    "from sklearn.impute import SimpleImputer\n",
    "\n",
    "# Beispiel-Daten\n",
    "data = {'A': [1, 2, None, 4, 5], 'B': [10, None, 30, 40, 50]}\n",
    "df = pd.DataFrame(data)\n",
    "\n",
    "# Mittelwert-Imputation\n",
    "imputer_mean = SimpleImputer(strategy='mean')\n",
    "df_mean = pd.DataFrame(imputer_mean.fit_transform(df), columns=df.columns)\n",
    "\n",
    "# Median-Imputation\n",
    "imputer_median = SimpleImputer(strategy='median')\n",
    "df_median = pd.DataFrame(imputer_median.fit_transform(df), columns=df.columns)\n",
    "\n",
    "print(\"Mittelwert-Imputation:\\n\", df_mean)\n",
    "print(\"\\nMedian-Imputation:\\n\", df_median)"
   ]
  },
  {
   "cell_type": "markdown",
   "metadata": {},
   "source": [
    "### 2.2 K-Nearest Neighbor (kNN) Imputation\n",
    "Hierbei werden fehlende Werte durch die Werte der k-nächsten Nachbarn ersetzt, basierend auf Ähnlichkeiten der vorhandenen Merkmale. Diese Methode kann genauere Schätzungen liefern, ist aber rechenintensiver."
   ]
  },
  {
   "cell_type": "code",
   "execution_count": 15,
   "metadata": {},
   "outputs": [
    {
     "name": "stdout",
     "output_type": "stream",
     "text": [
      "KNN-Imputation:\n",
      "      A     B\n",
      "0  1.0  10.0\n",
      "1  2.0  25.0\n",
      "2  2.5  30.0\n",
      "3  4.0  40.0\n",
      "4  5.0  50.0\n"
     ]
    }
   ],
   "source": [
    "from sklearn.impute import KNNImputer\n",
    "\n",
    "# Beispiel-Daten\n",
    "data = {'A': [1, 2, None, 4, 5], 'B': [10, None, 30, 40, 50]}\n",
    "df = pd.DataFrame(data)\n",
    "\n",
    "# KNN Imputation\n",
    "imputer_knn = KNNImputer(n_neighbors=2)\n",
    "df_knn = pd.DataFrame(imputer_knn.fit_transform(df), columns=df.columns)\n",
    "\n",
    "print(\"KNN-Imputation:\\n\", df_knn)"
   ]
  },
  {
   "cell_type": "markdown",
   "metadata": {},
   "source": [
    "Die beiden nächsten bekannten Nachbarn sind vermutlich:\n",
    "Zeile 0 (A = 1.0, B = 10)\n",
    "Zeile 3 (A = 4.0, B = 40)"
   ]
  },
  {
   "cell_type": "markdown",
   "metadata": {},
   "source": [
    "## 3. Skalierung für nummerische Daten\n",
    "### 3.1 Min-Max-Skalierung\n",
    "\n",
    "Die Min-Max-Skalierung transformiert die Daten auf einen Bereich zwischen 0 und 1. Dies wird oft für Algorithmen benötigt, die empfindlich gegenüber Größenordnungen sind."
   ]
  },
  {
   "cell_type": "code",
   "execution_count": 19,
   "metadata": {},
   "outputs": [
    {
     "name": "stdout",
     "output_type": "stream",
     "text": [
      "[[0.  ]\n",
      " [0.25]\n",
      " [0.5 ]\n",
      " [0.75]\n",
      " [1.  ]]\n"
     ]
    }
   ],
   "source": [
    "from sklearn.preprocessing import MinMaxScaler\n",
    "import numpy as np\n",
    "\n",
    "X = np.array([[100], [200], [300], [400], [500]])\n",
    "scaler = MinMaxScaler()\n",
    "X_scaled = scaler.fit_transform(X)\n",
    "print(X_scaled)"
   ]
  },
  {
   "cell_type": "markdown",
   "metadata": {},
   "source": [
    "### 3.2 Standardisierung (Z-Score-Normalisierung)\n",
    "Standardisierung setzt die Daten auf eine Standardnormalverteilung mit Mittelwert 0 und Standardabweichung 1 um. Dies ist besonders nützlich für Algorithmen, die auf der Annahme einer Normalverteilung basieren."
   ]
  },
  {
   "cell_type": "code",
   "execution_count": 17,
   "metadata": {},
   "outputs": [
    {
     "name": "stdout",
     "output_type": "stream",
     "text": [
      "[[-1.41421356]\n",
      " [-0.70710678]\n",
      " [ 0.        ]\n",
      " [ 0.70710678]\n",
      " [ 1.41421356]]\n"
     ]
    }
   ],
   "source": [
    "from sklearn.preprocessing import StandardScaler\n",
    "\n",
    "scaler = StandardScaler()\n",
    "X_standardized = scaler.fit_transform(X)\n",
    "print(X_standardized)"
   ]
  },
  {
   "cell_type": "markdown",
   "metadata": {},
   "source": [
    "### 3.3 Log-Transformation\n",
    "Verringert die Wirkung von Ausreißern (siehe 1.), indem große Werte durch die logarithmische Umwandlung auf eine kompaktere Skala gebracht werden. Dies verbessert oft die Verteilung der Daten und kann die Modellleistung erhöhen."
   ]
  },
  {
   "cell_type": "code",
   "execution_count": 20,
   "metadata": {},
   "outputs": [
    {
     "name": "stdout",
     "output_type": "stream",
     "text": [
      "   value  log_value\n",
      "0      1   0.693147\n",
      "1     10   2.397895\n",
      "2    100   4.615121\n",
      "3   1000   6.908755\n",
      "4  10000   9.210440\n"
     ]
    }
   ],
   "source": [
    "import pandas as pd\n",
    "\n",
    "df = pd.DataFrame({'value': [1, 10, 100, 1000, 10000]})\n",
    "df['log_value'] = np.log1p(df['value'])\n",
    "print(df)"
   ]
  },
  {
   "cell_type": "markdown",
   "metadata": {},
   "source": [
    "## 4. Kodierung/Umwandlung kategorischer Daten\n",
    "\n",
    "### 4.1 Label-Encoding\n",
    "Label Encoding ist eine Methode, bei der jeder kategorische Wert in einer Variablen einer numerischen Zahl zugeordnet wird. Diese Zahl wird basierend auf der Reihenfolge der Kategorien im Datensatz oder nach einer bestimmten Sortierung zugewiesen. Bei nominalen Daten hat die Reihenfolge keine Bedeutung, und Label Encoding kann für die Zielvariable verwendet werden. Bei Merkmalen ist es nur dann sinnvoll, wenn es sich um zwei Kategorien handelt, ansonsten sollte One-Hot Encoding verwendet werden."
   ]
  },
  {
   "cell_type": "code",
   "execution_count": 21,
   "metadata": {},
   "outputs": [
    {
     "name": "stdout",
     "output_type": "stream",
     "text": [
      "   data  encoded_data\n",
      "0   rot             2\n",
      "1  grün             1\n",
      "2  blau             0\n",
      "3  grün             1\n",
      "4  blau             0\n"
     ]
    }
   ],
   "source": [
    "from sklearn.preprocessing import LabelEncoder\n",
    "\n",
    "labels = ['rot', 'grün', 'blau', 'grün', 'blau']\n",
    "df = pd.DataFrame(data={\"data\": labels})\n",
    "encoder = LabelEncoder()\n",
    "df[\"encoded_data\"] = encoder.fit_transform(labels)\n",
    "print(df)"
   ]
  },
  {
   "cell_type": "markdown",
   "metadata": {},
   "source": [
    "### 4.2 One-Hot-Encoding\n",
    "\n",
    "One-Hot-Encoding ist eine Methode zur Umwandlung von kategorischen Variablen in eine numerische Form, die von Maschinenlernalgorithmen verarbeitet werden kann. Dabei wird jede Kategorie einer Variablen als neue Spalte (Feature) dargestellt. Jede Spalte enthält entweder den Wert 1 (wenn die Kategorie zutrifft) oder 0 (wenn sie nicht zutrifft). Dadurch wird die Kategorische Variable in eine binäre Repräsentation umgewandelt."
   ]
  },
  {
   "cell_type": "code",
   "execution_count": 22,
   "metadata": {},
   "outputs": [
    {
     "name": "stdout",
     "output_type": "stream",
     "text": [
      "   Farbe_grün  Farbe_rot\n",
      "0         0.0        1.0\n",
      "1         1.0        0.0\n",
      "2         0.0        0.0\n",
      "3         1.0        0.0\n",
      "4         0.0        0.0\n"
     ]
    }
   ],
   "source": [
    "import pandas as pd\n",
    "from sklearn.preprocessing import OneHotEncoder\n",
    "\n",
    "categories = pd.DataFrame({'Farbe': ['rot', 'grün', 'blau', 'grün', 'blau']})\n",
    "\n",
    "encoder = OneHotEncoder(sparse_output=False, drop='first')  # eine Spalte löschen (redundant)\n",
    "one_hot_encoded = encoder.fit_transform(categories[['Farbe']])\n",
    "encoded_df = pd.DataFrame(one_hot_encoded, columns=encoder.get_feature_names_out(['Farbe'])) # Präfix Farbe für die Spaltennamen\n",
    "\n",
    "print(encoded_df)"
   ]
  },
  {
   "cell_type": "markdown",
   "metadata": {},
   "source": [
    "### 4.3 Ordinal-Encoding\n",
    "Ordinal Encoding ist eine Technik zur Umwandlung kategorischer Variablen in numerische Werte, bei der den Kategorien eine Reihenfolge zugewiesen wird. Im Gegensatz zum One-Hot-Encoding, das keine Reihenfolge berücksichtigt, wird hier jeder Kategorie ein eindeutiger numerischer Wert basierend auf einer festgelegten Reihenfolge zugewiesen. Diese Methode eignet sich besonders gut für ordinalskalierte Daten, bei denen eine natürliche Reihenfolge zwischen den Kategorien besteht."
   ]
  },
  {
   "cell_type": "code",
   "execution_count": 23,
   "metadata": {},
   "outputs": [
    {
     "name": "stdout",
     "output_type": "stream",
     "text": [
      "  Schwierigkeitsgrad  encoded_data\n",
      "0             leicht           0.0\n",
      "1             mittel           1.0\n",
      "2             schwer           2.0\n",
      "3             mittel           1.0\n",
      "4             leicht           0.0\n"
     ]
    }
   ],
   "source": [
    "import pandas as pd\n",
    "from sklearn.preprocessing import OrdinalEncoder\n",
    "\n",
    "# Beispiel-Daten\n",
    "df = pd.DataFrame({'Schwierigkeitsgrad': ['leicht', 'mittel', 'schwer', 'mittel', 'leicht']})\n",
    "\n",
    "\n",
    "encoder = OrdinalEncoder(categories=[['leicht', 'mittel', 'schwer']])\n",
    "df[\"encoded_data\"] = encoder.fit_transform(df[['Schwierigkeitsgrad']])\n",
    "\n",
    "print(df)"
   ]
  },
  {
   "cell_type": "markdown",
   "metadata": {},
   "source": [
    "## 5. Merkmalsauswahl (Auswahl der wichtigsten Features)\n",
    "\n",
    "### 5.1 Korrelationsanalyse\n",
    "Die Korrelationsanalyse ist eine statistische Methode, um den Zusammenhang zwischen zwei oder mehr Variablen zu untersuchen. Sie hilft dabei, festzustellen, ob und wie stark zwei Variablen miteinander in Beziehung stehen. Eine häufige Maßzahl zur Messung dieses Zusammenhangs ist der Pearson-Korrelationskoeffizient, der Werte zwischen -1 (starke negative Korrelation) und +1 (starke positive Korrelation) annehmen kann. Ein Wert von 0 zeigt keine lineare Beziehung an.\n",
    "<br><br>\n",
    "In der Praxis wird die Korrelationsanalyse oft verwendet, um die Beziehung zwischen numerischen Variablen zu untersuchen und herauszufinden, ob eine Variable eine andere beeinflussen könnte. In der Datenanalyse ist die Korrelationsanalyse besonders nützlich, um redundante Variablen zu identifizieren oder zu prüfen, ob eine starke Korrelation zwischen den Variablen besteht, die für Modellierung oder Vorhersagen verwendet werden könnten.\n",
    "<br><br>\n",
    "**Arten der Korrelation:**\n",
    "- Positive Korrelation: Wenn eine Variable steigt, steigt auch die andere.\n",
    "- Negative Korrelation: Wenn eine Variable steigt, sinkt die andere.\n",
    "- Keine Korrelation: Wenn keine klare Beziehung zwischen den Variablen besteht.\n",
    "\n",
    "**Pearson-Korrelationskoeffizient:**<br>\n",
    "Dieser misst den linearen Zusammenhang zwischen zwei Variablen. Der Wert des Korrelationskoeffizienten reicht von -1 (perfekte negative Korrelation) bis +1 (perfekte positive Korrelation). Ein Wert von 0 bedeutet, dass keine lineare Korrelation existiert."
   ]
  },
  {
   "cell_type": "code",
   "execution_count": 24,
   "metadata": {},
   "outputs": [
    {
     "name": "stdout",
     "output_type": "stream",
     "text": [
      "Korrelationsmatrix:\n",
      "           Variable1  Variable2  Variable3\n",
      "Variable1   1.000000  -0.027189   0.143806\n",
      "Variable2  -0.027189   1.000000  -0.008410\n",
      "Variable3   0.143806  -0.008410   1.000000\n"
     ]
    }
   ],
   "source": [
    "import pandas as pd\n",
    "import numpy as np\n",
    "\n",
    "# Beispiel-Daten\n",
    "df = pd.DataFrame({\n",
    "    'Variable1': np.random.normal(10, 2, 100),\n",
    "    'Variable2': np.random.normal(20, 5, 100),\n",
    "    'Variable3': np.random.normal(30, 10, 100)\n",
    "})\n",
    "\n",
    "correlation_matrix = df.corr()\n",
    "\n",
    "print(\"Korrelationsmatrix:\")\n",
    "print(correlation_matrix)"
   ]
  },
  {
   "cell_type": "markdown",
   "metadata": {},
   "source": [
    "- Variable1 und Variable2 haben eine sehr geringe positive Korrelation.\n",
    "- Variable1 und Variable3 haben eine geringe positive Korrelation.\n",
    "- Variable2 und Variable3 haben eine sehr geringe negative Korrelation."
   ]
  },
  {
   "cell_type": "code",
   "execution_count": 26,
   "metadata": {},
   "outputs": [
    {
     "data": {
      "image/png": "[encoded data removed]",
      "text/plain": [
       "<Figure size 640x480 with 2 Axes>"
      ]
     },
     "metadata": {},
     "output_type": "display_data"
    }
   ],
   "source": [
    "import matplotlib.pyplot as plt\n",
    "%matplotlib inline\n",
    "import seaborn as sns\n",
    "sns.heatmap(correlation_matrix, annot=True)\n",
    "plt.show()"
   ]
  },
  {
   "cell_type": "markdown",
   "metadata": {},
   "source": [
    "### 5.2 Rekursive Merkmalseliminierung (RFE)\n",
    "Rekursive Merkmalseliminierung (RFE) ist eine Methode zur Merkmalsauswahl, bei der iterativ die weniger wichtigen Merkmale aus einem Modell entfernt werden. Zu Beginn wird ein Modell mit allen verfügbaren Merkmalen trainiert, und dann werden die Merkmale, die am wenigsten zur Vorhersageleistung des Modells beitragen, schrittweise entfernt. Dieser Prozess wird wiederholt, bis nur noch die besten Merkmale übrig sind.\n",
    "<br><br>\n",
    "RFE wird häufig in Kombination mit Modellen wie Support Vector Machines (SVM) oder Linearen Regressionsmodellen verwendet, um die wichtigeren Merkmale für das Modell zu identifizieren und die Modellkomplexität zu reduzieren."
   ]
  },
  {
   "cell_type": "code",
   "execution_count": 27,
   "metadata": {},
   "outputs": [
    {
     "name": "stdout",
     "output_type": "stream",
     "text": [
      "Ausgewählte Merkmale: ['petal length (cm)', 'petal width (cm)']\n"
     ]
    }
   ],
   "source": [
    "from sklearn.feature_selection import RFE\n",
    "from sklearn.linear_model import LogisticRegression\n",
    "from sklearn.datasets import load_iris\n",
    "\n",
    "# Beispiel-Daten\n",
    "data = load_iris()\n",
    "X, y = data.data, data.target\n",
    "\n",
    "# Modell definieren\n",
    "model = LogisticRegression(max_iter=2000)\n",
    "\n",
    "# RFE anwenden\n",
    "selector = RFE(model, n_features_to_select=2)\n",
    "X_selected = selector.fit_transform(X, y)\n",
    "\n",
    "# Ausgabe der ausgewählten Merkmale\n",
    "column_names = data.feature_names \n",
    "selected_features = [column_names[i] for i in range(len(column_names)) if selector.support_[i]]\n",
    "print(\"Ausgewählte Merkmale:\", selected_features)"
   ]
  },
  {
   "cell_type": "markdown",
   "metadata": {},
   "source": [
    "## 6. Merkmalsextraktion\n",
    "\n",
    "Merkmalsextraktion bezieht sich auf die Technik, mit der aus einem großen Datensatz die wichtigsten Merkmale extrahiert werden, um die Komplexität zu reduzieren und gleichzeitig die Leistungsfähigkeit eines Modells zu erhalten. Zwei gängige Methoden sind **PCA** und **t-SNE**.\n",
    "\n",
    "#### **6.1 PCA (Principal Component Analysis)**\n",
    "\n",
    "PCA ist eine lineare Methode zur Reduktion der Dimensionalität von Datensätzen. Dabei werden neue, orthogonale Achsen (Hauptkomponenten) gefunden, die die größte Varianz der ursprünglichen Daten erklären. Dies hilft, redundante Merkmale zu eliminieren und die Modellberechnung effizienter zu gestalten.\n",
    "\n",
    "##### **Vorteile von PCA:**\n",
    "- Reduziert die Anzahl der Merkmale, behält aber die wichtigsten Informationen bei.\n",
    "- Verwendet die Varianz in den Daten zur Bestimmung der wichtigsten Komponenten."
   ]
  },
  {
   "cell_type": "code",
   "execution_count": 28,
   "metadata": {},
   "outputs": [
    {
     "name": "stdout",
     "output_type": "stream",
     "text": [
      "Erklärte Varianz der Komponenten: 0.71%\n",
      "Reduzierte Daten:\n",
      " [[-0.47391048  0.07119656]\n",
      " [ 1.62016613  0.61976181]\n",
      " [-0.01301566  1.30575335]\n",
      " [ 1.02744501 -1.23351119]\n",
      " [-0.31351294 -1.15165261]]\n"
     ]
    }
   ],
   "source": [
    "import numpy as np\n",
    "import pandas as pd\n",
    "from sklearn.decomposition import PCA\n",
    "from sklearn.preprocessing import StandardScaler\n",
    "\n",
    "# Beispiel-Daten\n",
    "df = pd.DataFrame({\n",
    "    'Feature1': np.random.normal(0, 1, 100),\n",
    "    'Feature2': np.random.normal(1, 2, 100),\n",
    "    'Feature3': np.random.normal(2, 3, 100)\n",
    "})\n",
    "\n",
    "# Standardisierung der Daten\n",
    "scaler = StandardScaler()\n",
    "data_scaled = scaler.fit_transform(df)\n",
    "\n",
    "# PCA anwenden\n",
    "pca = PCA(n_components=2)  # Reduziere auf 2 Hauptkomponenten\n",
    "data_pca = pca.fit_transform(data_scaled)\n",
    "\n",
    "# Ergebnisse\n",
    "print(f\"Erklärte Varianz der Komponenten: {sum(pca.explained_variance_ratio_):.2f}%\")\n",
    "print(\"Reduzierte Daten:\\n\", data_pca[:5])"
   ]
  },
  {
   "cell_type": "markdown",
   "metadata": {},
   "source": [
    "#### **6.2 t-SNE (t-distributed Stochastic Neighbor Embedding)**\n",
    "\n",
    "t-SNE ist eine nichtlineare Methode, die speziell dafür entwickelt wurde, hochdimensionale Daten in niedrigdimensionale Daten zu transformieren, um deren Struktur zu visualisieren. Es behält die Nachbarschaftsstruktur der Daten bei, indem es die Ähnlichkeit zwischen den Datenpunkten minimiert.\n",
    "\n",
    "##### **Vorteile von t-SNE:**\n",
    "- Besonders nützlich für die Visualisierung hochdimensionaler Daten.\n",
    "- Behält lokale Strukturen der Daten bei und eignet sich daher hervorragend für Clusteranalysen."
   ]
  },
  {
   "cell_type": "code",
   "execution_count": 30,
   "metadata": {},
   "outputs": [
    {
     "data": {
      "image/png": "[encoded data removed]",
      "text/plain": [
       "<Figure size 640x480 with 1 Axes>"
      ]
     },
     "metadata": {},
     "output_type": "display_data"
    },
    {
     "name": "stdout",
     "output_type": "stream",
     "text": [
      "Orginaldaten: (100, 6)\n",
      "Transformierte Daten: (100, 2)\n"
     ]
    }
   ],
   "source": [
    "import matplotlib.pyplot as plt\n",
    "from sklearn.manifold import TSNE\n",
    "\n",
    "# Beispiel-Daten (wie oben)\n",
    "df = pd.DataFrame({\n",
    "    'Feature1': np.random.normal(0, 1, 100),\n",
    "    'Feature2': np.random.normal(1, 2, 100),\n",
    "    'Feature3': np.random.normal(2, 3, 100),\n",
    "    'Feature4': np.random.normal(3, 4, 100),\n",
    "    'Feature5': np.random.normal(4, 5, 100),\n",
    "    'Feature6': np.random.normal(5, 6, 100)\n",
    "})\n",
    "\n",
    "tsne = TSNE(n_components=2, random_state=42)\n",
    "data_tsne = tsne.fit_transform(df)\n",
    "\n",
    "plt.scatter(data_tsne[:, 0], data_tsne[:, 1])\n",
    "plt.title(\"t-SNE-Visualisierung\")\n",
    "plt.show()\n",
    "print(f\"Orginaldaten: {df.shape}\\nTransformierte Daten: {data_tsne.shape}\")"
   ]
  },
  {
   "cell_type": "markdown",
   "metadata": {},
   "source": [
    "## 7. Feature Transformation"
   ]
  },
  {
   "cell_type": "markdown",
   "metadata": {},
   "source": [
    "### 7.1 Polynomiale Features erzeugen\n",
    "Polynomiale Features sind Erweiterungen der bestehenden Merkmale, die durch Erhöhen der Potenzen der Features oder durch Interaktionen zwischen den Features erzeugt werden. Dies kann helfen, nicht-lineare Beziehungen zu modellieren.\n",
    "\n",
    "- Quadratische Features entstehen durch das Erhöhen der Features auf die zweite Potenz (z. B. $x^2$).\n",
    "- Kubische Features entstehen durch das Erhöhen der Features auf die dritte Potenz (z. B. $x^3$).\n",
    "- Interaktionsfeatures entstehen durch das Produkt zweier Variablen (z. B. $x\\times y$).\n",
    "\n",
    "<br>\n",
    "Polynomiale Features können in vielen Fällen von maschinellen Lernmodellen hilfreich sein, insbesondere wenn es **nicht-lineare Beziehungen** zwischen den Variablen gibt, die durch ein einfaches lineares Modell nicht gut erfasst werden können. Der Einsatz von polynomiellen Features kann die Modellleistung in solchen Situationen verbessern, indem er diese nicht-linearen Zusammenhänge explizit berücksichtigt.\n",
    "\n",
    "#### Wozu braucht man polynomiale Features?\n",
    "\n",
    "1. **Nicht-lineare Beziehungen modellieren**:\n",
    "   - In vielen realen Anwendungen gibt es Beziehungen zwischen Variablen, die nicht einfach durch eine gerade Linie (lineare Regression) beschrieben werden können. Durch die Einführung polynomieller Features (z. B. quadratische oder kubische Terme) können diese nicht-linearen Beziehungen modelliert werden.\n",
    "   \n",
    "2. **Verwendung in linearen Modellen**:\n",
    "   - Ein lineares Modell ist von Natur aus darauf ausgelegt, lineare Beziehungen zu modellieren. Wenn jedoch eine nicht-lineare Beziehung existiert, kann man durch das Hinzufügen polynomieller Features (z. B. $x^2$ oder $x^3$ \n",
    ") das Modell so erweitern, dass es auch nicht-lineare Muster erlernt.\n",
    "   \n",
    "3. **Verbesserung der Modellkomplexität**:\n",
    "   - Das Hinzufügen höherer Potenzen eines Features oder Interaktionen zwischen Variablen kann einem Modell helfen, komplexere Muster zu lernen, die mit einfachen linearen Features nicht erfasst werden können.\n",
    "\n",
    "4. **Erhöhte Vorhersagegenauigkeit**:\n",
    "   - In vielen Fällen führt die Erweiterung der Merkmale um polynomiale Features zu einer besseren Vorhersagegenauigkeit, da das Modell in der Lage ist, eine Vielzahl von möglichen Beziehungen zwischen den Eingabefunktionen zu lernen.\n",
    "\n",
    "Polynomiale Features sind besonders nützlich, wenn du mit Daten arbeitest, bei denen die Beziehung zwischen den Variablen nicht einfach linear ist, aber ein lineares Modell trotzdem verwendet werden soll. Sie erweitern die Ausdruckskraft des Modells, ohne dass ein anderes Modell (wie z. B. Entscheidungsbäume) benötigt wird."
   ]
  },
  {
   "cell_type": "markdown",
   "metadata": {},
   "source": [
    "**Beispiel:**<br>\n",
    "Stell dir vor, du hast einen Datensatz, bei dem die Beziehung zwischen der Eingabe $x$ und der Zielvariable $y$ eine quadratische Beziehung darstellt, z. B.:\n",
    "$$\n",
    "y = 2 \\times x^2 + 3 \\times x + 1\n",
    "$$\n",
    "Ein lineares Modell würde die Beziehung nicht richtig erfassen, weil es nur lineare Zusammenhänge zwischen $x$ und $y$ modellieren kann. Durch Hinzufügen eines polynomiellen Features $x^2$ kann ein lineares Modell jedoch die quadratische Beziehung besser lernen."
   ]
  },
  {
   "cell_type": "code",
   "execution_count": 44,
   "metadata": {},
   "outputs": [
    {
     "data": {
      "image/png": "[encoded data removed]",
      "text/plain": [
       "<Figure size 640x480 with 1 Axes>"
      ]
     },
     "metadata": {},
     "output_type": "display_data"
    }
   ],
   "source": [
    "import numpy as np\n",
    "import pandas as pd\n",
    "from sklearn.linear_model import LinearRegression\n",
    "from sklearn.preprocessing import PolynomialFeatures\n",
    "import matplotlib.pyplot as plt\n",
    "\n",
    "# Beispiel-Daten mit quadratischer Beziehung\n",
    "x = np.linspace(-10, 10, 100).reshape(-1, 1)\n",
    "y = 5* (x ** 3) + 2 * (x ** 2) + 3 * x + 1 + np.random.randn(100, 1) * 500  # mit Rauschen\n",
    "\n",
    "# Polynomiellen Feature-Generator\n",
    "poly = PolynomialFeatures(degree=3, include_bias=False)  # Grad 2 für quadratische Features\n",
    "x_poly = poly.fit_transform(x)\n",
    "\n",
    "model = LinearRegression()\n",
    "model.fit(x_poly, y)\n",
    "\n",
    "y_pred = model.predict(x_poly)\n",
    "\n",
    "plt.scatter(x, y, color='blue', label='Original Data')\n",
    "plt.plot(x, y_pred, color='red', label='Polynomial Regression')\n",
    "plt.legend()\n",
    "plt.show()"
   ]
  },
  {
   "cell_type": "code",
   "execution_count": 41,
   "metadata": {},
   "outputs": [
    {
     "data": {
      "text/plain": [
       "(array([[3.00417386, 1.9998389 ]]), array([0.83100012]))"
      ]
     },
     "execution_count": 41,
     "metadata": {},
     "output_type": "execute_result"
    }
   ],
   "source": [
    "model.coef_, model.intercept_"
   ]
  },
  {
   "cell_type": "markdown",
   "metadata": {},
   "source": [
    "#### 1. **Lineare Regression (Grundprinzip)**:\n",
    "Eine klassische lineare Regression versucht, die beste lineare Beziehung zwischen den Eingabewerten $x$ und der Zielvariablen $y$ zu finden. Sie modelliert diese Beziehung als:\n",
    "\n",
    "$$\n",
    "y = \\beta_0 + \\beta_1 x\n",
    "$$\n",
    "\n",
    "Dabei ist $\\beta_0$ der Achsenabschnitt und $\\beta_1$ die Steigung. Das Modell sucht also nach einer Geraden.\n",
    "\n",
    "#### 2. **Hinzufügen von polynomiellen Features**:\n",
    "Wenn wir polynomiellen Features wie $x^2$ hinzufügen, erweitern wir den Raum, in dem das Modell arbeitet. Statt nur $x$ zu betrachten, betrachten wir nun die Features $x$ und $x^2$. Das bedeutet, dass wir das Modell zwingen, **eine lineare Kombination** von $x$ und $x^2$ zu finden:\n",
    "\n",
    "$$\n",
    "y = \\beta_0 + \\beta_1 x + \\beta_2 x^2\n",
    "$$\n",
    "\n",
    "Jetzt hat das Modell **mehr Freiheitsgrade**, da es **nicht nur eine Gerade**, sondern auch eine Parabel modellieren kann. In diesem erweiterten Raum ist die Beziehung zwischen $x$ und $y$ **linear**, aber in Bezug auf den neuen Feature-Raum $x$ und $x^2$.\n",
    "\n",
    "#### 3. **Warum kann das Modell eine Kurve machen?**\n",
    "Durch die Einführung von $x^2$ (und höheren Potenzen von $x$, wenn du mehr polynomiellen Grad hinzufügst) transformieren wir das Problem von einer einfachen linearen Beziehung zu einer **linearen Beziehung im erweiterten Raum**. Das bedeutet:\n",
    "\n",
    "- Das Modell selbst bleibt \"linear\", weil es nur eine lineare Kombination von Features ist.\n",
    "- Aber durch das Hinzufügen von $x^2$, $x^3$, etc., hat das Modell jetzt die Möglichkeit, **nicht-lineare** Beziehungen zu lernen, obwohl es die gleichen linearen Rechenoperationen ausführt.\n",
    "\n",
    "Das Modell lernt in einem höheren Dimensionsraum, dass es eine quadratische Funktion oder sogar komplexere nicht-lineare Muster benötigt, um die Daten zu beschreiben."
   ]
  },
  {
   "cell_type": "markdown",
   "metadata": {},
   "source": [
    "### 7.2 Diskretisierung & Binning\n",
    "Diskretisierung oder Binning ist der Prozess, bei dem kontinuierliche Werte in diskrete Intervalle oder Kategorien umgewandelt werden. Dies ist besonders hilfreich bei der Modellierung von Entscheidungsbäumen und der Reduzierung von Modellkomplexität.\n",
    "<br>\n",
    "Zum Beispiel kann ein Alter von 25 in die Kategorie \"20-30\" fallen."
   ]
  },
  {
   "cell_type": "code",
   "execution_count": 45,
   "metadata": {},
   "outputs": [
    {
     "name": "stdout",
     "output_type": "stream",
     "text": [
      "   Feature1  binned_data\n",
      "0         1          0.0\n",
      "1         5          0.0\n",
      "2         7          0.0\n",
      "3        10          1.0\n",
      "4        12          1.0\n",
      "5        15          2.0\n",
      "6        20          2.0\n"
     ]
    }
   ],
   "source": [
    "import pandas as pd\n",
    "from sklearn.preprocessing import KBinsDiscretizer\n",
    "\n",
    "# Beispiel-Daten\n",
    "df = pd.DataFrame({'Feature1': [1, 5, 7, 10, 12, 15, 20]})\n",
    "\n",
    "# Diskretisierung (Binning) in 3 Kategorien\n",
    "binning = KBinsDiscretizer(n_bins=3, encode='ordinal', strategy='uniform')\n",
    "df[\"binned_data\"] = binning.fit_transform(df)\n",
    "\n",
    "print(df)"
   ]
  },
  {
   "cell_type": "markdown",
   "metadata": {},
   "source": [
    "## 8. Feature Extraction – Merkmale aus Daten gewinnen\n",
    "\n",
    "Feature Extraction ist der Prozess, durch den bedeutungsvolle Informationen aus Rohdaten extrahiert werden. Dies ist besonders nützlich für unstrukturierte Daten wie Text, Bilder oder Zeitstempel, aber auch bei strukturierten Daten (z. B. durch Aggregation oder Zeitdifferenzen).\n",
    "\n",
    "\n",
    "\n",
    "### 8.1 Textdaten umwandeln\n",
    "Textdaten in numerische Form umwandeln, um sie in Modellen verwenden zu können.\n",
    "   - **Beispiele**:\n",
    "     - **Bag-of-Words**: Erzeugt eine Matrix, in der jeder Text durch eine Sammlung von Wörtern repräsentiert wird.\n",
    "     - **TF-IDF**: Gewichtet die Begriffe in einem Text basierend darauf, wie häufig sie in einem Dokument und in der Gesamtheit der Dokumente vorkommen.\n",
    "     - **Word Embeddings (Word2Vec, BERT)**: Vektorbasierte Repräsentation von Wörtern, die semantische Ähnlichkeiten erfassen."
   ]
  },
  {
   "cell_type": "code",
   "execution_count": 46,
   "metadata": {},
   "outputs": [
    {
     "name": "stdout",
     "output_type": "stream",
     "text": [
      "[[0.         0.53404633 0.         0.53404633 0.37997836 0.\n",
      "  0.53404633 0.         0.        ]\n",
      " [0.4261596  0.         0.4261596  0.         0.30321606 0.4261596\n",
      "  0.         0.4261596  0.4261596 ]]\n"
     ]
    }
   ],
   "source": [
    "from sklearn.feature_extraction.text import TfidfVectorizer\n",
    "corpus = ['Dies ist ein Beispieltext.', 'Ein zweiter Text für das Beispiel.']\n",
    "vectorizer = TfidfVectorizer()\n",
    "X = vectorizer.fit_transform(corpus)\n",
    "print(X.toarray())"
   ]
  },
  {
   "cell_type": "markdown",
   "metadata": {},
   "source": [
    "### 8.2 Bild-Feature Extraction\n",
    "Merkmale aus Bildern extrahieren, um sie in Modellen zu verwenden.\n",
    "   - **Beispiele**:\n",
    "     - **Schärfe und Kontrast**: Merkmale zur Bildqualität.\n",
    "     - **Histogram of Oriented Gradients (HOG)**: Eine Methode, die Kantenmerkmale im Bild extrahiert und zur Objekterkennung verwendet wird."
   ]
  },
  {
   "cell_type": "code",
   "execution_count": 47,
   "metadata": {},
   "outputs": [
    {
     "name": "stdout",
     "output_type": "stream",
     "text": [
      "Requirement already satisfied: pillow in c:\\users\\andreaswagner\\appdata\\local\\programs\\python\\python312\\lib\\site-packages (10.4.0)\n"
     ]
    },
    {
     "name": "stderr",
     "output_type": "stream",
     "text": [
      "\n",
      "[notice] A new release of pip is available: 24.2 -> 25.0\n",
      "[notice] To update, run: python.exe -m pip install --upgrade pip\n"
     ]
    }
   ],
   "source": [
    "!pip install pillow"
   ]
  },
  {
   "cell_type": "code",
   "execution_count": 48,
   "metadata": {},
   "outputs": [
    {
     "name": "stdout",
     "output_type": "stream",
     "text": [
      "     Schärfe  Kontrast\n",
      "0  39.490006       255\n"
     ]
    }
   ],
   "source": [
    "import pandas as pd\n",
    "from PIL import Image, ImageStat\n",
    "\n",
    "# Bild laden\n",
    "image = Image.open(\"Pca.png\").convert(\"L\")  # Konvertiere das Bild in Graustufen\n",
    "\n",
    "# Schärfe berechnen (Standardabweichung der Pixelwerte)\n",
    "sharpness = np.std(np.array(image))\n",
    "\n",
    "# Kontrast berechnen (Differenz zwischen max und min Pixelwert)\n",
    "stat = ImageStat.Stat(image)\n",
    "contrast = stat.extrema[0][1] - stat.extrema[0][0]\n",
    "\n",
    "# Die Werte in einem DataFrame speichern\n",
    "data = {\n",
    "    'Schärfe': [sharpness],\n",
    "    'Kontrast': [contrast]\n",
    "}\n",
    "\n",
    "df = pd.DataFrame(data)\n",
    "print(df)"
   ]
  },
  {
   "cell_type": "markdown",
   "metadata": {},
   "source": [
    "### 8.3 Zeitstempel-Funktionen und Zeitdifferenzen\n",
    "Zeitstempel in nützliche Features umwandeln.\n",
    "   - **Beispiele**:\n",
    "     - **Tag, Woche, Monat extrahieren**: Aus einem `datetime`-Objekt können Jahr, Monat, Tag, Wochentag extrahiert werden, um Zeitaspekte als Feature zu nutzen.\n",
    "     - **Zeitdifferenzen**: Differenz zwischen zwei Zeitpunkten, z. B. Zeitspanne zwischen dem ersten und letzten Kauf eines Kunden.\n"
   ]
  },
  {
   "cell_type": "code",
   "execution_count": 49,
   "metadata": {},
   "outputs": [
    {
     "name": "stdout",
     "output_type": "stream",
     "text": [
      "   year  month  weekday             diff  diff_days\n",
      "0  2025      1        2  0 days 00:00:00          0\n",
      "1  2025      2        5 30 days 03:16:59         30\n",
      "2  2025      3        5 58 days 12:04:28         58\n"
     ]
    }
   ],
   "source": [
    "import pandas as pd\n",
    "df = pd.DataFrame({'timestamp': ['2025-01-01:23:55:33', '2025-02-01:03:12:32', '2025-03-01:12:00:01']})\n",
    "df['datetime'] = pd.to_datetime(df['timestamp'], format='%Y-%m-%d:%H:%M:%S')\n",
    "\n",
    "# Jahr, Monat, Wochentag extrahieren\n",
    "df['year'] = df['datetime'].dt.year\n",
    "df['month'] = df['datetime'].dt.month\n",
    "df['weekday'] = df['datetime'].dt.weekday\n",
    "\n",
    "# Zeitdifferenz berechnen\n",
    "df['diff'] = df['datetime'] - df['datetime'].min()\n",
    "df['diff_days'] = df['diff'].dt.days\n",
    "print(df.iloc[:, 2:])"
   ]
  },
  {
   "cell_type": "markdown",
   "metadata": {},
   "source": [
    "### 8.4 Aggregation bei strukturierten Daten\n",
    "Zusammenfassen von Datenpunkten auf verschiedenen Ebenen, um nützliche Merkmale zu extrahieren.\n",
    "   - **Beispiel**: Durchschnittliches Einkommen pro Jahr, Summe der Käufe pro Kunde."
   ]
  },
  {
   "cell_type": "code",
   "execution_count": 50,
   "metadata": {},
   "outputs": [
    {
     "name": "stdout",
     "output_type": "stream",
     "text": [
      "  customer  total_amount  average_amount\n",
      "0        A           300           150.0\n",
      "1        B           400           200.0\n"
     ]
    }
   ],
   "source": [
    "import pandas as pd\n",
    "\n",
    "df = pd.DataFrame({'customer': ['A', 'B', 'A', 'B'],\n",
    "                     'purchase_amount': [100, 150, 200, 250]})\n",
    "\n",
    "# Berechne sowohl den Gesamtbetrag als auch den Durchschnitt\n",
    "aggregated_data = df.groupby('customer')['purchase_amount'].agg(\n",
    "    total_amount='sum', \n",
    "    average_amount='mean'\n",
    ").reset_index()\n",
    "\n",
    "print(aggregated_data)"
   ]
  },
  {
   "cell_type": "markdown",
   "metadata": {},
   "source": [
    "## 9. Umgang mit unausgewogenen Datensätzen\n",
    "Der Punkt **Upsampling und Umgang mit unausgewogenen Datensätzen** behandelt die Techniken, die helfen, das Problem der ungleichen Verteilung der Zielklassen in einem Datensatz zu lösen. Dies ist besonders wichtig in Klassifikationsmodellen, da Modelle dazu tendieren, die häufigeren Klassen zu bevorzugen. Verschiedene Methoden, wie **Upsampling**, **Downsampling** und **Class Weighting**, können eingesetzt werden, um eine bessere Performance zu erzielen, wenn die Klassen unausgewogen sind.\n",
    "### 9.1 Upsampling \n",
    "Upsampling ist eine Technik, bei der die weniger häufigen Klassen in einem Datensatz durch das Erhöhen ihrer Häufigkeit künstlich verstärkt werden. Dies geschieht in der Regel durch Duplizieren von Beispielen aus der unterrepräsentierten Klasse oder durch die Generierung neuer synthetischer Datenpunkte.\n",
    "   - **Techniken**:\n",
    "     - **Random Upsampling**: Zufällige Wiederholung von Instanzen aus der unterrepräsentierten Klasse.\n",
    "     - **SMOTE (Synthetic Minority Over-sampling Technique)**: Generierung synthetischer Beispiele, indem neue Datenpunkte basierend auf benachbarten Instanzen in der unterrepräsentierten Klasse erstellt werden.\n"
   ]
  },
  {
   "cell_type": "code",
   "execution_count": 52,
   "metadata": {},
   "outputs": [
    {
     "name": "stdout",
     "output_type": "stream",
     "text": [
      "   feature1  feature2  target\n",
      "0         1        10       0\n",
      "1         2        20       0\n",
      "2         3        30       0\n",
      "3         4        40       0\n",
      "4         5        50       0\n",
      "6         7        70       0\n",
      "7         8        80       0\n",
      "9        10       100       0\n",
      "5         6        60       1\n",
      "8         9        90       1\n",
      "5         6        60       1\n",
      "5         6        60       1\n",
      "5         6        60       1\n",
      "5         6        60       1\n",
      "5         6        60       1\n",
      "8         9        90       1\n"
     ]
    }
   ],
   "source": [
    "from sklearn.utils import resample\n",
    "\n",
    "import pandas as pd\n",
    "from sklearn.utils import resample\n",
    "\n",
    "df = pd.DataFrame({\n",
    "    'feature1': [1, 2, 3, 4, 5, 6, 7, 8, 9, 10],\n",
    "    'feature2': [10, 20, 30, 40, 50, 60, 70, 80, 90, 100],\n",
    "    'target': [0, 0, 0, 0, 0, 1, 0, 0, 1, 0]\n",
    "})\n",
    "\n",
    "majority_class = df[df['target'] == 0]\n",
    "minority_class = df[df['target'] == 1]\n",
    "\n",
    "minority_upsampled = resample(minority_class, \n",
    "                            replace=True,  # Mit Zurücklegen\n",
    "                            n_samples=len(majority_class),  # Auf gleiche Größe wie majority_class\n",
    "                            random_state=123)\n",
    "\n",
    "df_upsampled = pd.concat([majority_class, minority_upsampled])\n",
    "print(df_upsampled)"
   ]
  },
  {
   "cell_type": "markdown",
   "metadata": {},
   "source": [
    "### 9.2 Downsampling\n",
    "Beim Downsampling wird die Häufigkeit der überrepräsentierten Klasse verringert, indem zufällig Instanzen entfernt werden, um die Verteilung der Klassen auszugleichen.<br>\n",
    "**Random Downsampling**: Zufällige Auswahl einer Untermenge der überrepräsentierten Klasse, um die Balance zwischen den Klassen zu verbessern."
   ]
  },
  {
   "cell_type": "code",
   "execution_count": 51,
   "metadata": {},
   "outputs": [
    {
     "name": "stdout",
     "output_type": "stream",
     "text": [
      "   feature1  feature2  target\n",
      "0         1        10       0\n",
      "1         2        20       0\n",
      "5         6        60       1\n",
      "8         9        90       1\n"
     ]
    }
   ],
   "source": [
    "import pandas as pd\n",
    "from sklearn.utils import resample\n",
    "\n",
    "df = pd.DataFrame({\n",
    "    'feature1': [1, 2, 3, 4, 5, 6, 7, 8, 9, 10],\n",
    "    'feature2': [10, 20, 30, 40, 50, 60, 70, 80, 90, 100],\n",
    "    'target': [0, 0, 0, 0, 0, 1, 0, 0, 1, 0]\n",
    "})\n",
    "\n",
    "majority_class = df[df['target'] == 0]\n",
    "minority_class = df[df['target'] == 1]\n",
    "\n",
    "majority_downsampled = resample(majority_class, \n",
    "                            replace=False,  # Ohne Zurücklegen\n",
    "                            n_samples=len(minority_class),  # Auf gleiche Größe wie minority_class\n",
    "                            random_state=123)\n",
    "\n",
    "df_downsampled = pd.concat([majority_downsampled, minority_class])\n",
    "print(df_downsampled)"
   ]
  },
  {
   "cell_type": "markdown",
   "metadata": {},
   "source": [
    "### 9.3 Class Weighting\n",
    "Eine alternative Methode zur Handhabung unausgewogener Datensätze ist die Verwendung von **Gewichtungen** in den Modellen. Hierbei werden die Fehler, die auf die unterrepräsentierte Klasse entfallen, stärker gewichtet, sodass das Modell gezwungen wird, diese Klasse stärker zu berücksichtigen.<br>\n",
    "**Class Weighting in Modellen**: Viele Modelle, wie Entscheidungsbäume und SVMs, bieten die Möglichkeit, die Gewichtung der Klassen anzupassen."
   ]
  },
  {
   "cell_type": "code",
   "execution_count": null,
   "metadata": {},
   "outputs": [],
   "source": [
    "# from sklearn.ensemble import RandomForestClassifier\n",
    "# model = RandomForestClassifier(class_weight='balanced')  # Automatische Gewichtung\n",
    "# model.fit(X_train, y_train)\n",
    "\n",
    "# X,y fehlen !"
   ]
  },
  {
   "cell_type": "markdown",
   "metadata": {},
   "source": [
    "**Evaluationstechniken**: Bei unausgewogenen Datensätzen sollte man besonders auf die **Präzision**, **Recall**, **F1-Score** und den **Area Under the Curve (AUC)** achten, da die **Accuracy** bei unausgewogenen Klassen oft nicht aussagekräftig ist."
   ]
  },
  {
   "cell_type": "markdown",
   "metadata": {},
   "source": [
    "## 10 Automatisierung per Pipeline\n",
    "https://towardsdatascience.com/step-by-step-tutorial-of-sci-kit-learn-pipeline-62402d5629b6/\n",
    "\n",
    "Eine **Pipeline** in `scikit-learn` hilft dabei, alle Schritte, die während der Datenvorverarbeitung und Modellierung erforderlich sind, zusammenzufassen. Eine Pipeline ermöglicht es, verschiedene Verarbeitungsschritte wie Feature-Transformation, Upsampling oder Modelltraining in einer durchgängigen Kette auszuführen, die nach der Trainingsphase direkt auf neue Daten angewendet werden kann. <br><br>\n",
    "\n",
    "Die wichtigsten Vorteile einer Pipeline sind:\n",
    "- **Automatisierung:** Du musst die Schritte nicht mehr manuell durchführen – alle Transformationen und Modelltrainings werden in einem einzigen Schritt zusammengefasst.\n",
    "- **Saubere Trennung:** Die Pipeline trennt klar zwischen verschiedenen Datenverarbeitungs- und Modellierungsphasen.\n",
    "- **Wiederverwendbarkeit und Konsistenz:** Die Pipeline sorgt dafür, dass dieselben Schritte sowohl während des Trainings als auch während der Modellbewertung auf die Testdaten angewendet werden.\n",
    "- **Hyperparameter-Optimierung:** In Kombination mit `GridSearchCV` kann man Hyperparameter auf der gesamten Pipeline optimieren, wodurch die Auswahl der besten Modellparameter einfach und effizient wird.\n",
    "\n",
    "### Beispiel-Pipeline:\n",
    "In diesem Beispiel erstellen wir eine Pipeline, die zunächst das Upsampling der Minderheitsklasse durchführt, die Daten anschließend skaliert und schließlich ein Modell trainiert. Anschließend verwenden wir `GridSearchCV`, um die besten Hyperparameter für das Modell zu finden."
   ]
  },
  {
   "cell_type": "code",
   "execution_count": 56,
   "metadata": {},
   "outputs": [
    {
     "name": "stdout",
     "output_type": "stream",
     "text": [
      "Beste Hyperparameter: {'classifier__C': 0.1, 'classifier__solver': 'lbfgs'}\n",
      "\n",
      "Confusion Matrix:\n",
      "[[19  0  0]\n",
      " [ 0 13  0]\n",
      " [ 0  0 13]]\n",
      "\n",
      "Classification Report:\n",
      "              precision    recall  f1-score   support\n",
      "\n",
      "           0       1.00      1.00      1.00        19\n",
      "           1       1.00      1.00      1.00        13\n",
      "           2       1.00      1.00      1.00        13\n",
      "\n",
      "    accuracy                           1.00        45\n",
      "   macro avg       1.00      1.00      1.00        45\n",
      "weighted avg       1.00      1.00      1.00        45\n",
      "\n"
     ]
    }
   ],
   "source": [
    "import pandas as pd\n",
    "from sklearn import datasets\n",
    "from sklearn.model_selection import train_test_split, GridSearchCV\n",
    "from sklearn.preprocessing import StandardScaler\n",
    "from sklearn.pipeline import Pipeline\n",
    "from sklearn.linear_model import LogisticRegression\n",
    "from sklearn.ensemble import RandomForestClassifier\n",
    "from sklearn.feature_selection import SelectFromModel\n",
    "from sklearn.metrics import confusion_matrix, classification_report\n",
    "\n",
    "iris = datasets.load_iris()\n",
    "df = pd.DataFrame(iris.data, columns=iris.feature_names)\n",
    "df['target'] = iris.target\n",
    "\n",
    "X = df.drop(columns='target')\n",
    "y = df['target']\n",
    "\n",
    "X_train, X_test, y_train, y_test = train_test_split(X, y, test_size=0.3, random_state=42)\n",
    "\n",
    "# Pipeline mit Vorverarbeitung und Feature-Auswahl\n",
    "pipeline = Pipeline([\n",
    "    ('scaler', StandardScaler()),                                      # Skalierung der Daten\n",
    "    ('feature_selection', SelectFromModel(RandomForestClassifier())),  # Feature Selection mit RandomForest\n",
    "    ('classifier', LogisticRegression())                               # Klassifikator\n",
    "])\n",
    "\n",
    "# Definiere den Parameterraum für GridSearch\n",
    "param_grid = {\n",
    "    'classifier__C': [.01, .1, 1, 10, 100],\n",
    "    'classifier__solver': ['lbfgs', 'liblinear', 'newton-cg']    \n",
    "}\n",
    "\n",
    "# GridSearchCV-Instanz mit Pipeline\n",
    "grid_search = GridSearchCV(pipeline, param_grid, cv=3)\n",
    "grid_search.fit(X_train, y_train)\n",
    "\n",
    "\n",
    "print(\"Beste Hyperparameter:\", grid_search.best_params_)\n",
    "\n",
    "y_pred = grid_search.best_estimator_.predict(X_test)\n",
    "\n",
    "print(\"\\nConfusion Matrix:\")\n",
    "print(confusion_matrix(y_test, y_pred))\n",
    "\n",
    "\n",
    "print(\"\\nClassification Report:\")\n",
    "print(classification_report(y_test, y_pred))"
   ]
  },
  {
   "cell_type": "code",
   "execution_count": null,
   "metadata": {},
   "outputs": [],
   "source": []
  }
 ],
 "metadata": {
  "kernelspec": {
   "display_name": "Python 3",
   "language": "python",
   "name": "python3"
  },
  "language_info": {
   "codemirror_mode": {
    "name": "ipython",
    "version": 3
   },
   "file_extension": ".py",
   "mimetype": "text/x-python",
   "name": "python",
   "nbconvert_exporter": "python",
   "pygments_lexer": "ipython3",
   "version": "3.12.6"
  }
 },
 "nbformat": 4,
 "nbformat_minor": 2
}
