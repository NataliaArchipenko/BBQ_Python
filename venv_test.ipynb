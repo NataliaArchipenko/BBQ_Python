{
 "cells": [
  {
   "cell_type": "markdown",
   "metadata": {},
   "source": [
    "Testen der virtuellen Umebung\n",
    "wi rkönnen in einer Code Zelle Befehle in der Eingabeaufforderung mit `!<kommando>`"
   ]
  },
  {
   "cell_type": "code",
   "execution_count": 4,
   "metadata": {},
   "outputs": [
    {
     "name": "stdout",
     "output_type": "stream",
     "text": [
      "Package                   Version\n",
      "------------------------- --------------\n",
      "anyio                     4.6.0\n",
      "argon2-cffi               23.1.0\n",
      "argon2-cffi-bindings      21.2.0\n",
      "arrow                     1.3.0\n",
      "asttokens                 2.4.1\n",
      "async-lru                 2.0.4\n",
      "attrs                     24.2.0\n",
      "babel                     2.16.0\n",
      "beautifulsoup4            4.12.3\n",
      "bleach                    6.1.0\n",
      "certifi                   2024.8.30\n",
      "cffi                      1.17.1\n",
      "charset-normalizer        3.3.2\n",
      "colorama                  0.4.6\n",
      "comm                      0.2.2\n",
      "debugpy                   1.8.5\n",
      "decorator                 5.1.1\n",
      "defusedxml                0.7.1\n",
      "executing                 2.1.0\n",
      "fastjsonschema            2.20.0\n",
      "fqdn                      1.5.1\n",
      "h11                       0.14.0\n",
      "httpcore                  1.0.5\n",
      "httpx                     0.27.2\n",
      "idna                      3.10\n",
      "ipykernel                 6.29.5\n",
      "ipython                   8.27.0\n",
      "isoduration               20.11.0\n",
      "jedi                      0.19.1\n",
      "Jinja2                    3.1.4\n",
      "json5                     0.9.25\n",
      "jsonpointer               3.0.0\n",
      "jsonschema                4.23.0\n",
      "jsonschema-specifications 2023.12.1\n",
      "jupyter_client            8.6.3\n",
      "jupyter_core              5.7.2\n",
      "jupyter-events            0.10.0\n",
      "jupyter-lsp               2.2.5\n",
      "jupyter_server            2.14.2\n",
      "jupyter_server_terminals  0.5.3\n",
      "jupyterlab                4.2.5\n",
      "jupyterlab_pygments       0.3.0\n",
      "jupyterlab_server         2.27.3\n",
      "MarkupSafe                2.1.5\n",
      "matplotlib-inline         0.1.7\n",
      "mistune                   3.0.2\n",
      "mysql-connector-python    9.0.0\n",
      "nbclient                  0.10.0\n",
      "nbconvert                 7.16.4\n",
      "nbformat                  5.10.4\n",
      "nest-asyncio              1.6.0\n",
      "notebook                  7.2.2\n",
      "notebook_shim             0.2.4\n",
      "numpy                     2.1.2\n",
      "overrides                 7.7.0\n",
      "packaging                 24.1\n",
      "pandas                    2.2.3\n",
      "pandocfilters             1.5.1\n",
      "parso                     0.8.4\n",
      "pip                       24.2\n",
      "platformdirs              4.3.6\n",
      "prometheus_client         0.21.0\n",
      "prompt_toolkit            3.0.47\n",
      "psutil                    6.0.0\n",
      "pure_eval                 0.2.3\n",
      "pycparser                 2.22\n",
      "Pygments                  2.18.0\n",
      "python-dateutil           2.9.0.post0\n",
      "python-json-logger        2.0.7\n",
      "pytz                      2024.2\n",
      "pywin32                   306\n",
      "pywinpty                  2.0.13\n",
      "PyYAML                    6.0.2\n",
      "pyzmq                     26.2.0\n",
      "referencing               0.35.1\n",
      "requests                  2.32.3\n",
      "rfc3339-validator         0.1.4\n",
      "rfc3986-validator         0.1.1\n",
      "rpds-py                   0.20.0\n",
      "Send2Trash                1.8.3\n",
      "setuptools                75.1.0\n",
      "six                       1.16.0\n",
      "sniffio                   1.3.1\n",
      "soupsieve                 2.6\n",
      "stack-data                0.6.3\n",
      "terminado                 0.18.1\n",
      "tinycss2                  1.3.0\n",
      "tornado                   6.4.1\n",
      "traitlets                 5.14.3\n",
      "types-python-dateutil     2.9.0.20240906\n",
      "tzdata                    2024.2\n",
      "uri-template              1.3.0\n",
      "urllib3                   2.2.3\n",
      "wcwidth                   0.2.13\n",
      "webcolors                 24.8.0\n",
      "webencodings              0.5.1\n",
      "websocket-client          1.8.0\n"
     ]
    }
   ],
   "source": [
    "! pip list"
   ]
  },
  {
   "cell_type": "code",
   "execution_count": 18,
   "metadata": {},
   "outputs": [
    {
     "name": "stdout",
     "output_type": "stream",
     "text": [
      " Volume in Laufwerk C: hat keine Bezeichnung.\n",
      " Volumeseriennummer: 540C-74E2\n",
      "\n",
      " Verzeichnis von c:\\Users\\NataliaArchipenko\\Desktop\\Python\n",
      "\n",
      "15.10.2024  10:59    <DIR>          .\n",
      "15.10.2024  10:59    <DIR>          ..\n",
      "15.10.2024  10:41    <DIR>          .my_venv\n",
      "11.10.2024  08:36    <DIR>          ALII Tabelle\n",
      "11.10.2024  09:00    <DIR>          Auswalstruckturen Aufgaben Python\n",
      "11.10.2024  08:12    <DIR>          Dictionary\n",
      "11.10.2024  09:13    <DIR>          ExcellTabelle\n",
      "11.10.2024  08:34    <DIR>          Funktionen\n",
      "15.10.2024  10:59                 0 Jupiter_Test.ipynb\n",
      "11.10.2024  09:45    <DIR>          l�sung excell\n",
      "11.10.2024  11:08    <DIR>          Modularisierung\n",
      "15.10.2024  06:43    <DIR>          OOP\n",
      "25.08.2024  09:28            79.153 Python-Grundlagen-master.zip\n",
      "11.10.2024  08:12    <DIR>          SET\n",
      "11.10.2024  08:57    <DIR>          STRING\n",
      "11.10.2024  11:49    <DIR>          tabelle_modular\n",
      "11.10.2024  08:56    <DIR>          Theory Python\n",
      "14.10.2024  10:35    <DIR>          try_except\n",
      "15.10.2024  11:06             7.768 venv_test.ipynb\n",
      "               3 Datei(en),         86.921 Bytes\n",
      "              16 Verzeichnis(se), 262.039.412.736 Bytes frei\n"
     ]
    }
   ],
   "source": [
    "!dir"
   ]
  },
  {
   "cell_type": "code",
   "execution_count": 14,
   "metadata": {},
   "outputs": [
    {
     "name": "stderr",
     "output_type": "stream",
     "text": [
      "usage: venv [-h] [--system-site-packages] [--symlinks | --copies] [--clear]\n",
      "            [--upgrade] [--without-pip] [--prompt PROMPT] [--upgrade-deps]\n",
      "            ENV_DIR [ENV_DIR ...]\n",
      "venv: error: the following arguments are required: ENV_DIR\n"
     ]
    }
   ],
   "source": [
    "#! python -m venv + Pfad einsetzen"
   ]
  },
  {
   "cell_type": "code",
   "execution_count": 15,
   "metadata": {},
   "outputs": [],
   "source": [
    "! python -m venv C:\\Users\\NataliaArchipenko\\Desktop\\Python\\.my_venv"
   ]
  },
  {
   "cell_type": "code",
   "execution_count": 3,
   "metadata": {},
   "outputs": [
    {
     "name": "stdout",
     "output_type": "stream",
     "text": [
      "Package           Version\n",
      "----------------- -----------\n",
      "asttokens         2.4.1\n",
      "colorama          0.4.6\n",
      "comm              0.2.2\n",
      "debugpy           1.8.7\n",
      "decorator         5.1.1\n",
      "executing         2.1.0\n",
      "ipykernel         6.29.5\n",
      "ipython           8.28.0\n",
      "jedi              0.19.1\n",
      "jupyter_client    8.6.3\n",
      "jupyter_core      5.7.2\n",
      "matplotlib-inline 0.1.7\n",
      "nest-asyncio      1.6.0\n",
      "packaging         24.1\n",
      "parso             0.8.4\n",
      "pip               24.0\n",
      "platformdirs      4.3.6\n",
      "prompt_toolkit    3.0.48\n",
      "psutil            6.0.0\n",
      "pure_eval         0.2.3\n",
      "Pygments          2.18.0\n",
      "python-dateutil   2.9.0.post0\n",
      "pywin32           308\n",
      "pyzmq             26.2.0\n",
      "six               1.16.0\n",
      "stack-data        0.6.3\n",
      "tornado           6.4.1\n",
      "traitlets         5.14.3\n",
      "wcwidth           0.2.13\n",
      "Note: you may need to restart the kernel to use updated packages.\n"
     ]
    },
    {
     "name": "stderr",
     "output_type": "stream",
     "text": [
      "\n",
      "[notice] A new release of pip is available: 24.0 -> 24.2\n",
      "[notice] To update, run: python.exe -m pip install --upgrade pip\n"
     ]
    }
   ],
   "source": [
    "%pip list"
   ]
  },
  {
   "cell_type": "code",
   "execution_count": 4,
   "metadata": {},
   "outputs": [
    {
     "name": "stdout",
     "output_type": "stream",
     "text": [
      "Collecting ExifRead==2.3.1 (from -r requirements.txt (line 1))\n",
      "  Downloading ExifRead-2.3.1-py3-none-any.whl.metadata (6.2 kB)\n",
      "Collecting Flask-SQLAlchemy==2.4.4 (from -r requirements.txt (line 2))\n",
      "  Downloading Flask_SQLAlchemy-2.4.4-py2.py3-none-any.whl.metadata (3.1 kB)\n",
      "Collecting Flask==1.1.2 (from -r requirements.txt (line 3))\n",
      "  Downloading Flask-1.1.2-py2.py3-none-any.whl.metadata (4.6 kB)\n",
      "Collecting HTMLParser==0.0.2 (from -r requirements.txt (line 4))\n",
      "  Downloading HTMLParser-0.0.2.tar.gz (6.0 kB)\n",
      "  Installing build dependencies: started\n",
      "  Installing build dependencies: finished with status 'done'\n",
      "  Getting requirements to build wheel: started\n",
      "  Getting requirements to build wheel: finished with status 'done'\n",
      "  Preparing metadata (pyproject.toml): started\n",
      "  Preparing metadata (pyproject.toml): finished with status 'done'\n",
      "Collecting cycler==0.10.0 (from -r requirements.txt (line 5))\n",
      "  Downloading cycler-0.10.0-py2.py3-none-any.whl.metadata (722 bytes)\n",
      "Collecting SQLAlchemy>=0.8.0 (from Flask-SQLAlchemy==2.4.4->-r requirements.txt (line 2))\n",
      "  Downloading SQLAlchemy-2.0.35-cp312-cp312-win_amd64.whl.metadata (9.9 kB)\n",
      "Collecting Werkzeug>=0.15 (from Flask==1.1.2->-r requirements.txt (line 3))\n",
      "  Downloading werkzeug-3.0.4-py3-none-any.whl.metadata (3.7 kB)\n",
      "Collecting Jinja2>=2.10.1 (from Flask==1.1.2->-r requirements.txt (line 3))\n",
      "  Using cached jinja2-3.1.4-py3-none-any.whl.metadata (2.6 kB)\n",
      "Collecting itsdangerous>=0.24 (from Flask==1.1.2->-r requirements.txt (line 3))\n",
      "  Downloading itsdangerous-2.2.0-py3-none-any.whl.metadata (1.9 kB)\n",
      "Collecting click>=5.1 (from Flask==1.1.2->-r requirements.txt (line 3))\n",
      "  Downloading click-8.1.7-py3-none-any.whl.metadata (3.0 kB)\n",
      "Requirement already satisfied: six in c:\\users\\nataliaarchipenko\\desktop\\python\\.my_venv\\lib\\site-packages (from cycler==0.10.0->-r requirements.txt (line 5)) (1.16.0)\n",
      "Requirement already satisfied: colorama in c:\\users\\nataliaarchipenko\\desktop\\python\\.my_venv\\lib\\site-packages (from click>=5.1->Flask==1.1.2->-r requirements.txt (line 3)) (0.4.6)\n",
      "Collecting MarkupSafe>=2.0 (from Jinja2>=2.10.1->Flask==1.1.2->-r requirements.txt (line 3))\n",
      "  Downloading MarkupSafe-3.0.1-cp312-cp312-win_amd64.whl.metadata (4.1 kB)\n",
      "Collecting typing-extensions>=4.6.0 (from SQLAlchemy>=0.8.0->Flask-SQLAlchemy==2.4.4->-r requirements.txt (line 2))\n",
      "  Downloading typing_extensions-4.12.2-py3-none-any.whl.metadata (3.0 kB)\n",
      "Collecting greenlet!=0.4.17 (from SQLAlchemy>=0.8.0->Flask-SQLAlchemy==2.4.4->-r requirements.txt (line 2))\n",
      "  Downloading greenlet-3.1.1-cp312-cp312-win_amd64.whl.metadata (3.9 kB)\n",
      "Downloading ExifRead-2.3.1-py3-none-any.whl (40 kB)\n",
      "   ---------------------------------------- 0.0/40.5 kB ? eta -:--:--\n",
      "   ---------------------------------------- 40.5/40.5 kB 1.9 MB/s eta 0:00:00\n",
      "Downloading Flask_SQLAlchemy-2.4.4-py2.py3-none-any.whl (17 kB)\n",
      "Downloading Flask-1.1.2-py2.py3-none-any.whl (94 kB)\n",
      "   ---------------------------------------- 0.0/94.6 kB ? eta -:--:--\n",
      "   ---------------------------------------- 94.6/94.6 kB ? eta 0:00:00\n",
      "Downloading cycler-0.10.0-py2.py3-none-any.whl (6.5 kB)\n",
      "Downloading click-8.1.7-py3-none-any.whl (97 kB)\n",
      "   ---------------------------------------- 0.0/97.9 kB ? eta -:--:--\n",
      "   ---------------------------------------- 97.9/97.9 kB 5.8 MB/s eta 0:00:00\n",
      "Downloading itsdangerous-2.2.0-py3-none-any.whl (16 kB)\n",
      "Using cached jinja2-3.1.4-py3-none-any.whl (133 kB)\n",
      "Downloading SQLAlchemy-2.0.35-cp312-cp312-win_amd64.whl (2.1 MB)\n",
      "   ---------------------------------------- 0.0/2.1 MB ? eta -:--:--\n",
      "   ------------------------- -------------- 1.4/2.1 MB 43.3 MB/s eta 0:00:01\n",
      "   ---------------------------------------- 2.1/2.1 MB 33.5 MB/s eta 0:00:00\n",
      "Downloading werkzeug-3.0.4-py3-none-any.whl (227 kB)\n",
      "   ---------------------------------------- 0.0/227.6 kB ? eta -:--:--\n",
      "   ---------------------------------------- 227.6/227.6 kB ? eta 0:00:00\n",
      "Downloading greenlet-3.1.1-cp312-cp312-win_amd64.whl (299 kB)\n",
      "   ---------------------------------------- 0.0/299.7 kB ? eta -:--:--\n",
      "   ---------------------------------------- 299.7/299.7 kB ? eta 0:00:00\n",
      "Downloading MarkupSafe-3.0.1-cp312-cp312-win_amd64.whl (15 kB)\n",
      "Downloading typing_extensions-4.12.2-py3-none-any.whl (37 kB)\n",
      "Building wheels for collected packages: HTMLParser\n",
      "  Building wheel for HTMLParser (pyproject.toml): started\n",
      "  Building wheel for HTMLParser (pyproject.toml): finished with status 'done'\n",
      "  Created wheel for HTMLParser: filename=HTMLParser-0.0.2-py3-none-any.whl size=5993 sha256=ecddb123217eaf57150e7b84b42541411031c5fdf7e12c8f6fc94e363c7fe970\n",
      "  Stored in directory: c:\\users\\nataliaarchipenko\\appdata\\local\\pip\\cache\\wheels\\74\\a1\\99\\1600ecf0fbe9733893198959ae158698835c8287f1cbe5f531\n",
      "Successfully built HTMLParser\n",
      "Installing collected packages: HTMLParser, ExifRead, typing-extensions, MarkupSafe, itsdangerous, greenlet, cycler, click, Werkzeug, SQLAlchemy, Jinja2, Flask, Flask-SQLAlchemy\n",
      "Successfully installed ExifRead-2.3.1 Flask-1.1.2 Flask-SQLAlchemy-2.4.4 HTMLParser-0.0.2 Jinja2-3.1.4 MarkupSafe-3.0.1 SQLAlchemy-2.0.35 Werkzeug-3.0.4 click-8.1.7 cycler-0.10.0 greenlet-3.1.1 itsdangerous-2.2.0 typing-extensions-4.12.2\n"
     ]
    },
    {
     "name": "stderr",
     "output_type": "stream",
     "text": [
      "\n",
      "[notice] A new release of pip is available: 24.0 -> 24.2\n",
      "[notice] To update, run: python.exe -m pip install --upgrade pip\n"
     ]
    }
   ],
   "source": [
    "! pip install -r requirements.txt"
   ]
  }
 ],
 "metadata": {
  "kernelspec": {
   "display_name": ".my_venv",
   "language": "python",
   "name": "python3"
  },
  "language_info": {
   "codemirror_mode": {
    "name": "ipython",
    "version": 3
   },
   "file_extension": ".py",
   "mimetype": "text/x-python",
   "name": "python",
   "nbconvert_exporter": "python",
   "pygments_lexer": "ipython3",
   "version": "3.12.4"
  }
 },
 "nbformat": 4,
 "nbformat_minor": 2
}
