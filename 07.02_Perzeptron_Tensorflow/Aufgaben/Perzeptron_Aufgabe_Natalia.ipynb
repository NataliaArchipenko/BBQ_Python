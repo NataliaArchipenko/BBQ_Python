{
 "cells": [
  {
   "cell_type": "markdown",
   "metadata": {},
   "source": [
    "Aufgabe: Implementiere ein Perzeptron\n",
    "Du wirst ein einfaches Perzeptron implementieren, das die logische AND-Funktion\n",
    "erlernt. Ein Perzeptron ist ein einfaches neuronales Netz mit einer Eingabeschicht und\n",
    "einer Ausgabeschicht."
   ]
  },
  {
   "cell_type": "markdown",
   "metadata": {},
   "source": [
    "Aktivierungsfunktionen (Einsteiger)\n",
    "\n",
    "Implementiere die folgenden Aktivierungsfunktionen:\n",
    "1. Step-Funktion (binäre Entscheidung)\n",
    "2. Sigmoid-Funktion (weiche Übergänge)\n",
    "3. ReLU-Funktion (nur positive Werte)\n",
    "4. Tanh-Funktion (Werte zwischen -1 und 1)\n",
    "\n",
    "Deine Aufgabe: Ergänze die fehlenden Aktivierungsfunktionen."
   ]
  },
  {
   "cell_type": "code",
   "execution_count": 54,
   "metadata": {},
   "outputs": [],
   "source": [
    "import numpy as np\n",
    "import matplotlib.pyplot as plt"
   ]
  },
  {
   "cell_type": "code",
   "execution_count": 55,
   "metadata": {},
   "outputs": [],
   "source": [
    "# Aktivierungsfunktionen\n",
    "def step_function(x):\n",
    "        # die Step-Funktion Gibt 1 zurück, wenn der Eingabewert größer oder gleich 0 ist, sonst 0.\n",
    "        if x >= 0:\n",
    "            return 1\n",
    "        else:\n",
    "            return 0\n",
    "def sigmoid(x):\n",
    "    # Gibt Werte zwischen 0 und 1 zurück.\n",
    "    return 1 / (1 + np.exp(-x))  # Sigmoid: f(z)=1/(1+e(-z))\n",
    "def relu(x):\n",
    "    # Gibt 0 für negative Eingaben und den Eingabewert für positive Eingaben zurück.\n",
    "    return max(0, x) # Rectified Linear Unit f(z)=max(0,z)\n",
    "def tanh(x):\n",
    "    # Gibt Werte zwischen -1 und 1 zurück.\n",
    "    #return (np.exp(x) - np.exp(-x)) / (np.exp(x) + np.exp(-x))# Hyperbolische Tangens-Funktion f(z)=(ez - e(-z))/ (ez + e(-z))\n",
    "    return np.tanh(x)"
   ]
  },
  {
   "cell_type": "code",
   "execution_count": 56,
   "metadata": {},
   "outputs": [],
   "source": [
    "# Definieren der Funktion für Aktivation oben definierte Funktionen:\n",
    "def get_activation_function(name):\n",
    "    if name == 'step':\n",
    "        return step_function\n",
    "    elif name == 'sigmoid':\n",
    "        return sigmoid\n",
    "    elif name == 'relu':\n",
    "        return relu\n",
    "    elif name == 'tanh':\n",
    "        return tanh\n",
    "    else:\n",
    "        return 'Fehlermeldanug: Dis Funktion wurde falsch gewählt'"
   ]
  },
  {
   "cell_type": "markdown",
   "metadata": {},
   "source": [
    "Perzeptron-Klasse erstellen\n",
    "Das Perzeptron benötigt:\n",
    "\n",
    "Gewichte und Bias, die zufällig initialisiert werdenEine Methode  predict(x) , um Vorhersagen zu treffenEine Methode  train(X, y, epochs) , um das Modell zu trainieren\n",
    "\n",
    "Deine Aufgabe: Implementiere die  predict() -Methode.\n",
    "\n",
    "Training implementieren\n",
    "\n",
    "Beim Training werden:Fehler berechnet: Fehlervariable = Soll - Ist\n",
    "\n",
    "Gewichte und Bias aktualisiert:\n",
    "\n",
    "Deine Aufgabe: Implementiere das Training."
   ]
  },
  {
   "cell_type": "code",
   "execution_count": 57,
   "metadata": {},
   "outputs": [],
   "source": [
    "class Perceptron: # Erstellen der Klasse Perceptron\n",
    "    def __init__(self, input_size, learning_rate=0.1, activation='step'):\n",
    "        self.weights = np.random.rand(input_size) - 0.5  # Gewichte\n",
    "        self.bias = np.random.rand() - 0.5 # Bias wird random gewählt\n",
    "        self.learning_rate = learning_rate # letnrate bestimmt, wie stark sich die Gewichte während des Trainings ändern\n",
    "        self.activation_function = get_activation_function(activation) # Speichern der Aktivierungsfunktion\n",
    "        \n",
    "    def predict(self, x):\n",
    "        #Berechnen der Summe: Skalarprodukt der Gewichte und Eingaben + Bias\n",
    "        weighted_sum = np.dot(x, self.weights) + self.bias \n",
    "        return self.activation_function(weighted_sum)\n",
    "    \n",
    "    def train(self, X, y, epochs=10):\n",
    "        for _ in range(epochs): # Training des Perzeptrons besteht aus mehreren Epochen - Wiederholungen.\n",
    "            for i in range(len(X)): # für jedes Element X\n",
    "                prediction = self.predict(X[i]) # vorhergesagte Ausgabe\n",
    "                error = y[i] - prediction # Fehler = Sollwert (y) - vorhergesagte Ausgabe\n",
    "                self.weights += self.learning_rate * error * X[i] #Neue Gewichte = Alte Gewichte + Lernrate × Fehler × Eingaben\n",
    "                self.bias += self.learning_rate * error # Neuer Bias = Alter Bias + Lernrate × Fehler\n",
    "    "
   ]
  },
  {
   "cell_type": "markdown",
   "metadata": {},
   "source": [
    "Teste dein Modell\n",
    "Nutze die logische AND-Funktion als Trainingsdaten:\n",
    "Deine Aufgabe: Erstelle das Perzeptron und trainiere es."
   ]
  },
  {
   "cell_type": "code",
   "execution_count": 58,
   "metadata": {},
   "outputs": [
    {
     "name": "stdout",
     "output_type": "stream",
     "text": [
      "Vorhersagen: [0, 0, 0, 1]\n"
     ]
    }
   ],
   "source": [
    "# Beispiel-Daten für AND-Gatter\n",
    "X = np.array([[0, 0], [0, 1], [1, 0], [1, 1]])\n",
    "y = np.array([0, 0, 0, 1])\n",
    "\n",
    "# Erstellen des Perzeptrons mit 2 Eingaben\n",
    "perceptron = Perceptron(input_size=2, learning_rate=0.1, activation='step')\n",
    "\n",
    "# Trainieren des Perzeptrons:\n",
    "perceptron.train(X, y, epochs=10)\n",
    "\n",
    "# Modell testen\n",
    "predictions = [perceptron.predict(x) for x in X]\n",
    "print(\"Vorhersagen:\", predictions)\n"
   ]
  },
  {
   "cell_type": "markdown",
   "metadata": {},
   "source": [
    "Bonusaufgaben\n",
    "1. Verändere die Lernrate und beobachte, wie sich das Training verhält.\n",
    "2. Teste andere Aktivierungsfunktionen wie Sigmoid , Tanh oder ReLU."
   ]
  },
  {
   "cell_type": "code",
   "execution_count": 59,
   "metadata": {},
   "outputs": [
    {
     "name": "stdout",
     "output_type": "stream",
     "text": [
      "Vorhersagen: [0, 1, 0, 1]\n"
     ]
    }
   ],
   "source": [
    "# Beispiel-Daten für AND-Gatter\n",
    "X = np.array([[0, 0], [0, 1], [1, 0], [1, 1]])\n",
    "y = np.array([0, 0, 0, 1])\n",
    "\n",
    "# Erstellen des Perzeptrons mit 2 Eingaben\n",
    "perceptron = Perceptron(input_size=2, learning_rate=0.01, activation='step')\n",
    "\n",
    "# Trainieren des Perzeptrons:\n",
    "perceptron.train(X, y, epochs=10)\n",
    "\n",
    "# Modell testen\n",
    "predictions = [perceptron.predict(x) for x in X]\n",
    "print(\"Vorhersagen:\", predictions)"
   ]
  },
  {
   "cell_type": "code",
   "execution_count": 60,
   "metadata": {},
   "outputs": [
    {
     "name": "stdout",
     "output_type": "stream",
     "text": [
      "Vorhersagen: [0, 0, 1, 0]\n"
     ]
    }
   ],
   "source": [
    "# Beispiel-Daten für AND-Gatter\n",
    "X = np.array([[0, 0], [0, 1], [1, 0], [1, 1]])\n",
    "y = np.array([0, 0, 0, 1])\n",
    "\n",
    "# Erstellen des Perzeptrons mit 2 Eingaben\n",
    "perceptron = Perceptron(input_size=2, learning_rate=0.001, activation='step')\n",
    "\n",
    "# Trainieren des Perzeptrons:\n",
    "perceptron.train(X, y, epochs=10)\n",
    "\n",
    "# Modell testen\n",
    "predictions = [perceptron.predict(x) for x in X]\n",
    "print(\"Vorhersagen:\", predictions)"
   ]
  },
  {
   "cell_type": "code",
   "execution_count": 61,
   "metadata": {},
   "outputs": [
    {
     "name": "stdout",
     "output_type": "stream",
     "text": [
      "Vorhersagen: [0, 0, 0, 1]\n"
     ]
    }
   ],
   "source": [
    "# Beispiel-Daten für AND-Gatter\n",
    "X = np.array([[0, 0], [0, 1], [1, 0], [1, 1]])\n",
    "y = np.array([0, 0, 0, 1])\n",
    "\n",
    "# Erstellen des Perzeptrons mit 2 Eingaben\n",
    "perceptron = Perceptron(input_size=2, learning_rate=0.5, activation='step')\n",
    "\n",
    "# Trainieren des Perzeptrons:\n",
    "perceptron.train(X, y, epochs=10)\n",
    "\n",
    "# Modell testen\n",
    "predictions = [perceptron.predict(x) for x in X]\n",
    "print(\"Vorhersagen:\", predictions)"
   ]
  },
  {
   "cell_type": "code",
   "execution_count": 62,
   "metadata": {},
   "outputs": [
    {
     "name": "stdout",
     "output_type": "stream",
     "text": [
      "0.0 Vorhersagen: [0, 0, 0, 1]\n",
      "0.01 Vorhersagen: [0, 0, 0, 1]\n",
      "0.02 Vorhersagen: [0, 0, 1, 0]\n",
      "0.03 Vorhersagen: [1, 0, 1, 0]\n",
      "0.04 Vorhersagen: [0, 0, 0, 1]\n",
      "0.05 Vorhersagen: [0, 0, 0, 1]\n",
      "0.06 Vorhersagen: [0, 0, 0, 1]\n",
      "0.07 Vorhersagen: [0, 0, 0, 1]\n",
      "0.08 Vorhersagen: [0, 0, 0, 1]\n",
      "0.09 Vorhersagen: [0, 0, 0, 1]\n",
      "0.1 Vorhersagen: [0, 0, 0, 1]\n",
      "0.11 Vorhersagen: [0, 0, 0, 1]\n",
      "0.12 Vorhersagen: [0, 0, 0, 1]\n",
      "0.13 Vorhersagen: [0, 0, 0, 1]\n",
      "0.14 Vorhersagen: [0, 0, 0, 1]\n",
      "0.15 Vorhersagen: [0, 0, 0, 1]\n",
      "0.16 Vorhersagen: [0, 0, 0, 1]\n",
      "0.17 Vorhersagen: [0, 0, 0, 1]\n",
      "0.18 Vorhersagen: [0, 0, 0, 1]\n",
      "0.19 Vorhersagen: [0, 0, 0, 1]\n",
      "0.2 Vorhersagen: [0, 0, 0, 1]\n",
      "0.21 Vorhersagen: [0, 0, 0, 1]\n",
      "0.22 Vorhersagen: [0, 0, 0, 1]\n",
      "0.23 Vorhersagen: [0, 0, 0, 1]\n",
      "0.24 Vorhersagen: [0, 0, 0, 1]\n",
      "0.25 Vorhersagen: [0, 0, 0, 1]\n",
      "0.26 Vorhersagen: [0, 0, 0, 1]\n",
      "0.27 Vorhersagen: [0, 0, 0, 1]\n",
      "0.28 Vorhersagen: [0, 0, 0, 1]\n",
      "0.29 Vorhersagen: [0, 0, 0, 1]\n",
      "0.3 Vorhersagen: [0, 0, 0, 1]\n",
      "0.31 Vorhersagen: [0, 0, 0, 1]\n",
      "0.32 Vorhersagen: [0, 0, 0, 1]\n",
      "0.33 Vorhersagen: [0, 0, 0, 1]\n",
      "0.34 Vorhersagen: [0, 0, 0, 1]\n",
      "0.35000000000000003 Vorhersagen: [0, 0, 0, 1]\n",
      "0.36 Vorhersagen: [0, 0, 0, 1]\n",
      "0.37 Vorhersagen: [0, 0, 0, 1]\n",
      "0.38 Vorhersagen: [0, 0, 0, 1]\n",
      "0.39 Vorhersagen: [0, 0, 0, 1]\n",
      "0.4 Vorhersagen: [0, 0, 0, 1]\n",
      "0.41000000000000003 Vorhersagen: [0, 0, 0, 1]\n",
      "0.42 Vorhersagen: [0, 0, 0, 1]\n",
      "0.43 Vorhersagen: [0, 0, 0, 1]\n",
      "0.44 Vorhersagen: [0, 0, 0, 1]\n",
      "0.45 Vorhersagen: [0, 0, 0, 1]\n",
      "0.46 Vorhersagen: [0, 0, 0, 1]\n",
      "0.47000000000000003 Vorhersagen: [0, 0, 0, 1]\n",
      "0.48 Vorhersagen: [0, 0, 0, 1]\n",
      "0.49 Vorhersagen: [0, 0, 0, 1]\n",
      "0.5 Vorhersagen: [0, 0, 0, 1]\n",
      "0.51 Vorhersagen: [0, 0, 0, 1]\n",
      "0.52 Vorhersagen: [0, 0, 0, 1]\n",
      "0.53 Vorhersagen: [0, 0, 0, 1]\n",
      "0.54 Vorhersagen: [0, 0, 0, 1]\n",
      "0.55 Vorhersagen: [0, 0, 0, 1]\n",
      "0.56 Vorhersagen: [0, 0, 0, 1]\n",
      "0.5700000000000001 Vorhersagen: [0, 0, 0, 1]\n",
      "0.58 Vorhersagen: [0, 0, 0, 1]\n",
      "0.59 Vorhersagen: [0, 0, 0, 1]\n",
      "0.6 Vorhersagen: [0, 0, 0, 1]\n",
      "0.61 Vorhersagen: [0, 0, 0, 1]\n",
      "0.62 Vorhersagen: [0, 0, 0, 1]\n",
      "0.63 Vorhersagen: [0, 0, 0, 1]\n",
      "0.64 Vorhersagen: [0, 0, 0, 1]\n",
      "0.65 Vorhersagen: [0, 0, 0, 1]\n",
      "0.66 Vorhersagen: [0, 0, 0, 1]\n",
      "0.67 Vorhersagen: [0, 0, 0, 1]\n",
      "0.68 Vorhersagen: [0, 0, 0, 1]\n",
      "0.6900000000000001 Vorhersagen: [0, 0, 0, 1]\n",
      "0.7000000000000001 Vorhersagen: [0, 0, 0, 1]\n",
      "0.71 Vorhersagen: [0, 0, 0, 1]\n",
      "0.72 Vorhersagen: [0, 0, 0, 1]\n",
      "0.73 Vorhersagen: [0, 0, 0, 1]\n",
      "0.74 Vorhersagen: [0, 0, 0, 1]\n",
      "0.75 Vorhersagen: [0, 0, 0, 1]\n",
      "0.76 Vorhersagen: [0, 0, 0, 1]\n",
      "0.77 Vorhersagen: [0, 0, 0, 1]\n",
      "0.78 Vorhersagen: [0, 0, 0, 1]\n",
      "0.79 Vorhersagen: [0, 0, 0, 1]\n",
      "0.8 Vorhersagen: [0, 0, 0, 1]\n",
      "0.81 Vorhersagen: [0, 0, 0, 1]\n",
      "0.8200000000000001 Vorhersagen: [0, 0, 0, 1]\n",
      "0.8300000000000001 Vorhersagen: [0, 0, 0, 1]\n",
      "0.84 Vorhersagen: [0, 0, 0, 1]\n",
      "0.85 Vorhersagen: [0, 0, 0, 1]\n",
      "0.86 Vorhersagen: [0, 0, 0, 1]\n",
      "0.87 Vorhersagen: [0, 0, 0, 1]\n",
      "0.88 Vorhersagen: [0, 0, 0, 1]\n",
      "0.89 Vorhersagen: [0, 0, 0, 1]\n"
     ]
    }
   ],
   "source": [
    "for i in np.arange(0.0, 0.9, 0.01):  # np.arange erlaubt float-Schritte\n",
    "    perceptron = Perceptron(input_size=2, learning_rate=i, activation='step')\n",
    "    perceptron.train(X, y, epochs=10)\n",
    "    predictions = [perceptron.predict(x) for x in X]\n",
    "    print(i,\"Vorhersagen:\", predictions)\n",
    "    "
   ]
  },
  {
   "cell_type": "code",
   "execution_count": 63,
   "metadata": {},
   "outputs": [
    {
     "data": {
      "image/png": "[encoded data removed]",
      "text/plain": [
       "<Figure size 1000x600 with 1 Axes>"
      ]
     },
     "metadata": {},
     "output_type": "display_data"
    }
   ],
   "source": [
    "#Visualisierung:\n",
    "\n",
    "\n",
    "genauigkeiten= []  # Liste für die Speicherung der Genauigkeit\n",
    "learning_rates = np.arange(0.0, 0.9, 0.01)  # Lernraten von 0.0 bis 0.9 in 0.01-Schritten\n",
    "\n",
    "for i in learning_rates:\n",
    "    perceptron = Perceptron(input_size=2, learning_rate=i, activation='step')\n",
    "    perceptron.train(X, y, epochs=10)\n",
    "    predictions = [perceptron.predict(x) for x in X]\n",
    "    \n",
    "    # Berechnen der Genauigkeit:\n",
    "    genauigkeit = sum(predictions == y) / len(y)\n",
    "    genauigkeiten.append(genauigkeit)\n",
    "\n",
    "\n",
    "plt.figure(figsize=(10,6))\n",
    "plt.plot(learning_rates, genauigkeiten, marker='x', linestyle='-', color='r', label=\"Genauigkeit\")\n",
    "plt.xlabel(\"Lernrate\")\n",
    "plt.ylabel(\"Genauigkeit\")\n",
    "plt.title(\"Einfluss der Lernrate auf die Vorhersagegenauigkeit\")\n",
    "plt.legend()\n",
    "plt.grid(True)\n",
    "plt.show()\n"
   ]
  },
  {
   "cell_type": "code",
   "execution_count": 69,
   "metadata": {},
   "outputs": [
    {
     "name": "stdout",
     "output_type": "stream",
     "text": [
      "step Vorhersagen: [0, 0, 0, 1]\n",
      "sigmoid Vorhersagen: [np.float64(0.40262023816322523), np.float64(0.3779831692083773), np.float64(0.43998451924803234), np.float64(0.4146480699237595)]\n",
      "relu Vorhersagen: [0, np.float64(0.34064931073758165), np.float64(0.32318267221686897), np.float64(0.6816661226376202)]\n",
      "tanh Vorhersagen: [np.float64(-0.025020171704598373), np.float64(0.2705627799983333), np.float64(0.4006127776083312), np.float64(0.6211497774642776)]\n"
     ]
    }
   ],
   "source": [
    "namen=['step', 'sigmoid', 'relu', 'tanh']\n",
    "\n",
    "for name in namen:\n",
    "    perceptron = Perceptron(input_size=2, learning_rate=0.1, activation=name)\n",
    "    perceptron.train(X, y, epochs=10)\n",
    "    predictions = [perceptron.predict(x) for x in X]\n",
    "    print(name,  \"Vorhersagen:\", predictions)\n"
   ]
  },
  {
   "cell_type": "markdown",
   "metadata": {},
   "source": [
    "Nur Step-funktion passt gut für AND-Aufgabe\n"
   ]
  }
 ],
 "metadata": {
  "kernelspec": {
   "display_name": "Python 3",
   "language": "python",
   "name": "python3"
  },
  "language_info": {
   "codemirror_mode": {
    "name": "ipython",
    "version": 3
   },
   "file_extension": ".py",
   "mimetype": "text/x-python",
   "name": "python",
   "nbconvert_exporter": "python",
   "pygments_lexer": "ipython3",
   "version": "3.12.4"
  }
 },
 "nbformat": 4,
 "nbformat_minor": 2
}
