{
 "cells": [
  {
   "cell_type": "markdown",
   "metadata": {},
   "source": [
    "**Aufgabe 0**\n",
    "\n",
    "Gegeben ist folgender Array:\n",
    "np.array( [\"Rot\", \"Grün\", \"Rot\", \"Blau\", \"Rot\", \"Grün\", \"rot\"])\n",
    "Ermitteln sie die einzigartigen Werte des Arrays mit einer dafür geeigneten numpy\n",
    "Funktion."
   ]
  },
  {
   "cell_type": "code",
   "execution_count": 3,
   "metadata": {},
   "outputs": [
    {
     "name": "stdout",
     "output_type": "stream",
     "text": [
      "Einzigartige Werte: ['Blau' 'Grün' 'Rot' 'rot']\n"
     ]
    }
   ],
   "source": [
    "import numpy as np\n",
    "arr = np.array([\"Rot\", \"Grün\", \"Rot\", \"Blau\", \"Rot\", \"Grün\", \"rot\"])\n",
    "arr\n",
    "unique_values = np.unique(arr)\n",
    "print(f'Einzigartige Werte: {unique_values}')"
   ]
  },
  {
   "cell_type": "markdown",
   "metadata": {},
   "source": [
    "**Aufgabe 0.5** \n",
    "\n",
    "Gegeben sind folgende Arrays:\n",
    "\n",
    "array_a = np.array([1, 2, 3, 4, 5])\n",
    "\n",
    "array_b = np.array([3, 4, 5, 6, 7])\n",
    "\n",
    "Ermitteln Sie mit np.isin() welche Werte von array_a in array_b vorhanden sind.\n",
    "\n",
    "Benutzen Sie einen boolschen Index um einen Array zu erzeugen der die gemeinsamen\n",
    "Werte enthält."
   ]
  },
  {
   "cell_type": "code",
   "execution_count": 5,
   "metadata": {},
   "outputs": [
    {
     "name": "stdout",
     "output_type": "stream",
     "text": [
      "[False False  True  True  True]\n"
     ]
    }
   ],
   "source": [
    "array_a = np.array([1, 2, 3, 4, 5])\n",
    "array_b = np.array([3, 4, 5, 6, 7])\n",
    "print(np.isin(array_a, array_b))"
   ]
  },
  {
   "cell_type": "markdown",
   "metadata": {},
   "source": [
    "**Aufgabe 0.75**\n",
    "\n",
    "Führen Sie die folgenden Mengenoperationen an den Arrays aus 0.5 durch:<br>\n",
    "1. Schnittmenge\n",
    "2. Vereinigungsmenge\n",
    "3. Differenzmenge"
   ]
  },
  {
   "cell_type": "code",
   "execution_count": 9,
   "metadata": {},
   "outputs": [
    {
     "name": "stdout",
     "output_type": "stream",
     "text": [
      "Schnittmenge: [3 4 5]\n",
      "Vereinigungsmenge: [1 2 3 4 5 6 7]\n",
      "Differenzmenge: [1 2]\n"
     ]
    }
   ],
   "source": [
    "schnittmenge = np.intersect1d(array_a, array_b)\n",
    "print(f'Schnittmenge: {schnittmenge}')\n",
    "\n",
    "print(f'Vereinigungsmenge: {np.union1d(array_a, array_b)}')\n",
    "\n",
    "print(f'Differenzmenge: {np.setdiff1d(array_a, array_b)}')\n",
    "\n"
   ]
  },
  {
   "cell_type": "markdown",
   "metadata": {},
   "source": [
    "**Aufgabe 1**<bp>\n",
    "\n",
    "Erstellen Sie ein 2D-Array mit zufälligen Werten und sortieren Sie es einmal nach Zeilen\n",
    "und einmal nach Spalten.<bp>\n",
    " Verwenden Sie dafür np.sort() mit Angabe des\n",
    "entsprechenden Werts für axis ."
   ]
  },
  {
   "cell_type": "code",
   "execution_count": 21,
   "metadata": {},
   "outputs": [
    {
     "name": "stdout",
     "output_type": "stream",
     "text": [
      "Original:\n",
      " [[5 4 2 7 9]\n",
      " [9 4 9 3 7]\n",
      " [9 1 7 4 5]\n",
      " [6 1 2 1 8]\n",
      " [5 1 8 3 1]]\n",
      "\n",
      "Sortiertes Array nach Zeilen:\n",
      " [[2 4 5 7 9]\n",
      " [3 4 7 9 9]\n",
      " [1 4 5 7 9]\n",
      " [1 1 2 6 8]\n",
      " [1 1 3 5 8]]\n",
      "\n",
      "Sortiertes Array nach Spalten:\n",
      " [[5 1 2 1 1]\n",
      " [5 1 2 3 5]\n",
      " [6 1 7 3 7]\n",
      " [9 4 8 4 8]\n",
      " [9 4 9 7 9]]\n"
     ]
    }
   ],
   "source": [
    "import numpy as np\n",
    "import random\n",
    "arr = np.random.randint(1, 10, size =(5,5))# oder random.random für float\n",
    "print(f'Original:\\n {arr}')\n",
    "\n",
    "arr_sort_zeihlen= np.sort(arr, axis=1)\n",
    "print(\"\\nSortiertes Array nach Zeilen:\\n\", arr_sort_zeihlen)\n",
    "\n",
    "arr_sort_spalten = np.sort(arr, axis=0)\n",
    "print(\"\\nSortiertes Array nach Spalten:\\n\", arr_sort_spalten)\n",
    "\n"
   ]
  },
  {
   "cell_type": "markdown",
   "metadata": {},
   "source": [
    "**Aufgabe 2**\n",
    "\n",
    "Gegeben ist folgender Array:\n",
    "\n",
    "np.array([[1, 2, 3, 4], [5, 6, 7, 8], [9, 10, 11, 12]])\n",
    "\n",
    "Benutzen Sie  mit dem Argument axis um\n",
    "die Summe aller Werte für jede Zeile des Arrays zu berechnen.\n",
    "Das Ergebnis sollte ein 1D-Array sein, das die Summen der jeweiligen Zeilen\n",
    "enthält.\n",
    "die Summe aller Werte für jede Spalte des Arrays zu berechnen.\n",
    "Das Ergebnis sollte ebenfalls ein 1D-Array sein, das die Summen der jeweiligen\n",
    "Spalten enthält.\n"
   ]
  },
  {
   "cell_type": "code",
   "execution_count": 36,
   "metadata": {},
   "outputs": [
    {
     "name": "stdout",
     "output_type": "stream",
     "text": [
      "[[ 1  2  3  4]\n",
      " [ 5  6  7  8]\n",
      " [ 9 10 11 12]]\n",
      "Summe der Zeihlen: [10 26 42]\n",
      "Summe der Spalten: [15 18 21 24]\n",
      "(3, 4)\n"
     ]
    }
   ],
   "source": [
    "array = np.arange(1,13).reshape(3,4)\n",
    "print(array)\n",
    "arr = np.array([[1, 2, 3, 4], [5, 6, 7, 8], [9, 10, 11, 12]])\n",
    "sum_z = np.sum(arr, axis=1)\n",
    "sum_s = np.sum(arr, axis=0)\n",
    "print(f'Summe der Zeihlen: {sum_z}')\n",
    "print(f'Summe der Spalten: {sum_s}')\n",
    "# Ausgabe der Form (Shape) des Arrays\n",
    "print(array.shape)\n",
    "# array.shape gibt die Dimensionen des Arrays zurück, z.B. (Anzahl der Zeilen, Anzahl der Spalten) bei 2D-Arrays"
   ]
  },
  {
   "cell_type": "code",
   "execution_count": 38,
   "metadata": {},
   "outputs": [
    {
     "data": {
      "text/plain": [
       "np.int64(78)"
      ]
     },
     "execution_count": 38,
     "metadata": {},
     "output_type": "execute_result"
    }
   ],
   "source": [
    "# Berechnung der Summe aller Elemente im Array\n",
    "# np.sum(array) summiert alle Werte im Array unabhängig von der Dimension\n",
    "# Bei einem 1D-Array wird die Summe aller Elemente berechnet\n",
    "# Bei einem 2D-Array wird die Summe aller Zeilen und Spalten zusammen berechnet\n",
    "np.sum(array)"
   ]
  },
  {
   "cell_type": "markdown",
   "metadata": {},
   "source": [
    "Aufgabe 3\n",
    "Gegeben ist ein 1D-Array mit Integer-Zahlen, der einige Nullen enthält.\n",
    "np.array([10, 0, 5, 20, 0, 25])\n",
    "Verwenden Sie np.where() , um ein neues Array zu erstellen, in dem die Werte von 100\n",
    "durch die Elemente des ursprünglichen Arrays geteilt werden. Wenn ein Element des\n",
    "Arrays den Wert 0 hat, soll an dieser Stelle np.nan (Not a Number) eingetragen werden."
   ]
  },
  {
   "cell_type": "code",
   "execution_count": 28,
   "metadata": {},
   "outputs": [
    {
     "name": "stdout",
     "output_type": "stream",
     "text": [
      "Neues Array: [10. nan 20.  5. nan  4.]\n"
     ]
    },
    {
     "name": "stderr",
     "output_type": "stream",
     "text": [
      "C:\\Users\\NataliaArchipenko\\AppData\\Local\\Temp\\ipykernel_5800\\148597496.py:2: RuntimeWarning: divide by zero encountered in divide\n",
      "  result = np.where(arr != 0,  100 / arr, np.nan)\n"
     ]
    }
   ],
   "source": [
    "arr = np.array([10, 0, 5, 20, 0, 25])\n",
    "result = np.where(arr != 0,  100 / arr, np.nan)\n",
    "print(\"Neues Array:\", result)"
   ]
  },
  {
   "cell_type": "markdown",
   "metadata": {},
   "source": [
    "3.1: Erstellung des Filters\n",
    "Erstellen Sie einen Filter (in diesem Fall einen booleschen Index), der angibt, welche\n",
    "Elemente im ursprünglichen Array ungleich 0 sind."
   ]
  },
  {
   "cell_type": "code",
   "execution_count": 30,
   "metadata": {},
   "outputs": [
    {
     "name": "stdout",
     "output_type": "stream",
     "text": [
      "Ursprüngliches Array: [10  0  5 20  0 25]\n",
      " Filter (ungleich 0): [ True False  True  True False  True]\n"
     ]
    }
   ],
   "source": [
    "filter_ungleich_null = arr != 0\n",
    "print(\"Ursprüngliches Array:\", arr)\n",
    "print(\" Filter (ungleich 0):\", filter_ungleich_null)"
   ]
  },
  {
   "cell_type": "markdown",
   "metadata": {},
   "source": [
    "3.2: Erstellung des Ergebnis-Arrays\n",
    "Verwenden Sie den erstellten Filter, um ein neues Array zu erstellen, in dem die Werte\n",
    "von 100 durch die Elemente des ursprünglichen Arrays geteilt werden. An den Stellen,\n",
    "an denen der Filter False ist (also die Elemente 0), sollte np.nan eingetragen werden."
   ]
  },
  {
   "cell_type": "code",
   "execution_count": 31,
   "metadata": {},
   "outputs": [
    {
     "name": "stdout",
     "output_type": "stream",
     "text": [
      "Ergebnis-Array: [10. nan 20.  5. nan  4.]\n"
     ]
    },
    {
     "name": "stderr",
     "output_type": "stream",
     "text": [
      "C:\\Users\\NataliaArchipenko\\AppData\\Local\\Temp\\ipykernel_5800\\1601001904.py:1: RuntimeWarning: divide by zero encountered in divide\n",
      "  ergebnis_array = np.where(filter_ungleich_null, 100 / arr, np.nan)\n"
     ]
    }
   ],
   "source": [
    "ergebnis_array = np.where(filter_ungleich_null, 100 / arr, np.nan)\n",
    "print(\"Ergebnis-Array:\", ergebnis_array)\n"
   ]
  },
  {
   "cell_type": "markdown",
   "metadata": {},
   "source": [
    "3.3 np.any() und np.all()\n",
    "Benutzen sie eine der beiden Funktionen um zu testen ob im erstellten Array\n",
    "mindestens ein np.nan eingetragen ist. Benutzen Sie eine der Funktionen um zu testen\n",
    "ob im Array kein np.nan vorkommt."
   ]
  },
  {
   "cell_type": "code",
   "execution_count": 32,
   "metadata": {},
   "outputs": [
    {
     "name": "stdout",
     "output_type": "stream",
     "text": [
      "Test_nan? True\n"
     ]
    }
   ],
   "source": [
    "mindestens_ein_nan = np.any(np.isnan(ergebnis_array))\n",
    "print(\"Test_nan?\", mindestens_ein_nan)\n"
   ]
  },
  {
   "cell_type": "markdown",
   "metadata": {},
   "source": [
    "3.4: np.nan zählen\n",
    "Ermitteln sie die Anzahl der np.nan im Ergebnis. Sie können dazu die Funktion sum()\n",
    "in Verbindung mit dem boolschen Index benutzen."
   ]
  },
  {
   "cell_type": "code",
   "execution_count": 33,
   "metadata": {},
   "outputs": [
    {
     "name": "stdout",
     "output_type": "stream",
     "text": [
      "Anzahl der np.nan im Ergebnis-Array: 2\n"
     ]
    }
   ],
   "source": [
    "anzahl_nan = np.sum(np.isnan(ergebnis_array))\n",
    "print(\"Anzahl der np.nan im Ergebnis-Array:\", anzahl_nan)"
   ]
  }
 ],
 "metadata": {
  "kernelspec": {
   "display_name": "Python 3",
   "language": "python",
   "name": "python3"
  },
  "language_info": {
   "codemirror_mode": {
    "name": "ipython",
    "version": 3
   },
   "file_extension": ".py",
   "mimetype": "text/x-python",
   "name": "python",
   "nbconvert_exporter": "python",
   "pygments_lexer": "ipython3",
   "version": "3.12.4"
  }
 },
 "nbformat": 4,
 "nbformat_minor": 2
}
