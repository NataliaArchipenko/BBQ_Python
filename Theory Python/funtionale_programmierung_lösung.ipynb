{
 "cells": [
  {
   "cell_type": "code",
   "execution_count": 4,
   "metadata": {},
   "outputs": [
    {
     "data": {
      "text/plain": [
       "25"
      ]
     },
     "execution_count": 4,
     "metadata": {},
     "output_type": "execute_result"
    }
   ],
   "source": [
    "def calculate(a,op,b):\n",
    "    ## operation = get_implementation_of_operation(op)\n",
    "    return get_implementation_of_operation(op)(a,b)\n",
    "\n",
    "def get_implementation_of_operation(op):\n",
    "    return {'+': addition, '-': subtraktion, '*': multiplikation, '/': division}.get(op)\n",
    "    \n",
    "def addition(a,b):\n",
    "    return a+b\n",
    "\n",
    "def subtraktion(a,b):\n",
    "    return a-b\n",
    "\n",
    "def multiplikation(a, b):\n",
    "    return a*b\n",
    "\n",
    "def division(a,b):\n",
    "    return a/b\n",
    "\n",
    "calculate(11, '+', 14)"
   ]
  },
  {
   "cell_type": "code",
   "execution_count": 27,
   "metadata": {},
   "outputs": [
    {
     "name": "stdout",
     "output_type": "stream",
     "text": [
      "( 90, +,  11) ==>     101.00\n",
      "( 29, +,   3) ==>      32.00\n",
      "( 81, +,  83) ==>     164.00\n",
      "( 81, +,  81) ==>     162.00\n",
      "( 18, +,  55) ==>      73.00\n",
      "( 63, -,  96) ==>     -33.00\n",
      "( 60, +,  44) ==>     104.00\n",
      "( 14, +,  12) ==>      26.00\n",
      "( 90, *,  23) ==>    2070.00\n",
      "( 12, /,  56) ==>       0.21\n",
      "(  7, +,  79) ==>      86.00\n",
      "( 96, *,  35) ==>    3360.00\n",
      "( 20, /,  88) ==>       0.23\n",
      "( 42, *,  12) ==>     504.00\n",
      "( 81, /,  12) ==>       6.75\n",
      "( 79, +,   7) ==>      86.00\n",
      "( 28, /,  97) ==>       0.29\n",
      "( 14, +,  79) ==>      93.00\n",
      "( 34, /,  16) ==>       2.12\n",
      "( 33, *,  72) ==>    2376.00\n"
     ]
    }
   ],
   "source": [
    "# erstellen Sie zufällig 20 Argument-Sätze und lassen jeweils einen Wert berechnen \n",
    "# und fügen Sie diesen Wert in eine Liste ein.\n",
    "# Zufallszahlen sind von Typ 'int'.\n",
    "\n",
    "# 1. Tipp: ... randint\n",
    "# 2. Tipp: ... Auswahl aus ('+','-','*','/') ---> recherchieren Methode .choice()\n",
    "\n",
    "import random\n",
    "\n",
    "c_l = [((a, op, b), calculate(a, op, b)) for (a, op, b) in \n",
    "            [(random.randint(1,100), random.choice(['+','-','*','/']), random.randint(1,100)) \n",
    "                for i in range(20)\n",
    "            ]\n",
    "        ]\n",
    "\n",
    "for c_e in c_l:\n",
    "    print(f\"({c_e[0][0]:>3d}, {c_e[0][1]}, {c_e[0][2]:>3d})\" , \"==>\", f\"{float(c_e[1]):>10.2f}\")"
   ]
  }
 ],
 "metadata": {
  "kernelspec": {
   "display_name": "Python 3",
   "language": "python",
   "name": "python3"
  },
  "language_info": {
   "codemirror_mode": {
    "name": "ipython",
    "version": 3
   },
   "file_extension": ".py",
   "mimetype": "text/x-python",
   "name": "python",
   "nbconvert_exporter": "python",
   "pygments_lexer": "ipython3",
   "version": "3.12.6"
  }
 },
 "nbformat": 4,
 "nbformat_minor": 2
}
