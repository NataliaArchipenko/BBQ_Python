{
 "cells": [
  {
   "cell_type": "markdown",
   "id": "fe165a52-3c8d-4641-ae41-40451f592716",
   "metadata": {},
   "source": [
    "# TensorFlow\n",
    "- Eine Open-Source-Plattform für maschinelles Lernen. \n",
    "- Entwicklung von künstlichen neuronalen Netzwerken\n",
    "- Unterstützt mehrere Programmiersprachen u. a. Python\n",
    "- Dokumentation: https://www.tensorflow.org/\n",
    "- TensorFlow Playground - zum Lernen und Ausprobieren: https://playground.tensorflow.org/\n",
    "- Muss installiert werden https://www.tensorflow.org/install\n"
   ]
  },
  {
   "cell_type": "markdown",
   "id": "8443f3dc-0dfb-4ecb-8a17-fa3dd1ec224a",
   "metadata": {},
   "source": [
    "## Keras\n",
    "- neben TensorFlow auch eine Open Source Deep-Learning-Bibliothek, geschrieben in Python.\n",
    "- Dokumentation:https://keras.io/\n",
    "- bietet eine einheitliche Schnittstelle für verschiedene Backends, darunter TensorFlow"
   ]
  },
  {
   "cell_type": "markdown",
   "id": "5ebf4e8e-e2e6-49d3-8976-c6b3e70ec2e0",
   "metadata": {},
   "source": [
    "### Installation\n",
    "Wir installieren `TensorFlow` mit pip. Dabei wird auch `Keras` automatisch mitinstalliert."
   ]
  },
  {
   "cell_type": "code",
   "execution_count": 1,
   "id": "faaf8c35-56a8-468e-a193-41ccc2adc0e4",
   "metadata": {},
   "outputs": [],
   "source": [
    "# !pip install tensorflow"
   ]
  },
  {
   "cell_type": "code",
   "execution_count": 2,
   "id": "7d3947e1-6afb-4efd-a929-70b9b3bd209e",
   "metadata": {},
   "outputs": [
    {
     "name": "stdout",
     "output_type": "stream",
     "text": [
      "Name: tensorflow\n",
      "Version: 2.18.0\n",
      "Summary: TensorFlow is an open source machine learning framework for everyone.\n",
      "Home-page: https://www.tensorflow.org/\n",
      "Author: Google Inc.\n",
      "Author-email: packages@tensorflow.org\n",
      "License: Apache 2.0\n",
      "Location: C:\\Users\\AndreasWagner\\AppData\\Local\\Programs\\Python\\Python312\\Lib\\site-packages\n",
      "Requires: tensorflow-intel\n",
      "Required-by: \n"
     ]
    }
   ],
   "source": [
    "!pip show tensorflow"
   ]
  },
  {
   "cell_type": "code",
   "execution_count": 3,
   "id": "9a790ae2-c9a3-493e-ab8c-c93b1f85521e",
   "metadata": {},
   "outputs": [
    {
     "name": "stdout",
     "output_type": "stream",
     "text": [
      "Name: keras\n",
      "Version: 3.8.0\n",
      "Summary: Multi-backend Keras\n",
      "Home-page: \n",
      "Author: \n",
      "Author-email: Keras team <keras-users@googlegroups.com>\n",
      "License: Apache License 2.0\n",
      "Location: C:\\Users\\AndreasWagner\\AppData\\Local\\Programs\\Python\\Python312\\Lib\\site-packages\n",
      "Requires: absl-py, h5py, ml-dtypes, namex, numpy, optree, packaging, rich\n",
      "Required-by: tensorflow_intel\n"
     ]
    }
   ],
   "source": [
    "!pip show keras"
   ]
  },
  {
   "cell_type": "markdown",
   "id": "47dea288-f11a-47de-a129-871e0a3acc07",
   "metadata": {},
   "source": [
    "### Eine Regressionsaufgabe mit KNN\n",
    "In diesem Beispiel wollen wir das bekannte Beispiel von Hauspreis-Modell mit Hilfe eines KNNs bearbeiten.\n",
    "Dazu gehen wir folgende Schritte:\n",
    "- Daten einlesen und vorbereiten\n",
    "- Ein KNN-Modell erzeugen\n",
    "- Schichten hinzufügen\n",
    "- Modell kompilieren\n",
    "- Modell trainieren\n",
    "- Modell testen"
   ]
  },
  {
   "cell_type": "markdown",
   "id": "b348bdfb-e419-4e28-ba3c-067d661d13be",
   "metadata": {},
   "source": [
    "## Daten einlesen und vorbereiten"
   ]
  },
  {
   "cell_type": "markdown",
   "id": "6bd8d2ea-4b71-4b20-a849-493ceeafd853",
   "metadata": {},
   "source": [
    "Daten einlesen und Dataframe erzeugen."
   ]
  },
  {
   "cell_type": "code",
   "execution_count": 4,
   "id": "eda3bf37-fdb7-4f62-bab1-46c7b3cd8609",
   "metadata": {},
   "outputs": [
    {
     "data": {
      "text/html": [
       "<div>\n",
       "<style scoped>\n",
       "    .dataframe tbody tr th:only-of-type {\n",
       "        vertical-align: middle;\n",
       "    }\n",
       "\n",
       "    .dataframe tbody tr th {\n",
       "        vertical-align: top;\n",
       "    }\n",
       "\n",
       "    .dataframe thead th {\n",
       "        text-align: right;\n",
       "    }\n",
       "</style>\n",
       "<table border=\"1\" class=\"dataframe\">\n",
       "  <thead>\n",
       "    <tr style=\"text-align: right;\">\n",
       "      <th></th>\n",
       "      <th>sq_feet</th>\n",
       "      <th>num_bedrooms</th>\n",
       "      <th>num_bathrooms</th>\n",
       "      <th>sale_price</th>\n",
       "    </tr>\n",
       "  </thead>\n",
       "  <tbody>\n",
       "    <tr>\n",
       "      <th>0</th>\n",
       "      <td>785</td>\n",
       "      <td>2</td>\n",
       "      <td>2</td>\n",
       "      <td>170461</td>\n",
       "    </tr>\n",
       "    <tr>\n",
       "      <th>1</th>\n",
       "      <td>1477</td>\n",
       "      <td>2</td>\n",
       "      <td>2</td>\n",
       "      <td>271651</td>\n",
       "    </tr>\n",
       "    <tr>\n",
       "      <th>2</th>\n",
       "      <td>712</td>\n",
       "      <td>1</td>\n",
       "      <td>1</td>\n",
       "      <td>139912</td>\n",
       "    </tr>\n",
       "    <tr>\n",
       "      <th>3</th>\n",
       "      <td>3233</td>\n",
       "      <td>3</td>\n",
       "      <td>3</td>\n",
       "      <td>603246</td>\n",
       "    </tr>\n",
       "    <tr>\n",
       "      <th>4</th>\n",
       "      <td>1581</td>\n",
       "      <td>2</td>\n",
       "      <td>1</td>\n",
       "      <td>278603</td>\n",
       "    </tr>\n",
       "  </tbody>\n",
       "</table>\n",
       "</div>"
      ],
      "text/plain": [
       "   sq_feet  num_bedrooms  num_bathrooms  sale_price\n",
       "0      785             2              2      170461\n",
       "1     1477             2              2      271651\n",
       "2      712             1              1      139912\n",
       "3     3233             3              3      603246\n",
       "4     1581             2              1      278603"
      ]
     },
     "execution_count": 4,
     "metadata": {},
     "output_type": "execute_result"
    }
   ],
   "source": [
    "import pandas as pd\n",
    "df = pd.read_csv('house_data.csv')\n",
    "df.head()"
   ]
  },
  {
   "cell_type": "markdown",
   "id": "19203584-2eea-4b1f-89a9-6fcc7615d43d",
   "metadata": {},
   "source": [
    "Daten normalisieren: KNN-Modelle benötigen skalierte Daten, damit alle Merkmale gleichmäßig behandelt werden. "
   ]
  },
  {
   "cell_type": "code",
   "execution_count": 5,
   "id": "fd408122-5fff-4a65-b830-95946232b2af",
   "metadata": {},
   "outputs": [
    {
     "data": {
      "text/plain": [
       "array([[0.08145184, 0.33333333, 0.5       ],\n",
       "       [0.27922264, 0.33333333, 0.5       ],\n",
       "       [0.06058874, 0.        , 0.        ],\n",
       "       [0.78108031, 0.66666667, 1.        ],\n",
       "       [0.30894541, 0.33333333, 0.        ]])"
      ]
     },
     "execution_count": 5,
     "metadata": {},
     "output_type": "execute_result"
    }
   ],
   "source": [
    "from sklearn.preprocessing import MinMaxScaler\n",
    "feature_set=df.drop('sale_price', axis='columns') \n",
    "feature_scaler=MinMaxScaler()\n",
    "features_scaled=feature_scaler.fit_transform(feature_set)\n",
    "features_scaled[:5] # die ersten 5 Elemente anzeigen"
   ]
  },
  {
   "cell_type": "code",
   "execution_count": 6,
   "id": "b83e4327-9bc0-4cdb-9667-23e8b96ce019",
   "metadata": {},
   "outputs": [
    {
     "data": {
      "text/plain": [
       "array([[0.10939552],\n",
       "       [0.26461204],\n",
       "       [0.06253605],\n",
       "       [0.7732495 ],\n",
       "       [0.2752758 ]])"
      ]
     },
     "execution_count": 6,
     "metadata": {},
     "output_type": "execute_result"
    }
   ],
   "source": [
    "from sklearn.preprocessing import MinMaxScaler\n",
    "target_scaler=MinMaxScaler()\n",
    "target=df[['sale_price']]\n",
    "target_scaled=target_scaler.fit_transform(target)\n",
    "target_scaled[:5] # die ersten 5 Objekte"
   ]
  },
  {
   "cell_type": "code",
   "execution_count": 7,
   "id": "30053b9c-5496-4062-b0b1-4e937f1db5cc",
   "metadata": {},
   "outputs": [
    {
     "data": {
      "text/plain": [
       "array(['sq_feet', 'num_bedrooms', 'num_bathrooms'], dtype=object)"
      ]
     },
     "execution_count": 7,
     "metadata": {},
     "output_type": "execute_result"
    }
   ],
   "source": [
    "feature_names=feature_set.columns.values\n",
    "feature_names"
   ]
  },
  {
   "cell_type": "code",
   "execution_count": 8,
   "id": "83e079a2-ff9a-4b5a-a4aa-3e5c2de002e5",
   "metadata": {},
   "outputs": [
    {
     "data": {
      "text/html": [
       "<div>\n",
       "<style scoped>\n",
       "    .dataframe tbody tr th:only-of-type {\n",
       "        vertical-align: middle;\n",
       "    }\n",
       "\n",
       "    .dataframe tbody tr th {\n",
       "        vertical-align: top;\n",
       "    }\n",
       "\n",
       "    .dataframe thead th {\n",
       "        text-align: right;\n",
       "    }\n",
       "</style>\n",
       "<table border=\"1\" class=\"dataframe\">\n",
       "  <thead>\n",
       "    <tr style=\"text-align: right;\">\n",
       "      <th></th>\n",
       "      <th>sq_feet</th>\n",
       "      <th>num_bedrooms</th>\n",
       "      <th>num_bathrooms</th>\n",
       "      <th>sale_price</th>\n",
       "    </tr>\n",
       "  </thead>\n",
       "  <tbody>\n",
       "    <tr>\n",
       "      <th>0</th>\n",
       "      <td>0.081452</td>\n",
       "      <td>0.333333</td>\n",
       "      <td>0.5</td>\n",
       "      <td>0.109396</td>\n",
       "    </tr>\n",
       "    <tr>\n",
       "      <th>1</th>\n",
       "      <td>0.279223</td>\n",
       "      <td>0.333333</td>\n",
       "      <td>0.5</td>\n",
       "      <td>0.264612</td>\n",
       "    </tr>\n",
       "    <tr>\n",
       "      <th>2</th>\n",
       "      <td>0.060589</td>\n",
       "      <td>0.000000</td>\n",
       "      <td>0.0</td>\n",
       "      <td>0.062536</td>\n",
       "    </tr>\n",
       "    <tr>\n",
       "      <th>3</th>\n",
       "      <td>0.781080</td>\n",
       "      <td>0.666667</td>\n",
       "      <td>1.0</td>\n",
       "      <td>0.773249</td>\n",
       "    </tr>\n",
       "    <tr>\n",
       "      <th>4</th>\n",
       "      <td>0.308945</td>\n",
       "      <td>0.333333</td>\n",
       "      <td>0.0</td>\n",
       "      <td>0.275276</td>\n",
       "    </tr>\n",
       "  </tbody>\n",
       "</table>\n",
       "</div>"
      ],
      "text/plain": [
       "    sq_feet  num_bedrooms  num_bathrooms  sale_price\n",
       "0  0.081452      0.333333            0.5    0.109396\n",
       "1  0.279223      0.333333            0.5    0.264612\n",
       "2  0.060589      0.000000            0.0    0.062536\n",
       "3  0.781080      0.666667            1.0    0.773249\n",
       "4  0.308945      0.333333            0.0    0.275276"
      ]
     },
     "execution_count": 8,
     "metadata": {},
     "output_type": "execute_result"
    }
   ],
   "source": [
    "# aus skalierten Daten ein neues Dataframe bilden\n",
    "df_scaled=pd.DataFrame(features_scaled,columns=feature_names)\n",
    "df_scaled['sale_price']=target_scaled\n",
    "df_scaled.head()"
   ]
  },
  {
   "cell_type": "markdown",
   "id": "470af114-2a77-4dc5-9289-ee95f5df6dcf",
   "metadata": {},
   "source": [
    "Daten aufsplitten - Train und Test Daten"
   ]
  },
  {
   "cell_type": "code",
   "execution_count": 9,
   "id": "54869750-af59-4172-b71d-e54c43acda33",
   "metadata": {},
   "outputs": [],
   "source": [
    "from sklearn.model_selection import train_test_split\n",
    "X=df_scaled.drop('sale_price',axis='columns')\n",
    "y=df_scaled['sale_price']\n",
    "X_train, X_test, y_train, y_test=train_test_split(X,y,test_size=0.25)"
   ]
  },
  {
   "cell_type": "markdown",
   "id": "17027a2b-817b-4898-9aa6-a6c14da5df1d",
   "metadata": {},
   "source": [
    "## Ein KNN-Modell erzeugen"
   ]
  },
  {
   "cell_type": "markdown",
   "id": "3fa7e630-7c52-4412-8e19-539125aab0f3",
   "metadata": {},
   "source": [
    "#### _Achtung_\n",
    "`Keras` kann direkt oder über `TensorFlow` importieret werden."
   ]
  },
  {
   "cell_type": "code",
   "execution_count": 10,
   "id": "fcfa9939-8dc3-4908-8ac5-1203e118f3fe",
   "metadata": {},
   "outputs": [],
   "source": [
    "# Über TensorFlow \n",
    "\n",
    "# from tensorflow.keras.layers import Dense\n",
    "# from tensorflow.keras.models import Sequential\n",
    "\n",
    "# Direkt\n",
    "from keras.layers import Dense\n",
    "from keras.models import Sequential"
   ]
  },
  {
   "cell_type": "markdown",
   "id": "74dc15ee-e4bc-44c7-8e82-697cc5205196",
   "metadata": {},
   "source": [
    "`Dense`: ist die einfachste und am meisten verwendete Form einer KNN-Schicht. Die Neuronen einer Dense-Schicht sind eng mit Neuronen der vorherigen Schicht verknüpft und bekommen über sie Signale vermittelt. Für eine ausführliche Erklärung siehe [hier](https://analyticsindiamag.com/a-complete-understanding-of-dense-layers-in-neural-networks/)"
   ]
  },
  {
   "cell_type": "markdown",
   "id": "d02813ed-71a3-470b-82d3-74f898abe86a",
   "metadata": {},
   "source": [
    "`Sequential`: Sequentielle Algorithmen in Machine Learning gehen davon aus, dass die Angaben einer Schicht von Angaben der vorigen Schicht abhängig sind."
   ]
  },
  {
   "cell_type": "code",
   "execution_count": 11,
   "id": "18871caf-3ff1-45b6-9191-cbea1d790d2c",
   "metadata": {},
   "outputs": [],
   "source": [
    "model = Sequential() # Model erstellen"
   ]
  },
  {
   "cell_type": "markdown",
   "id": "ce11ad7f-00c8-4bb7-a4fb-615b30fddea0",
   "metadata": {},
   "source": [
    "Wir addieren die erste Dense-Schicht zu unserem Modell"
   ]
  },
  {
   "cell_type": "code",
   "execution_count": 12,
   "id": "9ec728f2-52f3-4c7c-91df-d52a05001085",
   "metadata": {},
   "outputs": [
    {
     "name": "stderr",
     "output_type": "stream",
     "text": [
      "c:\\Users\\AndreasWagner\\AppData\\Local\\Programs\\Python\\Python312\\Lib\\site-packages\\keras\\src\\layers\\core\\dense.py:87: UserWarning: Do not pass an `input_shape`/`input_dim` argument to a layer. When using Sequential models, prefer using an `Input(shape)` object as the first layer in the model instead.\n",
      "  super().__init__(activity_regularizer=activity_regularizer, **kwargs)\n"
     ]
    }
   ],
   "source": [
    "model.add(Dense(50, input_dim=3, activation='relu')) # 50: Anzahl der Knoten, input_dim=Anzahl der Features, activation=Aktivierungsfunktion"
   ]
  },
  {
   "cell_type": "markdown",
   "id": "33f85916-4cac-4919-ac25-597347c1cbd6",
   "metadata": {},
   "source": [
    "und dazu kommen noch weitere Schichten"
   ]
  },
  {
   "cell_type": "code",
   "execution_count": 13,
   "id": "c5977ebd-bdf5-417d-9a42-889b4facb528",
   "metadata": {},
   "outputs": [],
   "source": [
    "model.add(Dense(100, activation='relu')) # eine weitere versteckte Schicht (hidden layer) mit 100 Knoten\n",
    "model.add(Dense(50, activation='relu')) # eine weitere versteckte Schicht (hidden layer) mit 50 Knoten"
   ]
  },
  {
   "cell_type": "markdown",
   "id": "5d309124-a18a-4a5b-a19e-1761b25517f1",
   "metadata": {},
   "source": [
    "und schließlich kommt die Ausgabeschicht (output)"
   ]
  },
  {
   "cell_type": "code",
   "execution_count": 14,
   "id": "5c136e37-37f4-45a5-9a30-cead7a54c1da",
   "metadata": {},
   "outputs": [],
   "source": [
    "model.add(Dense(1, activation='linear')) # 1 Konten, Weil Ausgabe nur eine Zahl (Preis)"
   ]
  },
  {
   "cell_type": "markdown",
   "id": "f333b395-070e-40f5-bfed-864489873457",
   "metadata": {},
   "source": [
    "Insgesamt haben wir jetzt 5 Schichten: input, dann eine Schicht mit 50 Knoten, dann eine mit 100, dann eine mit 50 dann Output."
   ]
  },
  {
   "cell_type": "markdown",
   "id": "859ce99e-18ca-403e-8377-07dab89cbe70",
   "metadata": {},
   "source": [
    "Im nächsten Schritt soll das Modell noch kompiliert werden:"
   ]
  },
  {
   "cell_type": "code",
   "execution_count": 15,
   "id": "3a91aefe-5551-4110-b862-786ceb63ee4d",
   "metadata": {},
   "outputs": [],
   "source": [
    "model.compile(\n",
    "loss='mean_squared_error', # Loss Function - Das Ziel ist, diese zu minimieren\n",
    "optimizer='SGD') # stochastic gradient descent - Optimierungsfunktion - wie die Loss Function minimieren"
   ]
  },
  {
   "cell_type": "markdown",
   "id": "ae90baa7-63b7-4723-bb90-5c69bd0463d7",
   "metadata": {},
   "source": [
    "Das Modell trainieren\n",
    "_Hinweis_ Das Training von KNN-Modellen dauert in der Regel länger im Vergleich zu einfachen Modellen aus SKLearn."
   ]
  },
  {
   "cell_type": "code",
   "execution_count": 16,
   "id": "ebb0262c-a1be-4792-b73f-dd5b137f2833",
   "metadata": {},
   "outputs": [
    {
     "name": "stdout",
     "output_type": "stream",
     "text": [
      "Epoch 1/100\n",
      "938/938 - 2s - 2ms/step - loss: 0.0133\n",
      "Epoch 2/100\n",
      "938/938 - 1s - 1ms/step - loss: 5.6377e-04\n",
      "Epoch 3/100\n",
      "938/938 - 1s - 1ms/step - loss: 4.1337e-04\n",
      "Epoch 4/100\n",
      "938/938 - 1s - 1ms/step - loss: 3.7367e-04\n",
      "Epoch 5/100\n",
      "938/938 - 1s - 1ms/step - loss: 3.5803e-04\n",
      "Epoch 6/100\n",
      "938/938 - 1s - 1ms/step - loss: 3.4833e-04\n",
      "Epoch 7/100\n",
      "938/938 - 1s - 1ms/step - loss: 3.4211e-04\n",
      "Epoch 8/100\n",
      "938/938 - 1s - 1ms/step - loss: 3.3862e-04\n",
      "Epoch 9/100\n",
      "938/938 - 1s - 1ms/step - loss: 3.3461e-04\n",
      "Epoch 10/100\n",
      "938/938 - 1s - 1ms/step - loss: 3.3211e-04\n",
      "Epoch 11/100\n",
      "938/938 - 1s - 1ms/step - loss: 3.2980e-04\n",
      "Epoch 12/100\n",
      "938/938 - 1s - 1ms/step - loss: 3.2801e-04\n",
      "Epoch 13/100\n",
      "938/938 - 1s - 1ms/step - loss: 3.2751e-04\n",
      "Epoch 14/100\n",
      "938/938 - 1s - 1ms/step - loss: 3.2571e-04\n",
      "Epoch 15/100\n",
      "938/938 - 1s - 1ms/step - loss: 3.2404e-04\n",
      "Epoch 16/100\n",
      "938/938 - 1s - 1ms/step - loss: 3.2384e-04\n",
      "Epoch 17/100\n",
      "938/938 - 1s - 1ms/step - loss: 3.2296e-04\n",
      "Epoch 18/100\n",
      "938/938 - 1s - 1ms/step - loss: 3.2280e-04\n",
      "Epoch 19/100\n",
      "938/938 - 1s - 1ms/step - loss: 3.2202e-04\n",
      "Epoch 20/100\n",
      "938/938 - 1s - 1ms/step - loss: 3.2134e-04\n",
      "Epoch 21/100\n",
      "938/938 - 2s - 2ms/step - loss: 3.2077e-04\n",
      "Epoch 22/100\n",
      "938/938 - 1s - 1ms/step - loss: 3.1934e-04\n",
      "Epoch 23/100\n",
      "938/938 - 1s - 1ms/step - loss: 3.2041e-04\n",
      "Epoch 24/100\n",
      "938/938 - 1s - 1ms/step - loss: 3.2056e-04\n",
      "Epoch 25/100\n",
      "938/938 - 1s - 2ms/step - loss: 3.1882e-04\n",
      "Epoch 26/100\n",
      "938/938 - 2s - 2ms/step - loss: 3.1979e-04\n",
      "Epoch 27/100\n",
      "938/938 - 1s - 2ms/step - loss: 3.1845e-04\n",
      "Epoch 28/100\n",
      "938/938 - 1s - 1ms/step - loss: 3.1829e-04\n",
      "Epoch 29/100\n",
      "938/938 - 1s - 1ms/step - loss: 3.1892e-04\n",
      "Epoch 30/100\n",
      "938/938 - 1s - 1ms/step - loss: 3.1873e-04\n",
      "Epoch 31/100\n",
      "938/938 - 1s - 1ms/step - loss: 3.1874e-04\n",
      "Epoch 32/100\n",
      "938/938 - 1s - 1ms/step - loss: 3.1883e-04\n",
      "Epoch 33/100\n",
      "938/938 - 1s - 1ms/step - loss: 3.1855e-04\n",
      "Epoch 34/100\n",
      "938/938 - 1s - 1ms/step - loss: 3.1737e-04\n",
      "Epoch 35/100\n",
      "938/938 - 1s - 1ms/step - loss: 3.1813e-04\n",
      "Epoch 36/100\n",
      "938/938 - 1s - 1ms/step - loss: 3.1838e-04\n",
      "Epoch 37/100\n",
      "938/938 - 1s - 1ms/step - loss: 3.1790e-04\n",
      "Epoch 38/100\n",
      "938/938 - 1s - 1ms/step - loss: 3.1769e-04\n",
      "Epoch 39/100\n",
      "938/938 - 1s - 1ms/step - loss: 3.1691e-04\n",
      "Epoch 40/100\n",
      "938/938 - 1s - 1ms/step - loss: 3.1794e-04\n",
      "Epoch 41/100\n",
      "938/938 - 1s - 1ms/step - loss: 3.1668e-04\n",
      "Epoch 42/100\n",
      "938/938 - 1s - 1ms/step - loss: 3.1738e-04\n",
      "Epoch 43/100\n",
      "938/938 - 1s - 1ms/step - loss: 3.1700e-04\n",
      "Epoch 44/100\n",
      "938/938 - 1s - 1ms/step - loss: 3.1653e-04\n",
      "Epoch 45/100\n",
      "938/938 - 1s - 1ms/step - loss: 3.1704e-04\n",
      "Epoch 46/100\n",
      "938/938 - 1s - 2ms/step - loss: 3.1767e-04\n",
      "Epoch 47/100\n",
      "938/938 - 1s - 1ms/step - loss: 3.1730e-04\n",
      "Epoch 48/100\n",
      "938/938 - 1s - 1ms/step - loss: 3.1714e-04\n",
      "Epoch 49/100\n",
      "938/938 - 1s - 1ms/step - loss: 3.1739e-04\n",
      "Epoch 50/100\n",
      "938/938 - 1s - 1ms/step - loss: 3.1613e-04\n",
      "Epoch 51/100\n",
      "938/938 - 1s - 1ms/step - loss: 3.1702e-04\n",
      "Epoch 52/100\n",
      "938/938 - 1s - 1ms/step - loss: 3.1701e-04\n",
      "Epoch 53/100\n",
      "938/938 - 1s - 1ms/step - loss: 3.1604e-04\n",
      "Epoch 54/100\n",
      "938/938 - 1s - 1ms/step - loss: 3.1695e-04\n",
      "Epoch 55/100\n",
      "938/938 - 1s - 1ms/step - loss: 3.1714e-04\n",
      "Epoch 56/100\n",
      "938/938 - 1s - 1ms/step - loss: 3.1689e-04\n",
      "Epoch 57/100\n",
      "938/938 - 1s - 1ms/step - loss: 3.1659e-04\n",
      "Epoch 58/100\n",
      "938/938 - 1s - 1ms/step - loss: 3.1676e-04\n",
      "Epoch 59/100\n",
      "938/938 - 1s - 1ms/step - loss: 3.1613e-04\n",
      "Epoch 60/100\n",
      "938/938 - 1s - 1ms/step - loss: 3.1646e-04\n",
      "Epoch 61/100\n",
      "938/938 - 1s - 1ms/step - loss: 3.1715e-04\n",
      "Epoch 62/100\n",
      "938/938 - 1s - 1ms/step - loss: 3.1599e-04\n",
      "Epoch 63/100\n",
      "938/938 - 1s - 1ms/step - loss: 3.1702e-04\n",
      "Epoch 64/100\n",
      "938/938 - 1s - 1ms/step - loss: 3.1640e-04\n",
      "Epoch 65/100\n",
      "938/938 - 1s - 1ms/step - loss: 3.1687e-04\n",
      "Epoch 66/100\n",
      "938/938 - 1s - 1ms/step - loss: 3.1599e-04\n",
      "Epoch 67/100\n",
      "938/938 - 2s - 2ms/step - loss: 3.1568e-04\n",
      "Epoch 68/100\n",
      "938/938 - 1s - 1ms/step - loss: 3.1603e-04\n",
      "Epoch 69/100\n",
      "938/938 - 1s - 1ms/step - loss: 3.1689e-04\n",
      "Epoch 70/100\n",
      "938/938 - 2s - 2ms/step - loss: 3.1712e-04\n",
      "Epoch 71/100\n",
      "938/938 - 1s - 1ms/step - loss: 3.1708e-04\n",
      "Epoch 72/100\n",
      "938/938 - 2s - 2ms/step - loss: 3.1726e-04\n",
      "Epoch 73/100\n",
      "938/938 - 1s - 1ms/step - loss: 3.1647e-04\n",
      "Epoch 74/100\n",
      "938/938 - 1s - 1ms/step - loss: 3.1666e-04\n",
      "Epoch 75/100\n",
      "938/938 - 1s - 1ms/step - loss: 3.1603e-04\n",
      "Epoch 76/100\n",
      "938/938 - 1s - 1ms/step - loss: 3.1598e-04\n",
      "Epoch 77/100\n",
      "938/938 - 1s - 1ms/step - loss: 3.1544e-04\n",
      "Epoch 78/100\n",
      "938/938 - 1s - 1ms/step - loss: 3.1626e-04\n",
      "Epoch 79/100\n",
      "938/938 - 1s - 1ms/step - loss: 3.1645e-04\n",
      "Epoch 80/100\n",
      "938/938 - 1s - 1ms/step - loss: 3.1525e-04\n",
      "Epoch 81/100\n",
      "938/938 - 1s - 1ms/step - loss: 3.1640e-04\n",
      "Epoch 82/100\n",
      "938/938 - 2s - 2ms/step - loss: 3.1611e-04\n",
      "Epoch 83/100\n",
      "938/938 - 1s - 2ms/step - loss: 3.1598e-04\n",
      "Epoch 84/100\n",
      "938/938 - 1s - 1ms/step - loss: 3.1608e-04\n",
      "Epoch 85/100\n",
      "938/938 - 1s - 2ms/step - loss: 3.1530e-04\n",
      "Epoch 86/100\n",
      "938/938 - 1s - 1ms/step - loss: 3.1630e-04\n",
      "Epoch 87/100\n",
      "938/938 - 1s - 1ms/step - loss: 3.1558e-04\n",
      "Epoch 88/100\n",
      "938/938 - 1s - 1ms/step - loss: 3.1563e-04\n",
      "Epoch 89/100\n",
      "938/938 - 1s - 1ms/step - loss: 3.1699e-04\n",
      "Epoch 90/100\n",
      "938/938 - 1s - 1ms/step - loss: 3.1579e-04\n",
      "Epoch 91/100\n",
      "938/938 - 1s - 1ms/step - loss: 3.1590e-04\n",
      "Epoch 92/100\n",
      "938/938 - 1s - 1ms/step - loss: 3.1760e-04\n",
      "Epoch 93/100\n",
      "938/938 - 1s - 1ms/step - loss: 3.1584e-04\n",
      "Epoch 94/100\n",
      "938/938 - 1s - 2ms/step - loss: 3.1573e-04\n",
      "Epoch 95/100\n",
      "938/938 - 1s - 1ms/step - loss: 3.1547e-04\n",
      "Epoch 96/100\n",
      "938/938 - 1s - 1ms/step - loss: 3.1635e-04\n",
      "Epoch 97/100\n",
      "938/938 - 1s - 2ms/step - loss: 3.1528e-04\n",
      "Epoch 98/100\n",
      "938/938 - 1s - 2ms/step - loss: 3.1511e-04\n",
      "Epoch 99/100\n",
      "938/938 - 1s - 1ms/step - loss: 3.1588e-04\n",
      "Epoch 100/100\n",
      "938/938 - 1s - 1ms/step - loss: 3.1581e-04\n"
     ]
    },
    {
     "data": {
      "text/plain": [
       "<keras.src.callbacks.history.History at 0x215f2e77800>"
      ]
     },
     "execution_count": 16,
     "metadata": {},
     "output_type": "execute_result"
    }
   ],
   "source": [
    "model.fit(X_train,y_train,epochs=100,batch_size=8,shuffle=True,verbose=2)"
   ]
  },
  {
   "cell_type": "markdown",
   "id": "1acf50a4-9383-4127-8ccf-8f364df6d868",
   "metadata": {},
   "source": [
    "Das trainierte Modell testen"
   ]
  },
  {
   "cell_type": "code",
   "execution_count": 17,
   "id": "dfdb0fe6-c0cb-4190-8cc6-b6cb26d806dc",
   "metadata": {},
   "outputs": [
    {
     "name": "stdout",
     "output_type": "stream",
     "text": [
      "\u001b[1m235/235\u001b[0m \u001b[32m━━━━━━━━━━━━━━━━━━━━\u001b[0m\u001b[37m\u001b[0m \u001b[1m0s\u001b[0m 1ms/step\n",
      "Mittlerer absoluter Fehler (MAE) in Traindaten 0.013818898312221469\n",
      "\u001b[1m79/79\u001b[0m \u001b[32m━━━━━━━━━━━━━━━━━━━━\u001b[0m\u001b[37m\u001b[0m \u001b[1m0s\u001b[0m 1ms/step  \n",
      "Mittlerer absoluter Fehler (MAE) in Testdaten 0.014504929055354616\n"
     ]
    }
   ],
   "source": [
    "from sklearn.metrics import mean_absolute_error as mae\n",
    "print('Mittlerer absoluter Fehler (MAE) in Traindaten',mae(y_train,model.predict(X_train)))\n",
    "print('Mittlerer absoluter Fehler (MAE) in Testdaten',mae(y_test,model.predict(X_test)))"
   ]
  },
  {
   "cell_type": "markdown",
   "id": "73b6aa9b-3281-443a-a4be-ecc9d683bfab",
   "metadata": {},
   "source": [
    "Das Sequential-Modell zeigt eine wesentlich bessere Leistung im Vergleich zu unserem bisherigen LinearRegression Modell.  \n",
    "_Hinweis_ Es ist aber nicht immer so!"
   ]
  }
 ],
 "metadata": {
  "kernelspec": {
   "display_name": "Python 3",
   "language": "python",
   "name": "python3"
  },
  "language_info": {
   "codemirror_mode": {
    "name": "ipython",
    "version": 3
   },
   "file_extension": ".py",
   "mimetype": "text/x-python",
   "name": "python",
   "nbconvert_exporter": "python",
   "pygments_lexer": "ipython3",
   "version": "3.12.6"
  }
 },
 "nbformat": 4,
 "nbformat_minor": 5
}
