{
 "cells": [
  {
   "cell_type": "markdown",
   "metadata": {},
   "source": [
    "**Aufgabe 1: Division durch Null**\n",
    "\n",
    "Schreibe eine Funktion, die zwei Zahlen entgegennimmt und ihre Division durchführt.\n",
    "Fange die ZeroDivisionError -Ausnahme ab und gib eine entsprechende\n",
    "Fehlermeldung aus."
   ]
  },
  {
   "cell_type": "code",
   "execution_count": 27,
   "metadata": {},
   "outputs": [
    {
     "name": "stdout",
     "output_type": "stream",
     "text": [
      "Fehler: Division durch Null ist nicht erlaubt\n"
     ]
    }
   ],
   "source": [
    "def teilen_function():\n",
    "    try:\n",
    "        a = int(input('Geben Sie eine Zahl ein:'))\n",
    "        b = int(input('Geben Sie eine Zahl ein:'))\n",
    "        result = a/b\n",
    "        print(f' {a}/{b} = {result}')\n",
    "    except ZeroDivisionError:\n",
    "        print(\"Fehler: Division durch Null ist nicht erlaubt\")\n",
    "\n",
    "teilen_function()"
   ]
  },
  {
   "cell_type": "markdown",
   "metadata": {},
   "source": [
    "**Try/except außerhalb der Funktion:**"
   ]
  },
  {
   "cell_type": "code",
   "execution_count": 26,
   "metadata": {},
   "outputs": [
    {
     "name": "stdout",
     "output_type": "stream",
     "text": [
      "Fehler: Division durch Null ist nicht erlaubt division by zero\n"
     ]
    }
   ],
   "source": [
    "def teilen_function(a,b):\n",
    "    return a/b\n",
    "\n",
    "try:\n",
    "    print(teilen_function(10,0))\n",
    "except ZeroDivisionError as zde:\n",
    "    print(f\"Fehler: Division durch Null ist nicht erlaubt {zde}\")\n",
    "\n",
    "\n"
   ]
  },
  {
   "cell_type": "markdown",
   "metadata": {},
   "source": [
    "**Aufgabe 2: Ungültige Zahleneingabe**\n",
    "\n",
    "Schreibe eine Funktion, die einen String entgegennimmt und versucht, diesen in eine\n",
    "Ganzzahl umzuwandeln. Fange die ValueError -Ausnahme ab und gib eine\n",
    "Fehlermeldung aus, wenn die Umwandlung fehlschlägt."
   ]
  },
  {
   "cell_type": "code",
   "execution_count": 9,
   "metadata": {},
   "outputs": [
    {
     "name": "stdout",
     "output_type": "stream",
     "text": [
      "Die umgewandelte Zahl ist: 9\n"
     ]
    }
   ],
   "source": [
    "def string_to_int():\n",
    "    try:\n",
    "        s = input('Geben Sie eine Zahl ein: ')\n",
    "        result = int(s)\n",
    "        print(f'Die umgewandelte Zahl ist: {result}')\n",
    "    except ValueError:\n",
    "        print('Fehler: Ungültige Eingabe')\n",
    "\n",
    "# Aufruf der Funktion:\n",
    "string_to_int()"
   ]
  },
  {
   "cell_type": "markdown",
   "metadata": {},
   "source": [
    "**Try/except block außerhalb der Funktion:**"
   ]
  },
  {
   "cell_type": "code",
   "execution_count": 44,
   "metadata": {},
   "outputs": [
    {
     "name": "stdout",
     "output_type": "stream",
     "text": [
      "Fehler: Ungültige Eingabe\n"
     ]
    }
   ],
   "source": [
    "def string_to_int(string):\n",
    "    return int(string)\n",
    "    \n",
    "    \n",
    "try:\n",
    "    print(string_to_int('k'))\n",
    "except ValueError:\n",
    "    print('Fehler: Ungültige Eingabe')\n"
   ]
  },
  {
   "cell_type": "markdown",
   "metadata": {},
   "source": [
    "**Aufgabe 3: Zugriff auf Listenindex**\n",
    "\n",
    "Schreibe eine Funktion, die eine Liste und einen Index entgegennimmt. Versuche, das\n",
    "Element an diesem Index abzurufen. Fange die IndexError -Ausnahme ab und gib eine\n",
    "Fehlermeldung aus, wenn der Index ungültig ist.\n"
   ]
  },
  {
   "cell_type": "code",
   "execution_count": 19,
   "metadata": {},
   "outputs": [
    {
     "name": "stdout",
     "output_type": "stream",
     "text": [
      " Element 1 hat Index 0\n",
      " Element 5 hat Index 4\n",
      "Fehler: Index 10 in dieser Liste nicht existiert\n"
     ]
    }
   ],
   "source": [
    "my_liste = [1,2,3,4,5]\n",
    "def aufruf_el_von_liste(liste, index):\n",
    "    try:\n",
    "        element = liste[index]\n",
    "        print(f' Element {element} hat Index {index}')\n",
    "    except IndexError:\n",
    "        print(f'Fehler: Index {index} in dieser Liste existiert nicht')\n",
    "\n",
    "aufruf_el_von_liste(my_liste, 0)\n",
    "aufruf_el_von_liste(my_liste, 4)\n",
    "aufruf_el_von_liste(my_liste, 10)\n",
    "\n"
   ]
  },
  {
   "cell_type": "markdown",
   "metadata": {},
   "source": [
    "**Try/except block außerhalb der Funktion:**"
   ]
  },
  {
   "cell_type": "code",
   "execution_count": 5,
   "metadata": {},
   "outputs": [
    {
     "name": "stdout",
     "output_type": "stream",
     "text": [
      "Fehler: Index existiert nicht\n"
     ]
    }
   ],
   "source": [
    "my_liste = [1,2,3,4,5]\n",
    "def aufruf_el_von_liste(liste, index):\n",
    "   return liste[index]\n",
    "   \n",
    "   \n",
    "try:\n",
    "        print(aufruf_el_von_liste(my_liste, 9))\n",
    "except IndexError:\n",
    "        print(f'Fehler: Index existiert nicht')\n"
   ]
  },
  {
   "cell_type": "markdown",
   "metadata": {},
   "source": [
    "**Aufgabe 4: Dictionary-Zugriff**\n",
    "\n",
    "Schreibe eine Funktion, die ein Dictionary und einen Schlüssel entgegennimmt.\n",
    "Versuche, den Wert des Schlüssels abzurufen. Fange die KeyError -Ausnahme ab und\n",
    "gib eine Fehlermeldung aus, wenn der Schlüssel nicht vorhanden ist"
   ]
  },
  {
   "cell_type": "code",
   "execution_count": 48,
   "metadata": {},
   "outputs": [
    {
     "name": "stdout",
     "output_type": "stream",
     "text": [
      "Die Wert  von a ist 1\n",
      "Die Wert  von b ist 2\n",
      "Fehler: Schlüssel h existiert nicht\n"
     ]
    }
   ],
   "source": [
    "my_dic = {'a': 1, 'b': 2, 'c': 3}\n",
    "def aufruf_el_von_dic(dictionary, Schlüssel):\n",
    "    try:\n",
    "        element = dictionary[Schlüssel]\n",
    "        print(f'Die Wert  von {Schlüssel} ist {element}')\n",
    "    except KeyError:\n",
    "        print(f'Fehler: Schlüssel {Schlüssel} existiert nicht')\n",
    "\n",
    "aufruf_el_von_dic(my_dic, 'a')\n",
    "aufruf_el_von_dic(my_dic, 'b')\n",
    "aufruf_el_von_dic(my_dic, 'h')"
   ]
  },
  {
   "cell_type": "code",
   "execution_count": 36,
   "metadata": {},
   "outputs": [
    {
     "name": "stdout",
     "output_type": "stream",
     "text": [
      "Fehler: Schlüssel nicht existiert 'h'\n"
     ]
    }
   ],
   "source": [
    "my_dic = {'a': 1, 'b': 2, 'c': 3}\n",
    "def aufruf_el_von_dic(dictionary, Schlüssel):\n",
    "        return dictionary[Schlüssel]\n",
    "   \n",
    "try:\n",
    "    print(aufruf_el_von_dic(my_dic, 'h'))\n",
    "except KeyError as ke:\n",
    "    print(f\"Fehler: Schlüssel nicht existiert {ke}\")"
   ]
  },
  {
   "cell_type": "markdown",
   "metadata": {},
   "source": [
    "**Aufgabe 5: Typüberprüfung**\n",
    "Schreibe eine Funktion, die zwei Werte entgegennimmt und versucht, sie zu addieren.\n",
    "Erzeuge eine TypeError -Ausnahme wenn der Typ beider Parameter nicht\n",
    "übereinstimmt."
   ]
  },
  {
   "cell_type": "code",
   "execution_count": 1,
   "metadata": {},
   "outputs": [
    {
     "name": "stdout",
     "output_type": "stream",
     "text": [
      "Fehler: Diese Werte darf man nicht addieren! \n"
     ]
    }
   ],
   "source": [
    "def sum_zwei_werte(a,b):\n",
    "    if type(a) == type(b):\n",
    "        return a + b\n",
    "    else:\n",
    "        raise TypeError\n",
    "    \n",
    "try:\n",
    "    print(sum_zwei_werte(1, 0.45))\n",
    "except TypeError as te:\n",
    "    print(f\"Fehler: Diese Werte darf man nicht addieren! {te}\")\n",
    "\n"
   ]
  },
  {
   "cell_type": "code",
   "execution_count": 6,
   "metadata": {},
   "outputs": [
    {
     "name": "stdout",
     "output_type": "stream",
     "text": [
      "Hier gehts weiter\n",
      "2\n",
      "Fehler:Die Typen stimmen nicht überein: <class 'int'> und <class 'float'>\n"
     ]
    }
   ],
   "source": [
    "def add_values(a,b):\n",
    "    if type(a) != type(b):\n",
    "        raise TypeError(f'Die Typen stimmen nicht überein: {type(a)} und {type(b)}')\n",
    "    print('Hier gehts weiter')\n",
    "    return a + b\n",
    "\n",
    "try:\n",
    "    print(add_values(0, 2))\n",
    "    add_values(1, 0.45) # Achtung, dieser Fe\n",
    "except TypeError as te:\n",
    "    print(f'Fehler:{te}')"
   ]
  }
 ],
 "metadata": {
  "kernelspec": {
   "display_name": "Python 3",
   "language": "python",
   "name": "python3"
  },
  "language_info": {
   "codemirror_mode": {
    "name": "ipython",
    "version": 3
   },
   "file_extension": ".py",
   "mimetype": "text/x-python",
   "name": "python",
   "nbconvert_exporter": "python",
   "pygments_lexer": "ipython3",
   "version": "3.12.4"
  }
 },
 "nbformat": 4,
 "nbformat_minor": 2
}
