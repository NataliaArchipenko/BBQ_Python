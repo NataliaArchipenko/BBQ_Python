{
 "cells": [
  {
   "cell_type": "code",
   "execution_count": 1,
   "metadata": {},
   "outputs": [],
   "source": [
    "import numpy as np\n",
    "import pandas as pd\n",
    "import matplotlib.pyplot as plt\n",
    "from sklearn.metrics import confusion_matrix, classification_report, ConfusionMatrixDisplay\n",
    "from neural_network_improved import NeuralNetwork"
   ]
  },
  {
   "cell_type": "markdown",
   "metadata": {},
   "source": [
    "Datei mit Bildern laden:"
   ]
  },
  {
   "cell_type": "code",
   "execution_count": 2,
   "metadata": {},
   "outputs": [
    {
     "data": {
      "text/html": [
       "<div>\n",
       "<style scoped>\n",
       "    .dataframe tbody tr th:only-of-type {\n",
       "        vertical-align: middle;\n",
       "    }\n",
       "\n",
       "    .dataframe tbody tr th {\n",
       "        vertical-align: top;\n",
       "    }\n",
       "\n",
       "    .dataframe thead th {\n",
       "        text-align: right;\n",
       "    }\n",
       "</style>\n",
       "<table border=\"1\" class=\"dataframe\">\n",
       "  <thead>\n",
       "    <tr style=\"text-align: right;\">\n",
       "      <th></th>\n",
       "      <th>0</th>\n",
       "      <th>1</th>\n",
       "      <th>2</th>\n",
       "      <th>3</th>\n",
       "      <th>4</th>\n",
       "      <th>5</th>\n",
       "      <th>6</th>\n",
       "      <th>7</th>\n",
       "      <th>8</th>\n",
       "      <th>9</th>\n",
       "      <th>...</th>\n",
       "      <th>55</th>\n",
       "      <th>56</th>\n",
       "      <th>57</th>\n",
       "      <th>58</th>\n",
       "      <th>59</th>\n",
       "      <th>60</th>\n",
       "      <th>61</th>\n",
       "      <th>62</th>\n",
       "      <th>63</th>\n",
       "      <th>64</th>\n",
       "    </tr>\n",
       "  </thead>\n",
       "  <tbody>\n",
       "    <tr>\n",
       "      <th>0</th>\n",
       "      <td>0</td>\n",
       "      <td>0</td>\n",
       "      <td>5</td>\n",
       "      <td>13</td>\n",
       "      <td>9</td>\n",
       "      <td>1</td>\n",
       "      <td>0</td>\n",
       "      <td>0</td>\n",
       "      <td>0</td>\n",
       "      <td>0</td>\n",
       "      <td>...</td>\n",
       "      <td>0</td>\n",
       "      <td>0</td>\n",
       "      <td>0</td>\n",
       "      <td>6</td>\n",
       "      <td>13</td>\n",
       "      <td>10</td>\n",
       "      <td>0</td>\n",
       "      <td>0</td>\n",
       "      <td>0</td>\n",
       "      <td>0</td>\n",
       "    </tr>\n",
       "    <tr>\n",
       "      <th>1</th>\n",
       "      <td>0</td>\n",
       "      <td>0</td>\n",
       "      <td>0</td>\n",
       "      <td>12</td>\n",
       "      <td>13</td>\n",
       "      <td>5</td>\n",
       "      <td>0</td>\n",
       "      <td>0</td>\n",
       "      <td>0</td>\n",
       "      <td>0</td>\n",
       "      <td>...</td>\n",
       "      <td>0</td>\n",
       "      <td>0</td>\n",
       "      <td>0</td>\n",
       "      <td>0</td>\n",
       "      <td>11</td>\n",
       "      <td>16</td>\n",
       "      <td>10</td>\n",
       "      <td>0</td>\n",
       "      <td>0</td>\n",
       "      <td>1</td>\n",
       "    </tr>\n",
       "    <tr>\n",
       "      <th>2</th>\n",
       "      <td>0</td>\n",
       "      <td>0</td>\n",
       "      <td>0</td>\n",
       "      <td>4</td>\n",
       "      <td>15</td>\n",
       "      <td>12</td>\n",
       "      <td>0</td>\n",
       "      <td>0</td>\n",
       "      <td>0</td>\n",
       "      <td>0</td>\n",
       "      <td>...</td>\n",
       "      <td>0</td>\n",
       "      <td>0</td>\n",
       "      <td>0</td>\n",
       "      <td>0</td>\n",
       "      <td>3</td>\n",
       "      <td>11</td>\n",
       "      <td>16</td>\n",
       "      <td>9</td>\n",
       "      <td>0</td>\n",
       "      <td>2</td>\n",
       "    </tr>\n",
       "    <tr>\n",
       "      <th>3</th>\n",
       "      <td>0</td>\n",
       "      <td>0</td>\n",
       "      <td>7</td>\n",
       "      <td>15</td>\n",
       "      <td>13</td>\n",
       "      <td>1</td>\n",
       "      <td>0</td>\n",
       "      <td>0</td>\n",
       "      <td>0</td>\n",
       "      <td>8</td>\n",
       "      <td>...</td>\n",
       "      <td>0</td>\n",
       "      <td>0</td>\n",
       "      <td>0</td>\n",
       "      <td>7</td>\n",
       "      <td>13</td>\n",
       "      <td>13</td>\n",
       "      <td>9</td>\n",
       "      <td>0</td>\n",
       "      <td>0</td>\n",
       "      <td>3</td>\n",
       "    </tr>\n",
       "    <tr>\n",
       "      <th>4</th>\n",
       "      <td>0</td>\n",
       "      <td>0</td>\n",
       "      <td>0</td>\n",
       "      <td>1</td>\n",
       "      <td>11</td>\n",
       "      <td>0</td>\n",
       "      <td>0</td>\n",
       "      <td>0</td>\n",
       "      <td>0</td>\n",
       "      <td>0</td>\n",
       "      <td>...</td>\n",
       "      <td>0</td>\n",
       "      <td>0</td>\n",
       "      <td>0</td>\n",
       "      <td>0</td>\n",
       "      <td>2</td>\n",
       "      <td>16</td>\n",
       "      <td>4</td>\n",
       "      <td>0</td>\n",
       "      <td>0</td>\n",
       "      <td>4</td>\n",
       "    </tr>\n",
       "  </tbody>\n",
       "</table>\n",
       "<p>5 rows × 65 columns</p>\n",
       "</div>"
      ],
      "text/plain": [
       "   0   1   2   3   4   5   6   7   8   9   ...  55  56  57  58  59  60  61  \\\n",
       "0   0   0   5  13   9   1   0   0   0   0  ...   0   0   0   6  13  10   0   \n",
       "1   0   0   0  12  13   5   0   0   0   0  ...   0   0   0   0  11  16  10   \n",
       "2   0   0   0   4  15  12   0   0   0   0  ...   0   0   0   0   3  11  16   \n",
       "3   0   0   7  15  13   1   0   0   0   8  ...   0   0   0   7  13  13   9   \n",
       "4   0   0   0   1  11   0   0   0   0   0  ...   0   0   0   0   2  16   4   \n",
       "\n",
       "   62  63  64  \n",
       "0   0   0   0  \n",
       "1   0   0   1  \n",
       "2   9   0   2  \n",
       "3   0   0   3  \n",
       "4   0   0   4  \n",
       "\n",
       "[5 rows x 65 columns]"
      ]
     },
     "execution_count": 2,
     "metadata": {},
     "output_type": "execute_result"
    }
   ],
   "source": [
    "df = pd.read_csv(\"digits.csv\", header=None)\n",
    "df.head()"
   ]
  },
  {
   "cell_type": "markdown",
   "metadata": {},
   "source": [
    "Label von Bilddaten trennen:"
   ]
  },
  {
   "cell_type": "code",
   "execution_count": 3,
   "metadata": {},
   "outputs": [
    {
     "data": {
      "text/plain": [
       "((1797, 64), (1797,))"
      ]
     },
     "execution_count": 3,
     "metadata": {},
     "output_type": "execute_result"
    }
   ],
   "source": [
    "y = df.iloc[:,-1].to_numpy()  # Extrahiert die letzte Spalte des DataFrames als NumPy-Array (Zielvariable/Labels)\n",
    "X = df.iloc[:,:-1].to_numpy()  # Extrahiert alle Spalten außer der letzten als NumPy-Array (Eingabedaten/Merkmale)\n",
    "\n",
    "X.shape, y.shape  # Gibt die Dimensionen von X (Feature-Matrix) und y (Zielvariable) zurück\n"
   ]
  },
  {
   "cell_type": "markdown",
   "metadata": {},
   "source": [
    "Funktion zur Ausgabe eines Bilds:"
   ]
  },
  {
   "cell_type": "code",
   "execution_count": 4,
   "metadata": {},
   "outputs": [],
   "source": [
    "def show_images(X_rows, img_size=(8, 8), cols=5, scale=1, true_labels=None, pred_labels=None):\n",
    "    \"\"\"\n",
    "    Zeigt ein oder mehrere Bilder mit optionalen True- und Pred-Labels an.\n",
    "\n",
    "    Parameter:\n",
    "    - X_rows: Eine einzelne Zeile oder mehrere Zeilen mit Pixelwerten.\n",
    "    - img_size: Tuple (Höhe, Breite) der Bilder. Standard: (8, 8).\n",
    "    - cols: Anzahl der Spalten in der Anzeige, falls mehrere Bilder dargestellt werden.\n",
    "    - scale: Skaliert die Größe der gesamten Figure. Standard: 1.0 (unverändert).\n",
    "    - true_labels: (Optional) Liste oder NumPy-Array mit wahren Labels.\n",
    "    - pred_labels: (Optional) Liste oder NumPy-Array mit vorhergesagten Labels.\n",
    "    \"\"\"\n",
    "    import matplotlib.pyplot as plt\n",
    "    import numpy as np\n",
    "\n",
    "    # Falls nur eine Zeile gegeben ist, in eine Liste umwandeln\n",
    "    if len(np.shape(X_rows)) == 1:\n",
    "        X_rows = [X_rows]\n",
    "\n",
    "    num_images = len(X_rows)\n",
    "    rows = (num_images // cols) + int(num_images % cols > 0)  # Berechnung der Zeilenanzahl\n",
    "\n",
    "    # Kleinere Bilder durch Multiplikation mit `scale`\n",
    "    fig, axes = plt.subplots(rows, cols, figsize=(cols * 1.5 * scale, rows * 1.5 * scale))\n",
    "    axes = np.array(axes).reshape(-1)  # Falls nur eine Zeile, Umwandlung in 1D-Array\n",
    "\n",
    "    for i, (ax, img) in enumerate(zip(axes, X_rows)):\n",
    "        img_array = np.array(img).reshape(img_size)  # Zeile in Bild umwandeln\n",
    "        ax.imshow(img_array, cmap='gray')  # Bild anzeigen\n",
    "        ax.axis(\"off\")  # Achsen ausblenden\n",
    "\n",
    "        # Falls Labels angegeben sind, aber numerisch → In String konvertieren\n",
    "        true_label = str(true_labels[i]) if (true_labels is not None and i < len(true_labels)) else None\n",
    "        pred_label = str(pred_labels[i]) if (pred_labels is not None and i < len(pred_labels)) else None\n",
    "\n",
    "        # Titel-Format \"true: X pred: Y\", aber flexibel\n",
    "        title = \"\"\n",
    "        if true_label is not None:\n",
    "            title += f\"True: {true_label} \"\n",
    "        if pred_label is not None:\n",
    "            title += f\"Pred: {pred_label}\"\n",
    "\n",
    "        if title:\n",
    "            ax.set_title(title.strip(), fontsize=8 * scale)  # Schriftgröße skalieren\n",
    "\n",
    "    # Falls mehr Subplots als Bilder vorhanden sind, leere Plots verstecken\n",
    "    for j in range(i + 1, len(axes)):\n",
    "        axes[j].axis(\"off\")\n",
    "\n",
    "    plt.show()"
   ]
  },
  {
   "cell_type": "markdown",
   "metadata": {},
   "source": [
    "Die ersten 10 Bilder ausgeben:"
   ]
  },
  {
   "cell_type": "code",
   "execution_count": 5,
   "metadata": {},
   "outputs": [
    {
     "data": {
      "image/png": "[encoded data removed]",
      "text/plain": [
       "<Figure size 750x300 with 10 Axes>"
      ]
     },
     "metadata": {},
     "output_type": "display_data"
    }
   ],
   "source": [
    "show_images(X[:10])"
   ]
  },
  {
   "cell_type": "code",
   "execution_count": null,
   "metadata": {},
   "outputs": [],
   "source": [
    "model = NeuralNetwork(4, 10, 3, learning_rate=0.0005, epochs=200, activation=\"tanh\", random_state=42)"
   ]
  },
  {
   "cell_type": "code",
   "execution_count": 7,
   "metadata": {},
   "outputs": [],
   "source": [
    "model = NeuralNetwork(64, 256, 10, learning_rate = 0.0005, epochs=200, activation=\"tanh\", random_state=42)\n",
    "X_test, y_test, X_train, y_train = model.prepare(X, y, test_ratio = 0.1)"
   ]
  },
  {
   "cell_type": "code",
   "execution_count": 9,
   "metadata": {},
   "outputs": [
    {
     "name": "stdout",
     "output_type": "stream",
     "text": [
      "Epoch 0: Fortschritt 1617/1617\n",
      "Epoch 1: Fortschritt 1617/1617\n",
      "Epoch 2: Fortschritt 1617/1617\n",
      "Epoch 3: Fortschritt 1617/1617\n",
      "Epoch 4: Fortschritt 1617/1617\n",
      "Epoch 5: Fortschritt 1617/1617\n",
      "Epoch 6: Fortschritt 1617/1617\n",
      "Epoch 7: Fortschritt 1617/1617\n",
      "Epoch 8: Fortschritt 1617/1617\n",
      "Epoch 9: Fortschritt 1617/1617\n",
      "Epoch 10: Fortschritt 1617/1617\n",
      "Epoch 11: Fortschritt 1617/1617\n",
      "Epoch 12: Fortschritt 1617/1617\n",
      "Epoch 13: Fortschritt 1617/1617\n",
      "Epoch 14: Fortschritt 1617/1617\n",
      "Epoch 15: Fortschritt 1617/1617\n",
      "Epoch 16: Fortschritt 1617/1617\n",
      "Epoch 17: Fortschritt 1617/1617\n",
      "Epoch 18: Fortschritt 1617/1617\n",
      "Epoch 19: Fortschritt 1617/1617\n",
      "Epoch 20: Fortschritt 1617/1617\n",
      "Epoch 21: Fortschritt 1617/1617\n",
      "Epoch 22: Fortschritt 1617/1617\n",
      "Epoch 23: Fortschritt 1617/1617\n",
      "Epoch 24: Fortschritt 1617/1617\n",
      "Epoch 25: Fortschritt 1617/1617\n",
      "Epoch 26: Fortschritt 1617/1617\n",
      "Epoch 27: Fortschritt 1617/1617\n",
      "Epoch 28: Fortschritt 1617/1617\n",
      "Epoch 29: Fortschritt 1617/1617\n",
      "Epoch 30: Fortschritt 1617/1617\n",
      "Epoch 31: Fortschritt 1617/1617\n",
      "Epoch 32: Fortschritt 1617/1617\n",
      "Epoch 33: Fortschritt 1617/1617\n",
      "Epoch 34: Fortschritt 1617/1617\n",
      "Epoch 35: Fortschritt 1617/1617\n",
      "Epoch 36: Fortschritt 1617/1617\n",
      "Epoch 37: Fortschritt 1617/1617\n",
      "Epoch 38: Fortschritt 1617/1617\n",
      "Epoch 39: Fortschritt 1617/1617\n",
      "Epoch 40: Fortschritt 1617/1617\n",
      "Epoch 41: Fortschritt 1617/1617\n",
      "Epoch 42: Fortschritt 1617/1617\n",
      "Epoch 43: Fortschritt 1617/1617\n",
      "Epoch 44: Fortschritt 1617/1617\n",
      "Epoch 45: Fortschritt 1617/1617\n",
      "Epoch 46: Fortschritt 1617/1617\n",
      "Epoch 47: Fortschritt 1617/1617\n",
      "Epoch 48: Fortschritt 1617/1617\n",
      "Epoch 49: Fortschritt 1617/1617\n",
      "Epoch 50: Fortschritt 1617/1617\n",
      "Epoch 51: Fortschritt 1617/1617\n",
      "Epoch 52: Fortschritt 1617/1617\n",
      "Epoch 53: Fortschritt 1617/1617\n",
      "Epoch 54: Fortschritt 1617/1617\n",
      "Epoch 55: Fortschritt 1617/1617\n",
      "Epoch 56: Fortschritt 1617/1617\n",
      "Epoch 57: Fortschritt 1617/1617\n",
      "Epoch 58: Fortschritt 1617/1617\n",
      "Epoch 59: Fortschritt 1617/1617\n",
      "Epoch 60: Fortschritt 1617/1617\n",
      "Epoch 61: Fortschritt 1617/1617\n",
      "Epoch 62: Fortschritt 1617/1617\n",
      "Epoch 63: Fortschritt 1617/1617\n",
      "Epoch 64: Fortschritt 1617/1617\n",
      "Epoch 65: Fortschritt 304/1617"
     ]
    },
    {
     "ename": "KeyboardInterrupt",
     "evalue": "",
     "output_type": "error",
     "traceback": [
      "\u001b[1;31m---------------------------------------------------------------------------\u001b[0m",
      "\u001b[1;31mKeyboardInterrupt\u001b[0m                         Traceback (most recent call last)",
      "Cell \u001b[1;32mIn[9], line 1\u001b[0m\n\u001b[1;32m----> 1\u001b[0m \u001b[43mmodel\u001b[49m\u001b[38;5;241;43m.\u001b[39;49m\u001b[43mfit\u001b[49m\u001b[43m(\u001b[49m\u001b[43mX_test\u001b[49m\u001b[43m,\u001b[49m\u001b[43m \u001b[49m\u001b[43my_test\u001b[49m\u001b[43m)\u001b[49m\n",
      "File \u001b[1;32mc:\\Users\\NataliaArchipenko\\Desktop\\Python\\06.02 KNN,\\neural_network_improved.py:119\u001b[0m, in \u001b[0;36mNeuralNetwork.fit\u001b[1;34m(self, inputs, targets)\u001b[0m\n\u001b[0;32m    114\u001b[0m     \u001b[38;5;28mself\u001b[39m\u001b[38;5;241m.\u001b[39mhidden_to_output \u001b[38;5;241m+\u001b[39m\u001b[38;5;241m=\u001b[39m \u001b[38;5;28mself\u001b[39m\u001b[38;5;241m.\u001b[39mlearning_rate \u001b[38;5;241m*\u001b[39m np\u001b[38;5;241m.\u001b[39mdot(\n\u001b[0;32m    115\u001b[0m         output_error \u001b[38;5;241m*\u001b[39m \u001b[38;5;28mself\u001b[39m\u001b[38;5;241m.\u001b[39mactivation_derivative(output_out), hidden_out\u001b[38;5;241m.\u001b[39mT\n\u001b[0;32m    116\u001b[0m     )\n\u001b[0;32m    117\u001b[0m     \u001b[38;5;28mself\u001b[39m\u001b[38;5;241m.\u001b[39mbias_output \u001b[38;5;241m+\u001b[39m\u001b[38;5;241m=\u001b[39m \u001b[38;5;28mself\u001b[39m\u001b[38;5;241m.\u001b[39mlearning_rate \u001b[38;5;241m*\u001b[39m (output_error \u001b[38;5;241m*\u001b[39m \u001b[38;5;28mself\u001b[39m\u001b[38;5;241m.\u001b[39mactivation_derivative(output_out))\n\u001b[1;32m--> 119\u001b[0m     \u001b[38;5;28mself\u001b[39m\u001b[38;5;241m.\u001b[39minput_to_hidden \u001b[38;5;241m+\u001b[39m\u001b[38;5;241m=\u001b[39m \u001b[38;5;28mself\u001b[39m\u001b[38;5;241m.\u001b[39mlearning_rate \u001b[38;5;241m*\u001b[39m \u001b[43mnp\u001b[49m\u001b[38;5;241;43m.\u001b[39;49m\u001b[43mdot\u001b[49m\u001b[43m(\u001b[49m\n\u001b[0;32m    120\u001b[0m \u001b[43m        \u001b[49m\u001b[43mhidden_error\u001b[49m\u001b[43m \u001b[49m\u001b[38;5;241;43m*\u001b[39;49m\u001b[43m \u001b[49m\u001b[38;5;28;43mself\u001b[39;49m\u001b[38;5;241;43m.\u001b[39;49m\u001b[43mactivation_derivative\u001b[49m\u001b[43m(\u001b[49m\u001b[43mhidden_out\u001b[49m\u001b[43m)\u001b[49m\u001b[43m,\u001b[49m\u001b[43m \u001b[49m\u001b[43minp\u001b[49m\u001b[38;5;241;43m.\u001b[39;49m\u001b[43mT\u001b[49m\n\u001b[0;32m    121\u001b[0m \u001b[43m    \u001b[49m\u001b[43m)\u001b[49m\n\u001b[0;32m    122\u001b[0m     \u001b[38;5;28mself\u001b[39m\u001b[38;5;241m.\u001b[39mbias_hidden \u001b[38;5;241m+\u001b[39m\u001b[38;5;241m=\u001b[39m \u001b[38;5;28mself\u001b[39m\u001b[38;5;241m.\u001b[39mlearning_rate \u001b[38;5;241m*\u001b[39m (hidden_error \u001b[38;5;241m*\u001b[39m \u001b[38;5;28mself\u001b[39m\u001b[38;5;241m.\u001b[39mactivation_derivative(hidden_out))\n\u001b[0;32m    124\u001b[0m \u001b[38;5;28;01mif\u001b[39;00m \u001b[38;5;28mself\u001b[39m\u001b[38;5;241m.\u001b[39mverbose:\n",
      "\u001b[1;31mKeyboardInterrupt\u001b[0m: "
     ]
    }
   ],
   "source": [
    "model.fit(X_test, y_test)"
   ]
  },
  {
   "cell_type": "code",
   "execution_count": 11,
   "metadata": {},
   "outputs": [
    {
     "name": "stdout",
     "output_type": "stream",
     "text": [
      "1604 korrekte Vorhersagen (99.19604205318491%).\n"
     ]
    }
   ],
   "source": [
    "correct, percent, y_pred = model.predict(X_test, targets = y_test)\n",
    "print(f\"{correct} korrekte Vorhersagen ({percent}%).\")"
   ]
  },
  {
   "cell_type": "code",
   "execution_count": 35,
   "metadata": {},
   "outputs": [
    {
     "data": {
      "text/plain": [
       "{'input_neurons': 64,\n",
       " 'hidden_neurons': 256,\n",
       " 'output_neurons': 10,\n",
       " 'learning_rate': 0.0005,\n",
       " 'epochs': 2000,\n",
       " 'categories': [np.int64(0),\n",
       "  np.int64(1),\n",
       "  np.int64(2),\n",
       "  np.int64(3),\n",
       "  np.int64(4),\n",
       "  np.int64(5),\n",
       "  np.int64(6),\n",
       "  np.int64(7),\n",
       "  np.int64(8),\n",
       "  np.int64(9)],\n",
       " 'random_state': 42,\n",
       " 'verbose': True}"
      ]
     },
     "execution_count": 35,
     "metadata": {},
     "output_type": "execute_result"
    }
   ],
   "source": [
    "model.get_params()"
   ]
  },
  {
   "cell_type": "code",
   "execution_count": 20,
   "metadata": {},
   "outputs": [],
   "source": [
    "y_true = np.argmax(y_test, axis=1)"
   ]
  },
  {
   "cell_type": "code",
   "execution_count": 21,
   "metadata": {},
   "outputs": [
    {
     "data": {
      "image/png": "[encoded data removed]",
      "text/plain": [
       "<Figure size 600x600 with 1 Axes>"
      ]
     },
     "metadata": {},
     "output_type": "display_data"
    },
    {
     "name": "stdout",
     "output_type": "stream",
     "text": [
      "Classification Report:\n",
      "              precision    recall  f1-score   support\n",
      "\n",
      "           0       1.00      1.00      1.00       161\n",
      "           1       0.99      1.00      1.00       171\n",
      "           2       1.00      1.00      1.00       160\n",
      "           3       1.00      0.98      0.99       166\n",
      "           4       1.00      0.99      0.99       156\n",
      "           5       0.99      0.98      0.98       160\n",
      "           6       0.99      0.99      0.99       162\n",
      "           7       0.99      0.99      0.99       160\n",
      "           8       0.97      1.00      0.98       166\n",
      "           9       0.99      0.99      0.99       155\n",
      "\n",
      "    accuracy                           0.99      1617\n",
      "   macro avg       0.99      0.99      0.99      1617\n",
      "weighted avg       0.99      0.99      0.99      1617\n",
      "\n"
     ]
    }
   ],
   "source": [
    "cm = confusion_matrix(y_true, y_pred)\n",
    "\n",
    "disp = ConfusionMatrixDisplay(confusion_matrix=cm) #, display_labels=class_labels)\n",
    "fig, ax = plt.subplots(figsize=(6, 6))\n",
    "disp.plot(ax=ax, cmap=\"Blues\", colorbar=False)\n",
    "plt.title(\"Confusion Matrix\")\n",
    "plt.show()\n",
    "\n",
    "# Classification Report ausgeben\n",
    "print(\"Classification Report:\")\n",
    "print(classification_report(y_true, y_pred)) #, target_names=class_labels))"
   ]
  },
  {
   "cell_type": "markdown",
   "metadata": {},
   "source": [
    "Falsch klassifizierte Biler anzeigen:"
   ]
  },
  {
   "cell_type": "code",
   "execution_count": 32,
   "metadata": {},
   "outputs": [
    {
     "data": {
      "text/plain": [
       "array([ 159,  251,  336,  418,  556,  614,  647,  770,  806,  821,  941,\n",
       "       1225, 1502])"
      ]
     },
     "execution_count": 32,
     "metadata": {},
     "output_type": "execute_result"
    }
   ],
   "source": [
    "wrong_pred_indices = np.where(y_pred != y_true)[0]\n",
    "wrong_pred_indices"
   ]
  },
  {
   "cell_type": "code",
   "execution_count": 40,
   "metadata": {},
   "outputs": [
    {
     "data": {
      "image/png": "[encoded data removed]",
      "text/plain": [
       "<Figure size 675x405 with 15 Axes>"
      ]
     },
     "metadata": {},
     "output_type": "display_data"
    }
   ],
   "source": [
    "show_images([X_test[i] for i in wrong_pred_indices],\n",
    "            true_labels=[y_true[j] for j in wrong_pred_indices], \n",
    "            pred_labels=[y_pred[k] for k in wrong_pred_indices],\n",
    "            scale=.9)"
   ]
  },
  {
   "cell_type": "code",
   "execution_count": null,
   "metadata": {},
   "outputs": [],
   "source": []
  }
 ],
 "metadata": {
  "kernelspec": {
   "display_name": "Python 3",
   "language": "python",
   "name": "python3"
  },
  "language_info": {
   "codemirror_mode": {
    "name": "ipython",
    "version": 3
   },
   "file_extension": ".py",
   "mimetype": "text/x-python",
   "name": "python",
   "nbconvert_exporter": "python",
   "pygments_lexer": "ipython3",
   "version": "3.12.4"
  }
 },
 "nbformat": 4,
 "nbformat_minor": 2
}
