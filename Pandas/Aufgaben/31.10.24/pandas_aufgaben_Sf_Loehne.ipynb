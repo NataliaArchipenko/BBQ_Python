{
 "cells": [
  {
   "cell_type": "markdown",
   "metadata": {},
   "source": [
    "# SF Löhne Übung - Aufgabe\n",
    "\n",
    "Willkommen zurück zu einer kleinen Übungseinheit zur Daten Analyse mit Pandas. Wir werden dafür den [Lohndatensatz von San Francisco](https://www.kaggle.com/kaggle/sf-salaries) nutzen, der auf Kaggle bereitgestellt wird. \n",
    "\n",
    "Folgt dem Notebook und bearbeitet die **Aufgabenstellung** der Reihenfolge nach."
   ]
  },
  {
   "cell_type": "markdown",
   "metadata": {},
   "source": [
    "**Importiere pandas als pd.**"
   ]
  },
  {
   "cell_type": "code",
   "execution_count": 5,
   "metadata": {
    "collapsed": true
   },
   "outputs": [],
   "source": [
    "import pandas as pd"
   ]
  },
  {
   "cell_type": "markdown",
   "metadata": {},
   "source": [
    "**Lese Salaries.csv als Dataframe namens sal ein.**\n",
    "\n",
    "**Hinweis:** Die Datei *Salaries.csv* liegt im diesem Übungungsheft anbei. Wenn du diese von Kaggle herunterlädst dann muss du die Daten noch etwas anpassen."
   ]
  },
  {
   "cell_type": "code",
   "execution_count": 6,
   "metadata": {
    "collapsed": true
   },
   "outputs": [
    {
     "name": "stdout",
     "output_type": "stream",
     "text": [
      "   Id       EmployeeName                                        JobTitle  \\\n",
      "0   1     NATHANIEL FORD  GENERAL MANAGER-METROPOLITAN TRANSIT AUTHORITY   \n",
      "1   2       GARY JIMENEZ                 CAPTAIN III (POLICE DEPARTMENT)   \n",
      "2   3     ALBERT PARDINI                 CAPTAIN III (POLICE DEPARTMENT)   \n",
      "3   4  CHRISTOPHER CHONG            WIRE ROPE CABLE MAINTENANCE MECHANIC   \n",
      "4   5    PATRICK GARDNER    DEPUTY CHIEF OF DEPARTMENT,(FIRE DEPARTMENT)   \n",
      "\n",
      "     BasePay  OvertimePay   OtherPay  Benefits   TotalPay  TotalPayBenefits  \\\n",
      "0  167411.18         0.00  400184.25       NaN  567595.43         567595.43   \n",
      "1  155966.02    245131.88  137811.38       NaN  538909.28         538909.28   \n",
      "2  212739.13    106088.18   16452.60       NaN  335279.91         335279.91   \n",
      "3   77916.00     56120.71  198306.90       NaN  332343.61         332343.61   \n",
      "4  134401.60      9737.00  182234.59       NaN  326373.19         326373.19   \n",
      "\n",
      "   Year  Notes         Agency  Status  \n",
      "0  2011    NaN  San Francisco     NaN  \n",
      "1  2011    NaN  San Francisco     NaN  \n",
      "2  2011    NaN  San Francisco     NaN  \n",
      "3  2011    NaN  San Francisco     NaN  \n",
      "4  2011    NaN  San Francisco     NaN  \n"
     ]
    }
   ],
   "source": [
    "sal = pd.read_csv('Salaries.csv')\n",
    "print(sal.head(5))"
   ]
  },
  {
   "cell_type": "markdown",
   "metadata": {},
   "source": [
    "**Sieh dir den *head* des Dataframe an.**"
   ]
  },
  {
   "cell_type": "code",
   "execution_count": 7,
   "metadata": {},
   "outputs": [
    {
     "name": "stdout",
     "output_type": "stream",
     "text": [
      "   Id       EmployeeName                                        JobTitle  \\\n",
      "0   1     NATHANIEL FORD  GENERAL MANAGER-METROPOLITAN TRANSIT AUTHORITY   \n",
      "1   2       GARY JIMENEZ                 CAPTAIN III (POLICE DEPARTMENT)   \n",
      "2   3     ALBERT PARDINI                 CAPTAIN III (POLICE DEPARTMENT)   \n",
      "3   4  CHRISTOPHER CHONG            WIRE ROPE CABLE MAINTENANCE MECHANIC   \n",
      "4   5    PATRICK GARDNER    DEPUTY CHIEF OF DEPARTMENT,(FIRE DEPARTMENT)   \n",
      "\n",
      "     BasePay  OvertimePay   OtherPay  Benefits   TotalPay  TotalPayBenefits  \\\n",
      "0  167411.18         0.00  400184.25       NaN  567595.43         567595.43   \n",
      "1  155966.02    245131.88  137811.38       NaN  538909.28         538909.28   \n",
      "2  212739.13    106088.18   16452.60       NaN  335279.91         335279.91   \n",
      "3   77916.00     56120.71  198306.90       NaN  332343.61         332343.61   \n",
      "4  134401.60      9737.00  182234.59       NaN  326373.19         326373.19   \n",
      "\n",
      "   Year  Notes         Agency  Status  \n",
      "0  2011    NaN  San Francisco     NaN  \n",
      "1  2011    NaN  San Francisco     NaN  \n",
      "2  2011    NaN  San Francisco     NaN  \n",
      "3  2011    NaN  San Francisco     NaN  \n",
      "4  2011    NaN  San Francisco     NaN  \n"
     ]
    }
   ],
   "source": [
    "print(sal.head())"
   ]
  },
  {
   "cell_type": "markdown",
   "metadata": {},
   "source": [
    "**Nutze die `info()` Methode, um herauszufinden, wie viele Einträge es gibt.**"
   ]
  },
  {
   "cell_type": "code",
   "execution_count": 8,
   "metadata": {},
   "outputs": [
    {
     "name": "stdout",
     "output_type": "stream",
     "text": [
      "<class 'pandas.core.frame.DataFrame'>\n",
      "RangeIndex: 148654 entries, 0 to 148653\n",
      "Data columns (total 13 columns):\n",
      " #   Column            Non-Null Count   Dtype  \n",
      "---  ------            --------------   -----  \n",
      " 0   Id                148654 non-null  int64  \n",
      " 1   EmployeeName      148654 non-null  object \n",
      " 2   JobTitle          148654 non-null  object \n",
      " 3   BasePay           148045 non-null  float64\n",
      " 4   OvertimePay       148650 non-null  float64\n",
      " 5   OtherPay          148650 non-null  float64\n",
      " 6   Benefits          112491 non-null  float64\n",
      " 7   TotalPay          148654 non-null  float64\n",
      " 8   TotalPayBenefits  148654 non-null  float64\n",
      " 9   Year              148654 non-null  int64  \n",
      " 10  Notes             0 non-null       float64\n",
      " 11  Agency            148654 non-null  object \n",
      " 12  Status            0 non-null       float64\n",
      "dtypes: float64(8), int64(2), object(3)\n",
      "memory usage: 14.7+ MB\n"
     ]
    }
   ],
   "source": [
    "sal.info()"
   ]
  },
  {
   "cell_type": "markdown",
   "metadata": {},
   "source": [
    "**Was ist der durchschnittliche Grundlohn (en. BasePay)?**"
   ]
  },
  {
   "cell_type": "code",
   "execution_count": 9,
   "metadata": {},
   "outputs": [
    {
     "name": "stdout",
     "output_type": "stream",
     "text": [
      "Der durchschnittliche Grundlohn ist 66325.45 Euro\n"
     ]
    }
   ],
   "source": [
    "print(f'Der durchschnittliche Grundlohn ist {sal['BasePay'].mean():.2f} Euro') "
   ]
  },
  {
   "cell_type": "markdown",
   "metadata": {},
   "source": [
    "**Was ist der höchste Überstundenlohn (en. OvertimePay), der im Datensatz festgehalten ist?**"
   ]
  },
  {
   "cell_type": "code",
   "execution_count": 10,
   "metadata": {},
   "outputs": [
    {
     "name": "stdout",
     "output_type": "stream",
     "text": [
      "Der höchste Überstundenlohn ist 245131.88 Euro\n"
     ]
    }
   ],
   "source": [
    "print(f'Der höchste Überstundenlohn ist {sal['OvertimePay'].max():.2f} Euro') \n"
   ]
  },
  {
   "cell_type": "markdown",
   "metadata": {},
   "source": [
    "**Wie lautet die Berufsbezeichnung (en. JobTitle) von JOSEPH DRISCOLL?**\n",
    "\n",
    "*Achtung: Beim Namen nur Großbuchstaben vernwenden!*<br>\n",
    "**Hinweis**: Auswahl funktioniert ähnlich wie bei `numpy` arrays, eine Bedinung wird über jedes Element geprüft und liefert eine boolsche Series. Mit dieser können dann die Daten gefiltert werden."
   ]
  },
  {
   "cell_type": "code",
   "execution_count": 11,
   "metadata": {},
   "outputs": [
    {
     "name": "stdout",
     "output_type": "stream",
     "text": [
      "Die Berufsbezeichnung von Joseph Driscoll ist\n",
      "24    CAPTAIN, FIRE SUPPRESSION\n",
      "Name: JobTitle, dtype: object\n"
     ]
    }
   ],
   "source": [
    "job_title = sal[sal['EmployeeName'] == 'JOSEPH DRISCOLL']['JobTitle']\n",
    "print(f'Die Berufsbezeichnung von Joseph Driscoll ist\\n{job_title}')\n"
   ]
  },
  {
   "cell_type": "markdown",
   "metadata": {},
   "source": [
    "**Wie viel verdient JOSEPH DRISCOLL (inkl. Zusatleistungen (en. Benefits))?**<br><br>\n",
    "**Hinweis:** Erst entsprechnde Zeile bestimmen (filtern wie oben), dann Wert ausgeben"
   ]
  },
  {
   "cell_type": "code",
   "execution_count": 12,
   "metadata": {},
   "outputs": [
    {
     "name": "stdout",
     "output_type": "stream",
     "text": [
      "JOSEPH DRISCOLL verdient 270324.91 Euro\n"
     ]
    }
   ],
   "source": [
    "gehalt = sal[sal['EmployeeName'] == 'JOSEPH DRISCOLL']['TotalPayBenefits'].values[0]\n",
    "print(f'JOSEPH DRISCOLL verdient {gehalt:.2f} Euro')\n"
   ]
  },
  {
   "cell_type": "markdown",
   "metadata": {},
   "source": [
    "**Wie heißt die höchstbezahlte Person (inkl. Zusatzleistungen)?**"
   ]
  },
  {
   "cell_type": "code",
   "execution_count": 13,
   "metadata": {},
   "outputs": [
    {
     "name": "stdout",
     "output_type": "stream",
     "text": [
      " Der name der höchstbezahlten Person ist NATHANIEL FORD\n"
     ]
    }
   ],
   "source": [
    "name_hoch_bezalt = sal[sal['TotalPayBenefits'] == sal['TotalPayBenefits'].max()]['EmployeeName'].values[0]\n",
    "print(f' Der name der höchstbezahlten Person ist {name_hoch_bezalt}')"
   ]
  },
  {
   "cell_type": "code",
   "execution_count": 14,
   "metadata": {},
   "outputs": [
    {
     "name": "stdout",
     "output_type": "stream",
     "text": [
      "Id                                                               1\n",
      "EmployeeName                                        NATHANIEL FORD\n",
      "JobTitle            GENERAL MANAGER-METROPOLITAN TRANSIT AUTHORITY\n",
      "BasePay                                                  167411.18\n",
      "OvertimePay                                                    0.0\n",
      "OtherPay                                                 400184.25\n",
      "Benefits                                                       NaN\n",
      "TotalPay                                                 567595.43\n",
      "TotalPayBenefits                                         567595.43\n",
      "Year                                                          2011\n",
      "Notes                                                          NaN\n",
      "Agency                                               San Francisco\n",
      "Status                                                         NaN\n",
      "Name: 0, dtype: object\n"
     ]
    }
   ],
   "source": [
    "#df= pd.DataFrame(sal[sal['EmployeeName'] == 'NATHANIEL FORD'])\n",
    "#df \n",
    "\n",
    "#sal[sal['EmployeeName'] == 'NATHANIEL FORD']\n",
    "\n",
    "print(sal[sal['EmployeeName'] == 'NATHANIEL FORD'].iloc[0])"
   ]
  },
  {
   "cell_type": "markdown",
   "metadata": {},
   "source": [
    "**Wie lautet der Name der am niedrigsten bezahlten Person? Fällt dir etwas merkwürdiges an ihrem Lohn auf?** "
   ]
  },
  {
   "cell_type": "code",
   "execution_count": 25,
   "metadata": {},
   "outputs": [
    {
     "name": "stdout",
     "output_type": "stream",
     "text": [
      "Der Name der niedriegsten bezahlten Person ist Joe Lopez\n",
      "Seine Gehalt ist -618.13 Euro\n"
     ]
    }
   ],
   "source": [
    "name_min_bezalt = sal[sal['TotalPayBenefits'] == sal['TotalPayBenefits'].min()]['EmployeeName'].values[0]\n",
    "print(f'Der Name der niedriegsten bezahlten Person ist {name_min_bezalt}')\n",
    "print(f'Seine Gehalt ist {sal[sal['EmployeeName'] == 'Joe Lopez']['TotalPayBenefits'].values[0]} Euro')\n",
    "\n"
   ]
  },
  {
   "cell_type": "code",
   "execution_count": 24,
   "metadata": {},
   "outputs": [
    {
     "data": {
      "text/plain": [
       "Id                                      148654\n",
       "EmployeeName                         Joe Lopez\n",
       "JobTitle            Counselor, Log Cabin Ranch\n",
       "BasePay                                    0.0\n",
       "OvertimePay                                0.0\n",
       "OtherPay                               -618.13\n",
       "Benefits                                   0.0\n",
       "TotalPay                               -618.13\n",
       "TotalPayBenefits                       -618.13\n",
       "Year                                      2014\n",
       "Notes                                      NaN\n",
       "Agency                           San Francisco\n",
       "Status                                     NaN\n",
       "Name: 148653, dtype: object"
      ]
     },
     "execution_count": 24,
     "metadata": {},
     "output_type": "execute_result"
    }
   ],
   "source": [
    "sal.loc[sal['TotalPayBenefits'].idxmax()]\n",
    "sal.loc[sal['TotalPayBenefits'].idxmin()]\n",
    " "
   ]
  },
  {
   "cell_type": "code",
   "execution_count": 16,
   "metadata": {},
   "outputs": [
    {
     "name": "stdout",
     "output_type": "stream",
     "text": [
      "Id                                      148654\n",
      "EmployeeName                         Joe Lopez\n",
      "JobTitle            Counselor, Log Cabin Ranch\n",
      "BasePay                                    0.0\n",
      "OvertimePay                                0.0\n",
      "OtherPay                               -618.13\n",
      "Benefits                                   0.0\n",
      "TotalPay                               -618.13\n",
      "TotalPayBenefits                       -618.13\n",
      "Year                                      2014\n",
      "Notes                                      NaN\n",
      "Agency                           San Francisco\n",
      "Status                                     NaN\n",
      "Name: 148653, dtype: object\n"
     ]
    }
   ],
   "source": [
    "print(sal[sal['EmployeeName'] == 'Joe Lopez'].iloc[0])\n"
   ]
  },
  {
   "cell_type": "markdown",
   "metadata": {},
   "source": [
    "**Muss NICHT bearbeitet werden, machen wir noch**<br>\n",
    "**Wie ist der durchschnittliche (en. mean) Grundlohn (en. base pay) von allen Angestellten pro Jahr (2011-2014)?**\n",
    "<br><br>\n",
    "**Hinweis:** Erstmal Filter für entsprechende Jahre auf das DataFrame anwenden, dann nach Jahr gruppieren"
   ]
  },
  {
   "cell_type": "code",
   "execution_count": 26,
   "metadata": {},
   "outputs": [
    {
     "name": "stdout",
     "output_type": "stream",
     "text": [
      "Year\n",
      "2011    63595.96\n",
      "2012    65436.41\n",
      "2013    69630.03\n",
      "2014    66564.42\n",
      "Name: BasePay, dtype: float64\n"
     ]
    }
   ],
   "source": [
    "year_filtr = sal[(sal['Year'] <= 2014) & (sal['Year'] >= 2011)]\n",
    "\n",
    "grouped_mean = year_filtr.groupby('Year')['BasePay'].mean().round(2)\n",
    "print(grouped_mean)"
   ]
  },
  {
   "cell_type": "markdown",
   "metadata": {},
   "source": [
    "**Wie viele einzigartige (en. unique) Jobbezeichnungen (en. job titles) gibt es?**"
   ]
  },
  {
   "cell_type": "code",
   "execution_count": 18,
   "metadata": {},
   "outputs": [
    {
     "name": "stdout",
     "output_type": "stream",
     "text": [
      "2159\n"
     ]
    }
   ],
   "source": [
    "job_unik= sal['JobTitle'].unique()\n",
    "anzahl = len(job_unik)\n",
    "print(anzahl)"
   ]
  },
  {
   "cell_type": "markdown",
   "metadata": {},
   "source": [
    "**Was sind die 5 häufigsten Jobs?**"
   ]
  },
  {
   "cell_type": "code",
   "execution_count": 19,
   "metadata": {},
   "outputs": [
    {
     "name": "stdout",
     "output_type": "stream",
     "text": [
      "JobTitle\n",
      "Transit Operator                7036\n",
      "Special Nurse                   4389\n",
      "Registered Nurse                3736\n",
      "Public Svc Aide-Public Works    2518\n",
      "Police Officer 3                2421\n",
      "Name: count, dtype: int64\n"
     ]
    }
   ],
   "source": [
    "anzahl = sal['JobTitle'].value_counts()\n",
    "sort= anzahl.sort_values(ascending=False)\n",
    "print(sort.head(5))"
   ]
  },
  {
   "cell_type": "code",
   "execution_count": 27,
   "metadata": {},
   "outputs": [
    {
     "data": {
      "text/plain": [
       "JobTitle\n",
       "Transit Operator                7036\n",
       "Special Nurse                   4389\n",
       "Registered Nurse                3736\n",
       "Public Svc Aide-Public Works    2518\n",
       "Police Officer 3                2421\n",
       "Name: count, dtype: int64"
      ]
     },
     "execution_count": 27,
     "metadata": {},
     "output_type": "execute_result"
    }
   ],
   "source": [
    "sal['JobTitle'].value_counts().head(5)\n"
   ]
  },
  {
   "cell_type": "code",
   "execution_count": 29,
   "metadata": {},
   "outputs": [
    {
     "data": {
      "text/plain": [
       "np.int64(2421)"
      ]
     },
     "execution_count": 29,
     "metadata": {},
     "output_type": "execute_result"
    }
   ],
   "source": [
    "sal['JobTitle'].value_counts().head(5).sort_index().loc['Police Officer 3']"
   ]
  },
  {
   "cell_type": "markdown",
   "metadata": {},
   "source": [
    "**Wie viele Berufsbezeichnungen (en. job titles) wurden 2013 von nur einer Person getragen?**\n",
    "\n",
    "*Hinweis: Haben nur eine Erscheinung in 2013*<br>\n",
    "`value_counts()` kann benutzt werden um die Vorkommen der einzigartigen Werte zu zählen"
   ]
  },
  {
   "cell_type": "code",
   "execution_count": 20,
   "metadata": {},
   "outputs": [
    {
     "name": "stdout",
     "output_type": "stream",
     "text": [
      "202\n"
     ]
    }
   ],
   "source": [
    "year_filtr = sal[sal['Year'] == 2013]\n",
    "job_anzahl= year_filtr['JobTitle'].value_counts()\n",
    "jobtitel_vor_einer_person = (job_anzahl == 1).sum()\n",
    "print(jobtitel_vor_einer_person)"
   ]
  },
  {
   "cell_type": "code",
   "execution_count": 32,
   "metadata": {},
   "outputs": [
    {
     "data": {
      "text/plain": [
       "202"
      ]
     },
     "execution_count": 32,
     "metadata": {},
     "output_type": "execute_result"
    }
   ],
   "source": [
    "sum(sal[sal['Year']==2013]['JobTitle'].value_counts() == 1)"
   ]
  },
  {
   "cell_type": "markdown",
   "metadata": {},
   "source": [
    "**Wie viele Angestellte tragen ein \"Chief\" in ihrer Berufsbezeichnung?**\n",
    "\n",
    "*Hinweis: Das ist eine etwas schwierigere Aufgabe, nehmt euch etwas Zeit dafür.*<br>\n",
    "**Hinweis:** eigene Funktionen/lambda-Ausdruck definieren und mit `apply()` anwenden"
   ]
  },
  {
   "cell_type": "code",
   "execution_count": 46,
   "metadata": {},
   "outputs": [
    {
     "name": "stdout",
     "output_type": "stream",
     "text": [
      "0\n"
     ]
    }
   ],
   "source": [
    "def chief(job_title):\n",
    "    return 'Chief' in job_title.lower()\n",
    "\n",
    "anzahl_chief = sal['JobTitle'].apply(chief).sum()\n",
    "print(anzahl_chief)\n"
   ]
  },
  {
   "cell_type": "code",
   "execution_count": 42,
   "metadata": {},
   "outputs": [
    {
     "data": {
      "text/plain": [
       "627"
      ]
     },
     "execution_count": 42,
     "metadata": {},
     "output_type": "execute_result"
    }
   ],
   "source": [
    "def chief(job_title):\n",
    "    return isinstance(job_title, str) and 'chief' in job_title.lower()\n",
    "\n",
    "sum(sal['JobTitle'].apply(chief))"
   ]
  },
  {
   "cell_type": "code",
   "execution_count": 36,
   "metadata": {},
   "outputs": [
    {
     "data": {
      "text/plain": [
       "627"
      ]
     },
     "execution_count": 36,
     "metadata": {},
     "output_type": "execute_result"
    }
   ],
   "source": [
    "def chief(job_title):\n",
    "    if 'chief' in job_title.lower():\n",
    "        return True\n",
    "    else:\n",
    "        return False\n",
    "    \n",
    "sum(sal['JobTitle'].apply(chief))"
   ]
  },
  {
   "cell_type": "markdown",
   "metadata": {},
   "source": [
    "**Muss NICHT bearbeitet werden, machen wir noch**<br>\n",
    "**Bonus: Gibt es eine Korrelation zwischen der Länge einer Berufsbezeichnung und dem Lohn?**"
   ]
  },
  {
   "cell_type": "code",
   "execution_count": null,
   "metadata": {},
   "outputs": [
    {
     "ename": "KeyError",
     "evalue": "'titel_len'",
     "output_type": "error",
     "traceback": [
      "\u001b[1;31m---------------------------------------------------------------------------\u001b[0m",
      "\u001b[1;31mKeyError\u001b[0m                                  Traceback (most recent call last)",
      "File \u001b[1;32mc:\\Users\\NataliaArchipenko\\AppData\\Local\\Programs\\Python\\Python312\\Lib\\site-packages\\pandas\\core\\indexes\\base.py:3805\u001b[0m, in \u001b[0;36mIndex.get_loc\u001b[1;34m(self, key)\u001b[0m\n\u001b[0;32m   3804\u001b[0m \u001b[38;5;28;01mtry\u001b[39;00m:\n\u001b[1;32m-> 3805\u001b[0m     \u001b[38;5;28;01mreturn\u001b[39;00m \u001b[38;5;28;43mself\u001b[39;49m\u001b[38;5;241;43m.\u001b[39;49m\u001b[43m_engine\u001b[49m\u001b[38;5;241;43m.\u001b[39;49m\u001b[43mget_loc\u001b[49m\u001b[43m(\u001b[49m\u001b[43mcasted_key\u001b[49m\u001b[43m)\u001b[49m\n\u001b[0;32m   3806\u001b[0m \u001b[38;5;28;01mexcept\u001b[39;00m \u001b[38;5;167;01mKeyError\u001b[39;00m \u001b[38;5;28;01mas\u001b[39;00m err:\n",
      "File \u001b[1;32mindex.pyx:167\u001b[0m, in \u001b[0;36mpandas._libs.index.IndexEngine.get_loc\u001b[1;34m()\u001b[0m\n",
      "File \u001b[1;32mindex.pyx:196\u001b[0m, in \u001b[0;36mpandas._libs.index.IndexEngine.get_loc\u001b[1;34m()\u001b[0m\n",
      "File \u001b[1;32mpandas\\\\_libs\\\\hashtable_class_helper.pxi:7081\u001b[0m, in \u001b[0;36mpandas._libs.hashtable.PyObjectHashTable.get_item\u001b[1;34m()\u001b[0m\n",
      "File \u001b[1;32mpandas\\\\_libs\\\\hashtable_class_helper.pxi:7089\u001b[0m, in \u001b[0;36mpandas._libs.hashtable.PyObjectHashTable.get_item\u001b[1;34m()\u001b[0m\n",
      "\u001b[1;31mKeyError\u001b[0m: 'titel_len'",
      "\nThe above exception was the direct cause of the following exception:\n",
      "\u001b[1;31mKeyError\u001b[0m                                  Traceback (most recent call last)",
      "Cell \u001b[1;32mIn[48], line 1\u001b[0m\n\u001b[1;32m----> 1\u001b[0m sal[\u001b[38;5;124m'\u001b[39m\u001b[38;5;124mtitel_len\u001b[39m\u001b[38;5;124m'\u001b[39m] \u001b[38;5;241m=\u001b[39m pd\u001b[38;5;241m.\u001b[39mto_numeric(\u001b[43msal\u001b[49m\u001b[43m[\u001b[49m\u001b[38;5;124;43m'\u001b[39;49m\u001b[38;5;124;43mtitel_len\u001b[39;49m\u001b[38;5;124;43m'\u001b[39;49m\u001b[43m]\u001b[49m, errors\u001b[38;5;241m=\u001b[39m\u001b[38;5;124m'\u001b[39m\u001b[38;5;124mcoerce\u001b[39m\u001b[38;5;124m'\u001b[39m)\n\u001b[0;32m      2\u001b[0m sal[\u001b[38;5;124m'\u001b[39m\u001b[38;5;124mTotalPayBenefits\u001b[39m\u001b[38;5;124m'\u001b[39m] \u001b[38;5;241m=\u001b[39m pd\u001b[38;5;241m.\u001b[39mto_numeric(sal[\u001b[38;5;124m'\u001b[39m\u001b[38;5;124mTotalPayBenefits\u001b[39m\u001b[38;5;124m'\u001b[39m], errors\u001b[38;5;241m=\u001b[39m\u001b[38;5;124m'\u001b[39m\u001b[38;5;124mcoerce\u001b[39m\u001b[38;5;124m'\u001b[39m)\n\u001b[0;32m      3\u001b[0m sal[[\u001b[38;5;124m'\u001b[39m\u001b[38;5;124mtitel_len\u001b[39m\u001b[38;5;124m'\u001b[39m, \u001b[38;5;124m'\u001b[39m\u001b[38;5;124mTotalPayBenefits\u001b[39m\u001b[38;5;124m'\u001b[39m]]\u001b[38;5;241m.\u001b[39mcorr()\n",
      "File \u001b[1;32mc:\\Users\\NataliaArchipenko\\AppData\\Local\\Programs\\Python\\Python312\\Lib\\site-packages\\pandas\\core\\frame.py:4102\u001b[0m, in \u001b[0;36mDataFrame.__getitem__\u001b[1;34m(self, key)\u001b[0m\n\u001b[0;32m   4100\u001b[0m \u001b[38;5;28;01mif\u001b[39;00m \u001b[38;5;28mself\u001b[39m\u001b[38;5;241m.\u001b[39mcolumns\u001b[38;5;241m.\u001b[39mnlevels \u001b[38;5;241m>\u001b[39m \u001b[38;5;241m1\u001b[39m:\n\u001b[0;32m   4101\u001b[0m     \u001b[38;5;28;01mreturn\u001b[39;00m \u001b[38;5;28mself\u001b[39m\u001b[38;5;241m.\u001b[39m_getitem_multilevel(key)\n\u001b[1;32m-> 4102\u001b[0m indexer \u001b[38;5;241m=\u001b[39m \u001b[38;5;28;43mself\u001b[39;49m\u001b[38;5;241;43m.\u001b[39;49m\u001b[43mcolumns\u001b[49m\u001b[38;5;241;43m.\u001b[39;49m\u001b[43mget_loc\u001b[49m\u001b[43m(\u001b[49m\u001b[43mkey\u001b[49m\u001b[43m)\u001b[49m\n\u001b[0;32m   4103\u001b[0m \u001b[38;5;28;01mif\u001b[39;00m is_integer(indexer):\n\u001b[0;32m   4104\u001b[0m     indexer \u001b[38;5;241m=\u001b[39m [indexer]\n",
      "File \u001b[1;32mc:\\Users\\NataliaArchipenko\\AppData\\Local\\Programs\\Python\\Python312\\Lib\\site-packages\\pandas\\core\\indexes\\base.py:3812\u001b[0m, in \u001b[0;36mIndex.get_loc\u001b[1;34m(self, key)\u001b[0m\n\u001b[0;32m   3807\u001b[0m     \u001b[38;5;28;01mif\u001b[39;00m \u001b[38;5;28misinstance\u001b[39m(casted_key, \u001b[38;5;28mslice\u001b[39m) \u001b[38;5;129;01mor\u001b[39;00m (\n\u001b[0;32m   3808\u001b[0m         \u001b[38;5;28misinstance\u001b[39m(casted_key, abc\u001b[38;5;241m.\u001b[39mIterable)\n\u001b[0;32m   3809\u001b[0m         \u001b[38;5;129;01mand\u001b[39;00m \u001b[38;5;28many\u001b[39m(\u001b[38;5;28misinstance\u001b[39m(x, \u001b[38;5;28mslice\u001b[39m) \u001b[38;5;28;01mfor\u001b[39;00m x \u001b[38;5;129;01min\u001b[39;00m casted_key)\n\u001b[0;32m   3810\u001b[0m     ):\n\u001b[0;32m   3811\u001b[0m         \u001b[38;5;28;01mraise\u001b[39;00m InvalidIndexError(key)\n\u001b[1;32m-> 3812\u001b[0m     \u001b[38;5;28;01mraise\u001b[39;00m \u001b[38;5;167;01mKeyError\u001b[39;00m(key) \u001b[38;5;28;01mfrom\u001b[39;00m \u001b[38;5;21;01merr\u001b[39;00m\n\u001b[0;32m   3813\u001b[0m \u001b[38;5;28;01mexcept\u001b[39;00m \u001b[38;5;167;01mTypeError\u001b[39;00m:\n\u001b[0;32m   3814\u001b[0m     \u001b[38;5;66;03m# If we have a listlike key, _check_indexing_error will raise\u001b[39;00m\n\u001b[0;32m   3815\u001b[0m     \u001b[38;5;66;03m#  InvalidIndexError. Otherwise we fall through and re-raise\u001b[39;00m\n\u001b[0;32m   3816\u001b[0m     \u001b[38;5;66;03m#  the TypeError.\u001b[39;00m\n\u001b[0;32m   3817\u001b[0m     \u001b[38;5;28mself\u001b[39m\u001b[38;5;241m.\u001b[39m_check_indexing_error(key)\n",
      "\u001b[1;31mKeyError\u001b[0m: 'titel_len'"
     ]
    }
   ],
   "source": [
    "#???\n",
    "sal[['titel_len', 'TotalPayBenefits']].corr()"
   ]
  },
  {
   "cell_type": "markdown",
   "metadata": {},
   "source": [
    "# Gut gemacht!"
   ]
  }
 ],
 "metadata": {
  "kernelspec": {
   "display_name": "Python 3",
   "language": "python",
   "name": "python3"
  },
  "language_info": {
   "codemirror_mode": {
    "name": "ipython",
    "version": 3
   },
   "file_extension": ".py",
   "mimetype": "text/x-python",
   "name": "python",
   "nbconvert_exporter": "python",
   "pygments_lexer": "ipython3",
   "version": "3.12.4"
  }
 },
 "nbformat": 4,
 "nbformat_minor": 2
}
