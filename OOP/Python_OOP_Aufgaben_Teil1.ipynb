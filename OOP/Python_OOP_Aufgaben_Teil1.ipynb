{
 "cells": [
  {
   "cell_type": "markdown",
   "metadata": {},
   "source": [
    "### Aufgabe 1: Einfache Klasse erstellen\n",
    "Erstelle eine Klasse Person, die die folgenden Attribute hat:\n",
    "\n",
    "- name (Name der Person)\n",
    "- age (Alter der Person) \n",
    "\n",
    "Die Klasse soll eine Methode introduce haben, die eine Begrüßung mit dem Namen und Alter der Person ausgibt."
   ]
  },
  {
   "cell_type": "code",
   "execution_count": 1,
   "metadata": {},
   "outputs": [
    {
     "name": "stdout",
     "output_type": "stream",
     "text": [
      "Hallo, mein Name ist  Natalia und ich bin 39 Jahren alt\n",
      "Hallo, mein Name ist  Katharina und ich bin 10 Jahren alt\n"
     ]
    }
   ],
   "source": [
    "# Dein Code\n",
    "class Person:\n",
    "    def __init__(self, name, age):\n",
    "        self.name = name\n",
    "        self.age = age\n",
    "\n",
    "    def begrüssen(self):\n",
    "        return f\"Hallo, mein Name ist  {self.name} und ich bin {self.age} Jahren alt\"\n",
    "    \n",
    "p1 = Person('Natalia', 39)\n",
    "p2 = Person('Katharina', 10)\n",
    "print(p1.begrüssen())\n",
    "print(p2.begrüssen())"
   ]
  },
  {
   "cell_type": "markdown",
   "metadata": {},
   "source": [
    "### Aufgabe 2: Konto mit Gebühren und Überziehungslimit\n",
    "Erstelle eine Klasse BankAccount, die die folgenden Attribute hat:\n",
    "\n",
    "- account_holder (Kontoinhaber)\n",
    "- balance (Kontostand, Standardwert: 0)\n",
    "- overdraft_limit (Überziehungslimit, Standardwert: 100)\n",
    "\n",
    "Die Klasse soll Methoden haben:\n",
    "\n",
    "- deposit(amount) um Geld einzuzahlen.\n",
    "- withdraw(amount) um Geld abzuheben, wobei das Überziehungslimit berücksichtigt werden soll. Wenn versucht wird, mehr Geld abzuheben als erlaubt, soll eine Fehlermeldung ausgegeben werden.\n",
    "- apply_fees() soll 10% Gebühren auf den aktuellen Kontostand anwenden, falls der Kontostand negativ ist."
   ]
  },
  {
   "cell_type": "code",
   "execution_count": 24,
   "metadata": {},
   "outputs": [
    {
     "name": "stdout",
     "output_type": "stream",
     "text": [
      "Initialer Kontostand: -50\n",
      "-50\n",
      "50\n",
      "-50\n",
      "Fehlermeldung: Man darf nicht diesen Beitrag abheben\n",
      "Fehlermeldung: Man darf nicht diesen Beitrag abheben\n",
      "Gebühren angewendet: -5.00 EUR. Neuer Kontostand: -45.00 EUR\n",
      "-45.0\n"
     ]
    }
   ],
   "source": [
    "# Dein Code\n",
    "class BankAccount:\n",
    "    def __init__(self, account_holder, balance, overdraft_limit=100):\n",
    "        self.account_holder = account_holder\n",
    "        self.balance = balance\n",
    "        self.overdraft_limit = overdraft_limit # Überziehungslimit\n",
    "        print(f'Initialer Kontostand: {self.balance}')\n",
    "    \n",
    "    def deposit(self, deposit):\n",
    "         if deposit > 0:  \n",
    "            return self.balance + deposit\n",
    "         else:\n",
    "             print('Fehlermeldung: Der Beitrag muss positive sein')\n",
    "  \n",
    "    def withdraw(self, amount):\n",
    "        if self.balance - amount < -self.overdraft_limit:\n",
    "            print('Fehlermeldung: Man darf nicht diesen Beitrag abheben')\n",
    "        else:\n",
    "            return self.balance - amount\n",
    "    \n",
    "    '''def apply_fees(self):\n",
    "        if self.balance < 0:\n",
    "            a_fees = self.balance * 10 / 100  # 10% \n",
    "            self.balance -=  a_fees\n",
    "            print(f'Gebühren angewendet: {a_fees:.2f} EUR. Neuer Kontostand: {self.balance:.2f} EUR')\n",
    "        else:\n",
    "            print('Keine Gebühren angewendet, da der Kontostand positiv ist')'''\n",
    "    #Cristian\n",
    "    def apply_fees(self):\n",
    "        if self.overfraft_limit < 100:\n",
    "            f = (100 - self.overfraft_limit) * 0.1\n",
    "            return f'anfallende Gebühren: {abs(f)}€'\n",
    "        else:\n",
    "            return 'keine anfallende Gebühren'\n",
    "    \n",
    "    def get_balance(self):\n",
    "        return self.balance\n",
    "\n",
    "#Erstellen eines Objektes\n",
    "#b_accont = BankAccount(\"Alexa Hell\", 1500, 100)\n",
    "\n",
    "#b_accont2 = BankAccount(\"Melody Green\", -1500, 100)\n",
    "#b_accont.withdraw(30)  #Abheben 30 Euro => Rest ist 1470 Euro\n",
    "#b_accont.withdraw(100)  #Abheben 100 Euro => Rest ist 1400 Euro\n",
    "#b_accont.withdraw(200)  #Abheben 200 Euro => Fehlermeldung\n",
    "#b_accont2.apply_fees() #Wenn Balsnce negativ ist, wird 10% Gebühren dazu hinzugefügt \n",
    "#b_accont.deposit(100)  # addieren 1500 +100 = 1600\n",
    "        \n",
    "b_accont = BankAccount(\"Peter\", balance=-50)\n",
    "print(b_accont.get_balance())\n",
    "print(b_accont.deposit(100))\n",
    "print(b_accont.get_balance())\n",
    "b_accont.withdraw(200)\n",
    "b_accont.withdraw(100)\n",
    "b_accont.apply_fees()\n",
    "print(b_accont.get_balance())\n",
    "\n",
    "\n"
   ]
  },
  {
   "cell_type": "markdown",
   "metadata": {},
   "source": [
    "### Aufgabe 3: Bibliotheksverwaltung mit Klassenattribut\n",
    "Erstelle eine Klasse Library, die das Klassenattribut total_books hat, das die Gesamtanzahl der Bücher in der Bibliothek verfolgt. Jedes Buch wird als Instanz der Klasse Book hinzugefügt, die die Attribute title, author und checked_out (Standardwert: False) besitzt.\n",
    "\\\n",
    "Die Klasse Library soll die folgenden Methoden haben:\n",
    "\n",
    "- add_book(title, author) zum Hinzufügen eines neuen Buchs.\n",
    "- checkout_book(title) zum Ausleihen eines Buchs. Falls das Buch nicht verfügbar ist, soll eine Fehlermeldung ausgegeben werden.\n",
    "- return_book(title) zum Zurückgeben eines Buchs."
   ]
  },
  {
   "cell_type": "code",
   "execution_count": 1,
   "metadata": {},
   "outputs": [
    {
     "name": "stdout",
     "output_type": "stream",
     "text": [
      "\"Tichiy Don\" von Scholochov wurde der Bibliothek hinzugefügt.\n",
      "Gesamtzahl der Bücher: 1\n",
      "\"buch1\" von Scholochov wurde der Bibliothek hinzugefügt.\n",
      "Gesamtzahl der Bücher: 2\n"
     ]
    }
   ],
   "source": [
    "# Dein Code\n",
    "class Book:\n",
    "    def __init__(self, title, author):\n",
    "        self.title = title\n",
    "        self.author = author\n",
    "        self.checked_out = False\n",
    "\n",
    "class Library:\n",
    "    total_books = 0 # Klassenatribut\n",
    "\n",
    "    def __init__(self):\n",
    "        self.books = [] # Instanzattribut\n",
    "\n",
    "    def add_book(self, title, author):\n",
    "        new_book = Book(title, author)\n",
    "        self.books.append(new_book)\n",
    "        Library.total_books += 1 \n",
    "        print(f'\"{title}\" von {author} wurde der Bibliothek hinzugefügt.')\n",
    "        print(f'Gesamtzahl der Bücher: {Library.total_books}')\n",
    "\n",
    "library = Library()\n",
    "library.add_book(\"Tichiy Don\", \"Scholochov\")\n",
    "library.add_book(\"buch1\", \"Scholochov\")\n",
    "\n"
   ]
  },
  {
   "cell_type": "code",
   "execution_count": 5,
   "metadata": {},
   "outputs": [
    {
     "name": "stdout",
     "output_type": "stream",
     "text": [
      "\"Tichiy Don\" von Scholochov wurde der Bibliothek hinzugefügt.\n",
      "Gesamtzahl der Bücher: 1\n",
      "\"IT\" von Handbuch wurde der Bibliothek hinzugefügt.\n",
      "Gesamtzahl der Bücher: 2\n",
      "Buch IT wurde ausgeliehen\n",
      "Buch kot ist nicht in der Bibliothek vorhanden\n",
      "Buch IT wurde zurückgegeben\n"
     ]
    }
   ],
   "source": [
    "# Dein Code von Andreas\n",
    "class Book:\n",
    "    def __init__(self, title, author, ausgeliehen = False):\n",
    "        self.title = title\n",
    "        self.author = author\n",
    "        self.checked_out = ausgeliehen\n",
    "\n",
    "class Library:\n",
    "    total_books = 0 # Klassenatribut\n",
    "\n",
    "    def __init__(self):\n",
    "        self.books = [] # Instanzattribut\n",
    "\n",
    "    def add_book(self, title, author):\n",
    "        new_book = Book(title, author)\n",
    "        self.books.append(new_book)\n",
    "        Library.total_books += 1 \n",
    "        print(f'\"{title}\" von {author} wurde der Bibliothek hinzugefügt.')\n",
    "        print(f'Gesamtzahl der Bücher: {Library.total_books}')\n",
    "\n",
    "    def checkout_book(self, title):\n",
    "        for  book in self.books:\n",
    "            if book.title == title:\n",
    "                if not book.checked_out:\n",
    "                    book.checked_out = True\n",
    "                    print(f'Buch {title} wurde ausgeliehen')\n",
    "                    return\n",
    "                else:\n",
    "                    print(f'Buch {title} wurde nicht ausgeliehen.')\n",
    "                    return\n",
    "        print(f'Buch {title} ist nicht in der Bibliothek vorhanden')\n",
    "    def return_book(self, title):\n",
    "        for  book in self.books:\n",
    "            if book.title == title:\n",
    "                if  book.checked_out:\n",
    "                    book.checked_out = False\n",
    "                    print(f'Buch {title} wurde zurückgegeben')\n",
    "                    return\n",
    "                else:\n",
    "                    print(f'Buch {title} wurde nicht ausgeliehen.')\n",
    "                    return\n",
    "        print(f'Buch {title} ist nicht in der Bibliothek vorhanden')        \n",
    "\n",
    "library = Library()\n",
    "library.add_book(\"Tichiy Don\", \"Scholochov\")\n",
    "\n",
    "library.add_book(\"IT\", \"Handbuch\")\n",
    "library.checkout_book(\"IT\")\n",
    "library.checkout_book(\"kot\")#Es gibt nicht\n",
    "library.return_book('IT')\n"
   ]
  }
 ],
 "metadata": {
  "kernelspec": {
   "display_name": ".my_venv",
   "language": "python",
   "name": "python3"
  },
  "language_info": {
   "codemirror_mode": {
    "name": "ipython",
    "version": 3
   },
   "file_extension": ".py",
   "mimetype": "text/x-python",
   "name": "python",
   "nbconvert_exporter": "python",
   "pygments_lexer": "ipython3",
   "version": "3.12.4"
  }
 },
 "nbformat": 4,
 "nbformat_minor": 2
}
