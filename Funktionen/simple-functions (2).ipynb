{
 "cells": [
  {
   "cell_type": "markdown",
   "metadata": {},
   "source": [
    "<img align=\"center\" width=\"250\" src=\"https://www.bbq.de/bbqDateien/images/Logo-aktuell.png\">\n",
    "<h1 align=center><font size = 5>Welcome to Python Lab (week 5)</font></h1>"
   ]
  },
  {
   "cell_type": "markdown",
   "metadata": {},
   "source": [
    "## Introduction\n",
    "\n",
    "In this lab we are going to use our knowledge of Python functions to develop some small programs to solve a few problems. Take your time and solve **at least 3 tasks of your choice**\n",
    "\n",
    "\n",
    "\n",
    "**Happy coding!**"
   ]
  },
  {
   "cell_type": "markdown",
   "metadata": {},
   "source": [
    "## Table of Contents\n",
    "\n",
    "1.  <a href=\"#item1\">Palindrome</a>\n",
    "2.  <a href=\"#item2\">Armstrong Numbers</a>  \n",
    "3.  <a href=\"#item3\">Random password generator</a>  \n",
    "4.  <a href=\"#item4\">Check a Password</a> \n",
    "5.  <a href=\"#item5\">Sublist</a>\n"
   ]
  },
  {
   "cell_type": "markdown",
   "metadata": {},
   "source": [
    "<a id=\"item1\"></a>"
   ]
  },
  {
   "cell_type": "markdown",
   "metadata": {},
   "source": [
    "### 1. Palindrome\n",
    "\n",
    "_(Level: easy)_\n",
    "\n",
    "A palindrome is a word, number, phrase, or other sequence of characters which reads the same backward as forward, such as ``madam`` or ``bob``\n",
    "\n",
    "Define a function that accepts a string as parameter and checks whether a string is a palindrome or not.  \n",
    "\n",
    "```python\n",
    ">>> palindrome('Hannah')\n",
    ">>> 'Yes!'\n",
    ">>> palindrome('papa')\n",
    ">>> 'No!'\n",
    ">>> palindrome('32123')\n",
    ">>> 'Yes!'\n",
    "```\n",
    "\n"
   ]
  },
  {
   "cell_type": "code",
   "execution_count": 70,
   "metadata": {},
   "outputs": [
    {
     "name": "stdout",
     "output_type": "stream",
     "text": [
      "palindrom\n",
      "kein palindrom\n"
     ]
    }
   ],
   "source": [
    "# write your code here\n",
    "def palindrome(wort):\n",
    "    wort = wort.lower()\n",
    "    if wort[:]==wort[-1::-1]:\n",
    "        return 'palindrom'\n",
    "    else:\n",
    "        return 'kein palindrom'\n",
    "\n",
    "print(palindrome('AnNa'))\n",
    "print(palindrome('anmIna'))"
   ]
  },
  {
   "cell_type": "markdown",
   "metadata": {},
   "source": [
    "<a id=\"item2\"></a>"
   ]
  },
  {
   "cell_type": "markdown",
   "metadata": {},
   "source": [
    "### 2.  Armstrong Numbers\n",
    "\n",
    "_(Level: intermediate)_\n",
    "\n",
    "An Armstrong number of three digits is an integer such that the sum of the cubes of its digits is equal to the number itself. For example, 371 is an Armstrong number since \n",
    "\n",
    "```python\n",
    "\n",
    "3**3 + 7**3 + 1**3 = 371\n",
    "```\n",
    "\n",
    "\n",
    "(a) Define a function that accepts a number with 3 digits as parameter and checks, if it is an Armstrong number. (If possible, use a lambda function in your solution.)"
   ]
  },
  {
   "cell_type": "code",
   "execution_count": 71,
   "metadata": {},
   "outputs": [
    {
     "name": "stdout",
     "output_type": "stream",
     "text": [
      "371 is  an Armstrong number\n",
      "373 is not an Armstrong number\n",
      "371 is an Armstrong number\n",
      "373 is not an Armstrong number\n"
     ]
    }
   ],
   "source": [
    "# write your code here\n",
    "def check_armstrong_number(number):\n",
    "    ziffern = [int(z) for z in str(number)]\n",
    "    sum_zif_cube = 0\n",
    "    for i in ziffern:\n",
    "        sum_zif_cube += i**3\n",
    "\n",
    "    if number == sum_zif_cube:\n",
    "        return f'{number} is  an Armstrong number'\n",
    "    else:\n",
    "        return f'{number} is not an Armstrong number'\n",
    "\n",
    "print(check_armstrong_number(371))\n",
    "print(check_armstrong_number(373))\n",
    "\n",
    "#Variante2:\n",
    "def check_armstrong_number(number):\n",
    "    ziffern = [int(z) for z in str(number)]\n",
    "    \n",
    "    # Lambda-Funktion zur Berechnung des Kubus jeder Ziffer und deren Summe\n",
    "    sum_zif_cube = sum(map(lambda x: x**3, ziffern))\n",
    "    \n",
    "    if number == sum_zif_cube:\n",
    "        return f'{number} is an Armstrong number'\n",
    "    else:\n",
    "        return f'{number} is not an Armstrong number'\n",
    "\n",
    "# Tests\n",
    "print(check_armstrong_number(371))  # Ausgabe: 371 is an Armstrong number\n",
    "print(check_armstrong_number(373))  # Ausgabe: 373 is not an Armstrong number\n",
    "\n",
    "#von Olga\n",
    "def is_armstrong(num):\n",
    "\n",
    "    armstrong_check = lambda x: sum(int(digit) ** 3 for digit in str(x))\n",
    "\n",
    "    return num == armstrong_check(num)\n"
   ]
  },
  {
   "cell_type": "markdown",
   "metadata": {},
   "source": [
    "(b) Write a function to find all Armstrong number in the range of 0 and 999.  \n",
    "Consider the pep8 Style gudie for functions: add a docstring to your funtion!"
   ]
  },
  {
   "cell_type": "code",
   "execution_count": 75,
   "metadata": {},
   "outputs": [
    {
     "ename": "TypeError",
     "evalue": "'builtin_function_or_method' object is not subscriptable",
     "output_type": "error",
     "traceback": [
      "\u001b[1;31m---------------------------------------------------------------------------\u001b[0m",
      "\u001b[1;31mTypeError\u001b[0m                                 Traceback (most recent call last)",
      "Cell \u001b[1;32mIn[75], line 13\u001b[0m\n\u001b[0;32m     11\u001b[0m     \u001b[38;5;28;01melse\u001b[39;00m:\n\u001b[0;32m     12\u001b[0m         \u001b[38;5;28;01mreturn\u001b[39;00m liste_not_A\u001b[38;5;241m.\u001b[39mappend[number]\n\u001b[1;32m---> 13\u001b[0m \u001b[38;5;28mprint\u001b[39m(\u001b[43mcheck_armstrong_number\u001b[49m\u001b[43m(\u001b[49m\u001b[38;5;241;43m999\u001b[39;49m\u001b[43m)\u001b[49m)\n",
      "Cell \u001b[1;32mIn[75], line 12\u001b[0m, in \u001b[0;36mcheck_armstrong_number\u001b[1;34m(number)\u001b[0m\n\u001b[0;32m     10\u001b[0m     \u001b[38;5;28;01mreturn\u001b[39;00m liste_A\u001b[38;5;241m.\u001b[39mappend[number]\n\u001b[0;32m     11\u001b[0m \u001b[38;5;28;01melse\u001b[39;00m:\n\u001b[1;32m---> 12\u001b[0m     \u001b[38;5;28;01mreturn\u001b[39;00m \u001b[43mliste_not_A\u001b[49m\u001b[38;5;241;43m.\u001b[39;49m\u001b[43mappend\u001b[49m\u001b[43m[\u001b[49m\u001b[43mnumber\u001b[49m\u001b[43m]\u001b[49m\n",
      "\u001b[1;31mTypeError\u001b[0m: 'builtin_function_or_method' object is not subscriptable"
     ]
    }
   ],
   "source": [
    "# write your code here\n",
    "def check_armstrong_number(number):\n",
    "''' Armstrong Numbers\n",
    "An Armstrong number of three digits is an integer such that the sum of the cubes of its digits is equal to the number itself. \n",
    "For example, 371 is an Armstrong number since \n",
    "3**3 + 7**3 + 1**3 = 371\n",
    "(a) Define a function that accepts a number with 3 digits as parameter and checks, if it is an Armstrong number. \n",
    "(If possible, use a lambda function in your solution.)'''\n",
    "\n",
    "#beenden\n"
   ]
  },
  {
   "cell_type": "markdown",
   "metadata": {},
   "source": [
    "<a id=\"item3\"></a>"
   ]
  },
  {
   "cell_type": "markdown",
   "metadata": {},
   "source": [
    "### 3. Random password generator\n",
    "_(Level: intermediate)_\n",
    "  \n",
    "Write a function that generates a random password. The password should have a\n",
    "random length of between 7 and 10 characters. Each character should be randomly\n",
    "selected from positions 33 to 126 in the ASCII table. Your function will not take\n",
    "any parameters. It will return the randomly generated password as its only result."
   ]
  },
  {
   "cell_type": "code",
   "execution_count": null,
   "metadata": {},
   "outputs": [],
   "source": [
    "# write your code here\n",
    "import random\n",
    "\n",
    "def generate_password():\n",
    "    # Random password length between 7 and 10 characters\n",
    "    length = random.randint(7, 10)\n",
    "    \n",
    "    # Generate a list of random characters from ASCII values 33 to 126\n",
    "    password = ''.join(chr(random.randint(33, 126)) for _ in range(length))\n",
    "    \n",
    "    return password\n",
    "\n",
    "# Example usage:\n",
    "print(generate_password())\n",
    "#Version 2\n",
    "def password_generiren():\n",
    "    laenger = random.randint(7,10)\n",
    "    password = []\n",
    "    for _ in range(laenger):\n",
    "         password.append(chr(random.randint(33, 126)))# in liste password werden -zahlen von ASCII random hingezufügt\n",
    "\n",
    "    return ''.join(password)#funktion ''.join macht eine string von liste\n",
    "\n",
    "print(password_generiren())"
   ]
  },
  {
   "cell_type": "markdown",
   "metadata": {},
   "source": [
    "<a id=\"item4\"></a>"
   ]
  },
  {
   "cell_type": "markdown",
   "metadata": {},
   "source": [
    "### 4. Check a Password \n",
    "\n",
    "_(Level: easy)_\n",
    "\n",
    "In this exercise you will write a function that determines whether or not a password\n",
    "is good. We will define a good password to be a one that is at least 8 characters long\n",
    "and contains at least one uppercase letter, at least one lowercase letter, and at least\n",
    "one number. Your function should return True if the password passed to it as its\n",
    "only parameter is good. Otherwise it should return False."
   ]
  },
  {
   "cell_type": "code",
   "execution_count": null,
   "metadata": {},
   "outputs": [],
   "source": [
    "# write your code here\n",
    "def check_password(password):\n",
    "    if len(password) < 8: #Überprüfen, ob das Passwort eine Länge von mindestens 8 Zeichen aufweist. \n",
    "        return False\n",
    "    else:\n",
    "        hat_kleine_buchstaben = False\n",
    "        hat_groesse_buchstaben = False\n",
    "        hat_zahlen = False\n",
    "        hat_sondern_zeichen = False\n",
    "        spezielle_zeichen = '@%&*#!'\n",
    "\n",
    "       \n",
    "        for i in range(len(password) -2):\n",
    "            if password[i] == password[i+1] and password [i] == password [i+2]: # Überprüfen, ob drei gleiche Zeichen in Folge vorhanden sind\n",
    "                return False\n",
    "            else:\n",
    "                for zeichen in password:\n",
    "                    if zeichen.islower():#Überprüfen, ob das Passwort Kleinbuchstaben enthält\n",
    "                        hat_kleine_buchstaben = True\n",
    "                    elif zeichen.isupper():#Überprüfen, ob das Passwort Grossbuchtaben erhaltet\n",
    "                        hat_groesse_buchstaben=  True\n",
    "                    elif zeichen.isdigit(): #Überprüfen, ob das Passwort zahlen erhaltet\n",
    "                        hat_zahlen = True\n",
    "                    elif zeichen in spezielle_zeichen:# Überprüfen, ob im Passwort Sonderzeichen vorhanden sind.\n",
    "                        hat_sondern_zeichen = True\n",
    "        #Ein Passwort, das alle notwendigen Anforderungen erfüllt, ist ein gutes Passwort:\n",
    "        if hat_kleine_buchstaben  and  hat_groesse_buchstaben and hat_zahlen and hat_sondern_zeichen:\n",
    "            return True\n",
    "    return False\n",
    "    \n",
    "\n",
    "       \n",
    "\n",
    "print(check_password('8DDfDD!DDDDD'))\n",
    "print(check_password('123456789'))\n",
    "print(check_password('Password1!'))"
   ]
  },
  {
   "cell_type": "markdown",
   "metadata": {},
   "source": [
    "<a id=\"item5\"></a>"
   ]
  },
  {
   "cell_type": "markdown",
   "metadata": {},
   "source": [
    "### 5. Sublist\n",
    "\n",
    "_(Level: advanced)_\n",
    "\n",
    "A sublist is a list that is part of a larger list. A sublist may be a list containing a\n",
    "single element, multiple elements, or even no elements at all. For example, \\[1\\],\n",
    "\\[2\\], \\[3\\] and \\[4\\] are all sublists of \\[1, 2, 3, 4\\]. The list \\[2, 3\\] is also a\n",
    "sublist of \\[1, 2, 3, 4\\], but \\[2, 4\\] is not a sublist \\[1, 2, 3, 4\\] because\n",
    "the elements 2 and 4 are not adjacent in the longer list. The empty list is a sublist of any list. As a result, \\[ \\] is a sublist of \\[1, 2, 3, 4\\]. A list is a sublist of itself,\n",
    "meaning that \\[1, 2, 3, 4\\] is also a sublist of \\[1, 2, 3, 4\\].\n",
    "\n",
    "\n",
    "In this exercise you will create a function, ``issublist``, that determines whether\n",
    "or not one list is a sublist of another. Your function should take two lists, larger\n",
    "and smaller, as its only parameters. It should return True if and only if smaller\n",
    "is a sublist of larger.\n"
   ]
  },
  {
   "cell_type": "code",
   "execution_count": 68,
   "metadata": {},
   "outputs": [
    {
     "name": "stdout",
     "output_type": "stream",
     "text": [
      "False\n",
      "False\n",
      "True\n",
      "True\n",
      "False\n",
      "[2, 3, 4]\n"
     ]
    }
   ],
   "source": [
    "# write your code here\n",
    "#a_l = [1,2,3,4] \n",
    "#b_l = [2,3]\n",
    "#issublist(a_l, b_l) # True\n",
    "#issublist(a_l, [2,4]) # False\n",
    "\n",
    "def issublist(a_l, b_l):\n",
    "    if len(b_l) > len(a_l):#Wenn b_l 2 länger als liste a_l, dann es ist auf keinem Fall einen Nestlist\n",
    "             return False  \n",
    "     \n",
    "    for i in range(len(a_l) - len(b_l) + 1):#4 - 2 + 1= 3 gleich  for i in range(3)\n",
    "        if a_l[i:i + len(b_l)] == b_l: # teil von list a_l von i bis i+2 muss gleich liste b_l sein\n",
    "            return True\n",
    "    return False\n",
    "        \n",
    "\n",
    "print(issublist([1,2,3,4] , [1,2,3,4,5]))#False\n",
    "print(issublist([1,2,3,4] , [1,2,3,7]))#False\n",
    "print(issublist([1,2,3,4] , [1,2,3]))#True\n",
    "print(issublist([1,2,3,4] , [2,3])) # True\n",
    "print(issublist([1,2,3,4] , [2,4])) # False\n",
    "\n",
    "#liste1= [1,2,3]\n",
    "#liste2 = [1,2]\n",
    "#for i in range(len(liste1) - len(liste2) + 1):#3 - 2= 1\n",
    "        # Überprüfen, ob der Teil von liste1 ab Position i bis i + Länge von liste2 gleich liste2 ist\n",
    " #       if liste1[i:i + len(liste2)] == liste2:\n",
    "  #          print(True)\n",
    "   #     else:\n",
    "    #        print(False)\n",
    "a_l = [1,2,3,4,5,6,7] \n",
    "b_l = [2,3,4]\n",
    "for i in range(len(a_l) - len(b_l) + 1):\n",
    "    if a_l[i:i + len(b_l)] == b_l:\n",
    "         print(a_l[i:i + len(b_l)])\n",
    "\n",
    "\n",
    "\n"
   ]
  },
  {
   "cell_type": "markdown",
   "metadata": {},
   "source": [
    "**Thank you for finishing this lab.** "
   ]
  }
 ],
 "metadata": {
  "kernelspec": {
   "display_name": "Python 3",
   "language": "python",
   "name": "python3"
  },
  "language_info": {
   "codemirror_mode": {
    "name": "ipython",
    "version": 3
   },
   "file_extension": ".py",
   "mimetype": "text/x-python",
   "name": "python",
   "nbconvert_exporter": "python",
   "pygments_lexer": "ipython3",
   "version": "3.12.4"
  },
  "nbTranslate": {
   "displayLangs": [
    "en",
    "de"
   ],
   "hotkey": "alt-t",
   "langInMainMenu": true,
   "sourceLang": "de",
   "targetLang": "en",
   "useGoogleTranslate": true
  }
 },
 "nbformat": 4,
 "nbformat_minor": 4
}
