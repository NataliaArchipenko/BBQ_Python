{
 "cells": [
  {
   "cell_type": "code",
   "execution_count": null,
   "metadata": {},
   "outputs": [],
   "source": []
  },
  {
   "cell_type": "markdown",
   "metadata": {},
   "source": [
    "Die grundlegende Struktur zur Behandlung von Ausnahmen in Python verwendet die Schlüsselwörter try und except"
   ]
  },
  {
   "cell_type": "code",
   "execution_count": 19,
   "metadata": {},
   "outputs": [
    {
     "name": "stdout",
     "output_type": "stream",
     "text": [
      "Feler: Division durch Null ist nicht erlaubt\n"
     ]
    }
   ],
   "source": [
    "try:\n",
    "    #code, der eine Ausname auslösen könnte\n",
    "    result = 10/0\n",
    "except:\n",
    "    #Dieser Block wird ausgeführt, wenn ...\n",
    "    print('Feler: Division durch Null ist nicht erlaubt')"
   ]
  },
  {
   "cell_type": "code",
   "execution_count": 20,
   "metadata": {},
   "outputs": [
    {
     "name": "stdout",
     "output_type": "stream",
     "text": [
      "Feler: Division durch Null ist nicht erlaubt\n"
     ]
    }
   ],
   "source": [
    "try:\n",
    "    value = int(input(\"Geben Sie eine Zahl ein\"))\n",
    "    result = 10/value\n",
    "except ValueError:\n",
    "    print('Fehler: Ungültige Eingabe')\n",
    "except ZeroDivisionError:\n",
    "    print('Feler: Division durch Null ist nicht erlaubt')\n",
    "except Exception as e: # andere mögliche Fehler werden hier gezeigt\n",
    "    #print(e)\n",
    "    print(type(e), e)\n"
   ]
  },
  {
   "cell_type": "markdown",
   "metadata": {},
   "source": [
    "Mehrere Ausname abfangen:"
   ]
  },
  {
   "cell_type": "code",
   "execution_count": 21,
   "metadata": {},
   "outputs": [
    {
     "name": "stdout",
     "output_type": "stream",
     "text": [
      "Fehler: division by zero\n"
     ]
    }
   ],
   "source": [
    "try:\n",
    "    value = int(input('Zahl: '))\n",
    "    result = 10 / value\n",
    "except (ZeroDivisionError, ValueError) as e:\n",
    "    print(f'Fehler: {e}')\n"
   ]
  },
  {
   "cell_type": "markdown",
   "metadata": {},
   "source": [
    "mit Schleife:"
   ]
  },
  {
   "cell_type": "code",
   "execution_count": 14,
   "metadata": {},
   "outputs": [
    {
     "name": "stdout",
     "output_type": "stream",
     "text": [
      "Fehler: Ungültige Eingabe\n",
      "Der Block wurde ausgeführt\n",
      "Das Ergebnis ist: 1.25\n",
      "Der Block wurde ausgeführt\n"
     ]
    }
   ],
   "source": [
    "while True:\n",
    "    try:\n",
    "        value = int(input(\"Geben Sie eine Zahl ein\"))\n",
    "        result = 10/value\n",
    "    except ValueError:\n",
    "        print('Fehler: Ungültige Eingabe')\n",
    "    except ZeroDivisionError:\n",
    "        print('Feler: Division durch Null ist nicht erlaubt')\n",
    "    else:\n",
    "        print(f'Das Ergebnis ist: {result}')\n",
    "        break\n",
    "    finally:\n",
    "        print(\"Der Block wurde ausgeführt\")\n",
    "    "
   ]
  },
  {
   "cell_type": "markdown",
   "metadata": {},
   "source": [
    "Benutzdefenierte Ausnahmen:\n",
    "Man kann eigene Ausnahmen erstellen, indem man von der Exception_Klasse ergibt."
   ]
  },
  {
   "cell_type": "code",
   "execution_count": 22,
   "metadata": {},
   "outputs": [
    {
     "name": "stdout",
     "output_type": "stream",
     "text": [
      "Ein benurtzerdefinierter Fehler ist aufgetreten: Wert darf nicht negativ sein\n"
     ]
    }
   ],
   "source": [
    "class MeinFehler(Exception):\n",
    "    pass\n",
    "def my_funktion(value):\n",
    "    if value < 0:\n",
    "        raise MeinFehler(\"Wert darf nicht negativ sein\") # raise erzeugt die Exception\n",
    "try:\n",
    "    my_funktion(-1)\n",
    "except MeinFehler as e:\n",
    "    print(f\"Ein benurtzerdefinierter Fehler ist aufgetreten: {e}\")\n"
   ]
  },
  {
   "cell_type": "markdown",
   "metadata": {},
   "source": [
    "Hilfe zu Exceptons:"
   ]
  },
  {
   "cell_type": "code",
   "execution_count": 23,
   "metadata": {},
   "outputs": [
    {
     "data": {
      "text/plain": [
       "[ArithmeticError,\n",
       " AssertionError,\n",
       " AttributeError,\n",
       " BufferError,\n",
       " EOFError,\n",
       " ImportError,\n",
       " LookupError,\n",
       " MemoryError,\n",
       " NameError,\n",
       " OSError,\n",
       " ReferenceError,\n",
       " RuntimeError,\n",
       " StopAsyncIteration,\n",
       " StopIteration,\n",
       " SyntaxError,\n",
       " SystemError,\n",
       " TypeError,\n",
       " ValueError,\n",
       " Warning,\n",
       " ExceptionGroup,\n",
       " warnings._OptionError,\n",
       " runpy._Error,\n",
       " re.error,\n",
       " locale.Error,\n",
       " subprocess.SubprocessError,\n",
       " zmq.error.ZMQBaseError,\n",
       " struct.error,\n",
       " _pickle.PickleError,\n",
       " pickle._Stop,\n",
       " tokenize.TokenError,\n",
       " tokenize.StopTokenizing,\n",
       " concurrent.futures._base.Error,\n",
       " socket._GiveupOnSendfile,\n",
       " binascii.Incomplete,\n",
       " inspect.ClassFoundException,\n",
       " inspect.EndOfBlock,\n",
       " asyncio.exceptions.InvalidStateError,\n",
       " asyncio.exceptions.LimitOverrunError,\n",
       " asyncio.queues.QueueEmpty,\n",
       " asyncio.queues.QueueFull,\n",
       " zlib.error,\n",
       " _lzma.LZMAError,\n",
       " shutil.RegistryError,\n",
       " shutil._GiveupOnFastCopy,\n",
       " traitlets.traitlets.TraitError,\n",
       " copy.Error,\n",
       " _queue.Empty,\n",
       " queue.Full,\n",
       " ctypes.ArgumentError,\n",
       " _ctypes.COMError,\n",
       " tornado.concurrent.ReturnValueIgnoredError,\n",
       " argparse.ArgumentError,\n",
       " argparse.ArgumentTypeError,\n",
       " traitlets.config.loader.ConfigError,\n",
       " traitlets.config.configurable.ConfigurableError,\n",
       " traitlets.config.application.ApplicationError,\n",
       " jupyter_client.channels.InvalidPortNumber,\n",
       " jupyter_client.localinterfaces.NoIPAddresses,\n",
       " _csv.Error,\n",
       " zipfile.BadZipFile,\n",
       " zipfile.LargeZipFile,\n",
       " email.errors.MessageError,\n",
       " importlib.resources.abc.TraversalError,\n",
       " jupyter_client.multikernelmanager.DuplicateKernelError,\n",
       " pydoc.ErrorDuringImport,\n",
       " executing.executing.NotOneValueFound,\n",
       " executing._exceptions.KnownIssue,\n",
       " executing._exceptions.VerifierFailure,\n",
       " pure_eval.utils.CannotEval,\n",
       " pygments.util.OptionError,\n",
       " bdb.BdbQuit,\n",
       " pdb.Restart,\n",
       " IPython.utils.process.FindCmdError,\n",
       " IPython.utils.path.HomeDirError,\n",
       " IPython.core.profiledir.ProfileDirError,\n",
       " IPython.core.error.IPythonCoreError,\n",
       " IPython.core.error.InputRejected,\n",
       " getopt.GetoptError,\n",
       " pygments.filters.ErrorToken,\n",
       " IPython.core.prefilter.PrefilterError,\n",
       " IPython.core.alias.AliasError,\n",
       " sqlite3.Error,\n",
       " sqlite3.Warning,\n",
       " IPython.core.interactiveshell.SpaceInInput,\n",
       " xml.dom.DOMException,\n",
       " prompt_toolkit.validation.ValidationError,\n",
       " prompt_toolkit.buffer.EditReadOnlyBuffer,\n",
       " prompt_toolkit.buffer._Retry,\n",
       " prompt_toolkit.layout.layout.InvalidLayoutError,\n",
       " prompt_toolkit.renderer.HeightIsUnknownError,\n",
       " xml.parsers.expat.ExpatError,\n",
       " xml.dom.expatbuilder.ParseEscape,\n",
       " IPython.core.guarded_eval.GuardRejection,\n",
       " parso.parser.ParserSyntaxError,\n",
       " parso.parser.InternalParseError,\n",
       " parso.python.diff._PositionUpdatingFinished,\n",
       " jedi.inference.helpers.SimpleGetItemNotFound,\n",
       " jedi.inference.utils.UncaughtAttributeError,\n",
       " jedi.inference.base_value.HasNoContext,\n",
       " jedi.inference.arguments.ParamIssue,\n",
       " jedi.api.exceptions._JediError,\n",
       " jedi.api.helpers.OnErrorLeaf,\n",
       " jedi.api.environment.InvalidPythonEnvironment,\n",
       " http.client.HTTPException,\n",
       " IPython.core.magics.code.InteractivelyDefined,\n",
       " IPython.terminal.embed.KillEmbedded,\n",
       " psutil.Error,\n",
       " _psutil_windows.Error,\n",
       " _psutil_windows.TimeoutExpired,\n",
       " _psutil_windows.TimeoutAbandoned,\n",
       " tornado.gen.KeyReuseError,\n",
       " tornado.gen.UnknownKeyError,\n",
       " tornado.gen.LeakedCallbackError,\n",
       " tornado.gen.BadYieldError,\n",
       " tornado.gen.ReturnValueIgnoredError,\n",
       " tornado.gen.Return,\n",
       " tornado.queues.QueueEmpty,\n",
       " tornado.queues.QueueFull,\n",
       " _pydev_bundle._pydev_saved_modules.DebuggerInitializationError,\n",
       " xmlrpc.client.Error,\n",
       " _pydevd_bundle.pydevd_runpy._Error,\n",
       " _pydevd_bundle.pydevd_resolver.UnableToResolveVariableException,\n",
       " _pydev_bundle.pydev_monkey.InvalidTypeInArgsException,\n",
       " __main__.MeinFehler]"
      ]
     },
     "execution_count": 23,
     "metadata": {},
     "output_type": "execute_result"
    }
   ],
   "source": [
    "Exception.__subclasses__()"
   ]
  },
  {
   "cell_type": "code",
   "execution_count": 24,
   "metadata": {},
   "outputs": [
    {
     "name": "stdout",
     "output_type": "stream",
     "text": [
      "Help on class Exception in module builtins:\n",
      "\n",
      "class Exception(BaseException)\n",
      " |  Common base class for all non-exit exceptions.\n",
      " |\n",
      " |  Method resolution order:\n",
      " |      Exception\n",
      " |      BaseException\n",
      " |      object\n",
      " |\n",
      " |  Built-in subclasses:\n",
      " |      ArithmeticError\n",
      " |      AssertionError\n",
      " |      AttributeError\n",
      " |      BufferError\n",
      " |      ... and 16 other subclasses\n",
      " |\n",
      " |  Methods defined here:\n",
      " |\n",
      " |  __init__(self, /, *args, **kwargs)\n",
      " |      Initialize self.  See help(type(self)) for accurate signature.\n",
      " |\n",
      " |  ----------------------------------------------------------------------\n",
      " |  Static methods defined here:\n",
      " |\n",
      " |  __new__(*args, **kwargs)\n",
      " |      Create and return a new object.  See help(type) for accurate signature.\n",
      " |\n",
      " |  ----------------------------------------------------------------------\n",
      " |  Methods inherited from BaseException:\n",
      " |\n",
      " |  __delattr__(self, name, /)\n",
      " |      Implement delattr(self, name).\n",
      " |\n",
      " |  __getattribute__(self, name, /)\n",
      " |      Return getattr(self, name).\n",
      " |\n",
      " |  __reduce__(...)\n",
      " |      Helper for pickle.\n",
      " |\n",
      " |  __repr__(self, /)\n",
      " |      Return repr(self).\n",
      " |\n",
      " |  __setattr__(self, name, value, /)\n",
      " |      Implement setattr(self, name, value).\n",
      " |\n",
      " |  __setstate__(...)\n",
      " |\n",
      " |  __str__(self, /)\n",
      " |      Return str(self).\n",
      " |\n",
      " |  add_note(...)\n",
      " |      Exception.add_note(note) --\n",
      " |      add a note to the exception\n",
      " |\n",
      " |  with_traceback(...)\n",
      " |      Exception.with_traceback(tb) --\n",
      " |      set self.__traceback__ to tb and return self.\n",
      " |\n",
      " |  ----------------------------------------------------------------------\n",
      " |  Data descriptors inherited from BaseException:\n",
      " |\n",
      " |  __cause__\n",
      " |      exception cause\n",
      " |\n",
      " |  __context__\n",
      " |      exception context\n",
      " |\n",
      " |  __dict__\n",
      " |\n",
      " |  __suppress_context__\n",
      " |\n",
      " |  __traceback__\n",
      " |\n",
      " |  args\n",
      "\n"
     ]
    }
   ],
   "source": [
    "help(Exception)"
   ]
  },
  {
   "cell_type": "code",
   "execution_count": null,
   "metadata": {},
   "outputs": [],
   "source": []
  }
 ],
 "metadata": {
  "kernelspec": {
   "display_name": "Python 3",
   "language": "python",
   "name": "python3"
  },
  "language_info": {
   "codemirror_mode": {
    "name": "ipython",
    "version": 3
   },
   "file_extension": ".py",
   "mimetype": "text/x-python",
   "name": "python",
   "nbconvert_exporter": "python",
   "pygments_lexer": "ipython3",
   "version": "3.12.4"
  }
 },
 "nbformat": 4,
 "nbformat_minor": 2
}
