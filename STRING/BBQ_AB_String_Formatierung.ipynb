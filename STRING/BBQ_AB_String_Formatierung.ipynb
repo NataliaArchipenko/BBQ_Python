{
 "cells": [
  {
   "cell_type": "markdown",
   "metadata": {},
   "source": [
    "## **Übungsbeispiele zur String-Formatierung in Python** \n",
    "\n",
    "### Beispiel\n",
    "Du hast den Namen einer Person und das Jahr, in dem sie geboren wurde. Du möchtest einen Satz erstellen, der beides einbindet.\n",
    "\n",
    "```python\n",
    "name = \"Anna\"\n",
    "geburtsjahr = 1992\n",
    "\n",
    "satz = \"Hallo, mein Name ist {} und ich wurde im Jahr {} geboren.\".format(name, geburtsjahr)\n",
    "print(satz)\n",
    "```\n",
    "\n",
    "Dies würde ausgeben: `Hallo, mein Name ist Anna und ich wurde im Jahr 1992 geboren.`\n",
    "\n",
    "### Übungen zur String-Formatierung\n"
   ]
  },
  {
   "cell_type": "markdown",
   "metadata": {},
   "source": [
    "\n",
    "Du kannst diese Aufgaben lösen, indem du Python's Formatierungsfähigkeiten verwendest, wie die `.format()` Methode, f-Strings, die `%`-Syntax und einige eingebaute Funktionen wie `str.center()`. Viel Spaß beim Üben!"
   ]
  },
  {
   "cell_type": "markdown",
   "metadata": {},
   "source": [
    "#### Aufgabe 1\n",
    "Schreibe einen String, der die Methode `format()` verwendet, um die Variablen `stadt` und `land` in einen Satz einzufügen.\n",
    "\n",
    "```python\n",
    "stadt = \"Berlin\"\n",
    "land = \"Deutschland\"\n",
    "# Dein Code hier\n",
    "```"
   ]
  },
  {
   "cell_type": "code",
   "execution_count": 10,
   "metadata": {},
   "outputs": [
    {
     "name": "stdout",
     "output_type": "stream",
     "text": [
      "Berlin ist die schönste Stadt in Deutschland\n",
      "Berlin ist die schönste Stadt in Deutschland\n",
      "Berlin ist die schönste Stadt in Deutschland\n"
     ]
    }
   ],
   "source": [
    "stadt = \"Berlin\"\n",
    "land = \"Deutschland\"\n",
    "print(\"{} ist die schönste Stadt in {}\".format(stadt, land))\n",
    "print(\"{0} ist die schönste Stadt in {1}\".format(stadt, land))\n",
    "print(\"{s} ist die schönste Stadt in {l}\".format(s=stadt, l=land))\n"
   ]
  },
  {
   "cell_type": "markdown",
   "metadata": {},
   "source": [
    "#### Aufgabe 2\n",
    "Benutze f-Strings, um denselben Satz wie in Aufgabe 1 zu erstellen.\n",
    "\n",
    "```python\n",
    "stadt = \"Berlin\"\n",
    "land = \"Deutschland\"\n",
    "# Dein Code hier\n",
    "```"
   ]
  },
  {
   "cell_type": "code",
   "execution_count": 11,
   "metadata": {},
   "outputs": [
    {
     "name": "stdout",
     "output_type": "stream",
     "text": [
      "Berlin ist die schönste Stadt in Deutschland\n"
     ]
    }
   ],
   "source": [
    "print(f\"{stadt} ist die schönste Stadt in {land}\")"
   ]
  },
  {
   "cell_type": "markdown",
   "metadata": {},
   "source": [
    "\n",
    "#### Aufgabe 3\n",
    "Formatiere die folgenden Zahlen innerhalb eines Strings auf zwei Dezimalstellen:\n",
    "\n",
    "```python\n",
    "zahl1 = 3.14159\n",
    "zahl2 = 2.71828\n",
    "# Dein Code hier\n",
    "```\n"
   ]
  },
  {
   "cell_type": "code",
   "execution_count": 12,
   "metadata": {},
   "outputs": [
    {
     "name": "stdout",
     "output_type": "stream",
     "text": [
      "Zahl1: 3.14, Zahl2: 2.72\n",
      "Zahl 1: 3.14, Zahl 2: 2.72\n",
      "3.14, 2.72\n"
     ]
    }
   ],
   "source": [
    "zahl1 = 3.14159\n",
    "zahl2 = 2.71828\n",
    "print(f'Zahl1: {round(zahl1, 2)}, Zahl2: {round(zahl2, 2)}')\n",
    "\n",
    "f_string = f\"Zahl 1: {zahl1:.2f}, Zahl 2: {zahl2:.2f}\"\n",
    "print(f_string)\n",
    "\n",
    "print('%4.2f, %4.2f' % (3.14159, 2.71828)) # 4 wie viel Zeichens insgesammt, \n"
   ]
  },
  {
   "cell_type": "markdown",
   "metadata": {},
   "source": [
    "\n",
    "#### Aufgabe 4\n",
    "Erstelle einen String, der die Variable `temperatur` mit Vorzeichen (+/-) formatiert.\n",
    "\n",
    "```python\n",
    "temperatur = -5.11\n",
    "# Dein Code hier\n",
    "```\n"
   ]
  },
  {
   "cell_type": "code",
   "execution_count": 13,
   "metadata": {},
   "outputs": [
    {
     "name": "stdout",
     "output_type": "stream",
     "text": [
      "-5.11\n"
     ]
    }
   ],
   "source": [
    "temperatur = - 5.11\n",
    "print(\"%+1.2f\" % (temperatur))# 1 = 1 Zeichen, .2f wie viel Zeichen nach Klamma geht"
   ]
  },
  {
   "cell_type": "markdown",
   "metadata": {},
   "source": [
    "#### Aufgabe 5\n",
    "Fülle die untenstehenden Variablen in einen mehrzeiligen String mit Einrückungen ein.\n",
    "\n",
    "```python\n",
    "titel = \"Python Programmierung\"\n",
    "level = \"Anfänger\"\n",
    "dauer = \"4 Wochen\"\n",
    "# Dein Code hier\n",
    "```"
   ]
  },
  {
   "cell_type": "code",
   "execution_count": 28,
   "metadata": {},
   "outputs": [
    {
     "name": "stdout",
     "output_type": "stream",
     "text": [
      "         Python Programmierung             Anfänger             4 Wochen\n",
      "         Python Programmierung\n",
      "         Anfänger \n",
      "         4 Wochen\n",
      " \n",
      "titel = Python Programmierung\n",
      "level = Anfänger\n",
      "dauer = 4 Wochen\n",
      "\n",
      " \n",
      "titel = Python Programmierung\n",
      "level = Anfänger\n",
      "dauer = 4 Wochen\n",
      "\n"
     ]
    }
   ],
   "source": [
    "titel = \"Python Programmierung\"\n",
    "level = \"Anfänger\"\n",
    "dauer = \"4 Wochen\"\n",
    "print('{0:>30} {1:>20} {2:>20}'.format(titel,level,dauer))# es ist nicht mehrezeichens\n",
    "print('{0:>30}\\n {1:>16} \\n{2:>17}'.format(titel,level,dauer))# es ist nicht mehrezeichens\n",
    "#mehrezeichens mit ''' '''\n",
    "mehr_zeiliger_string = f''' \n",
    "titel = {titel}\n",
    "level = {level}\n",
    "dauer = {dauer}\n",
    "'''\n",
    "print(mehr_zeiliger_string)\n",
    "#oder mit format\n",
    "mehr_zeiliger_string = ''' \n",
    "titel = {}\n",
    "level = {}\n",
    "dauer = {}\n",
    "'''.format(titel, level, dauer)\n",
    "print(mehr_zeiliger_string)"
   ]
  },
  {
   "cell_type": "markdown",
   "metadata": {},
   "source": [
    "\n",
    "#### Aufgabe 6\n",
    "Verwende die alte `%`-Syntax, um die Variablen `vorname` und `nachname` in einen String einzubinden.\n",
    "\n",
    "```python\n",
    "vorname = \"Max\"\n",
    "nachname = \"Mustermann\"\n",
    "# Dein Code hier\n",
    "```\n"
   ]
  },
  {
   "cell_type": "code",
   "execution_count": 29,
   "metadata": {},
   "outputs": [
    {
     "name": "stdout",
     "output_type": "stream",
     "text": [
      "Max Mustermann\n"
     ]
    }
   ],
   "source": [
    "vorname = \"Max\"\n",
    "nachname = \"Mustermann\"\n",
    "print('%s %s'%(vorname, nachname))"
   ]
  },
  {
   "cell_type": "markdown",
   "metadata": {},
   "source": [
    "#### Aufgabe 7\n",
    "Erstelle einen String, der ein Dictionary verwendet, um die Werte einzusetzen.\n",
    "\n",
    "```python\n",
    "person_info = {'name': 'Lisa', 'alter': 34}\n",
    "# Dein Code hier\n",
    "```"
   ]
  },
  {
   "cell_type": "code",
   "execution_count": 46,
   "metadata": {},
   "outputs": [
    {
     "name": "stdout",
     "output_type": "stream",
     "text": [
      "Lisa ist 34 alt \n",
      "Lisa ist 34 alt\n",
      "Lisa ist 34 alt \n",
      "Ich bin Lisa, 34 Jahre alt\n",
      "Lisa ist 34 alt.\n",
      "______________________________\n",
      "Countries and their capitals:\n",
      "Vereinigte Staaten: Washington\n",
      "US: Washington\n",
      "Kanada: Ottawa\n",
      "Deutschland: Berlin\n",
      "Frankreich: Paris\n",
      "England: London\n",
      "______________________________\n",
      "Vereinigte Staaten: Washington\n",
      "US: Washington\n",
      "Kanada: Ottawa\n",
      "Deutschland: Berlin\n",
      "Frankreich: Paris\n",
      "England: London\n"
     ]
    }
   ],
   "source": [
    "person_info = {'name': 'Lisa', 'alter': 34}\n",
    " \n",
    "print('{name} ist {alter} alt '.format(**person_info))\n",
    "print(f'{person_info[\"name\"]} ist {person_info[\"alter\"]} alt')\n",
    "print('{name} ist {alter} alt '.format(name = 'Lisa', alter = 34))\n",
    "print('Ich bin %s, %i Jahre alt'%(person_info.get('name'), person_info.get('alter')))\n",
    "name = person_info['name']\n",
    "alter =  person_info['alter']\n",
    "print(name + ' ist ' + str(alter)+' alt.')\n",
    "\n",
    "print('_'*30)\n",
    "capital_country = {\"Vereinigte Staaten\" : \"Washington\",\n",
    "                   \"US\" : \"Washington\",\"Kanada\" : \"Ottawa\",\n",
    "                   \"Deutschland\": \"Berlin\",\"Frankreich\" : \"Paris\",\n",
    "                   \"England\" : \"London\"}\n",
    "print(\"Countries and their capitals:\")\n",
    "for c in capital_country:\n",
    "    format_string = c + \": {\" + c + \"}\"\n",
    "    print(format_string.format(**capital_country))\n",
    "print('_'*30)\n",
    "for zeichen in capital_country:\n",
    "    format_string = zeichen + \": {\" + zeichen + \"}\"\n",
    "    print(format_string.format(**capital_country))\n",
    "\n"
   ]
  },
  {
   "cell_type": "markdown",
   "metadata": {},
   "source": [
    "#### Aufgabe 8\n",
    "Formatiere die folgenden Zahlen als Währung, wobei das Symbol für den Euro verwendet wird.\n",
    "\n",
    "```python\n",
    "preis1 = 49.99\n",
    "preis2 = 19.90\n",
    "# Dein Code hier\n",
    "```"
   ]
  },
  {
   "cell_type": "code",
   "execution_count": 51,
   "metadata": {},
   "outputs": [
    {
     "name": "stdout",
     "output_type": "stream",
     "text": [
      "49.99 €\n",
      " 19.9 €\n",
      "€49.99\n",
      "€19.90\n",
      "€49.99\n",
      "€19.90\n",
      "49.99€\n",
      " 19.9€\n",
      "49.99€\n",
      "19.90€\n"
     ]
    }
   ],
   "source": [
    "preis1 = 49.99\n",
    "preis2 = 19.90\n",
    "waehrung = '€'\n",
    "print('{0} {2}\\n {1} {2}'.format(preis1,preis2,waehrung))\n",
    "print(f'€{preis1:.2f}')\n",
    "print(f'€{preis2:.2f}')\n",
    "print(f'€{preis1:.2f}\\n€{preis2:.2f}')\n",
    "print('{}€\\n {}€'.format(preis1,preis2))\n",
    "print(f'{preis1:.2f}€\\n{preis2:.2f}€')\n"
   ]
  },
  {
   "cell_type": "markdown",
   "metadata": {},
   "source": [
    "#### Aufgabe 9\n",
    "Erstelle einen String, der dynamisch die Breite eines anderen Strings anpasst, sodass er immer in einem Feld von 20 Zeichen zentriert ist.\n",
    "\n",
    "```python\n",
    "benutzername = \"julia_schmidt\"\n",
    "# Dein Code hier\n",
    "```"
   ]
  },
  {
   "cell_type": "code",
   "execution_count": 55,
   "metadata": {},
   "outputs": [
    {
     "name": "stdout",
     "output_type": "stream",
     "text": [
      "|   julia_schmidt    |\n",
      "|   julia_schmidt    |\n"
     ]
    }
   ],
   "source": [
    "benutzername = \"julia_schmidt\"\n",
    "breite = 20\n",
    " \n",
    "z_benutzername = benutzername.center(breite)\n",
    "print(f\"|{z_benutzername}|\")\n",
    "name = \"julia_schmidt\"\n",
    "print(f'|{name:^20}|')\n"
   ]
  },
  {
   "cell_type": "markdown",
   "metadata": {},
   "source": [
    "\n",
    "#### Aufgabe 10\n",
    "Erstelle eine Ausgabe in Tabellenform für Produktinformationen, die die Produktnamen, Stückzahlen und Preise in einer ausgerichteten Tabelle darstellt.\n",
    "\n",
    "```python\n",
    "produkte = [\n",
    "    {\"name\": \"Tastatur\", \"menge\": 14, \"preis\": 29.99},\n",
    "    {\"name\": \"Maus\", \"menge\": 33, \"preis\": 19.95},\n",
    "    {\"name\": \"Monitor\", \"menge\": 5, \"preis\": 89.99}\n",
    "]\n",
    "# Dein Code hier\n",
    "```\n"
   ]
  },
  {
   "cell_type": "code",
   "execution_count": 75,
   "metadata": {},
   "outputs": [
    {
     "name": "stdout",
     "output_type": "stream",
     "text": [
      "name      |  menge   |     preis\n",
      "---------------------------------\n",
      "Tastatur  |    14    |     29.99\n",
      "Maus      |    33    |     19.95\n",
      "Monitor   |    5     |     89.99\n",
      "---------------------------------\n",
      "Produkt    Menge      Preis (€) \n",
      "------------------------------\n",
      "Tastatur   14         29.99     \n",
      "Maus       33         19.95     \n",
      "Monitor    5          89.99     \n",
      "name      |  menge   |     preis\n",
      "---------------------------------\n",
      "Tastatur  |    14    |     29.99\n",
      "Maus      |    33    |     19.95\n",
      "Monitor   |    5     |     89.99\n",
      "---------------------------------\n",
      "name      |  menge   |     preis\n",
      "---------------------------------\n",
      "n         |    a     |         m\n",
      "n         |    a     |         m\n",
      "n         |    a     |         m\n",
      "---------------------------------\n"
     ]
    }
   ],
   "source": [
    "produkte = [\n",
    "    {\"name\": \"Tastatur\", \"menge\": 14, \"preis\": 29.99},\n",
    "    {\"name\": \"Maus\", \"menge\": 33, \"preis\": 19.95},\n",
    "    {\"name\": \"Monitor\", \"menge\": 5, \"preis\": 89.99}\n",
    "]\n",
    "\n",
    "column_names = produkte[0].keys()\n",
    "header = \"{0:<10}|{1:^10}|{2:>10}\".format(*column_names)\n",
    "print(header)\n",
    "print('-'*33)\n",
    "#iteriere über alle Produkte\n",
    "for p in produkte:\n",
    "    print(\"{0:<10}|{1:^10}|{2:>10}\".format(p['name'], p['menge'], p['preis']))\n",
    "\n",
    "\n",
    "#for p in produkte:\n",
    "print(\"-\" * 33)\n",
    "\n",
    "#Andere Variante:\n",
    "produkte = [\n",
    "    {\"name\": \"Tastatur\", \"menge\": 14, \"preis\": 29.99},\n",
    "    {\"name\": \"Maus\", \"menge\": 33, \"preis\": 19.95},\n",
    "    {\"name\": \"Monitor\", \"menge\": 5, \"preis\": 89.99}\n",
    "]\n",
    "print(f\"{'Produkt':<10} {'Menge':<10} {'Preis (€)':<10}\")\n",
    "print(\"-\" * 30)\n",
    "for produkt in produkte:\n",
    "    print(f\"{produkt['name']:<10} {produkt['menge']:<10} {produkt['preis']:<10.2f}\")\n",
    "\n",
    "produkte = [\n",
    "    {\"name\": \"Tastatur\", \"menge\": 14, \"preis\": 29.99},\n",
    "    {\"name\": \"Maus\", \"menge\": 33, \"preis\": 19.95},\n",
    "    {\"name\": \"Monitor\", \"menge\": 5, \"preis\": 89.99}\n",
    "]\n",
    "\n",
    "column_names = produkte[0].keys()\n",
    "header = \"{0:<10}|{1:^10}|{2:>10}\".format(*column_names)\n",
    "print(header)\n",
    "print('-'*33)\n",
    "#iteriere über alle Produkte\n",
    "for p in produkte:\n",
    "    print(\"{name:<10}|{menge:^10}|{preis:>10}\".format(**p)) #['name'], p['menge'], p['preis']))\n",
    "\n",
    "\n",
    "#for p in produkte:\n",
    "print(\"-\" * 33)\n",
    "\n",
    "column_names = produkte[0].keys()\n",
    "header = \"{0:<10}|{1:^10}|{2:>10}\".format(*column_names)\n",
    "print(header)\n",
    "print('-'*33)\n",
    "#iteriere über alle Produkte\n",
    "for p in produkte:\n",
    "    #print(\"{+header[0]:<10}|{+header[1]:^10}|{+header[2]:>10}\".format(**p)) #['name'], p['menge'], p['preis']))\n",
    "    print(\"{:<10}|{:^10}|{:>10}\".format(header[0], header[1], header[2]))\n",
    "\n",
    "\n",
    "#for p in produkte:\n",
    "print(\"-\" * 33)\n"
   ]
  }
 ],
 "metadata": {
  "kernelspec": {
   "display_name": "Python 3",
   "language": "python",
   "name": "python3"
  },
  "language_info": {
   "codemirror_mode": {
    "name": "ipython",
    "version": 3
   },
   "file_extension": ".py",
   "mimetype": "text/x-python",
   "name": "python",
   "nbconvert_exporter": "python",
   "pygments_lexer": "ipython3",
   "version": "3.12.4"
  }
 },
 "nbformat": 4,
 "nbformat_minor": 2
}
