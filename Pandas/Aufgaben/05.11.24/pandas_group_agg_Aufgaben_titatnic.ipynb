{
 "cells": [
  {
   "cell_type": "markdown",
   "metadata": {},
   "source": [
    "## Gruppierungen und Aggregationen\n",
    "Hier sind einige Aufgaben für die Verwendung von groupby mit der Titanic-Datenbank (titanic.csv). Diese Aufgaben sollen helfen, das Verständnis für Gruppierungen und Aggregationen zu verbessern.\n",
    "\n",
    "### Aufgabe 0\n",
    "Importiere die benötigten Bibliotheken und erstelle mit der Datei `titanic.csv` ein DataFrame."
   ]
  },
  {
   "cell_type": "code",
   "execution_count": 31,
   "metadata": {},
   "outputs": [
    {
     "data": {
      "text/html": [
       "<div>\n",
       "<style scoped>\n",
       "    .dataframe tbody tr th:only-of-type {\n",
       "        vertical-align: middle;\n",
       "    }\n",
       "\n",
       "    .dataframe tbody tr th {\n",
       "        vertical-align: top;\n",
       "    }\n",
       "\n",
       "    .dataframe thead th {\n",
       "        text-align: right;\n",
       "    }\n",
       "</style>\n",
       "<table border=\"1\" class=\"dataframe\">\n",
       "  <thead>\n",
       "    <tr style=\"text-align: right;\">\n",
       "      <th></th>\n",
       "      <th>PassengerId</th>\n",
       "      <th>Survived</th>\n",
       "      <th>Pclass</th>\n",
       "      <th>Name</th>\n",
       "      <th>Sex</th>\n",
       "      <th>Age</th>\n",
       "      <th>SibSp</th>\n",
       "      <th>Parch</th>\n",
       "      <th>Ticket</th>\n",
       "      <th>Fare</th>\n",
       "      <th>Cabin</th>\n",
       "      <th>Embarked</th>\n",
       "    </tr>\n",
       "  </thead>\n",
       "  <tbody>\n",
       "    <tr>\n",
       "      <th>0</th>\n",
       "      <td>1</td>\n",
       "      <td>0</td>\n",
       "      <td>3</td>\n",
       "      <td>Braund, Mr. Owen Harris</td>\n",
       "      <td>male</td>\n",
       "      <td>22.0</td>\n",
       "      <td>1</td>\n",
       "      <td>0</td>\n",
       "      <td>A/5 21171</td>\n",
       "      <td>7.2500</td>\n",
       "      <td>NaN</td>\n",
       "      <td>S</td>\n",
       "    </tr>\n",
       "    <tr>\n",
       "      <th>1</th>\n",
       "      <td>2</td>\n",
       "      <td>1</td>\n",
       "      <td>1</td>\n",
       "      <td>Cumings, Mrs. John Bradley (Florence Briggs Th...</td>\n",
       "      <td>female</td>\n",
       "      <td>38.0</td>\n",
       "      <td>1</td>\n",
       "      <td>0</td>\n",
       "      <td>PC 17599</td>\n",
       "      <td>71.2833</td>\n",
       "      <td>C85</td>\n",
       "      <td>C</td>\n",
       "    </tr>\n",
       "    <tr>\n",
       "      <th>2</th>\n",
       "      <td>3</td>\n",
       "      <td>1</td>\n",
       "      <td>3</td>\n",
       "      <td>Heikkinen, Miss. Laina</td>\n",
       "      <td>female</td>\n",
       "      <td>26.0</td>\n",
       "      <td>0</td>\n",
       "      <td>0</td>\n",
       "      <td>STON/O2. 3101282</td>\n",
       "      <td>7.9250</td>\n",
       "      <td>NaN</td>\n",
       "      <td>S</td>\n",
       "    </tr>\n",
       "  </tbody>\n",
       "</table>\n",
       "</div>"
      ],
      "text/plain": [
       "   PassengerId  Survived  Pclass  \\\n",
       "0            1         0       3   \n",
       "1            2         1       1   \n",
       "2            3         1       3   \n",
       "\n",
       "                                                Name     Sex   Age  SibSp  \\\n",
       "0                            Braund, Mr. Owen Harris    male  22.0      1   \n",
       "1  Cumings, Mrs. John Bradley (Florence Briggs Th...  female  38.0      1   \n",
       "2                             Heikkinen, Miss. Laina  female  26.0      0   \n",
       "\n",
       "   Parch            Ticket     Fare Cabin Embarked  \n",
       "0      0         A/5 21171   7.2500   NaN        S  \n",
       "1      0          PC 17599  71.2833   C85        C  \n",
       "2      0  STON/O2. 3101282   7.9250   NaN        S  "
      ]
     },
     "execution_count": 31,
     "metadata": {},
     "output_type": "execute_result"
    }
   ],
   "source": [
    "import numpy as np\n",
    "import pandas as pd\n",
    "import matplotlib.pyplot as plt\n",
    "\n",
    "df = pd.read_csv('titanic.csv')\n",
    "df.head(3)"
   ]
  },
  {
   "cell_type": "markdown",
   "metadata": {},
   "source": [
    "### Aufgabe 0.5\n",
    "Verschaffe dir einen Überblick über die Daten, welche Spalten gibt es, welche Datentypen haben diese, etc..."
   ]
  },
  {
   "cell_type": "code",
   "execution_count": 32,
   "metadata": {},
   "outputs": [
    {
     "name": "stdout",
     "output_type": "stream",
     "text": [
      "Anzahl Zeilen und Spalten ist (891, 12)\n"
     ]
    },
    {
     "data": {
      "text/plain": [
       "PassengerId      int64\n",
       "Survived         int64\n",
       "Pclass           int64\n",
       "Name            object\n",
       "Sex             object\n",
       "Age            float64\n",
       "SibSp            int64\n",
       "Parch            int64\n",
       "Ticket          object\n",
       "Fare           float64\n",
       "Cabin           object\n",
       "Embarked        object\n",
       "dtype: object"
      ]
     },
     "execution_count": 32,
     "metadata": {},
     "output_type": "execute_result"
    }
   ],
   "source": [
    "print(f'Anzahl Zeilen und Spalten ist {df.shape}')\n",
    "df.dtypes"
   ]
  },
  {
   "cell_type": "markdown",
   "metadata": {},
   "source": [
    "### Aufgabe 1: Überlebensrate nach Klasse\n",
    "Gruppiere die Daten nach der Klasse (Pclass) und berechne die Überlebensrate für jede Klasse.<br>\n",
    "Hinweis: Verwende die mean-Funktion auf der Spalte Survived, um die Überlebensrate zu berechnen."
   ]
  },
  {
   "cell_type": "code",
   "execution_count": 33,
   "metadata": {},
   "outputs": [
    {
     "name": "stdout",
     "output_type": "stream",
     "text": [
      "Pclass\n",
      "1    136\n",
      "2     87\n",
      "3    119\n",
      "Name: Survived, dtype: int64\n",
      "Pclass\n",
      "1    0.629630\n",
      "2    0.472826\n",
      "3    0.242363\n",
      "Name: Survived, dtype: float64\n"
     ]
    }
   ],
   "source": [
    "gr = df.groupby('Pclass')['Survived'].sum()\n",
    "print(gr)\n",
    "\n",
    "durchschnittlich =  df.groupby('Pclass')['Survived'].mean()\n",
    "print(durchschnittlich)"
   ]
  },
  {
   "cell_type": "markdown",
   "metadata": {},
   "source": [
    "### Aufgabe 2: Durchschnittsalter nach Geschlecht und Klasse\n",
    "Berechne das Durchschnittsalter (Age) der Passagiere, gruppiert nach Geschlecht (Sex) und Klasse (Pclass).<br>\n",
    "Untersuche, ob es signifikante Unterschiede im Durchschnittsalter zwischen den Klassen und Geschlechtern gibt."
   ]
  },
  {
   "cell_type": "code",
   "execution_count": 34,
   "metadata": {},
   "outputs": [
    {
     "name": "stdout",
     "output_type": "stream",
     "text": [
      "Sex     Pclass\n",
      "female  1         34.61\n",
      "        2         28.72\n",
      "        3         21.75\n",
      "male    1         41.28\n",
      "        2         30.74\n",
      "        3         26.51\n",
      "Name: Age, dtype: float64\n"
     ]
    }
   ],
   "source": [
    "mean_alter = df.groupby(['Sex','Pclass'])['Age'].mean().round(2)\n",
    "print(mean_alter)\n",
    "#mean_alter.to_frame"
   ]
  },
  {
   "cell_type": "markdown",
   "metadata": {},
   "source": [
    "### Aufgabe 3: Analyse der Ticketpreise nach Überlebensstatus\n",
    "Gruppiere die Daten nach dem Überlebensstatus (Survived) und berechne den durchschnittlichen Ticketpreis (Fare) für Überlebende und Nicht-Überlebende.<br>\n",
    "Berechne zusätzlich den Median und die Standardabweichung des Ticketpreises für jede Gruppe.<br>\n",
    "Wieviele Passagiere haben keine Gebühr (also 0) bezahlt ?"
   ]
  },
  {
   "cell_type": "code",
   "execution_count": 35,
   "metadata": {},
   "outputs": [
    {
     "name": "stdout",
     "output_type": "stream",
     "text": [
      "Durchschnittliche Price ist Survived\n",
      "0    22.117887\n",
      "1    48.395408\n",
      "Name: Fare, dtype: float64\n",
      "\n",
      " Median ist Survived\n",
      "0    10.5\n",
      "1    26.0\n",
      "Name: Fare, dtype: float64\n",
      "\n",
      "Standartabweichung istSurvived\n",
      "0    31.388207\n",
      "1    66.596998\n",
      "Name: Fare, dtype: float64\n",
      "\n",
      "\n",
      "Anzahl der Passagieren, die keine Gebür bezahlt haben:\n",
      "15\n"
     ]
    }
   ],
   "source": [
    "mean_ticket_price = df.groupby(['Survived'])['Fare'].mean()\n",
    "median_ticket_price = df.groupby(['Survived'])['Fare'].median()\n",
    "abw_ticket_price = df.groupby(['Survived'])['Fare'].std()\n",
    "keine_gebuer = df[df['Fare'] == 0].shape[0] # Der DataFrame wird mit der Bedinung Fare = 0  gefiltert, shape gibt die Dimensionen zurück\n",
    "print(f'Durchschnittliche Price ist {mean_ticket_price}\\n\\n Median ist {median_ticket_price}\\n\\nStandartabweichung ist{abw_ticket_price}\\n\\n')\n",
    "print(f'Anzahl der Passagieren, die keine Gebür bezahlt haben:\\n{keine_gebuer}')\n"
   ]
  },
  {
   "cell_type": "code",
   "execution_count": 36,
   "metadata": {},
   "outputs": [
    {
     "data": {
      "text/html": [
       "<div>\n",
       "<style scoped>\n",
       "    .dataframe tbody tr th:only-of-type {\n",
       "        vertical-align: middle;\n",
       "    }\n",
       "\n",
       "    .dataframe tbody tr th {\n",
       "        vertical-align: top;\n",
       "    }\n",
       "\n",
       "    .dataframe thead th {\n",
       "        text-align: right;\n",
       "    }\n",
       "</style>\n",
       "<table border=\"1\" class=\"dataframe\">\n",
       "  <thead>\n",
       "    <tr style=\"text-align: right;\">\n",
       "      <th></th>\n",
       "      <th>mean</th>\n",
       "      <th>median</th>\n",
       "      <th>std</th>\n",
       "    </tr>\n",
       "    <tr>\n",
       "      <th>Survived</th>\n",
       "      <th></th>\n",
       "      <th></th>\n",
       "      <th></th>\n",
       "    </tr>\n",
       "  </thead>\n",
       "  <tbody>\n",
       "    <tr>\n",
       "      <th>0</th>\n",
       "      <td>22.12</td>\n",
       "      <td>10.5</td>\n",
       "      <td>31.39</td>\n",
       "    </tr>\n",
       "    <tr>\n",
       "      <th>1</th>\n",
       "      <td>48.40</td>\n",
       "      <td>26.0</td>\n",
       "      <td>66.60</td>\n",
       "    </tr>\n",
       "  </tbody>\n",
       "</table>\n",
       "</div>"
      ],
      "text/plain": [
       "           mean  median    std\n",
       "Survived                      \n",
       "0         22.12    10.5  31.39\n",
       "1         48.40    26.0  66.60"
      ]
     },
     "execution_count": 36,
     "metadata": {},
     "output_type": "execute_result"
    }
   ],
   "source": [
    "ticketpreice = df.groupby('Survived')['Fare'].agg(['mean', 'median', 'std']).round(2)\n",
    "ticketpreice"
   ]
  },
  {
   "cell_type": "code",
   "execution_count": 37,
   "metadata": {},
   "outputs": [
    {
     "name": "stdout",
     "output_type": "stream",
     "text": [
      "15\n"
     ]
    }
   ],
   "source": [
    "print(df['Fare'].value_counts().loc[0])"
   ]
  },
  {
   "cell_type": "markdown",
   "metadata": {},
   "source": [
    "### Aufgabe 4: Geschlechterverteilung pro Klasse\n",
    "Bestimme die Anzahl der männlichen und weiblichen Passagiere in jeder Klasse (Pclass).<br>\n",
    "Überlege, wie man die Daten visualisieren könnte, um die Geschlechterverteilung je Klasse zu zeigen."
   ]
  },
  {
   "cell_type": "code",
   "execution_count": 38,
   "metadata": {},
   "outputs": [
    {
     "name": "stdout",
     "output_type": "stream",
     "text": [
      "Anzahl der Männer bei Pclass\n",
      "1    122\n",
      "2    108\n",
      "3    347\n",
      "dtype: int64\n",
      "\n",
      "Anzahl der Frauen bei Pclass\n",
      "1     94\n",
      "2     76\n",
      "3    144\n",
      "dtype: int64\n",
      "Anzahl der Männer und Frauen in der 3. Klasse:\n",
      "Sex\n",
      "male      347\n",
      "female    144\n",
      "Name: count, dtype: int64\n",
      "Anzahl der überlebenden Männer und Frauen in der 3. Klasse:\n",
      "Sex\n",
      "female    72\n",
      "male      47\n",
      "Name: count, dtype: int64\n",
      "Anzahl der überlebenden Männer und Frauen in der 2. Klasse:\n",
      "Sex\n",
      "female    70\n",
      "male      17\n",
      "Name: count, dtype: int64\n",
      "Anzahl der überlebenden Männer und Frauen in der 1. Klasse:\n",
      "Sex\n",
      "female    91\n",
      "male      45\n",
      "Name: count, dtype: int64\n"
     ]
    }
   ],
   "source": [
    "mann = df[df['Sex'] == 'male'].groupby('Pclass').size()\n",
    "frau = df[df['Sex'] == 'female'].groupby('Pclass').size()\n",
    "print(f'Anzahl der Männer bei {mann}\\n\\nAnzahl der Frauen bei {frau}')\n",
    "mann = df[df['Sex'] == 'male'].groupby('Pclass').size()\n",
    "\n",
    "# Passagiere der 3. Klasse und Gruppierung nach Geschlecht\n",
    "anzahl_maenner_frauen = df[df['Pclass'] == 3]['Sex'].value_counts()\n",
    "print(\"Anzahl der Männer und Frauen in der 3. Klasse:\")\n",
    "print(anzahl_maenner_frauen)\n",
    "\n",
    "\n",
    "# Passagiere der 3. Klasse, die überlebt haben\n",
    "ueberlebt_maenner_frauen = df[(df['Pclass'] == 3) & (df['Survived'] == 1)]['Sex'].value_counts()\n",
    "print(\"Anzahl der überlebenden Männer und Frauen in der 3. Klasse:\")\n",
    "print(ueberlebt_maenner_frauen)\n",
    "\n",
    "# Passagiere der 2. Klasse, die überlebt haben\n",
    "ueberlebt_maenner_frauen = df[(df['Pclass'] == 2) & (df['Survived'] == 1)]['Sex'].value_counts()\n",
    "print(\"Anzahl der überlebenden Männer und Frauen in der 2. Klasse:\")\n",
    "print(ueberlebt_maenner_frauen)\n",
    "\n",
    "# Passagiere der 2. Klasse, die überlebt haben\n",
    "ueberlebt_maenner_frauen = df[(df['Pclass'] == 1) & (df['Survived'] == 1)]['Sex'].value_counts()\n",
    "print(\"Anzahl der überlebenden Männer und Frauen in der 1. Klasse:\")\n",
    "print(ueberlebt_maenner_frauen)\n"
   ]
  },
  {
   "cell_type": "code",
   "execution_count": 65,
   "metadata": {},
   "outputs": [
    {
     "data": {
      "image/png": "[encoded data removed]",
      "text/plain": [
       "<Figure size 1500x500 with 3 Axes>"
      ]
     },
     "metadata": {},
     "output_type": "display_data"
    }
   ],
   "source": [
    "import matplotlib.pyplot as plt\n",
    "\n",
    "# Anzahl der überlebenden Männer und Frauen in der 3. Klasse\n",
    "ueberlebt_maenner_frauen_3 = df[(df['Pclass'] == 3) & (df['Survived'] == 1)]['Sex'].value_counts()\n",
    "\n",
    "# Anzahl der überlebenden Männer und Frauen in der 2. Klasse\n",
    "ueberlebt_maenner_frauen_2 = df[(df['Pclass'] == 2) & (df['Survived'] == 1)]['Sex'].value_counts()\n",
    "\n",
    "# Anzahl der überlebenden Männer und Frauen in der 1. Klasse\n",
    "ueberlebt_maenner_frauen_1 = df[(df['Pclass'] == 1) & (df['Survived'] == 1)]['Sex'].value_counts()\n",
    "\n",
    "# Erstellen des Subplots (1 Zeile, 3 Spalten)\n",
    "fig, axes = plt.subplots(1, 3, figsize=(15, 5))  # Anpassen der Größe für bessere Lesbarkeit\n",
    "fig.suptitle('Visualisierung der Passagierdaten nach Klasse und Geschlecht')\n",
    "\n",
    "# Plot für die Anzahl der Männer und Frauen in der 3. Klasse\n",
    "axes[0].bar(ueberlebt_maenner_frauen_3.index, ueberlebt_maenner_frauen_3.values, color=['blue', 'orange'])\n",
    "axes[0].set_title('Überlebende Männer und Frauen in der 3. Klasse')\n",
    "axes[0].set_ylabel('Anzahl')\n",
    "\n",
    "# Plot für die Anzahl der überlebenden Männer und Frauen in der 2. Klasse\n",
    "axes[1].bar(ueberlebt_maenner_frauen_2.index, ueberlebt_maenner_frauen_2.values, color=['blue', 'orange'])\n",
    "axes[1].set_title('Überlebende Männer und Frauen in der 2. Klasse')\n",
    "axes[1].set_ylabel('Anzahl')\n",
    "\n",
    "# Plot für die Anzahl der überlebenden Männer und Frauen in der 1. Klasse\n",
    "axes[2].bar(ueberlebt_maenner_frauen_1.index, ueberlebt_maenner_frauen_1.values, color=['blue', 'orange'])\n",
    "axes[2].set_title('Überlebende Männer und Frauen in der 1. Klasse')\n",
    "axes[2].set_ylabel('Anzahl')\n",
    "\n",
    "# Layout anpassen und anzeigen\n",
    "plt.tight_layout(rect=[0, 0, 1, 0.95])  # Platz für den Titel schaffen\n",
    "plt.show()\n"
   ]
  },
  {
   "cell_type": "code",
   "execution_count": 66,
   "metadata": {},
   "outputs": [
    {
     "ename": "ValueError",
     "evalue": "The 'color' keyword argument must have one color per dataset, but 1 datasets and 2 colors were provided",
     "output_type": "error",
     "traceback": [
      "\u001b[1;31m---------------------------------------------------------------------------\u001b[0m",
      "\u001b[1;31mValueError\u001b[0m                                Traceback (most recent call last)",
      "Cell \u001b[1;32mIn[66], line 6\u001b[0m\n\u001b[0;32m      3\u001b[0m fig\u001b[38;5;241m.\u001b[39msuptitle(\u001b[38;5;124m'\u001b[39m\u001b[38;5;124mVisualisierung der Passagierdaten nach Klasse und Geschlecht\u001b[39m\u001b[38;5;124m'\u001b[39m)\n\u001b[0;32m      5\u001b[0m \u001b[38;5;66;03m# Plot für die Anzahl der Männer und Frauen in der 3. Klasse\u001b[39;00m\n\u001b[1;32m----> 6\u001b[0m \u001b[43maxes\u001b[49m\u001b[43m[\u001b[49m\u001b[38;5;241;43m0\u001b[39;49m\u001b[43m]\u001b[49m\u001b[38;5;241;43m.\u001b[39;49m\u001b[43mhist\u001b[49m\u001b[43m(\u001b[49m\u001b[43mueberlebt_maenner_frauen_3\u001b[49m\u001b[38;5;241;43m.\u001b[39;49m\u001b[43mindex\u001b[49m\u001b[43m,\u001b[49m\u001b[43m \u001b[49m\u001b[43mueberlebt_maenner_frauen_3\u001b[49m\u001b[38;5;241;43m.\u001b[39;49m\u001b[43mvalues\u001b[49m\u001b[43m,\u001b[49m\u001b[43m \u001b[49m\u001b[43mcolor\u001b[49m\u001b[38;5;241;43m=\u001b[39;49m\u001b[43m[\u001b[49m\u001b[38;5;124;43m'\u001b[39;49m\u001b[38;5;124;43mblue\u001b[39;49m\u001b[38;5;124;43m'\u001b[39;49m\u001b[43m,\u001b[49m\u001b[43m \u001b[49m\u001b[38;5;124;43m'\u001b[39;49m\u001b[38;5;124;43morange\u001b[39;49m\u001b[38;5;124;43m'\u001b[39;49m\u001b[43m]\u001b[49m\u001b[43m)\u001b[49m\n\u001b[0;32m      7\u001b[0m axes[\u001b[38;5;241m0\u001b[39m]\u001b[38;5;241m.\u001b[39mset_title(\u001b[38;5;124m'\u001b[39m\u001b[38;5;124mÜberlebende Männer und Frauen in der 3. Klasse\u001b[39m\u001b[38;5;124m'\u001b[39m)\n\u001b[0;32m      8\u001b[0m axes[\u001b[38;5;241m0\u001b[39m]\u001b[38;5;241m.\u001b[39mset_ylabel(\u001b[38;5;124m'\u001b[39m\u001b[38;5;124mAnzahl\u001b[39m\u001b[38;5;124m'\u001b[39m)\n",
      "File \u001b[1;32mc:\\Users\\NataliaArchipenko\\AppData\\Local\\Programs\\Python\\Python312\\Lib\\site-packages\\matplotlib\\__init__.py:1473\u001b[0m, in \u001b[0;36m_preprocess_data.<locals>.inner\u001b[1;34m(ax, data, *args, **kwargs)\u001b[0m\n\u001b[0;32m   1470\u001b[0m \u001b[38;5;129m@functools\u001b[39m\u001b[38;5;241m.\u001b[39mwraps(func)\n\u001b[0;32m   1471\u001b[0m \u001b[38;5;28;01mdef\u001b[39;00m \u001b[38;5;21minner\u001b[39m(ax, \u001b[38;5;241m*\u001b[39margs, data\u001b[38;5;241m=\u001b[39m\u001b[38;5;28;01mNone\u001b[39;00m, \u001b[38;5;241m*\u001b[39m\u001b[38;5;241m*\u001b[39mkwargs):\n\u001b[0;32m   1472\u001b[0m     \u001b[38;5;28;01mif\u001b[39;00m data \u001b[38;5;129;01mis\u001b[39;00m \u001b[38;5;28;01mNone\u001b[39;00m:\n\u001b[1;32m-> 1473\u001b[0m         \u001b[38;5;28;01mreturn\u001b[39;00m \u001b[43mfunc\u001b[49m\u001b[43m(\u001b[49m\n\u001b[0;32m   1474\u001b[0m \u001b[43m            \u001b[49m\u001b[43max\u001b[49m\u001b[43m,\u001b[49m\n\u001b[0;32m   1475\u001b[0m \u001b[43m            \u001b[49m\u001b[38;5;241;43m*\u001b[39;49m\u001b[38;5;28;43mmap\u001b[39;49m\u001b[43m(\u001b[49m\u001b[43msanitize_sequence\u001b[49m\u001b[43m,\u001b[49m\u001b[43m \u001b[49m\u001b[43margs\u001b[49m\u001b[43m)\u001b[49m\u001b[43m,\u001b[49m\n\u001b[0;32m   1476\u001b[0m \u001b[43m            \u001b[49m\u001b[38;5;241;43m*\u001b[39;49m\u001b[38;5;241;43m*\u001b[39;49m\u001b[43m{\u001b[49m\u001b[43mk\u001b[49m\u001b[43m:\u001b[49m\u001b[43m \u001b[49m\u001b[43msanitize_sequence\u001b[49m\u001b[43m(\u001b[49m\u001b[43mv\u001b[49m\u001b[43m)\u001b[49m\u001b[43m \u001b[49m\u001b[38;5;28;43;01mfor\u001b[39;49;00m\u001b[43m \u001b[49m\u001b[43mk\u001b[49m\u001b[43m,\u001b[49m\u001b[43m \u001b[49m\u001b[43mv\u001b[49m\u001b[43m \u001b[49m\u001b[38;5;129;43;01min\u001b[39;49;00m\u001b[43m \u001b[49m\u001b[43mkwargs\u001b[49m\u001b[38;5;241;43m.\u001b[39;49m\u001b[43mitems\u001b[49m\u001b[43m(\u001b[49m\u001b[43m)\u001b[49m\u001b[43m}\u001b[49m\u001b[43m)\u001b[49m\n\u001b[0;32m   1478\u001b[0m     bound \u001b[38;5;241m=\u001b[39m new_sig\u001b[38;5;241m.\u001b[39mbind(ax, \u001b[38;5;241m*\u001b[39margs, \u001b[38;5;241m*\u001b[39m\u001b[38;5;241m*\u001b[39mkwargs)\n\u001b[0;32m   1479\u001b[0m     auto_label \u001b[38;5;241m=\u001b[39m (bound\u001b[38;5;241m.\u001b[39marguments\u001b[38;5;241m.\u001b[39mget(label_namer)\n\u001b[0;32m   1480\u001b[0m                   \u001b[38;5;129;01mor\u001b[39;00m bound\u001b[38;5;241m.\u001b[39mkwargs\u001b[38;5;241m.\u001b[39mget(label_namer))\n",
      "File \u001b[1;32mc:\\Users\\NataliaArchipenko\\AppData\\Local\\Programs\\Python\\Python312\\Lib\\site-packages\\matplotlib\\axes\\_axes.py:6957\u001b[0m, in \u001b[0;36mAxes.hist\u001b[1;34m(self, x, bins, range, density, weights, cumulative, bottom, histtype, align, orientation, rwidth, log, color, label, stacked, **kwargs)\u001b[0m\n\u001b[0;32m   6955\u001b[0m     colors \u001b[38;5;241m=\u001b[39m mcolors\u001b[38;5;241m.\u001b[39mto_rgba_array(color)\n\u001b[0;32m   6956\u001b[0m     \u001b[38;5;28;01mif\u001b[39;00m \u001b[38;5;28mlen\u001b[39m(colors) \u001b[38;5;241m!=\u001b[39m nx:\n\u001b[1;32m-> 6957\u001b[0m         \u001b[38;5;28;01mraise\u001b[39;00m \u001b[38;5;167;01mValueError\u001b[39;00m(\u001b[38;5;124mf\u001b[39m\u001b[38;5;124m\"\u001b[39m\u001b[38;5;124mThe \u001b[39m\u001b[38;5;124m'\u001b[39m\u001b[38;5;124mcolor\u001b[39m\u001b[38;5;124m'\u001b[39m\u001b[38;5;124m keyword argument must have one \u001b[39m\u001b[38;5;124m\"\u001b[39m\n\u001b[0;32m   6958\u001b[0m                          \u001b[38;5;124mf\u001b[39m\u001b[38;5;124m\"\u001b[39m\u001b[38;5;124mcolor per dataset, but \u001b[39m\u001b[38;5;132;01m{\u001b[39;00mnx\u001b[38;5;132;01m}\u001b[39;00m\u001b[38;5;124m datasets and \u001b[39m\u001b[38;5;124m\"\u001b[39m\n\u001b[0;32m   6959\u001b[0m                          \u001b[38;5;124mf\u001b[39m\u001b[38;5;124m\"\u001b[39m\u001b[38;5;132;01m{\u001b[39;00m\u001b[38;5;28mlen\u001b[39m(colors)\u001b[38;5;132;01m}\u001b[39;00m\u001b[38;5;124m colors were provided\u001b[39m\u001b[38;5;124m\"\u001b[39m)\n\u001b[0;32m   6961\u001b[0m hist_kwargs \u001b[38;5;241m=\u001b[39m \u001b[38;5;28mdict\u001b[39m()\n\u001b[0;32m   6963\u001b[0m \u001b[38;5;66;03m# if the bin_range is not given, compute without nan numpy\u001b[39;00m\n\u001b[0;32m   6964\u001b[0m \u001b[38;5;66;03m# does not do this for us when guessing the range (but will\u001b[39;00m\n\u001b[0;32m   6965\u001b[0m \u001b[38;5;66;03m# happily ignore nans when computing the histogram).\u001b[39;00m\n",
      "\u001b[1;31mValueError\u001b[0m: The 'color' keyword argument must have one color per dataset, but 1 datasets and 2 colors were provided"
     ]
    },
    {
     "data": {
      "image/png": "[encoded data removed]",
      "text/plain": [
       "<Figure size 1500x500 with 3 Axes>"
      ]
     },
     "metadata": {},
     "output_type": "display_data"
    }
   ],
   "source": [
    "# Erstellen des Subplots (1 Zeile, 3 Spalten)\n",
    "fig, axes = plt.subplots(1, 3, figsize=(15, 5))  # Anpassen der Größe für bessere Lesbarkeit\n",
    "fig.suptitle('Visualisierung der Passagierdaten nach Klasse und Geschlecht')\n",
    "\n",
    "# Plot für die Anzahl der Männer und Frauen in der 3. Klasse\n",
    "axes[0].hist(ueberlebt_maenner_frauen_3.index, ueberlebt_maenner_frauen_3.values, color=['blue', 'orange'])\n",
    "axes[0].set_title('Überlebende Männer und Frauen in der 3. Klasse')\n",
    "axes[0].set_ylabel('Anzahl')\n",
    "\n",
    "# Plot für die Anzahl der überlebenden Männer und Frauen in der 2. Klasse\n",
    "axes[1].hist(ueberlebt_maenner_frauen_2.index, ueberlebt_maenner_frauen_2.values, color=['blue', 'orange'])\n",
    "axes[1].set_title('Überlebende Männer und Frauen in der 2. Klasse')\n",
    "axes[1].set_ylabel('Anzahl')\n",
    "\n",
    "# Plot für die Anzahl der überlebenden Männer und Frauen in der 1. Klasse\n",
    "axes[2].hist(ueberlebt_maenner_frauen_1.index, ueberlebt_maenner_frauen_1.values, color=['blue', 'orange'])\n",
    "axes[2].set_title('Überlebende Männer und Frauen in der 1. Klasse')\n",
    "axes[2].set_ylabel('Anzahl')\n",
    "\n",
    "# Layout anpassen und anzeigen\n",
    "plt.tight_layout(rect=[0, 0, 1, 0.95])  # Platz für den Titel schaffen\n",
    "plt.show()"
   ]
  },
  {
   "cell_type": "markdown",
   "metadata": {},
   "source": [
    "### Aufgabe 5: Altersspannenanalyse\n",
    "Erstelle eine neue Spalte Altersgruppe, die Passagiere nach Alter gruppiert, z.B. 0–12 (Kinder), 13–19 (Teenager), 20–35 (junge Erwachsene), 36–60 (Erwachsene), 60+ (Senioren). <br>\n",
    "Gruppiere die Daten nach Altersgruppe und berechne die Überlebensrate für jede Altersgruppe."
   ]
  },
  {
   "cell_type": "code",
   "execution_count": 43,
   "metadata": {},
   "outputs": [
    {
     "name": "stdout",
     "output_type": "stream",
     "text": [
      "Altersgruppe\n",
      "Kinder              0.579710\n",
      "Teenager            0.410526\n",
      "Junge Erwachsene    0.384384\n",
      "Erwachsene          0.400000\n",
      "Senioren            0.227273\n",
      "Name: Survived, dtype: float64\n"
     ]
    },
    {
     "name": "stderr",
     "output_type": "stream",
     "text": [
      "C:\\Users\\NataliaArchipenko\\AppData\\Local\\Temp\\ipykernel_9652\\3864611962.py:5: FutureWarning: The default of observed=False is deprecated and will be changed to True in a future version of pandas. Pass observed=False to retain current behavior or observed=True to adopt the future default and silence this warning.\n",
      "  ueberlebenstate = df.groupby(['Altersgruppe'])['Survived'].mean()\n"
     ]
    }
   ],
   "source": [
    "bins = [0, 12, 19, 35, 60, float('inf')]\n",
    "labels = ['Kinder', 'Teenager', 'Junge Erwachsene', 'Erwachsene', 'Senioren']\n",
    "df['Altersgruppe'] = pd.cut(df['Age'], bins=bins, labels=labels)\n",
    "\n",
    "ueberlebenstate = df.groupby(['Altersgruppe'])['Survived'].mean()\n",
    "print(ueberlebenstate )\n",
    "\n"
   ]
  },
  {
   "cell_type": "code",
   "execution_count": 44,
   "metadata": {},
   "outputs": [
    {
     "data": {
      "text/html": [
       "<div>\n",
       "<style scoped>\n",
       "    .dataframe tbody tr th:only-of-type {\n",
       "        vertical-align: middle;\n",
       "    }\n",
       "\n",
       "    .dataframe tbody tr th {\n",
       "        vertical-align: top;\n",
       "    }\n",
       "\n",
       "    .dataframe thead th {\n",
       "        text-align: right;\n",
       "    }\n",
       "</style>\n",
       "<table border=\"1\" class=\"dataframe\">\n",
       "  <thead>\n",
       "    <tr style=\"text-align: right;\">\n",
       "      <th></th>\n",
       "      <th>Ueberlebensrate</th>\n",
       "      <th>Anzahl</th>\n",
       "    </tr>\n",
       "    <tr>\n",
       "      <th>Altersgruppe</th>\n",
       "      <th></th>\n",
       "      <th></th>\n",
       "    </tr>\n",
       "  </thead>\n",
       "  <tbody>\n",
       "    <tr>\n",
       "      <th>Kinder</th>\n",
       "      <td>0.579710</td>\n",
       "      <td>69</td>\n",
       "    </tr>\n",
       "    <tr>\n",
       "      <th>Teenager</th>\n",
       "      <td>0.410526</td>\n",
       "      <td>95</td>\n",
       "    </tr>\n",
       "    <tr>\n",
       "      <th>Junge Erwachsene</th>\n",
       "      <td>0.384384</td>\n",
       "      <td>333</td>\n",
       "    </tr>\n",
       "    <tr>\n",
       "      <th>Erwachsene</th>\n",
       "      <td>0.400000</td>\n",
       "      <td>195</td>\n",
       "    </tr>\n",
       "    <tr>\n",
       "      <th>Senioren</th>\n",
       "      <td>0.227273</td>\n",
       "      <td>22</td>\n",
       "    </tr>\n",
       "  </tbody>\n",
       "</table>\n",
       "</div>"
      ],
      "text/plain": [
       "                  Ueberlebensrate  Anzahl\n",
       "Altersgruppe                             \n",
       "Kinder                   0.579710      69\n",
       "Teenager                 0.410526      95\n",
       "Junge Erwachsene         0.384384     333\n",
       "Erwachsene               0.400000     195\n",
       "Senioren                 0.227273      22"
      ]
     },
     "execution_count": 44,
     "metadata": {},
     "output_type": "execute_result"
    }
   ],
   "source": [
    "ueberlebensrate_altersgruppe = df.groupby('Altersgruppe', observed = False)['Survived'].agg(Ueberlebensrate = 'mean', Anzahl ='count')\n",
    "ueberlebensrate_altersgruppe"
   ]
  },
  {
   "cell_type": "code",
   "execution_count": null,
   "metadata": {},
   "outputs": [
    {
     "data": {
      "text/html": [
       "<div>\n",
       "<style scoped>\n",
       "    .dataframe tbody tr th:only-of-type {\n",
       "        vertical-align: middle;\n",
       "    }\n",
       "\n",
       "    .dataframe tbody tr th {\n",
       "        vertical-align: top;\n",
       "    }\n",
       "\n",
       "    .dataframe thead th {\n",
       "        text-align: right;\n",
       "    }\n",
       "</style>\n",
       "<table border=\"1\" class=\"dataframe\">\n",
       "  <thead>\n",
       "    <tr style=\"text-align: right;\">\n",
       "      <th></th>\n",
       "      <th>PassengerId</th>\n",
       "      <th>Survived</th>\n",
       "      <th>Pclass</th>\n",
       "      <th>Name</th>\n",
       "      <th>Sex</th>\n",
       "      <th>Age</th>\n",
       "      <th>SibSp</th>\n",
       "      <th>Parch</th>\n",
       "      <th>Ticket</th>\n",
       "      <th>Fare</th>\n",
       "      <th>Cabin</th>\n",
       "      <th>Embarked</th>\n",
       "      <th>Altersgruppe</th>\n",
       "    </tr>\n",
       "  </thead>\n",
       "  <tbody>\n",
       "    <tr>\n",
       "      <th>0</th>\n",
       "      <td>1</td>\n",
       "      <td>0</td>\n",
       "      <td>3</td>\n",
       "      <td>Braund, Mr. Owen Harris</td>\n",
       "      <td>male</td>\n",
       "      <td>22.0</td>\n",
       "      <td>1</td>\n",
       "      <td>0</td>\n",
       "      <td>A/5 21171</td>\n",
       "      <td>7.2500</td>\n",
       "      <td>NaN</td>\n",
       "      <td>S</td>\n",
       "      <td>junger Erwachsener</td>\n",
       "    </tr>\n",
       "    <tr>\n",
       "      <th>1</th>\n",
       "      <td>2</td>\n",
       "      <td>1</td>\n",
       "      <td>1</td>\n",
       "      <td>Cumings, Mrs. John Bradley (Florence Briggs Th...</td>\n",
       "      <td>female</td>\n",
       "      <td>38.0</td>\n",
       "      <td>1</td>\n",
       "      <td>0</td>\n",
       "      <td>PC 17599</td>\n",
       "      <td>71.2833</td>\n",
       "      <td>C85</td>\n",
       "      <td>C</td>\n",
       "      <td>Erwachsener</td>\n",
       "    </tr>\n",
       "    <tr>\n",
       "      <th>2</th>\n",
       "      <td>3</td>\n",
       "      <td>1</td>\n",
       "      <td>3</td>\n",
       "      <td>Heikkinen, Miss. Laina</td>\n",
       "      <td>female</td>\n",
       "      <td>26.0</td>\n",
       "      <td>0</td>\n",
       "      <td>0</td>\n",
       "      <td>STON/O2. 3101282</td>\n",
       "      <td>7.9250</td>\n",
       "      <td>NaN</td>\n",
       "      <td>S</td>\n",
       "      <td>junger Erwachsener</td>\n",
       "    </tr>\n",
       "  </tbody>\n",
       "</table>\n",
       "</div>"
      ],
      "text/plain": [
       "   PassengerId  Survived  Pclass  \\\n",
       "0            1         0       3   \n",
       "1            2         1       1   \n",
       "2            3         1       3   \n",
       "\n",
       "                                                Name     Sex   Age  SibSp  \\\n",
       "0                            Braund, Mr. Owen Harris    male  22.0      1   \n",
       "1  Cumings, Mrs. John Bradley (Florence Briggs Th...  female  38.0      1   \n",
       "2                             Heikkinen, Miss. Laina  female  26.0      0   \n",
       "\n",
       "   Parch            Ticket     Fare Cabin Embarked        Altersgruppe  \n",
       "0      0         A/5 21171   7.2500   NaN        S  junger Erwachsener  \n",
       "1      0          PC 17599  71.2833   C85        C         Erwachsener  \n",
       "2      0  STON/O2. 3101282   7.9250   NaN        S  junger Erwachsener  "
      ]
     },
     "execution_count": 28,
     "metadata": {},
     "output_type": "execute_result"
    }
   ],
   "source": [
    "def alter_in_gruppe(age):\n",
    "    if age <13:\n",
    "        return 'Kind'\n",
    "    elif age < 20:\n",
    "        return 'Teenager'\n",
    "    elif age < 36:\n",
    "        return 'junger Erwachsener'\n",
    "    elif age < 61:\n",
    "        return 'Erwachsener'\n",
    "    elif age >=61:\n",
    "        return 'Senior'\n",
    "    else: \n",
    "        return'Unbekannt'\n",
    "    \n",
    "df['Altersgruppe']= df['Age'].apply(alter_in_gruppe)\n",
    "df.head(3)"
   ]
  },
  {
   "cell_type": "markdown",
   "metadata": {},
   "source": [
    "### Aufgabe 6: Kabinenanalyse nach Deck\n",
    "Extrahiere den ersten Buchstaben der Cabin-Spalte, um das Deck zu bestimmen.<br>\n",
    "Gruppiere die Daten nach Deck und berechne die Überlebensrate für jedes Deck.<br>\n",
    "Hinweis: Nicht alle Passagiere haben eine Kabinenangabe; diese sollten entsprechend behandelt werden.<br>\n",
    "Berechne anschließend wieviele Passagiere auf dem jeweiligen Deck untergebracht waren."
   ]
  },
  {
   "cell_type": "code",
   "execution_count": null,
   "metadata": {},
   "outputs": [
    {
     "name": "stdout",
     "output_type": "stream",
     "text": [
      "      ueberlebensrate  passagiere\n",
      "Deck                             \n",
      "A            0.466667          15\n",
      "B            0.744681          47\n",
      "C            0.593220          59\n",
      "D            0.757576          33\n",
      "E            0.750000          32\n",
      "F            0.615385          13\n",
      "G            0.500000           4\n",
      "T            0.000000           1\n"
     ]
    }
   ],
   "source": [
    "df['Deck'] = df['Cabin'].str[0] # Extrahiern vom ersten Buchstabe\n",
    "\n",
    "deck_analysis = df.groupby('Deck').agg(ueberlebensrate=('Survived', 'mean'), passagiere=('Survived', 'size'))#durchnitt und summe\n",
    "\n",
    "deck_analysis = deck_analysis.fillna(0)  # statt Nan 0 einsetzen\n",
    "\n",
    "print(deck_analysis)\n"
   ]
  },
  {
   "cell_type": "code",
   "execution_count": 46,
   "metadata": {},
   "outputs": [
    {
     "data": {
      "text/plain": [
       "array([nan, 'C85', 'C123', 'E46', 'G6', 'C103', 'D56', 'A6',\n",
       "       'C23 C25 C27', 'B78', 'D33', 'B30', 'C52', 'B28', 'C83', 'F33',\n",
       "       'F G73', 'E31', 'A5', 'D10 D12', 'D26', 'C110', 'B58 B60', 'E101',\n",
       "       'F E69', 'D47', 'B86', 'F2', 'C2', 'E33', 'B19', 'A7', 'C49', 'F4',\n",
       "       'A32', 'B4', 'B80', 'A31', 'D36', 'D15', 'C93', 'C78', 'D35',\n",
       "       'C87', 'B77', 'E67', 'B94', 'C125', 'C99', 'C118', 'D7', 'A19',\n",
       "       'B49', 'D', 'C22 C26', 'C106', 'C65', 'E36', 'C54',\n",
       "       'B57 B59 B63 B66', 'C7', 'E34', 'C32', 'B18', 'C124', 'C91', 'E40',\n",
       "       'T', 'C128', 'D37', 'B35', 'E50', 'C82', 'B96 B98', 'E10', 'E44',\n",
       "       'A34', 'C104', 'C111', 'C92', 'E38', 'D21', 'E12', 'E63', 'A14',\n",
       "       'B37', 'C30', 'D20', 'B79', 'E25', 'D46', 'B73', 'C95', 'B38',\n",
       "       'B39', 'B22', 'C86', 'C70', 'A16', 'C101', 'C68', 'A10', 'E68',\n",
       "       'B41', 'A20', 'D19', 'D50', 'D9', 'A23', 'B50', 'A26', 'D48',\n",
       "       'E58', 'C126', 'B71', 'B51 B53 B55', 'D49', 'B5', 'B20', 'F G63',\n",
       "       'C62 C64', 'E24', 'C90', 'C45', 'E8', 'B101', 'D45', 'C46', 'D30',\n",
       "       'E121', 'D11', 'E77', 'F38', 'B3', 'D6', 'B82 B84', 'D17', 'A36',\n",
       "       'B102', 'B69', 'E49', 'C47', 'D28', 'E17', 'A24', 'C50', 'B42',\n",
       "       'C148'], dtype=object)"
      ]
     },
     "execution_count": 46,
     "metadata": {},
     "output_type": "execute_result"
    }
   ],
   "source": [
    "df.Cabin.unique()"
   ]
  },
  {
   "cell_type": "code",
   "execution_count": 48,
   "metadata": {},
   "outputs": [
    {
     "name": "stdout",
     "output_type": "stream",
     "text": [
      "object\n"
     ]
    }
   ],
   "source": [
    "print(df.Cabin.dtype)"
   ]
  },
  {
   "cell_type": "code",
   "execution_count": 52,
   "metadata": {},
   "outputs": [
    {
     "data": {
      "text/html": [
       "<div>\n",
       "<style scoped>\n",
       "    .dataframe tbody tr th:only-of-type {\n",
       "        vertical-align: middle;\n",
       "    }\n",
       "\n",
       "    .dataframe tbody tr th {\n",
       "        vertical-align: top;\n",
       "    }\n",
       "\n",
       "    .dataframe thead th {\n",
       "        text-align: right;\n",
       "    }\n",
       "</style>\n",
       "<table border=\"1\" class=\"dataframe\">\n",
       "  <thead>\n",
       "    <tr style=\"text-align: right;\">\n",
       "      <th></th>\n",
       "      <th>PassengerId</th>\n",
       "      <th>Survived</th>\n",
       "      <th>Pclass</th>\n",
       "      <th>Name</th>\n",
       "      <th>Sex</th>\n",
       "      <th>Age</th>\n",
       "      <th>SibSp</th>\n",
       "      <th>Parch</th>\n",
       "      <th>Ticket</th>\n",
       "      <th>Fare</th>\n",
       "      <th>Cabin</th>\n",
       "      <th>Embarked</th>\n",
       "      <th>Altersgruppe</th>\n",
       "      <th>Deck</th>\n",
       "    </tr>\n",
       "  </thead>\n",
       "  <tbody>\n",
       "    <tr>\n",
       "      <th>0</th>\n",
       "      <td>1</td>\n",
       "      <td>0</td>\n",
       "      <td>3</td>\n",
       "      <td>Braund, Mr. Owen Harris</td>\n",
       "      <td>male</td>\n",
       "      <td>22.0</td>\n",
       "      <td>1</td>\n",
       "      <td>0</td>\n",
       "      <td>A/5 21171</td>\n",
       "      <td>7.2500</td>\n",
       "      <td>NaN</td>\n",
       "      <td>S</td>\n",
       "      <td>Junge Erwachsene</td>\n",
       "      <td>NaN</td>\n",
       "    </tr>\n",
       "    <tr>\n",
       "      <th>1</th>\n",
       "      <td>2</td>\n",
       "      <td>1</td>\n",
       "      <td>1</td>\n",
       "      <td>Cumings, Mrs. John Bradley (Florence Briggs Th...</td>\n",
       "      <td>female</td>\n",
       "      <td>38.0</td>\n",
       "      <td>1</td>\n",
       "      <td>0</td>\n",
       "      <td>PC 17599</td>\n",
       "      <td>71.2833</td>\n",
       "      <td>C85</td>\n",
       "      <td>C</td>\n",
       "      <td>Erwachsene</td>\n",
       "      <td>C</td>\n",
       "    </tr>\n",
       "    <tr>\n",
       "      <th>2</th>\n",
       "      <td>3</td>\n",
       "      <td>1</td>\n",
       "      <td>3</td>\n",
       "      <td>Heikkinen, Miss. Laina</td>\n",
       "      <td>female</td>\n",
       "      <td>26.0</td>\n",
       "      <td>0</td>\n",
       "      <td>0</td>\n",
       "      <td>STON/O2. 3101282</td>\n",
       "      <td>7.9250</td>\n",
       "      <td>NaN</td>\n",
       "      <td>S</td>\n",
       "      <td>Junge Erwachsene</td>\n",
       "      <td>NaN</td>\n",
       "    </tr>\n",
       "    <tr>\n",
       "      <th>3</th>\n",
       "      <td>4</td>\n",
       "      <td>1</td>\n",
       "      <td>1</td>\n",
       "      <td>Futrelle, Mrs. Jacques Heath (Lily May Peel)</td>\n",
       "      <td>female</td>\n",
       "      <td>35.0</td>\n",
       "      <td>1</td>\n",
       "      <td>0</td>\n",
       "      <td>113803</td>\n",
       "      <td>53.1000</td>\n",
       "      <td>C123</td>\n",
       "      <td>S</td>\n",
       "      <td>Junge Erwachsene</td>\n",
       "      <td>C</td>\n",
       "    </tr>\n",
       "    <tr>\n",
       "      <th>4</th>\n",
       "      <td>5</td>\n",
       "      <td>0</td>\n",
       "      <td>3</td>\n",
       "      <td>Allen, Mr. William Henry</td>\n",
       "      <td>male</td>\n",
       "      <td>35.0</td>\n",
       "      <td>0</td>\n",
       "      <td>0</td>\n",
       "      <td>373450</td>\n",
       "      <td>8.0500</td>\n",
       "      <td>NaN</td>\n",
       "      <td>S</td>\n",
       "      <td>Junge Erwachsene</td>\n",
       "      <td>NaN</td>\n",
       "    </tr>\n",
       "    <tr>\n",
       "      <th>...</th>\n",
       "      <td>...</td>\n",
       "      <td>...</td>\n",
       "      <td>...</td>\n",
       "      <td>...</td>\n",
       "      <td>...</td>\n",
       "      <td>...</td>\n",
       "      <td>...</td>\n",
       "      <td>...</td>\n",
       "      <td>...</td>\n",
       "      <td>...</td>\n",
       "      <td>...</td>\n",
       "      <td>...</td>\n",
       "      <td>...</td>\n",
       "      <td>...</td>\n",
       "    </tr>\n",
       "    <tr>\n",
       "      <th>886</th>\n",
       "      <td>887</td>\n",
       "      <td>0</td>\n",
       "      <td>2</td>\n",
       "      <td>Montvila, Rev. Juozas</td>\n",
       "      <td>male</td>\n",
       "      <td>27.0</td>\n",
       "      <td>0</td>\n",
       "      <td>0</td>\n",
       "      <td>211536</td>\n",
       "      <td>13.0000</td>\n",
       "      <td>NaN</td>\n",
       "      <td>S</td>\n",
       "      <td>Junge Erwachsene</td>\n",
       "      <td>NaN</td>\n",
       "    </tr>\n",
       "    <tr>\n",
       "      <th>887</th>\n",
       "      <td>888</td>\n",
       "      <td>1</td>\n",
       "      <td>1</td>\n",
       "      <td>Graham, Miss. Margaret Edith</td>\n",
       "      <td>female</td>\n",
       "      <td>19.0</td>\n",
       "      <td>0</td>\n",
       "      <td>0</td>\n",
       "      <td>112053</td>\n",
       "      <td>30.0000</td>\n",
       "      <td>B42</td>\n",
       "      <td>S</td>\n",
       "      <td>Teenager</td>\n",
       "      <td>B</td>\n",
       "    </tr>\n",
       "    <tr>\n",
       "      <th>888</th>\n",
       "      <td>889</td>\n",
       "      <td>0</td>\n",
       "      <td>3</td>\n",
       "      <td>Johnston, Miss. Catherine Helen \"Carrie\"</td>\n",
       "      <td>female</td>\n",
       "      <td>NaN</td>\n",
       "      <td>1</td>\n",
       "      <td>2</td>\n",
       "      <td>W./C. 6607</td>\n",
       "      <td>23.4500</td>\n",
       "      <td>NaN</td>\n",
       "      <td>S</td>\n",
       "      <td>NaN</td>\n",
       "      <td>NaN</td>\n",
       "    </tr>\n",
       "    <tr>\n",
       "      <th>889</th>\n",
       "      <td>890</td>\n",
       "      <td>1</td>\n",
       "      <td>1</td>\n",
       "      <td>Behr, Mr. Karl Howell</td>\n",
       "      <td>male</td>\n",
       "      <td>26.0</td>\n",
       "      <td>0</td>\n",
       "      <td>0</td>\n",
       "      <td>111369</td>\n",
       "      <td>30.0000</td>\n",
       "      <td>C148</td>\n",
       "      <td>C</td>\n",
       "      <td>Junge Erwachsene</td>\n",
       "      <td>C</td>\n",
       "    </tr>\n",
       "    <tr>\n",
       "      <th>890</th>\n",
       "      <td>891</td>\n",
       "      <td>0</td>\n",
       "      <td>3</td>\n",
       "      <td>Dooley, Mr. Patrick</td>\n",
       "      <td>male</td>\n",
       "      <td>32.0</td>\n",
       "      <td>0</td>\n",
       "      <td>0</td>\n",
       "      <td>370376</td>\n",
       "      <td>7.7500</td>\n",
       "      <td>NaN</td>\n",
       "      <td>Q</td>\n",
       "      <td>Junge Erwachsene</td>\n",
       "      <td>NaN</td>\n",
       "    </tr>\n",
       "  </tbody>\n",
       "</table>\n",
       "<p>891 rows × 14 columns</p>\n",
       "</div>"
      ],
      "text/plain": [
       "     PassengerId  Survived  Pclass  \\\n",
       "0              1         0       3   \n",
       "1              2         1       1   \n",
       "2              3         1       3   \n",
       "3              4         1       1   \n",
       "4              5         0       3   \n",
       "..           ...       ...     ...   \n",
       "886          887         0       2   \n",
       "887          888         1       1   \n",
       "888          889         0       3   \n",
       "889          890         1       1   \n",
       "890          891         0       3   \n",
       "\n",
       "                                                  Name     Sex   Age  SibSp  \\\n",
       "0                              Braund, Mr. Owen Harris    male  22.0      1   \n",
       "1    Cumings, Mrs. John Bradley (Florence Briggs Th...  female  38.0      1   \n",
       "2                               Heikkinen, Miss. Laina  female  26.0      0   \n",
       "3         Futrelle, Mrs. Jacques Heath (Lily May Peel)  female  35.0      1   \n",
       "4                             Allen, Mr. William Henry    male  35.0      0   \n",
       "..                                                 ...     ...   ...    ...   \n",
       "886                              Montvila, Rev. Juozas    male  27.0      0   \n",
       "887                       Graham, Miss. Margaret Edith  female  19.0      0   \n",
       "888           Johnston, Miss. Catherine Helen \"Carrie\"  female   NaN      1   \n",
       "889                              Behr, Mr. Karl Howell    male  26.0      0   \n",
       "890                                Dooley, Mr. Patrick    male  32.0      0   \n",
       "\n",
       "     Parch            Ticket     Fare Cabin Embarked      Altersgruppe Deck  \n",
       "0        0         A/5 21171   7.2500   NaN        S  Junge Erwachsene  NaN  \n",
       "1        0          PC 17599  71.2833   C85        C        Erwachsene    C  \n",
       "2        0  STON/O2. 3101282   7.9250   NaN        S  Junge Erwachsene  NaN  \n",
       "3        0            113803  53.1000  C123        S  Junge Erwachsene    C  \n",
       "4        0            373450   8.0500   NaN        S  Junge Erwachsene  NaN  \n",
       "..     ...               ...      ...   ...      ...               ...  ...  \n",
       "886      0            211536  13.0000   NaN        S  Junge Erwachsene  NaN  \n",
       "887      0            112053  30.0000   B42        S          Teenager    B  \n",
       "888      2        W./C. 6607  23.4500   NaN        S               NaN  NaN  \n",
       "889      0            111369  30.0000  C148        C  Junge Erwachsene    C  \n",
       "890      0            370376   7.7500   NaN        Q  Junge Erwachsene  NaN  \n",
       "\n",
       "[891 rows x 14 columns]"
      ]
     },
     "execution_count": 52,
     "metadata": {},
     "output_type": "execute_result"
    }
   ],
   "source": [
    "df['Deck']=df['Cabin'].dropna().apply(lambda x: x[0])\n",
    "df"
   ]
  },
  {
   "cell_type": "code",
   "execution_count": 53,
   "metadata": {},
   "outputs": [
    {
     "data": {
      "text/plain": [
       "<bound method Series.to_frame of Deck\n",
       "A    0.466667\n",
       "B    0.744681\n",
       "C    0.593220\n",
       "D    0.757576\n",
       "E    0.750000\n",
       "F    0.615385\n",
       "G    0.500000\n",
       "T    0.000000\n",
       "Name: Survived, dtype: float64>"
      ]
     },
     "execution_count": 53,
     "metadata": {},
     "output_type": "execute_result"
    }
   ],
   "source": [
    "ueberlebensrate_pro_deck = df.groupby('Deck')['Survived'].mean()\n",
    "ueberlebensrate_pro_deck.to_frame"
   ]
  },
  {
   "cell_type": "code",
   "execution_count": 54,
   "metadata": {},
   "outputs": [
    {
     "name": "stdout",
     "output_type": "stream",
     "text": [
      "Deck\n",
      "A    15\n",
      "B    47\n",
      "C    59\n",
      "D    33\n",
      "E    32\n",
      "F    13\n",
      "G     4\n",
      "T     1\n",
      "Name: Survived, dtype: int64\n"
     ]
    }
   ],
   "source": [
    "passagiere_pro_deck = df.groupby('Deck')['Survived'].size()\n",
    "print(passagiere_pro_deck)"
   ]
  }
 ],
 "metadata": {
  "kernelspec": {
   "display_name": "Python 3",
   "language": "python",
   "name": "python3"
  },
  "language_info": {
   "codemirror_mode": {
    "name": "ipython",
    "version": 3
   },
   "file_extension": ".py",
   "mimetype": "text/x-python",
   "name": "python",
   "nbconvert_exporter": "python",
   "pygments_lexer": "ipython3",
   "version": "3.12.4"
  }
 },
 "nbformat": 4,
 "nbformat_minor": 2
}
