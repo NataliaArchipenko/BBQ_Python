{
 "cells": [
  {
   "cell_type": "markdown",
   "metadata": {},
   "source": [
    "### Übung 0: Importiere `matplotlib`"
   ]
  },
  {
   "cell_type": "code",
   "execution_count": 1,
   "metadata": {},
   "outputs": [],
   "source": [
    "## Dein Code "
   ]
  },
  {
   "cell_type": "markdown",
   "metadata": {},
   "source": [
    "### Übung 1: Einfaches Liniendiagramm\n",
    "Aufgabe: Erstelle ein einfaches Liniendiagramm, das die Entwicklung der Temperaturen über eine Woche darstellt. Verwende die folgenden Daten:\n",
    "\n",
    "```py\n",
    "Tage: ['Montag', 'Dienstag', 'Mittwoch', 'Donnerstag', 'Freitag', 'Samstag', 'Sonntag']\n",
    "Temperaturen: [20, 22, 21, 23, 24, 26, 25]\n",
    "```\n",
    "Zusatz: Füge Achsentitel und eine Legende hinzu."
   ]
  },
  {
   "cell_type": "code",
   "execution_count": 2,
   "metadata": {},
   "outputs": [],
   "source": [
    "## Dein Code "
   ]
  },
  {
   "cell_type": "markdown",
   "metadata": {},
   "source": [
    "### Übung 2: Balkendiagramm erstellen\n",
    "Aufgabe: Erstelle ein Balkendiagramm, das die Verkaufszahlen verschiedener Obstsorten in einem Monat darstellt. Verwende die folgenden Daten:\n",
    "\n",
    "```py\n",
    "Obstsorten: ['Äpfel', 'Bananen', 'Kirschen', 'Trauben', 'Orangen']\n",
    "Verkaufszahlen: [150, 200, 100, 120, 180]\n",
    "```\n",
    "Zusatz: Füge Titel und Achsentitel hinzu."
   ]
  },
  {
   "cell_type": "code",
   "execution_count": 3,
   "metadata": {},
   "outputs": [],
   "source": [
    "## Dein Code "
   ]
  },
  {
   "cell_type": "markdown",
   "metadata": {},
   "source": [
    "### Übung 3: Tortendiagramm erstellen\n",
    "Aufgabe: Erstelle ein Tortendiagramm, das die Marktanteile von verschiedenen Automarken darstellt. Verwende die folgenden Daten:\n",
    "```py\n",
    "Marken: ['Volkswagen', 'BMW', 'Mercedes', 'Audi', 'Ford']\n",
    "Marktanteile: [25, 20, 15, 10, 30]\n",
    "```\n",
    "Zusatz: Nutze die explode-Funktion, um einen der Kuchenabschnitte hervorzuheben."
   ]
  },
  {
   "cell_type": "code",
   "execution_count": 4,
   "metadata": {},
   "outputs": [],
   "source": [
    "## Dein Code "
   ]
  },
  {
   "cell_type": "markdown",
   "metadata": {},
   "source": [
    "### Übung 4: Scatterplot erstellen\n",
    "Aufgabe: Erstelle einen Scatterplot, um die Beziehung zwischen der Körpergröße und dem Gewicht von 10 Personen zu visualisieren. Verwende die folgenden Daten:\n",
    "```py\n",
    "Körpergröße (in cm): [160, 165, 170, 175, 180, 185, 190, 195, 200, 205]\n",
    "Gewicht (in kg): [50, 60, 65, 70, 80, 85, 90, 95, 100, 110]\n",
    "```\n",
    "Zusatz: Füge Achsentitel und eine Trendlinie hinzu."
   ]
  },
  {
   "cell_type": "code",
   "execution_count": 5,
   "metadata": {},
   "outputs": [],
   "source": [
    "## Dein Code "
   ]
  },
  {
   "cell_type": "markdown",
   "metadata": {},
   "source": [
    "### Übung 5: Subplots erstellen\n",
    "Aufgabe: Erstelle ein Diagramm mit 4 Subplots (2x2), das folgende Daten zeigt: \\\n",
    "Liniendiagramm der Verkaufszahlen über die Monate. \\\n",
    "Balkendiagramm der durchschnittlichen Temperaturen in verschiedenen Städten. \\\n",
    "Tortendiagramm der beliebtesten Programmiersprachen. \\\n",
    "Scatterplot von den Datensätzen x und y. \\\n",
    "```py\n",
    "monate = ['Januar', 'Februar', 'März', 'April', 'Mai', 'Juni']\n",
    "verkaufszahlen = [200, 220, 250, 300, 280, 350]\n",
    "\n",
    "staedte = ['Berlin', 'München', 'Hamburg', 'Köln', 'Frankfurt']\n",
    "durchschnittstemperaturen = [10, 12, 9, 11, 13]\n",
    "\n",
    "programmiersprachen = ['Python', 'Java', 'C++', 'JavaScript', 'Ruby']\n",
    "marktanteile = [30, 25, 15, 20, 10]\n",
    "\n",
    "x_scatter = [1, 2, 3, 4, 5, 6, 7, 8, 9, 10]\n",
    "y_scatter = [2, 3, 5, 7, 11, 13, 17, 19, 23, 29]\n",
    "```\n",
    "Zusatz: Setze für jeden Subplot einen Titel und eine passende Beschriftung."
   ]
  },
  {
   "cell_type": "code",
   "execution_count": 6,
   "metadata": {},
   "outputs": [],
   "source": [
    "## Dein Code "
   ]
  }
 ],
 "metadata": {
  "kernelspec": {
   "display_name": "Python 3",
   "language": "python",
   "name": "python3"
  },
  "language_info": {
   "codemirror_mode": {
    "name": "ipython",
    "version": 3
   },
   "file_extension": ".py",
   "mimetype": "text/x-python",
   "name": "python",
   "nbconvert_exporter": "python",
   "pygments_lexer": "ipython3",
   "version": "3.12.6"
  }
 },
 "nbformat": 4,
 "nbformat_minor": 2
}
