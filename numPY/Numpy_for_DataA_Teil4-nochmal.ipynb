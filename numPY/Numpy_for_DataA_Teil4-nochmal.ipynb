{
 "cells": [
  {
   "cell_type": "markdown",
   "metadata": {},
   "source": [
    "# Numpy Teil 4"
   ]
  },
  {
   "cell_type": "code",
   "execution_count": 3,
   "metadata": {},
   "outputs": [],
   "source": [
    "import numpy as np"
   ]
  },
  {
   "cell_type": "markdown",
   "metadata": {},
   "source": [
    "### np.nan\n",
    "np.nan steht für \"Not a Number\" und ist ein spezieller Wert in NumPy, der verwendet wird, um fehlende oder undefinierte Werte darzustellen. \\\n",
    "Es wird häufig in Datensätzen verwendet, die unvollständige Informationen enthalten, z.B. bei numerischen Berechnungen, bei denen ein Wert nicht berechnet werden kann oder fehlt. \\\n",
    "`np.nan` ist **nicht gleich sich selbst**, d.h., der Ausdruck `np.nan == np.nan` gibt False zurück.\n",
    "\n",
    "### np.isnan()\n",
    "`np.isnan()` ist eine Funktion in numpy, die überprüft, ob die Elemente eines Arrays NaN sind.\n",
    "Sie wird verwendet, um in einem Array nach `np.nan`-Werten zu suchen. Die Funktion gibt ein boolesches Array zurück, das angibt, welche Elemente NaN sind. \\\n",
    "Beispiel: Wenn wir ein Array data haben, können Sie `np.isnan(data)` verwenden, um ein boolesches Array zu erhalten, in dem True für NaN-Werte und False für alle anderen Werte steht."
   ]
  },
  {
   "cell_type": "code",
   "execution_count": 4,
   "metadata": {},
   "outputs": [
    {
     "data": {
      "text/plain": [
       "array([ 1.,  2., nan,  4.])"
      ]
     },
     "execution_count": 4,
     "metadata": {},
     "output_type": "execute_result"
    }
   ],
   "source": [
    "data = np.array([1.0, 2.0, np.nan, 4.0])\n",
    "data"
   ]
  },
  {
   "cell_type": "code",
   "execution_count": 5,
   "metadata": {},
   "outputs": [
    {
     "data": {
      "text/plain": [
       "array([False, False,  True, False])"
      ]
     },
     "execution_count": 5,
     "metadata": {},
     "output_type": "execute_result"
    }
   ],
   "source": [
    "nan_check = np.isnan(data)\n",
    "nan_check"
   ]
  },
  {
   "cell_type": "markdown",
   "metadata": {},
   "source": [
    "Elemente die keine Nan´s sind :"
   ]
  },
  {
   "cell_type": "code",
   "execution_count": 6,
   "metadata": {},
   "outputs": [
    {
     "data": {
      "text/plain": [
       "array([ True,  True, False,  True])"
      ]
     },
     "execution_count": 6,
     "metadata": {},
     "output_type": "execute_result"
    }
   ],
   "source": [
    "~np.isnan(data)"
   ]
  },
  {
   "cell_type": "code",
   "execution_count": 7,
   "metadata": {},
   "outputs": [
    {
     "data": {
      "text/plain": [
       "array([100., 200.,  nan, 400.])"
      ]
     },
     "execution_count": 7,
     "metadata": {},
     "output_type": "execute_result"
    }
   ],
   "source": [
    "data * 100"
   ]
  },
  {
   "cell_type": "markdown",
   "metadata": {},
   "source": [
    "### Bedingte Logik als Array Operation\n",
    "Die Funktion `where()` ist eine vektorisierte Version des ternären Ausdrucks `x if condition else y`."
   ]
  },
  {
   "cell_type": "code",
   "execution_count": 8,
   "metadata": {},
   "outputs": [],
   "source": [
    "xarr = np.array([1.1, 1.2, 1.3, 1.4, 1.5])\n",
    "yarr = np.array([2.1, 2.2, 2.3, 2.4, 2.5])\n",
    "cond = np.array([True, False, True, True, False])"
   ]
  },
  {
   "cell_type": "markdown",
   "metadata": {},
   "source": [
    "Python Methode"
   ]
  },
  {
   "cell_type": "code",
   "execution_count": 9,
   "metadata": {},
   "outputs": [
    {
     "name": "stdout",
     "output_type": "stream",
     "text": [
      "[np.float64(1.1), np.float64(2.2), np.float64(1.3), np.float64(1.4), np.float64(2.5)]\n"
     ]
    }
   ],
   "source": [
    "result = [(x if c else y)\n",
    "          for x, y, c in zip(xarr, yarr, cond)]\n",
    "print(result)"
   ]
  },
  {
   "cell_type": "markdown",
   "metadata": {},
   "source": [
    "Numpy Methode"
   ]
  },
  {
   "cell_type": "code",
   "execution_count": 10,
   "metadata": {},
   "outputs": [
    {
     "data": {
      "text/plain": [
       "array([1.1, 2.2, 1.3, 1.4, 2.5])"
      ]
     },
     "execution_count": 10,
     "metadata": {},
     "output_type": "execute_result"
    }
   ],
   "source": [
    "result = np.where(cond, xarr, yarr)\n",
    "result"
   ]
  },
  {
   "cell_type": "code",
   "execution_count": 11,
   "metadata": {},
   "outputs": [
    {
     "data": {
      "text/plain": [
       "array([1.1, nan, 1.3, 1.4, nan])"
      ]
     },
     "execution_count": 11,
     "metadata": {},
     "output_type": "execute_result"
    }
   ],
   "source": [
    "result = np.where(cond, xarr, np.nan)\n",
    "result"
   ]
  },
  {
   "cell_type": "markdown",
   "metadata": {},
   "source": [
    "`where()` kann auch mit multidimensionalen Arrays beutzt werden.<br>\n",
    "Das zweite bzw. dritte Argument zu numpy.where muss kein Array sein, eines oder beide können Skalare sein."
   ]
  },
  {
   "cell_type": "code",
   "execution_count": 12,
   "metadata": {},
   "outputs": [
    {
     "data": {
      "text/plain": [
       "array([[ 1,  2,  3,  4],\n",
       "       [ 5,  6,  7,  8],\n",
       "       [ 9, 10, 11, 12],\n",
       "       [13, 14, 15, 16]])"
      ]
     },
     "execution_count": 12,
     "metadata": {},
     "output_type": "execute_result"
    }
   ],
   "source": [
    "# alle positiven Werte durch 10 und alle negativen durch -10 ersetzen\n",
    "arr_w = np.arange(1,17).reshape( (4,4) )\n",
    "arr_w"
   ]
  },
  {
   "cell_type": "code",
   "execution_count": 13,
   "metadata": {},
   "outputs": [
    {
     "data": {
      "text/plain": [
       "array([[False, False, False, False],\n",
       "       [False, False, False, False],\n",
       "       [False,  True,  True,  True],\n",
       "       [ True,  True,  True,  True]])"
      ]
     },
     "execution_count": 13,
     "metadata": {},
     "output_type": "execute_result"
    }
   ],
   "source": [
    "arr_w >= 10"
   ]
  },
  {
   "cell_type": "code",
   "execution_count": 14,
   "metadata": {},
   "outputs": [
    {
     "data": {
      "text/plain": [
       "array([['unter 10', 'unter 10', 'unter 10', 'unter 10'],\n",
       "       ['unter 10', 'unter 10', 'unter 10', 'unter 10'],\n",
       "       ['unter 10', 'größer oder gleich 10', 'größer oder gleich 10',\n",
       "        'größer oder gleich 10'],\n",
       "       ['größer oder gleich 10', 'größer oder gleich 10',\n",
       "        'größer oder gleich 10', 'größer oder gleich 10']], dtype='<U21')"
      ]
     },
     "execution_count": 14,
     "metadata": {},
     "output_type": "execute_result"
    }
   ],
   "source": [
    "np.where(arr_w >= 10, \"größer oder gleich 10\",  \"unter 10\" )"
   ]
  },
  {
   "cell_type": "code",
   "execution_count": 15,
   "metadata": {},
   "outputs": [
    {
     "data": {
      "text/plain": [
       "array([[-1, -1, -1, -1],\n",
       "       [-1, -1, -1, -1],\n",
       "       [-1, 10, 11, 12],\n",
       "       [13, 14, 15, 16]])"
      ]
     },
     "execution_count": 15,
     "metadata": {},
     "output_type": "execute_result"
    }
   ],
   "source": [
    "# positive Werte ersetzen, negative behalten\n",
    "np.where(arr_w >= 10, arr_w, -1)"
   ]
  },
  {
   "cell_type": "markdown",
   "metadata": {},
   "source": [
    "### Mathematische und statistische Funktionen\n",
    "Sie sind oft doppelt vorhanden, als Funktion der numpy Bibliothek und als Array Methode."
   ]
  },
  {
   "cell_type": "code",
   "execution_count": 16,
   "metadata": {},
   "outputs": [
    {
     "data": {
      "text/plain": [
       "array([[ 0.99718798,  0.46923817, -0.68105857,  0.37641539],\n",
       "       [ 1.59537929, -1.13263222,  1.04943634, -2.96650828],\n",
       "       [-1.56182484, -1.38297799, -2.18044009,  0.4372416 ],\n",
       "       [-0.85356034,  0.49700248,  0.56603393,  0.43892638],\n",
       "       [ 0.17754029,  0.33683898,  1.50106882,  0.85229993]])"
      ]
     },
     "execution_count": 16,
     "metadata": {},
     "output_type": "execute_result"
    }
   ],
   "source": [
    "arr_mf = np.random.standard_normal((5, 4))\n",
    "arr_mf"
   ]
  },
  {
   "cell_type": "markdown",
   "metadata": {},
   "source": [
    "`mean()` - Arithmetischer Mittelwert"
   ]
  },
  {
   "cell_type": "code",
   "execution_count": 17,
   "metadata": {},
   "outputs": [
    {
     "name": "stdout",
     "output_type": "stream",
     "text": [
      "True\n",
      "-0.07321963806784211\n"
     ]
    }
   ],
   "source": [
    "print(arr_mf.mean() == np.mean(arr_mf))\n",
    "print(arr_mf.mean())"
   ]
  },
  {
   "cell_type": "markdown",
   "metadata": {},
   "source": [
    "Die Methoden/Funktionen akzeptieren ein optionales `axis` Argument, so dass die Funktion an der angegebenen Achse berechnet wird.<br>\n",
    "Bei zwei Dimensionen enspricht `axis=0` der Berechung über die Spalten und `axis=1` der Berechnung über die Zeilen. Das Ergebnis ist ein Array mit einer Dimension weniger: "
   ]
  },
  {
   "cell_type": "code",
   "execution_count": 18,
   "metadata": {},
   "outputs": [
    {
     "data": {
      "text/plain": [
       "(array([ 0.07094448, -0.24250612,  0.05100808, -0.172325  ]), (4,))"
      ]
     },
     "execution_count": 18,
     "metadata": {},
     "output_type": "execute_result"
    }
   ],
   "source": [
    "np.mean(arr_mf, axis=0), np.mean(arr_mf, axis=0).shape "
   ]
  },
  {
   "cell_type": "code",
   "execution_count": 19,
   "metadata": {},
   "outputs": [
    {
     "data": {
      "text/plain": [
       "(array([ 0.29044574, -0.36358122, -1.17200033,  0.16210061,  0.716937  ]),\n",
       " (5,))"
      ]
     },
     "execution_count": 19,
     "metadata": {},
     "output_type": "execute_result"
    }
   ],
   "source": [
    "arr_mf.mean(axis=1), arr_mf.mean(axis=1).shape "
   ]
  },
  {
   "cell_type": "markdown",
   "metadata": {},
   "source": [
    "### Grundlegende statistische Array-Methoden\n",
    "<pre><b>\n",
    "Methode                             Beschreibung</b>\n",
    "\n",
    "sum                                 Summe aller Elemente in dem Array oder entlang einer Achse; Arrays der Länge null ergeben die Summe 0.\n",
    "\n",
    "mean                                Arithmetischer Mittelwert; ungültig für Arrays der Länge null (liefert NaN).\n",
    "\n",
    "std, var                            Standardabweichung bzw. Varianz.\n",
    "\n",
    "min, max                            Minimum und Maximum.\n",
    "\n",
    "argmin, argmax                      Indizes der minimalen bzw. maximalen Elemente\n",
    "</pre>"
   ]
  },
  {
   "cell_type": "markdown",
   "metadata": {},
   "source": [
    "### `axis` in numpy\n",
    "`axis=1`: Bezieht sich auf die erste Dimension des Arrays, also die \"Zeilen\". Wenn Sie über `axis=1` aggregieren (z. B. mit `np.sum()`), wird die Operation auf alle Zeilen angewendet, und das Ergebnis ist eine Zusammenfassung für jede Spalte.\n",
    "\n",
    "`axis=0`: Bezieht sich auf die zweite Dimension des Arrays, also die \"Spalten\". Wenn Sie über `axis=0` aggregieren, wird die Operation auf jede Zeile angewendet, und das Ergebnis ist eine Zusammenfassung für jede Zeile."
   ]
  },
  {
   "cell_type": "code",
   "execution_count": 20,
   "metadata": {},
   "outputs": [
    {
     "name": "stdout",
     "output_type": "stream",
     "text": [
      "[[ 1  2  3  4]\n",
      " [ 5  6  7  8]\n",
      " [ 9 10 11 12]]\n",
      "(3, 4)\n",
      "Summe über axis=0 (Spalten): [15 18 21 24]\n",
      "Summe über axis=1 (Zeilen): [10 26 42]\n"
     ]
    }
   ],
   "source": [
    "array = np.array([[1, 2, 3, 4],\n",
    "                  [5, 6, 7, 8],\n",
    "                  [9, 10, 11, 12]])\n",
    "print(array)\n",
    "print(array.shape)\n",
    "\n",
    "sum_axis_0 = np.sum(array, axis=0)\n",
    "print(\"Summe über axis=0 (Spalten):\", sum_axis_0)\n",
    "\n",
    "sum_axis_1 = np.sum(array, axis=1)\n",
    "print(\"Summe über axis=1 (Zeilen):\", sum_axis_1)"
   ]
  },
  {
   "cell_type": "markdown",
   "metadata": {},
   "source": [
    "#### Methoden für boolsche Arrays\n",
    "`sum()` kann benutz werden um die Anzahl von `True` bzw. `False` zu bestimmen"
   ]
  },
  {
   "cell_type": "code",
   "execution_count": 38,
   "metadata": {},
   "outputs": [
    {
     "data": {
      "text/plain": [
       "array([False,  True, False])"
      ]
     },
     "execution_count": 38,
     "metadata": {},
     "output_type": "execute_result"
    }
   ],
   "source": [
    "arr_b = np.random.choice([True, False], size=  3)\n",
    "arr_b"
   ]
  },
  {
   "cell_type": "code",
   "execution_count": 39,
   "metadata": {},
   "outputs": [
    {
     "data": {
      "text/plain": [
       "np.int64(1)"
      ]
     },
     "execution_count": 39,
     "metadata": {},
     "output_type": "execute_result"
    }
   ],
   "source": [
    "(arr_b > 0).sum()"
   ]
  },
  {
   "cell_type": "code",
   "execution_count": 41,
   "metadata": {},
   "outputs": [
    {
     "data": {
      "text/plain": [
       "np.int64(2)"
      ]
     },
     "execution_count": 41,
     "metadata": {},
     "output_type": "execute_result"
    }
   ],
   "source": [
    "(arr_b == 0).sum()"
   ]
  },
  {
   "cell_type": "markdown",
   "metadata": {},
   "source": [
    "`any()` wird verwendet um zu prüfen ob `True` Werte im Array vorhanden sind (wie bei eine ODER Verknüpfung).<br>\n",
    "`all()` entspricht einer UND Verknüpfung. DIe Methoden können auch auf Arrays mit Zahlen angewendet werden, 0 wird dabei als `False` interpretiert, alle anderen Zahlen als `True`."
   ]
  },
  {
   "cell_type": "code",
   "execution_count": 24,
   "metadata": {},
   "outputs": [
    {
     "data": {
      "text/plain": [
       "np.True_"
      ]
     },
     "execution_count": 24,
     "metadata": {},
     "output_type": "execute_result"
    }
   ],
   "source": [
    "arr_b.any()"
   ]
  },
  {
   "cell_type": "code",
   "execution_count": 25,
   "metadata": {},
   "outputs": [
    {
     "data": {
      "text/plain": [
       "np.False_"
      ]
     },
     "execution_count": 25,
     "metadata": {},
     "output_type": "execute_result"
    }
   ],
   "source": [
    "arr_b.all()"
   ]
  },
  {
   "cell_type": "markdown",
   "metadata": {},
   "source": [
    "#### Sortieren\n",
    "Für eindimensionale Arrays funktioniert das wie bei Python Listen:"
   ]
  },
  {
   "cell_type": "code",
   "execution_count": 26,
   "metadata": {},
   "outputs": [
    {
     "data": {
      "text/plain": [
       "array([ 1.10276043,  0.2542894 , -0.00797362,  0.53910466,  0.05852389,\n",
       "        2.02597875])"
      ]
     },
     "execution_count": 26,
     "metadata": {},
     "output_type": "execute_result"
    }
   ],
   "source": [
    "arr_s = np.random.standard_normal(6)\n",
    "arr_s"
   ]
  },
  {
   "cell_type": "code",
   "execution_count": 27,
   "metadata": {},
   "outputs": [
    {
     "data": {
      "text/plain": [
       "array([-0.00797362,  0.05852389,  0.2542894 ,  0.53910466,  1.10276043,\n",
       "        2.02597875])"
      ]
     },
     "execution_count": 27,
     "metadata": {},
     "output_type": "execute_result"
    }
   ],
   "source": [
    "arr_s.sort()\n",
    "arr_s"
   ]
  },
  {
   "cell_type": "markdown",
   "metadata": {},
   "source": [
    "Bei 2d Arrays sortiert `axis=0` die Werte in jeder Spalte, während `axis=1` in jeder Zeile sortiert:"
   ]
  },
  {
   "cell_type": "code",
   "execution_count": 28,
   "metadata": {},
   "outputs": [
    {
     "data": {
      "text/plain": [
       "array([[ 1.55362745,  0.29116696,  0.39055583,  0.16498212],\n",
       "       [ 0.54662483, -0.02560903, -0.9095729 ,  0.44630241],\n",
       "       [ 0.98329884, -0.5420441 , -1.52021888, -0.68877751],\n",
       "       [-0.15426318, -0.94739183, -0.65223716, -1.09144266],\n",
       "       [-0.52215209, -1.68308849, -1.99455888,  0.17105827]])"
      ]
     },
     "execution_count": 28,
     "metadata": {},
     "output_type": "execute_result"
    }
   ],
   "source": [
    "arr_s = np.random.standard_normal((5,4))\n",
    "arr_s"
   ]
  },
  {
   "cell_type": "code",
   "execution_count": 29,
   "metadata": {},
   "outputs": [
    {
     "data": {
      "text/plain": [
       "array([[-0.52215209, -1.68308849, -1.99455888, -1.09144266],\n",
       "       [-0.15426318, -0.94739183, -1.52021888, -0.68877751],\n",
       "       [ 0.54662483, -0.5420441 , -0.9095729 ,  0.16498212],\n",
       "       [ 0.98329884, -0.02560903, -0.65223716,  0.17105827],\n",
       "       [ 1.55362745,  0.29116696,  0.39055583,  0.44630241]])"
      ]
     },
     "execution_count": 29,
     "metadata": {},
     "output_type": "execute_result"
    }
   ],
   "source": [
    "arr_sp = arr_s.copy()\n",
    "arr_sp.sort(axis=0)\n",
    "arr_sp"
   ]
  },
  {
   "cell_type": "code",
   "execution_count": 30,
   "metadata": {},
   "outputs": [
    {
     "data": {
      "text/plain": [
       "array([[ 0.16498212,  0.29116696,  0.39055583,  1.55362745],\n",
       "       [-0.9095729 , -0.02560903,  0.44630241,  0.54662483],\n",
       "       [-1.52021888, -0.68877751, -0.5420441 ,  0.98329884],\n",
       "       [-1.09144266, -0.94739183, -0.65223716, -0.15426318],\n",
       "       [-1.99455888, -1.68308849, -0.52215209,  0.17105827]])"
      ]
     },
     "execution_count": 30,
     "metadata": {},
     "output_type": "execute_result"
    }
   ],
   "source": [
    "arr_sz = arr_s.copy()\n",
    "arr_sz.sort(axis=1)\n",
    "arr_sz"
   ]
  },
  {
   "cell_type": "markdown",
   "metadata": {},
   "source": [
    "`np.sort()` liefert eine kopierte Version anstatt den Array direkt zu verändern (Stichwort `inplace`)<br>\n",
    "Standard beim Sortieren ist immer `axis=-1` (auch bei den Methoden)."
   ]
  },
  {
   "cell_type": "code",
   "execution_count": 31,
   "metadata": {},
   "outputs": [
    {
     "name": "stdout",
     "output_type": "stream",
     "text": [
      "[[ 0.16498212  0.29116696  0.39055583  1.55362745]\n",
      " [-0.9095729  -0.02560903  0.44630241  0.54662483]\n",
      " [-1.52021888 -0.68877751 -0.5420441   0.98329884]\n",
      " [-1.09144266 -0.94739183 -0.65223716 -0.15426318]\n",
      " [-1.99455888 -1.68308849 -0.52215209  0.17105827]]\n",
      "[[ 1.55362745  0.29116696  0.39055583  0.16498212]\n",
      " [ 0.54662483 -0.02560903 -0.9095729   0.44630241]\n",
      " [ 0.98329884 -0.5420441  -1.52021888 -0.68877751]\n",
      " [-0.15426318 -0.94739183 -0.65223716 -1.09144266]\n",
      " [-0.52215209 -1.68308849 -1.99455888  0.17105827]]\n"
     ]
    }
   ],
   "source": [
    "arr_kopie = np.sort(arr_s)\n",
    "print(arr_kopie)\n",
    "print(arr_s)"
   ]
  },
  {
   "cell_type": "markdown",
   "metadata": {},
   "source": [
    "#### Mengenlogik\n",
    "Für eindimensionale Arrays<br>\n",
    "`unique()` liefert die sortierten eindeutigen Werte in einem array zurück:"
   ]
  },
  {
   "cell_type": "code",
   "execution_count": 32,
   "metadata": {},
   "outputs": [
    {
     "data": {
      "text/plain": [
       "array(['Bob', 'Joe', 'Will'], dtype='<U4')"
      ]
     },
     "execution_count": 32,
     "metadata": {},
     "output_type": "execute_result"
    }
   ],
   "source": [
    "names = np.array([\"Bob\", \"Will\", \"Joe\", \"Bob\", \"Will\", \"Joe\", \"Joe\"])\n",
    "np.unique(names)"
   ]
  },
  {
   "cell_type": "markdown",
   "metadata": {},
   "source": [
    "`isin()` prüft das Vorhandensein der Werte aus einem Array in einem anderen und liefert ein boolesches Array zurück:"
   ]
  },
  {
   "cell_type": "code",
   "execution_count": 33,
   "metadata": {},
   "outputs": [
    {
     "data": {
      "text/plain": [
       "array([ True, False, False,  True,  True, False,  True])"
      ]
     },
     "execution_count": 33,
     "metadata": {},
     "output_type": "execute_result"
    }
   ],
   "source": [
    "values = np.array([6, 0, 0, 3, 2, 5, 6])\n",
    "np.isin(values, [2, 3, 6])"
   ]
  },
  {
   "cell_type": "markdown",
   "metadata": {},
   "source": [
    "`intersect1d()` bildet die Schnittmenge"
   ]
  },
  {
   "cell_type": "code",
   "execution_count": 34,
   "metadata": {},
   "outputs": [
    {
     "data": {
      "text/plain": [
       "array([2, 3])"
      ]
     },
     "execution_count": 34,
     "metadata": {},
     "output_type": "execute_result"
    }
   ],
   "source": [
    "np.intersect1d([1, 2, 3], [2, 3, 4])"
   ]
  },
  {
   "cell_type": "markdown",
   "metadata": {},
   "source": [
    "`union1d()` bildet die Vereinigungsmenge"
   ]
  },
  {
   "cell_type": "code",
   "execution_count": 35,
   "metadata": {},
   "outputs": [
    {
     "data": {
      "text/plain": [
       "array([1, 2, 3, 4])"
      ]
     },
     "execution_count": 35,
     "metadata": {},
     "output_type": "execute_result"
    }
   ],
   "source": [
    "np.union1d([1, 2, 3], [2, 3, 4])"
   ]
  },
  {
   "cell_type": "markdown",
   "metadata": {},
   "source": [
    "`setdiff1d()` Mengendifferenz, Elemente in x, die nicht in y enthalten sind."
   ]
  },
  {
   "cell_type": "code",
   "execution_count": 36,
   "metadata": {},
   "outputs": [
    {
     "data": {
      "text/plain": [
       "array([1])"
      ]
     },
     "execution_count": 36,
     "metadata": {},
     "output_type": "execute_result"
    }
   ],
   "source": [
    "np.setdiff1d([1, 2, 3], [2, 3, 4])"
   ]
  },
  {
   "cell_type": "markdown",
   "metadata": {},
   "source": [
    "`setxor1d()` Symmetrische Mengendifferenzen, Elemente, die in einem der Arrays, aber nicht in beiden enthalten sind."
   ]
  },
  {
   "cell_type": "code",
   "execution_count": 37,
   "metadata": {},
   "outputs": [
    {
     "data": {
      "text/plain": [
       "array([1, 4])"
      ]
     },
     "execution_count": 37,
     "metadata": {},
     "output_type": "execute_result"
    }
   ],
   "source": [
    "np.setxor1d([1, 2, 3], [2, 3, 4])"
   ]
  }
 ],
 "metadata": {
  "kernelspec": {
   "display_name": "Python 3",
   "language": "python",
   "name": "python3"
  },
  "language_info": {
   "codemirror_mode": {
    "name": "ipython",
    "version": 3
   },
   "file_extension": ".py",
   "mimetype": "text/x-python",
   "name": "python",
   "nbconvert_exporter": "python",
   "pygments_lexer": "ipython3",
   "version": "3.12.4"
  }
 },
 "nbformat": 4,
 "nbformat_minor": 2
}
