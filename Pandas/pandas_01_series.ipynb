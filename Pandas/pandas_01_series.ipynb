{
 "cells": [
  {
   "cell_type": "markdown",
   "id": "6ed15fa3",
   "metadata": {},
   "source": [
    "<img src='https://encrypted-tbn0.gstatic.com/images?q=tbn:ANd9GcTDiDpm8v8Nl2dB2tMxHY7SKFnp2-S71Q6hnQ&usqp=CAU'/>"
   ]
  },
  {
   "cell_type": "markdown",
   "id": "f41f6a77",
   "metadata": {},
   "source": [
    "# Pandas\n",
    "\n",
    "- 3rd Party Bibliothek zur Verarbeitung  tabellarischer Daten\n",
    "- basiert auf NumPy\n",
    "- Datenstrukturen: Series, Dataframe\n",
    "\n",
    "#### Installation"
   ]
  },
  {
   "cell_type": "code",
   "execution_count": 1,
   "id": "560b2bde",
   "metadata": {},
   "outputs": [],
   "source": [
    "%%capture\n",
    "!pip install pandas"
   ]
  },
  {
   "cell_type": "markdown",
   "id": "003eef63",
   "metadata": {},
   "source": [
    "#### Zusätzliches Paket für Excel (werden wir erst installieren falls zwingend benötigt)"
   ]
  },
  {
   "cell_type": "code",
   "execution_count": 2,
   "id": "49f73112",
   "metadata": {},
   "outputs": [],
   "source": [
    "%%capture\n",
    "# !pip install xlrd"
   ]
  },
  {
   "cell_type": "markdown",
   "id": "7ae43320",
   "metadata": {},
   "source": [
    "#### Informationen zum Pandas-Modul"
   ]
  },
  {
   "cell_type": "code",
   "execution_count": 3,
   "id": "e54cdd16",
   "metadata": {},
   "outputs": [
    {
     "name": "stdout",
     "output_type": "stream",
     "text": [
      "Name: pandas\n",
      "Version: 2.2.3\n",
      "Summary: Powerful data structures for data analysis, time series, and statistics\n",
      "Home-page: https://pandas.pydata.org\n",
      "Author: \n",
      "Author-email: The Pandas Development Team <pandas-dev@python.org>\n",
      "License: BSD 3-Clause License\n",
      "\n",
      "Copyright (c) 2008-2011, AQR Capital Management, LLC, Lambda Foundry, Inc. and PyData Development Team\n",
      "All rights reserved.\n",
      "\n",
      "Copyright (c) 2011-2023, Open source contributors.\n",
      "\n",
      "Redistribution and use in source and binary forms, with or without\n",
      "modification, are permitted provided that the following conditions are met:\n",
      "\n",
      "* Redistributions of source code must retain the above copyright notice, this\n",
      "  list of conditions and the following disclaimer.\n",
      "\n",
      "* Redistributions in binary form must reproduce the above copyright notice,\n",
      "  this list of conditions and the following disclaimer in the documentation\n",
      "  and/or other materials provided with the distribution.\n",
      "\n",
      "* Neither the name of the copyright holder nor the names of its\n",
      "  contributors may be used to endorse or promote products derived from\n",
      "  this software without specific prior written permission.\n",
      "\n",
      "THIS SOFTWARE IS PROVIDED BY THE COPYRIGHT HOLDERS AND CONTRIBUTORS \"AS IS\"\n",
      "AND ANY EXPRESS OR IMPLIED WARRANTIES, INCLUDING, BUT NOT LIMITED TO, THE\n",
      "IMPLIED WARRANTIES OF MERCHANTABILITY AND FITNESS FOR A PARTICULAR PURPOSE ARE\n",
      "DISCLAIMED. IN NO EVENT SHALL THE COPYRIGHT HOLDER OR CONTRIBUTORS BE LIABLE\n",
      "FOR ANY DIRECT, INDIRECT, INCIDENTAL, SPECIAL, EXEMPLARY, OR CONSEQUENTIAL\n",
      "DAMAGES (INCLUDING, BUT NOT LIMITED TO, PROCUREMENT OF SUBSTITUTE GOODS OR\n",
      "SERVICES; LOSS OF USE, DATA, OR PROFITS; OR BUSINESS INTERRUPTION) HOWEVER\n",
      "CAUSED AND ON ANY THEORY OF LIABILITY, WHETHER IN CONTRACT, STRICT LIABILITY,\n",
      "OR TORT (INCLUDING NEGLIGENCE OR OTHERWISE) ARISING IN ANY WAY OUT OF THE USE\n",
      "OF THIS SOFTWARE, EVEN IF ADVISED OF THE POSSIBILITY OF SUCH DAMAGE.\n",
      "Location: C:\\Users\\NataliaArchipenko\\AppData\\Local\\Programs\\Python\\Python312\\Lib\\site-packages\n",
      "Requires: numpy, python-dateutil, pytz, tzdata\n",
      "Required-by: \n"
     ]
    }
   ],
   "source": [
    "!pip show pandas"
   ]
  },
  {
   "cell_type": "markdown",
   "id": "85bb97f7",
   "metadata": {},
   "source": [
    "#### Pandas Dokumentation\n",
    "\n",
    "findet man hier: https://pandas.pydata.org/"
   ]
  },
  {
   "cell_type": "markdown",
   "id": "6ff043c4",
   "metadata": {},
   "source": [
    "#### Pandas importieren\n",
    "\n",
    "es üblich, dass man Pandas in pd umbennent:"
   ]
  },
  {
   "cell_type": "code",
   "execution_count": 5,
   "id": "8d9f0f44",
   "metadata": {},
   "outputs": [],
   "source": [
    "import pandas as pd"
   ]
  },
  {
   "cell_type": "markdown",
   "id": "4327aad6",
   "metadata": {},
   "source": [
    "### Pandas Datenstrukturen\n",
    "\n",
    "- Series: eine eindimensionale Darstellung von Daten (ähnlich wie NumPy Arrays)\n",
    "- DataFrame: eine zweidimensionale (tabellarisch: Reihen und Spalten) Darstellung von Daten\n"
   ]
  },
  {
   "cell_type": "markdown",
   "id": "e370cd7d",
   "metadata": {},
   "source": [
    "#### Series\n",
    "\n",
    "<img src='https://pandas.pydata.org/docs/_images/01_table_series.svg' width='150px;'>\n",
    "\n",
    "Ein Series-Objekt kann man wie die Spalte in einer Excel-Tabelle plus dem zugehörigen Index sehen. Anders ausgedrückt: Eine Series ist ein eindimensionales Array-ähnliches Objekt mit einem Index. Während bei einem Array der Index den natürlichen Zahlen von 0\n",
    "bis zur Länge des Arrays (exklusive) entspricht, kann der Index einer Series beliebig sein.\n",
    "  \n",
    "Sowohl der Index als auch die Werte einer Series müssen einen einheitlichen Datentyp aufweisen, also beispielsweise nur Integers, Floats, Strings usw.  \n",
    "\n",
    "Eine Series kann als eine Datenstruktur mit zwei Arrays angesehen werden: Ein Array fungiert als Index, d.h. als Bezeichner (Label), und ein Array beinhaltet die aktuellen Daten\n",
    "(Werte).\n",
    "\n",
    "Series wurden ursprünglich zur Analyse von Zeitreihen (engl. time series) entwickelt.  \n",
    "  \n",
    "Series sind _explizit_ indiziert (flexibler als NumPy Arrays: _implizit indiziert_)\n",
    "\n"
   ]
  },
  {
   "cell_type": "code",
   "execution_count": 6,
   "id": "855de8ef",
   "metadata": {},
   "outputs": [
    {
     "data": {
      "text/plain": [
       "array([10, 20, 30])"
      ]
     },
     "execution_count": 6,
     "metadata": {},
     "output_type": "execute_result"
    }
   ],
   "source": [
    "import numpy as np\n",
    "\n",
    "arr = np.array([10,20,30])\n",
    "arr # in der Ausgabe sehen wir nur die Elemente des Arrayobjekts"
   ]
  },
  {
   "cell_type": "code",
   "execution_count": 7,
   "id": "1feb366e",
   "metadata": {},
   "outputs": [
    {
     "data": {
      "text/plain": [
       "0    10\n",
       "1    20\n",
       "2    30\n",
       "dtype: int64"
      ]
     },
     "execution_count": 7,
     "metadata": {},
     "output_type": "execute_result"
    }
   ],
   "source": [
    "ser = pd.Series(index=range(3),  # Indizes\n",
    "                data=[10,20,30]) # Elemente\n",
    "ser"
   ]
  },
  {
   "cell_type": "markdown",
   "id": "46581a04",
   "metadata": {},
   "source": [
    "Im Folgenden lernen wir:\n",
    "\n",
    "- Ein Series-Objekt erstellen\n",
    "- Zugriff auf Elemente (Einzel)\n",
    "- Zugriff auf einen Teilbereich (Slicing)\n",
    "- Gruppieren (engl. groupby)\n",
    "- Abfragen erstellen\n",
    "- Weitere Funktion, Methoden und Attribute für Series"
   ]
  },
  {
   "cell_type": "markdown",
   "id": "47c55ed0",
   "metadata": {},
   "source": [
    "#### Ein Series-Objekt erstellen\n",
    "\n",
    "Series sind Objekte der Klasse `pandas.Series`"
   ]
  },
  {
   "cell_type": "code",
   "execution_count": 41,
   "id": "8f27caa6",
   "metadata": {},
   "outputs": [],
   "source": [
    "#help(pd.Series)"
   ]
  },
  {
   "cell_type": "markdown",
   "id": "d23ebdf2",
   "metadata": {},
   "source": [
    "##### Series mit nummerischen Indizes "
   ]
  },
  {
   "cell_type": "code",
   "execution_count": 9,
   "id": "50b80c8f",
   "metadata": {},
   "outputs": [
    {
     "data": {
      "text/plain": [
       "0    10.0\n",
       "1    22.0\n",
       "2    32.0\n",
       "3    41.0\n",
       "4    52.0\n",
       "dtype: float64"
      ]
     },
     "execution_count": 9,
     "metadata": {},
     "output_type": "execute_result"
    }
   ],
   "source": [
    "ser = pd.Series(index = range(5),         # Indizes\n",
    "                data = [10,22,32,41,52],  # Daten\n",
    "                dtype = float)            # Datentypen (optional)\n",
    "\n",
    "ser"
   ]
  },
  {
   "cell_type": "markdown",
   "id": "670f0276",
   "metadata": {},
   "source": [
    "##### Series mit nicht-nummerischen Indizes\n",
    "- Bei solchen Series spricht man dann von Index-Labels.\n",
    "- Duplikate in Index-Labels sind erlaubt."
   ]
  },
  {
   "cell_type": "code",
   "execution_count": 10,
   "id": "a0af2296",
   "metadata": {},
   "outputs": [
    {
     "data": {
      "text/plain": [
       "x    10\n",
       "y    20\n",
       "z    30\n",
       "z    40\n",
       "dtype: int64"
      ]
     },
     "execution_count": 10,
     "metadata": {},
     "output_type": "execute_result"
    }
   ],
   "source": [
    "labled = pd.Series(index = ('x', 'y', 'z', 'z'), # Index-Labels\n",
    "                   data = [10, 20, 30, 40]       # Daten\n",
    "                  )\n",
    "labled"
   ]
  },
  {
   "cell_type": "markdown",
   "id": "a95cf7ec",
   "metadata": {},
   "source": [
    "##### Series mit Multi-Indizes\n",
    "Dazu findet man Informationen in Pandas Dokumentation [hier](https://pandas.pydata.org/pandas-docs/stable/user_guide/advanced.html)"
   ]
  },
  {
   "cell_type": "markdown",
   "id": "a43ccec3",
   "metadata": {},
   "source": [
    "##### Series-Objekte aus Python-Objekten\n",
    "- Listen oder NumPy-Arrays\n",
    "- Dictionary"
   ]
  },
  {
   "cell_type": "code",
   "execution_count": 11,
   "id": "4d25b424",
   "metadata": {},
   "outputs": [],
   "source": [
    "# Beispiel: Dictionary aus Lehrenden mit ihren Fächern\n",
    "teachers = {\n",
    "    'Martin':'Mathe',\n",
    "    'Julia':'Englisch',\n",
    "    'Tom':'Physik',\n",
    "    'Christine':'Informatik'\n",
    "}"
   ]
  },
  {
   "cell_type": "code",
   "execution_count": 12,
   "id": "a04d93ab",
   "metadata": {},
   "outputs": [],
   "source": [
    "t = pd.Series(teachers)"
   ]
  },
  {
   "cell_type": "code",
   "execution_count": 13,
   "id": "01e72f4a",
   "metadata": {},
   "outputs": [
    {
     "data": {
      "text/plain": [
       "Martin            Mathe\n",
       "Julia          Englisch\n",
       "Tom              Physik\n",
       "Christine    Informatik\n",
       "dtype: object"
      ]
     },
     "execution_count": 13,
     "metadata": {},
     "output_type": "execute_result"
    }
   ],
   "source": [
    "t # keys: Indel-Labels und values: Daten"
   ]
  },
  {
   "cell_type": "markdown",
   "id": "fae9aca3",
   "metadata": {},
   "source": [
    "#### Zugriff auf Elemente (Einzel)\n",
    "\n",
    "geschieht mit Hilfe von Indizes bzw. Index-Labels"
   ]
  },
  {
   "cell_type": "code",
   "execution_count": 14,
   "id": "699f0692",
   "metadata": {},
   "outputs": [
    {
     "data": {
      "text/plain": [
       "0    10.0\n",
       "1    22.0\n",
       "2    32.0\n",
       "3    41.0\n",
       "4    52.0\n",
       "dtype: float64"
      ]
     },
     "execution_count": 14,
     "metadata": {},
     "output_type": "execute_result"
    }
   ],
   "source": [
    "ser"
   ]
  },
  {
   "cell_type": "code",
   "execution_count": 15,
   "id": "58ea8970",
   "metadata": {},
   "outputs": [
    {
     "data": {
      "text/plain": [
       "np.float64(32.0)"
      ]
     },
     "execution_count": 15,
     "metadata": {},
     "output_type": "execute_result"
    }
   ],
   "source": [
    "ser[2] # Element mit Index 2 aufrufen"
   ]
  },
  {
   "cell_type": "code",
   "execution_count": 16,
   "id": "1e223834",
   "metadata": {},
   "outputs": [],
   "source": [
    "# ser[-1] # KeyError: für Series ist negative Indizierung nicht definiert"
   ]
  },
  {
   "cell_type": "markdown",
   "id": "000c84c6",
   "metadata": {},
   "source": [
    "Für den Zugriff auf einen einzelnen Element in Series hat Pandas ein spezifisches Attribut: \n",
    "- `.iloc[]` (nummerische Indizes) und \n",
    "- `.loc[]` (für nicht-nummerische Indizes)."
   ]
  },
  {
   "cell_type": "code",
   "execution_count": 17,
   "id": "02953a2a",
   "metadata": {},
   "outputs": [
    {
     "data": {
      "text/plain": [
       "np.float64(32.0)"
      ]
     },
     "execution_count": 17,
     "metadata": {},
     "output_type": "execute_result"
    }
   ],
   "source": [
    "ser.iloc[2]"
   ]
  },
  {
   "cell_type": "code",
   "execution_count": 18,
   "id": "3e80a9d8",
   "metadata": {},
   "outputs": [
    {
     "data": {
      "text/plain": [
       "Martin            Mathe\n",
       "Julia          Englisch\n",
       "Tom              Physik\n",
       "Christine    Informatik\n",
       "dtype: object"
      ]
     },
     "execution_count": 18,
     "metadata": {},
     "output_type": "execute_result"
    }
   ],
   "source": [
    "t"
   ]
  },
  {
   "cell_type": "code",
   "execution_count": 19,
   "id": "d4d1ad6f",
   "metadata": {},
   "outputs": [
    {
     "data": {
      "text/plain": [
       "'Physik'"
      ]
     },
     "execution_count": 19,
     "metadata": {},
     "output_type": "execute_result"
    }
   ],
   "source": [
    "t.iloc[2]"
   ]
  },
  {
   "cell_type": "code",
   "execution_count": 20,
   "id": "a152a58b",
   "metadata": {},
   "outputs": [],
   "source": [
    "#t.loc[2] # Fehler! denn iloc[] akzeptiert keine Zahlen als Index, sondern Labels"
   ]
  },
  {
   "cell_type": "code",
   "execution_count": 21,
   "id": "aa3af4d5",
   "metadata": {},
   "outputs": [
    {
     "data": {
      "text/plain": [
       "'Physik'"
      ]
     },
     "execution_count": 21,
     "metadata": {},
     "output_type": "execute_result"
    }
   ],
   "source": [
    "t.loc['Tom']"
   ]
  },
  {
   "cell_type": "markdown",
   "id": "343775f1",
   "metadata": {},
   "source": [
    "#### Zugriff auf einen Teilbereich (Slicing)\n",
    "\n",
    "Slicing in Series geschieht ähnlich wie bei Listen oder NumPy Arrays:\n",
    "\n",
    "- `.iloc[start:end:step]` Ähnlich wie Listen und Arrays: das letzte Element `end` exkludiert\n",
    "- `.loc[start:end:step]` Hier ist das letzte Element `end` im Teilbereich mitdabei\n"
   ]
  },
  {
   "cell_type": "code",
   "execution_count": 22,
   "id": "6e18e180",
   "metadata": {},
   "outputs": [
    {
     "data": {
      "text/plain": [
       "0    10.0\n",
       "1    22.0\n",
       "2    32.0\n",
       "3    41.0\n",
       "4    52.0\n",
       "dtype: float64"
      ]
     },
     "execution_count": 22,
     "metadata": {},
     "output_type": "execute_result"
    }
   ],
   "source": [
    "ser"
   ]
  },
  {
   "cell_type": "code",
   "execution_count": 23,
   "id": "1d431b42",
   "metadata": {},
   "outputs": [
    {
     "data": {
      "text/plain": [
       "0    10.0\n",
       "1    22.0\n",
       "2    32.0\n",
       "dtype: float64"
      ]
     },
     "execution_count": 23,
     "metadata": {},
     "output_type": "execute_result"
    }
   ],
   "source": [
    "ser.iloc[:3] # Elemente mit Indizes 0,1 und 2"
   ]
  },
  {
   "cell_type": "code",
   "execution_count": 24,
   "id": "dc23abec",
   "metadata": {},
   "outputs": [
    {
     "data": {
      "text/plain": [
       "x    10\n",
       "y    20\n",
       "z    30\n",
       "z    40\n",
       "dtype: int64"
      ]
     },
     "execution_count": 24,
     "metadata": {},
     "output_type": "execute_result"
    }
   ],
   "source": [
    "labled"
   ]
  },
  {
   "cell_type": "code",
   "execution_count": 25,
   "id": "0ec2f16f",
   "metadata": {},
   "outputs": [
    {
     "data": {
      "text/plain": [
       "y    20\n",
       "z    30\n",
       "z    40\n",
       "dtype: int64"
      ]
     },
     "execution_count": 25,
     "metadata": {},
     "output_type": "execute_result"
    }
   ],
   "source": [
    "labled.loc['y':'z'] # Hier sind die Endelemente mit Indexlabel 'z' auch mitdabei"
   ]
  },
  {
   "cell_type": "code",
   "execution_count": 26,
   "id": "7a78b05e",
   "metadata": {},
   "outputs": [
    {
     "data": {
      "text/plain": [
       "y    20\n",
       "z    30\n",
       "dtype: int64"
      ]
     },
     "execution_count": 26,
     "metadata": {},
     "output_type": "execute_result"
    }
   ],
   "source": [
    "labled.iloc[1:3] # bei iloc[] ist das letzte Element nicht mitdabei im Teilbereich"
   ]
  },
  {
   "cell_type": "code",
   "execution_count": 27,
   "id": "e4ae5740",
   "metadata": {},
   "outputs": [
    {
     "data": {
      "text/plain": [
       "Martin            Mathe\n",
       "Julia          Englisch\n",
       "Tom              Physik\n",
       "Christine    Informatik\n",
       "dtype: object"
      ]
     },
     "execution_count": 27,
     "metadata": {},
     "output_type": "execute_result"
    }
   ],
   "source": [
    "t"
   ]
  },
  {
   "cell_type": "code",
   "execution_count": 28,
   "id": "18ecc509",
   "metadata": {},
   "outputs": [
    {
     "data": {
      "text/plain": [
       "Julia          Englisch\n",
       "Christine    Informatik\n",
       "dtype: object"
      ]
     },
     "execution_count": 28,
     "metadata": {},
     "output_type": "execute_result"
    }
   ],
   "source": [
    "t.loc['Julia':'Christine':2] # mit einer Schrittweite von 2"
   ]
  },
  {
   "cell_type": "markdown",
   "id": "e7b165cb",
   "metadata": {},
   "source": [
    "#### Gruppieren (engl. groupby)\n",
    "\n",
    "Wenn wir eine Spalte in einer Tabelle als ein Series betrachten, dann gibt es oft Spalten, in denen Kategorien gespeichert sind (binäre Kategorien: 0, 1 oder mehrfache: 0, 1, 2, etc.) \n",
    "\n",
    "- Wie viele /welche Kategorien sind überhaupt in der Spalte?\n",
    "- Wie viele Einträge (Datensätze) gibt es unter jeder Kategorie"
   ]
  },
  {
   "cell_type": "code",
   "execution_count": 39,
   "id": "829a6293",
   "metadata": {},
   "outputs": [
    {
     "data": {
      "text/plain": [
       "0    21\n",
       "1    31\n",
       "2    42\n",
       "3    59\n",
       "4    16\n",
       "dtype: int64"
      ]
     },
     "execution_count": 39,
     "metadata": {},
     "output_type": "execute_result"
    }
   ],
   "source": [
    "k = pd.Series(index=range(5),\n",
    "              data=[21,31,42,59,16])\n",
    "k"
   ]
  },
  {
   "cell_type": "code",
   "execution_count": 30,
   "id": "9f198df0",
   "metadata": {},
   "outputs": [
    {
     "data": {
      "text/plain": [
       "array([21, 31, 42, 59, 16])"
      ]
     },
     "execution_count": 30,
     "metadata": {},
     "output_type": "execute_result"
    }
   ],
   "source": [
    "k.values"
   ]
  },
  {
   "cell_type": "code",
   "execution_count": 31,
   "id": "6cd40844",
   "metadata": {},
   "outputs": [
    {
     "data": {
      "text/plain": [
       "RangeIndex(start=0, stop=5, step=1)"
      ]
     },
     "execution_count": 31,
     "metadata": {},
     "output_type": "execute_result"
    }
   ],
   "source": [
    "k.index"
   ]
  },
  {
   "cell_type": "markdown",
   "id": "b7188133",
   "metadata": {},
   "source": [
    "Wir können die Zahlen im o.g. Seriesobjekt in 2 Kategorien einteilen: Gerade und ungerade Zahlen.\n",
    "Wir können mit Hilfe von `%` beweisen, ob eine Zahl gerade oder ungerade ist:\n",
    "\n",
    "```python\n",
    "gerade % 2 == 0 # True\n",
    "ungerade % 2 == 1 # True\n",
    "```"
   ]
  },
  {
   "cell_type": "markdown",
   "id": "ebf1f874",
   "metadata": {},
   "source": [
    "Mit Hilfe der Methoden `groupby()` können wir dann diese Gruppen identifizieren:"
   ]
  },
  {
   "cell_type": "code",
   "execution_count": 32,
   "id": "059d2f3c",
   "metadata": {},
   "outputs": [],
   "source": [
    "gruppen = k.groupby(lambda x: x % 2 == 0)"
   ]
  },
  {
   "cell_type": "code",
   "execution_count": 33,
   "id": "b0841932",
   "metadata": {},
   "outputs": [
    {
     "name": "stdout",
     "output_type": "stream",
     "text": [
      "False\n",
      "1    31\n",
      "3    59\n",
      "dtype: int64\n",
      "True\n",
      "0    21\n",
      "2    42\n",
      "4    16\n",
      "dtype: int64\n"
     ]
    }
   ],
   "source": [
    "for gruppe in gruppen:\n",
    "    print(gruppe[0])\n",
    "    print(gruppe[1])"
   ]
  },
  {
   "cell_type": "markdown",
   "id": "0f8bd819",
   "metadata": {},
   "source": [
    "Wir haben ein `groupby` Objekt erzeugt. Dieses Objekt hat eigene Methoden, u.a. `get_group()`:"
   ]
  },
  {
   "cell_type": "code",
   "execution_count": 34,
   "id": "39263e7a",
   "metadata": {},
   "outputs": [
    {
     "data": {
      "text/plain": [
       "1    31\n",
       "3    59\n",
       "dtype: int64"
      ]
     },
     "execution_count": 34,
     "metadata": {},
     "output_type": "execute_result"
    }
   ],
   "source": [
    "gruppen.get_group(False)"
   ]
  },
  {
   "cell_type": "code",
   "execution_count": 35,
   "id": "0ac57ad8",
   "metadata": {},
   "outputs": [
    {
     "data": {
      "text/plain": [
       "0    21\n",
       "2    42\n",
       "4    16\n",
       "dtype: int64"
      ]
     },
     "execution_count": 35,
     "metadata": {},
     "output_type": "execute_result"
    }
   ],
   "source": [
    "gruppen.get_group(True)"
   ]
  },
  {
   "cell_type": "markdown",
   "id": "a81f48aa",
   "metadata": {},
   "source": [
    "In dem o.g. Beispiel hat die Methode `groupby()` die Indizes berücksichtigt (anstatt Values)!"
   ]
  },
  {
   "cell_type": "code",
   "execution_count": 36,
   "id": "6b26a0b3",
   "metadata": {},
   "outputs": [],
   "source": [
    "# help(pd.Series.groupby)"
   ]
  },
  {
   "cell_type": "markdown",
   "id": "f8186fb1",
   "metadata": {},
   "source": [
    "### Recherche-Aufgabe\n",
    "Wie kann `groupby()` auf Values anstelle von Indizes zugreifen?\n",
    "Das heißt eine Lösung mit `groupby()`, die gerade und ungerade Zahlen aus `ser` zurückliefert, ohne die Indexspalte vertauschen zu müssen"
   ]
  },
  {
   "cell_type": "code",
   "execution_count": 37,
   "id": "470e61c4",
   "metadata": {},
   "outputs": [
    {
     "data": {
      "text/plain": [
       "0    21\n",
       "1    31\n",
       "2    42\n",
       "3    59\n",
       "4    16\n",
       "Name: Numbers, dtype: int64"
      ]
     },
     "execution_count": 37,
     "metadata": {},
     "output_type": "execute_result"
    }
   ],
   "source": [
    "# Recherche-Aufgabe\n",
    "ser = pd.Series(index=range(5),\n",
    "                data=[21,31,42,59,16],\n",
    "                name='Numbers')\n",
    "ser"
   ]
  },
  {
   "cell_type": "code",
   "execution_count": 38,
   "id": "f4f2df33",
   "metadata": {},
   "outputs": [],
   "source": [
    "# Musterlösung\n"
   ]
  },
  {
   "cell_type": "markdown",
   "id": "8e6f20e5",
   "metadata": {},
   "source": [
    "#### Abfragen erstellen"
   ]
  },
  {
   "cell_type": "code",
   "execution_count": 42,
   "id": "a2b7e8fb",
   "metadata": {},
   "outputs": [
    {
     "data": {
      "text/plain": [
       "mercedes    390.0\n",
       "audi        350.0\n",
       "trabi        30.0\n",
       "fiat         20.0\n",
       "Name: Max Speed, dtype: float64"
      ]
     },
     "execution_count": 42,
     "metadata": {},
     "output_type": "execute_result"
    }
   ],
   "source": [
    "# Beispiel aus Pandas Doku\n",
    "ser = pd.Series([390., 350., 30., 20.],\n",
    "                index=['mercedes', 'audi', 'trabi', 'fiat'], \n",
    "                name=\"Max Speed\")\n",
    "ser"
   ]
  },
  {
   "cell_type": "markdown",
   "id": "da6464ed",
   "metadata": {},
   "source": [
    "Wir suchen alle Objekte in Series, die eine Geschwindigkeit über 100 haben."
   ]
  },
  {
   "cell_type": "code",
   "execution_count": 43,
   "id": "7a42cb6c",
   "metadata": {},
   "outputs": [
    {
     "data": {
      "text/plain": [
       "'Max Speed'"
      ]
     },
     "execution_count": 43,
     "metadata": {},
     "output_type": "execute_result"
    }
   ],
   "source": [
    "ser.name # Serienobjekt hat einen internen Namen"
   ]
  },
  {
   "cell_type": "code",
   "execution_count": 44,
   "id": "61685920",
   "metadata": {},
   "outputs": [
    {
     "data": {
      "text/plain": [
       "mercedes    390.0\n",
       "audi        350.0\n",
       "Name: Max Speed, dtype: float64"
      ]
     },
     "execution_count": 44,
     "metadata": {},
     "output_type": "execute_result"
    }
   ],
   "source": [
    "ser[ser>100] # alle Objekte aus 'ser' deren Value größer ist als 100"
   ]
  },
  {
   "cell_type": "markdown",
   "id": "a250bfb6",
   "metadata": {},
   "source": [
    "#### Weitere Funktion, Methoden und Attribute für Series"
   ]
  },
  {
   "cell_type": "code",
   "execution_count": 45,
   "id": "ae106a97",
   "metadata": {},
   "outputs": [
    {
     "data": {
      "text/plain": [
       "mercedes    390.0\n",
       "audi        350.0\n",
       "trabi        30.0\n",
       "fiat         20.0\n",
       "Name: Max Speed, dtype: float64"
      ]
     },
     "execution_count": 45,
     "metadata": {},
     "output_type": "execute_result"
    }
   ],
   "source": [
    "ser"
   ]
  },
  {
   "cell_type": "markdown",
   "id": "84964623",
   "metadata": {},
   "source": [
    "Datentyp von Elementen ermitteln:"
   ]
  },
  {
   "cell_type": "code",
   "execution_count": 46,
   "id": "6cd59499",
   "metadata": {},
   "outputs": [
    {
     "data": {
      "text/plain": [
       "dtype('float64')"
      ]
     },
     "execution_count": 46,
     "metadata": {},
     "output_type": "execute_result"
    }
   ],
   "source": [
    "ser.dtype"
   ]
  },
  {
   "cell_type": "markdown",
   "id": "4003f1be",
   "metadata": {},
   "source": [
    "Die Gestaltung (Form) eines Seriesobjekts: die Anzahl der Elemente"
   ]
  },
  {
   "cell_type": "code",
   "execution_count": 47,
   "id": "888c28df",
   "metadata": {},
   "outputs": [
    {
     "data": {
      "text/plain": [
       "(4,)"
      ]
     },
     "execution_count": 47,
     "metadata": {},
     "output_type": "execute_result"
    }
   ],
   "source": [
    "ser.shape # ähnlich wie len()"
   ]
  },
  {
   "cell_type": "code",
   "execution_count": 48,
   "id": "3cff1de4",
   "metadata": {},
   "outputs": [
    {
     "data": {
      "text/plain": [
       "4"
      ]
     },
     "execution_count": 48,
     "metadata": {},
     "output_type": "execute_result"
    }
   ],
   "source": [
    "len(ser)"
   ]
  },
  {
   "cell_type": "markdown",
   "id": "12d0721b",
   "metadata": {},
   "source": [
    "Wichtige statistische Eckdaten ermitteln"
   ]
  },
  {
   "cell_type": "code",
   "execution_count": 49,
   "id": "2097bde9",
   "metadata": {},
   "outputs": [
    {
     "data": {
      "text/plain": [
       "count      4.000000\n",
       "mean     197.500000\n",
       "std      199.895806\n",
       "min       20.000000\n",
       "25%       27.500000\n",
       "50%      190.000000\n",
       "75%      360.000000\n",
       "max      390.000000\n",
       "Name: Max Speed, dtype: float64"
      ]
     },
     "execution_count": 49,
     "metadata": {},
     "output_type": "execute_result"
    }
   ],
   "source": [
    "ser.describe()"
   ]
  },
  {
   "cell_type": "markdown",
   "id": "050bf6dd",
   "metadata": {},
   "source": [
    "Für diese Angaben gibt es noch individuelle Methoden"
   ]
  },
  {
   "cell_type": "code",
   "execution_count": 50,
   "id": "573d3519",
   "metadata": {},
   "outputs": [
    {
     "data": {
      "text/plain": [
       "np.float64(20.0)"
      ]
     },
     "execution_count": 50,
     "metadata": {},
     "output_type": "execute_result"
    }
   ],
   "source": [
    "ser.min() # minimum"
   ]
  },
  {
   "cell_type": "code",
   "execution_count": 51,
   "id": "0b7ae281",
   "metadata": {},
   "outputs": [
    {
     "data": {
      "text/plain": [
       "np.float64(390.0)"
      ]
     },
     "execution_count": 51,
     "metadata": {},
     "output_type": "execute_result"
    }
   ],
   "source": [
    "ser.max() # max"
   ]
  },
  {
   "cell_type": "code",
   "execution_count": 52,
   "id": "618a8874",
   "metadata": {},
   "outputs": [
    {
     "data": {
      "text/plain": [
       "np.float64(197.5)"
      ]
     },
     "execution_count": 52,
     "metadata": {},
     "output_type": "execute_result"
    }
   ],
   "source": [
    "ser.mean() # Durchschnitt"
   ]
  },
  {
   "cell_type": "code",
   "execution_count": 53,
   "id": "20b34940",
   "metadata": {},
   "outputs": [
    {
     "data": {
      "text/plain": [
       "np.float64(190.0)"
      ]
     },
     "execution_count": 53,
     "metadata": {},
     "output_type": "execute_result"
    }
   ],
   "source": [
    "ser.median() # Median"
   ]
  },
  {
   "cell_type": "code",
   "execution_count": 54,
   "id": "496fd6ce",
   "metadata": {},
   "outputs": [
    {
     "data": {
      "text/plain": [
       "np.int64(4)"
      ]
     },
     "execution_count": 54,
     "metadata": {},
     "output_type": "execute_result"
    }
   ],
   "source": [
    "ser.count() # die Anzahl der Elemente"
   ]
  },
  {
   "cell_type": "code",
   "execution_count": 55,
   "id": "549cb9d6",
   "metadata": {},
   "outputs": [
    {
     "data": {
      "text/plain": [
       "np.float64(790.0)"
      ]
     },
     "execution_count": 55,
     "metadata": {},
     "output_type": "execute_result"
    }
   ],
   "source": [
    "ser.sum() # die Summe"
   ]
  },
  {
   "cell_type": "markdown",
   "id": "6851e058",
   "metadata": {},
   "source": [
    "All diese Attribute und Funktionen sind auch für Pandas Dataframes gültig.  \n",
    "\n",
    "Im Prinzip und theoretisch kann man jede beliebige Funktion auf ein Series-Objekt anwenden.\n",
    "\n",
    "Dazu muss die Methode `.apply()` eingesetzt werden."
   ]
  },
  {
   "cell_type": "code",
   "execution_count": 56,
   "id": "a69ee373",
   "metadata": {},
   "outputs": [
    {
     "data": {
      "text/plain": [
       "mercedes    5.966147\n",
       "audi        5.857933\n",
       "trabi       3.401197\n",
       "fiat        2.995732\n",
       "Name: Max Speed, dtype: float64"
      ]
     },
     "execution_count": 56,
     "metadata": {},
     "output_type": "execute_result"
    }
   ],
   "source": [
    "ser.apply(np.log)"
   ]
  },
  {
   "cell_type": "code",
   "execution_count": 57,
   "id": "f3d6bf68",
   "metadata": {},
   "outputs": [
    {
     "data": {
      "text/plain": [
       "mercedes    0.0\n",
       "audi        0.0\n",
       "trabi       0.0\n",
       "fiat        0.0\n",
       "Name: Max Speed, dtype: float64"
      ]
     },
     "execution_count": 57,
     "metadata": {},
     "output_type": "execute_result"
    }
   ],
   "source": [
    "ser.apply(lambda x: x%2)"
   ]
  },
  {
   "cell_type": "code",
   "execution_count": 58,
   "id": "38a68f37",
   "metadata": {},
   "outputs": [],
   "source": [
    "ser_class = ser.apply(lambda x: x%2)"
   ]
  },
  {
   "cell_type": "code",
   "execution_count": 59,
   "id": "c259c7f6",
   "metadata": {},
   "outputs": [
    {
     "data": {
      "text/plain": [
       "array([0.])"
      ]
     },
     "execution_count": 59,
     "metadata": {},
     "output_type": "execute_result"
    }
   ],
   "source": [
    "ser_class.unique() # Kategorien in Series ermitteln"
   ]
  },
  {
   "cell_type": "code",
   "execution_count": 60,
   "id": "d3525e38",
   "metadata": {},
   "outputs": [],
   "source": [
    "# help(pd.Series.unique)"
   ]
  }
 ],
 "metadata": {
  "kernelspec": {
   "display_name": "Python 3",
   "language": "python",
   "name": "python3"
  },
  "language_info": {
   "codemirror_mode": {
    "name": "ipython",
    "version": 3
   },
   "file_extension": ".py",
   "mimetype": "text/x-python",
   "name": "python",
   "nbconvert_exporter": "python",
   "pygments_lexer": "ipython3",
   "version": "3.12.4"
  },
  "nbTranslate": {
   "displayLangs": [
    "en",
    "de"
   ],
   "hotkey": "alt-t",
   "langInMainMenu": true,
   "sourceLang": "de",
   "targetLang": "en",
   "useGoogleTranslate": true
  }
 },
 "nbformat": 4,
 "nbformat_minor": 5
}
