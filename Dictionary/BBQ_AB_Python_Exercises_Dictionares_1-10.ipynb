{
 "cells": [
  {
   "cell_type": "markdown",
   "metadata": {},
   "source": [
    "1. Write a Python script to sort (ascending and descending) a dictionary by value.\n",
    "\n",
    "[Click me to see the sample solution](https://w3resource.com/python-exercises/dictionary/python-data-type-dictionary-exercise-1.php)\n"
   ]
  },
  {
   "cell_type": "code",
   "execution_count": 111,
   "metadata": {},
   "outputs": [
    {
     "name": "stdout",
     "output_type": "stream",
     "text": [
      "[8, 10, 20, 39]\n",
      "[('s', 8), ('a', 10), ('n', 20), ('age', 39)]\n",
      "[('age', 39), ('n', 20), ('a', 10), ('s', 8)]\n",
      "______________________________\n",
      "{1: 'zwei', 3: 'vier', 4: 'drei'}\n",
      "______________________________\n",
      "[(1, 'zwei'), (4, 'drei'), (3, 'vier')]\n",
      "{1: 'zwei', 4: 'drei', 3: 'vier'}\n",
      "1 b\n",
      "3 v\n",
      "5 a\n",
      "10 c\n"
     ]
    }
   ],
   "source": [
    "# your solution\n",
    "my_dictionary = {'a': 10, 'n': 20 , 'age': 39, 's': 8}\n",
    "sorted_by_values = sorted(my_dictionary.values())\n",
    "print(sorted_by_values)\n",
    "\n",
    "sorted_by_values_asc = sorted(my_dictionary.items(), key=lambda item: item[1])\n",
    "\n",
    "sorted_by_values_desc = sorted(my_dictionary.items(), key=lambda item: item[1], reverse=True)\n",
    "print(sorted_by_values_asc )\n",
    "print(sorted_by_values_desc)\n",
    "\n",
    "print('_'*30)\n",
    "d = {1: \"zwei\", 3: \"vier\", 4: \"drei\"}\n",
    "ds = sorted(d)#dann haben wir Schlüssel sortieren\n",
    "print(d)\n",
    "\n",
    "print('_'*30)\n",
    "d = {1: \"zwei\", 3: \"vier\", 4: \"drei\"}\n",
    "#eine zusätliche dictionary benutzen, um Werte als Zahlen erhalten\n",
    "string_in_zahl = { \n",
    "    'zwei': 2,\n",
    "    'drei': 3,\n",
    "    'vier': 4,\n",
    "}\n",
    "\n",
    "def numerischer_wert_erhalten(item): \n",
    "    return string_in_zahl[item[1]] # z.B. item[1] ist \"zwei\", string_in_zahl[\"zwei\"] = 2.\n",
    "\n",
    "sorted_items = sorted(d.items(), key=numerischer_wert_erhalten)\n",
    "print(sorted_items)#liste  mit tools\n",
    "sorted_dict = dict(sorted_items)# von liste zu dictionary\n",
    "print(sorted_dict)\n",
    "\n",
    "#values = d.values()\n",
    "#keys = d.keys()\n",
    "#keys und values tauschen\n",
    "#d = dict(zip(values, keys))\n",
    "#ds = sorted(d)\n",
    "#print(ds)\n",
    "#nach values soertiert:\n",
    "# 1. Schlüssel zuordnen:\n",
    "#sorted_dict = dict(sorted(d.items()))  # Hier sortieren wir das Dictionary nach den Schlüsseln (die ursprünglichen Werte)\n",
    "#print(sorted_dict)\n",
    "dic1 = {'a': 5, 'b': 1, 'v': 3, 'c': 10}\n",
    "dic1_rev = dict(zip(dic1.values(), dic1.keys()))\n",
    "list_value = sorted(dic1.values())\n",
    "for val in list_value:\n",
    "    print(val, dic1_rev[val])"
   ]
  },
  {
   "cell_type": "markdown",
   "metadata": {},
   "source": [
    "2. Write a Python script to add a key to a dictionary.\n",
    "\n",
    "Sample Dictionary : {0: 10, 1: 20}\n",
    "Expected Result : {0: 10, 1: 20, 2: 30}\n",
    "\n",
    "[Click me to see the sample solution](https://w3resource.com/python-exercises/dictionary/python-data-type-dictionary-exercise-2.php)\n"
   ]
  },
  {
   "cell_type": "code",
   "execution_count": 114,
   "metadata": {},
   "outputs": [
    {
     "name": "stdout",
     "output_type": "stream",
     "text": [
      "{0: 10, 1: 20, 2: 30}\n",
      "{0: 10, 1: 20, 3: 40, 2: 30}\n"
     ]
    }
   ],
   "source": [
    "# your solution\n",
    "dictionary = {0:10, 1:20}\n",
    "dictionary[2] = 30\n",
    "print(dictionary)\n",
    "\n",
    "d = {0:10, 1:20}\n",
    "d.update([(3,40)])# tupel in liste hinzugefügt wurde\n",
    "d.update([(2,30),(3,40)])\n",
    "print(d)\n",
    "\n"
   ]
  },
  {
   "cell_type": "markdown",
   "metadata": {},
   "source": [
    "\n",
    "3. Write a Python script to concatenate the following dictionaries to create a new one.\n",
    "\n",
    "Sample Dictionary :\n",
    "dic1={1:10, 2:20}\n",
    "dic2={3:30, 4:40}\n",
    "dic3={5:50,6:60}\n",
    "Expected Result : {1: 10, 2: 20, 3: 30, 4: 40, 5: 50, 6: 60}\n",
    "\n",
    "[Click me to see the sample solution](https://w3resource.com/python-exercises/dictionary/python-data-type-dictionary-exercise-3.php)\n"
   ]
  },
  {
   "cell_type": "code",
   "execution_count": 116,
   "metadata": {},
   "outputs": [
    {
     "name": "stdout",
     "output_type": "stream",
     "text": [
      "{1: 10, 2: 20, 3: 30, 4: 40, 5: 50, 6: 60}\n",
      "__________________\n",
      "{1: 10, 2: 20, 3: 30, 4: 40, 5: 50, 6: 60}\n"
     ]
    }
   ],
   "source": [
    "# your solution\n",
    "dictionary = {}\n",
    "dic1={1:10, 2:20}\n",
    "dic2={3:30, 4:40}\n",
    "dic3={5:50,6:60}\n",
    "dictionary.update(dic1)\n",
    "dictionary.update(dic2)\n",
    "dictionary.update(dic3)\n",
    "print(dictionary)\n",
    "print('__________________')\n",
    "#mit schleife\n",
    "dictionary = {}\n",
    "dic1={1:10, 2:20}\n",
    "dic2={3:30, 4:40}\n",
    "dic3={5:50,6:60}\n",
    "dic123 = dict()\n",
    "for k, v in dic1.items():\n",
    "    dic123[k] = dic1[k]\n",
    "for k, v in dic2.items():\n",
    "    dic123[k] = dic2[k]\n",
    "for k, v in dic3.items():\n",
    "    dic123[k] = dic3[k]\n",
    "print(dic123)\n",
    "\n",
    "\n"
   ]
  },
  {
   "cell_type": "markdown",
   "metadata": {},
   "source": [
    "\n",
    "4. Write a Python script to check whether a given key already exists in a dictionary.\n",
    "\n",
    "[Click me to see the sample solution](https://w3resource.com/python-exercises/dictionary/python-data-type-dictionary-exercise-4.php)\n"
   ]
  },
  {
   "cell_type": "code",
   "execution_count": 33,
   "metadata": {},
   "outputs": [
    {
     "name": "stdout",
     "output_type": "stream",
     "text": [
      "Schlüssel 1 existiert im Dictionary.\n",
      "Schlüssel 3 existiert im Dictionary.\n",
      "Schlüssel 5 existiert im Dictionary.\n",
      "Die Schlüssel 2 existiert\n"
     ]
    }
   ],
   "source": [
    "# your solution\n",
    "dictionary = {1: 10, 2: 20, 3: 30, 4: 40, 5: 50, 6: 60}\n",
    "check_key = 2\n",
    "liste_to_check = [1,3,5]\n",
    "for key in liste_to_check:\n",
    "    if key in dictionary:\n",
    "        print(f\"Schlüssel {key} existiert im Dictionary.\")\n",
    "    else:\n",
    "        print(f\"Schlüssel {key} existiert NICHT im Dictionary.\")\n",
    "\n",
    "if check_key in dictionary:\n",
    "    print(f'Die Schlüssel {check_key} existiert')\n",
    "else:\n",
    "    print(f'Die Schlüssel {check_key} existiert nicht')\n",
    "\n",
    "\n"
   ]
  },
  {
   "cell_type": "markdown",
   "metadata": {},
   "source": [
    "\n",
    "5. Write a Python program to iterate over dictionaries using for loops.\n",
    "\n",
    "[Click me to see the sample solution](https://w3resource.com/python-exercises/dictionary/python-data-type-dictionary-exercise-5.php)\n"
   ]
  },
  {
   "cell_type": "code",
   "execution_count": 34,
   "metadata": {},
   "outputs": [
    {
     "name": "stdout",
     "output_type": "stream",
     "text": [
      "1\n",
      "2\n",
      "3\n",
      "4\n",
      "5\n",
      "6\n",
      "10\n",
      "20\n",
      "30\n",
      "40\n",
      "50\n",
      "60\n",
      "1 10\n",
      "2 20\n",
      "3 30\n",
      "4 40\n",
      "5 50\n",
      "6 60\n"
     ]
    }
   ],
   "source": [
    "# your solution\n",
    "dictionary = {1: 10, 2: 20, 3: 30, 4: 40, 5: 50, 6: 60}\n",
    "for key in dictionary:\n",
    "    print(key)\n",
    "for value in dictionary.values():\n",
    "    print(value)\n",
    "for key, value in dictionary.items():\n",
    "    print(key, value)"
   ]
  },
  {
   "cell_type": "markdown",
   "metadata": {},
   "source": [
    "\n",
    "6. Write a Python script to generate and print a dictionary that contains a number (between 1 and n) in the form (x, x*x).\n",
    "Sample Dictionary ( n = 5) :\n",
    "Expected Output : {1: 1, 2: 4, 3: 9, 4: 16, 5: 25}\n",
    "[Click me to see the sample solution](https://w3resource.com/python-exercises/dictionary/python-data-type-dictionary-exercise-6.php)\n"
   ]
  },
  {
   "cell_type": "code",
   "execution_count": 35,
   "metadata": {},
   "outputs": [
    {
     "name": "stdout",
     "output_type": "stream",
     "text": [
      "{1: 1, 2: 4, 3: 9, 4: 16, 5: 25}\n"
     ]
    }
   ],
   "source": [
    "# your solution\n",
    "#Expected Output : {1: 1, 2: 4, 3: 9, 4: 16, 5: 25}\n",
    "n = 5\n",
    "dictionary = {}\n",
    "for i in range ( 1, n+1):\n",
    "    dictionary.update({i: i*i})\n",
    "print( dictionary)\n",
    "\n",
    "\n",
    "#(between 1 and n) in the form (x, x*x)."
   ]
  },
  {
   "cell_type": "markdown",
   "metadata": {},
   "source": [
    "\n",
    "7. Write a Python script to print a dictionary where the keys are numbers between 1 and 15 (both included) and the values are the square of the keys.\n",
    "Sample Dictionary\n",
    "{1: 1, 2: 4, 3: 9, 4: 16, 5: 25, 6: 36, 7: 49, 8: 64, 9: 81, 10: 100, 11: 121, 12: 144, 13: 169, 14: 196, 15: 225}\n",
    "[Click me to see the sample solution](https://w3resource.com/python-exercises/dictionary/python-data-type-dictionary-exercise-7.php)\n"
   ]
  },
  {
   "cell_type": "code",
   "execution_count": 36,
   "metadata": {},
   "outputs": [
    {
     "name": "stdout",
     "output_type": "stream",
     "text": [
      "{1: 1, 2: 4, 3: 9, 4: 16, 5: 25, 6: 36, 7: 49, 8: 64, 9: 81, 10: 100, 11: 121, 12: 144, 13: 169, 14: 196, 15: 225}\n"
     ]
    }
   ],
   "source": [
    "# your solution\n",
    "n = 15\n",
    "dictionary = {}\n",
    "for i in range ( 1, n+1):\n",
    "    dictionary.update({i: i*i})\n",
    "print(dictionary)\n",
    "\n"
   ]
  },
  {
   "cell_type": "markdown",
   "metadata": {},
   "source": [
    "\n",
    "8. Write a Python script to merge two Python dictionaries.\n",
    "[Click me to see the sample solution](https://w3resource.com/python-exercises/dictionary/python-data-type-dictionary-exercise-8.php)\n"
   ]
  },
  {
   "cell_type": "code",
   "execution_count": 39,
   "metadata": {},
   "outputs": [
    {
     "name": "stdout",
     "output_type": "stream",
     "text": [
      "{1: 1, 2: 4, 3: 9, 4: 16, 5: 25, 6: 36, 7: 49, 8: 64, 9: 81, 10: 100, 11: 121, 12: 144, 13: 169, 14: 196, 15: 225}\n"
     ]
    }
   ],
   "source": [
    "# your solution\n",
    "d1 = {1: 1, 2: 4, 3: 9, 4: 16, 5: 25}\n",
    "d2 = {1: 1, 2: 4, 3: 9, 4: 16, 5: 25, 6: 36, 7: 49, 8: 64, 9: 81, 10: 100, 11: 121, 12: 144, 13: 169, 14: 196, 15: 225}\n",
    "dictionary = d1.copy()\n",
    "dictionary.update(d2)\n",
    "print(dictionary)\n",
    "\n",
    "\n",
    "\n"
   ]
  },
  {
   "cell_type": "markdown",
   "metadata": {},
   "source": [
    "\n",
    "9. Write a Python program to iterate over dictionaries using for loops.\n",
    "[Click me to see the sample solution](https://w3resource.com/python-exercises/dictionary/python-data-type-dictionary-exercise-9.php)\n"
   ]
  },
  {
   "cell_type": "code",
   "execution_count": 42,
   "metadata": {},
   "outputs": [
    {
     "name": "stdout",
     "output_type": "stream",
     "text": [
      "vorname correspondent to Natalia\n",
      "nachname correspondent to Janzen\n",
      "age correspondent to 39\n"
     ]
    }
   ],
   "source": [
    "# your solution\n",
    "person = {'vorname': 'Natalia', 'nachname': 'Janzen', 'age': 39}\n",
    "for key, value in person.items():\n",
    "    print(f'{key} correspondent to {value}')\n"
   ]
  },
  {
   "cell_type": "markdown",
   "metadata": {},
   "source": [
    "\n",
    "10. Write a Python program to sum all the items in a dictionary.\n",
    "[Click me to see the sample solution](https://w3resource.com/python-exercises/dictionary/python-data-type-dictionary-exercise-10.php)\n"
   ]
  },
  {
   "cell_type": "code",
   "execution_count": 46,
   "metadata": {},
   "outputs": [
    {
     "name": "stdout",
     "output_type": "stream",
     "text": [
      "120\n"
     ]
    }
   ],
   "source": [
    "# your solution\n",
    "d2 = {1: 1, 2: 4, 3: 9, 4: 16, 5: 25, 6: 36, 7: 49, 8: 64, 9: 81, 10: 100, 11: 121, 12: 144, 13: 169, 14: 196, 15: 225}\n",
    "sum = 0\n",
    "for key in d2.keys():\n",
    "    sum += key\n",
    "print(sum)\n",
    "\n",
    "\n"
   ]
  },
  {
   "cell_type": "markdown",
   "metadata": {},
   "source": [
    "\n",
    "11. Write a Python program to multiply all the items in a dictionary.\n",
    "Click me to see the sample solution\n"
   ]
  },
  {
   "cell_type": "code",
   "execution_count": 117,
   "metadata": {},
   "outputs": [
    {
     "name": "stdout",
     "output_type": "stream",
     "text": [
      "1710012252724199424000000\n",
      "4\n",
      "600\n"
     ]
    }
   ],
   "source": [
    "# your solution??? fragen\n",
    "d2 = {1: 1, 2: 4, 3: 9, 4: 16, 5: 25, 6: 36, 7: 49, 8: 64, 9: 81, 10: 100, 11: 121, 12: 144, 13: 169, 14: 196, 15: 225}\n",
    "mult = 1\n",
    "for value in d2.values():\n",
    "    mult *= value\n",
    "print(mult)\n",
    "\n",
    "d2 = {1: 1, 2: 4}\n",
    "mult = 1\n",
    "for value in d2.values():\n",
    "    mult *= value\n",
    "print(mult)\n",
    "\n",
    "d2 = {1: 1, 2: 4}\n",
    "mult = 1\n",
    "for key in d2:\n",
    "    mult *=  d[key]\n",
    "print(mult)\n"
   ]
  },
  {
   "cell_type": "markdown",
   "metadata": {},
   "source": [
    "\n",
    "12. Write a Python program to remove a key from a dictionary.\n",
    "Click me to see the sample solution\n"
   ]
  },
  {
   "cell_type": "code",
   "execution_count": 61,
   "metadata": {},
   "outputs": [
    {
     "name": "stdout",
     "output_type": "stream",
     "text": [
      "{2: 4, 3: 9, 4: 16, 5: 25, 6: 36, 7: 49, 8: 64, 9: 81, 10: 100, 11: 121, 12: 144, 13: 169, 14: 196, 15: 225}\n"
     ]
    }
   ],
   "source": [
    "# your solution\n",
    "d2 = {1: 1, 2: 4, 3: 9, 4: 16, 5: 25, 6: 36, 7: 49, 8: 64, 9: 81, 10: 100, 11: 121, 12: 144, 13: 169, 14: 196, 15: 225}\n",
    "key_to_delete = 1\n",
    "if key_to_delete in d2:\n",
    "    del d2[key_to_delete]\n",
    "    print(d2)\n",
    "\n"
   ]
  },
  {
   "cell_type": "markdown",
   "metadata": {},
   "source": [
    "\n",
    "13. Write a Python program to map two lists into a dictionary.\n",
    "Click me to see the sample solution\n"
   ]
  },
  {
   "cell_type": "code",
   "execution_count": 62,
   "metadata": {},
   "outputs": [
    {
     "name": "stdout",
     "output_type": "stream",
     "text": [
      "Gemapptes Wörterbuch: {'a': 1, 'b': 2, 'c': 3}\n"
     ]
    }
   ],
   "source": [
    "# your solution\n",
    "def listen_zu_woerterbuch(keys, values):\n",
    "    result_dict = dict(zip(keys, values))\n",
    "    return result_dict\n",
    "\n",
    "keys = ['a', 'b', 'c']\n",
    "values = [1, 2, 3]\n",
    "\n",
    "ergebnis = listen_zu_woerterbuch(keys, values)\n",
    "print(\"Gemapptes Wörterbuch:\", ergebnis)"
   ]
  },
  {
   "cell_type": "markdown",
   "metadata": {},
   "source": [
    "\n",
    "14. Write a Python program to sort a given dictionary by key.\n",
    "Click me to see the sample solution\n"
   ]
  },
  {
   "cell_type": "code",
   "execution_count": 65,
   "metadata": {},
   "outputs": [
    {
     "name": "stdout",
     "output_type": "stream",
     "text": [
      "{0: 2, 1: 0, 3: 6, 4: 9, 10: 5}\n",
      "{0: 2, 1: 0, 3: 6, 4: 9, 10: 5}\n"
     ]
    }
   ],
   "source": [
    "# your solution\n",
    "dictionary = {0:2, 3:6, 1:0, 10:5, 4:9}\n",
    "sort_dic = dict(sorted(dictionary.items()))\n",
    "print(sort_dic)\n",
    "\n",
    "# mit definition\n",
    "def sort_dict(dictionary):\n",
    "    sorted_dict = dict(sorted(dictionary.items()))\n",
    "    return sorted_dict\n",
    "\n",
    "print(sort_dict(dictionary))"
   ]
  },
  {
   "cell_type": "markdown",
   "metadata": {},
   "source": [
    "\n",
    "15. Write a Python program to get the maximum and minimum values of a dictionary.\n",
    "Click me to see the sample solution\n"
   ]
  },
  {
   "cell_type": "code",
   "execution_count": 70,
   "metadata": {},
   "outputs": [
    {
     "name": "stdout",
     "output_type": "stream",
     "text": [
      " Maximales Wert in {0: 1, 3: 8, 10: 13} ist 13, minimales: 1\n"
     ]
    }
   ],
   "source": [
    "# your solution\n",
    "dictionary= {0:1, 3:8, 10:13}\n",
    "max_dic_val= max(dictionary.values())\n",
    "min_dic_val = min(dictionary.values())\n",
    "print(f' Maximales Wert in {dictionary} ist {max_dic_val}, minimales: {min_dic_val}')\n"
   ]
  },
  {
   "cell_type": "markdown",
   "metadata": {},
   "source": [
    "\n",
    "16. Write a Python program to get a dictionary from an object's fields.\n",
    "Click me to see the sample solution\n"
   ]
  },
  {
   "cell_type": "code",
   "execution_count": 81,
   "metadata": {},
   "outputs": [
    {
     "name": "stdout",
     "output_type": "stream",
     "text": [
      "{'vorname': 'Bob', 'name': 'Donawan', 'abteilung': 'IT'}\n",
      "Wörterbuch der Mitarbeiter:\n",
      "mitarbeiter1: {'vorname': 'Bob', 'name': 'Donawan', 'abteilung': 'IT'}\n",
      "mitarbeiter2: {'vorname': 'Alice', 'name': 'Müller', 'abteilung': 'HR'}\n",
      "mitarbeiter3: {'vorname': 'Charlie', 'name': 'Schmidt', 'abteilung': 'Marketing'}\n",
      "Wörterbuch der Mitarbeiter nach update:\n",
      "mitarbeiter1: {'vorname': 'Bob', 'name': 'Donawan', 'abteilung': 'IT'}\n",
      "mitarbeiter2: {'vorname': 'Alice', 'name': 'Müller', 'abteilung': 'HR'}\n",
      "mitarbeiter3: {'vorname': 'Charlie', 'name': 'Schmidt', 'abteilung': 'Marketing'}\n",
      "{'mitarbeiter1': {'vorname': 'Bob', 'name': 'Donawan', 'abteilung': 'IT'}, 'mitarbeiter2': {'vorname': 'Alice', 'name': 'Müller', 'abteilung': 'HR'}, 'mitarbeiter3': {'vorname': 'Charlie', 'name': 'Schmidt', 'abteilung': 'Marketing'}}\n"
     ]
    }
   ],
   "source": [
    "# your solution\n",
    "#Erstellen einer Classe\n",
    "\n",
    "class Mitarbeiter:\n",
    "    def __init__(self, vorname, name, abteilung):\n",
    "        self.vorname = vorname\n",
    "        self.name = name\n",
    "        self.abteilung = abteilung\n",
    "\n",
    "mitarbeiter = Mitarbeiter('Bob', 'Donawan', 'IT')#einen Objekt in der Klasse hinzufügen\n",
    "mitarbeiter_dict = mitarbeiter.__dict__ # umwandeln des Objekts in dictionary\n",
    "print(mitarbeiter.__dict__)\n",
    "\n",
    "#Variante mit mehrere Objekte:\n",
    "class Mitarbeiter:\n",
    "    def __init__(self, vorname, name, abteilung):\n",
    "        self.vorname = vorname\n",
    "        self.name = name\n",
    "        self.abteilung = abteilung\n",
    "\n",
    "# Erstellen dreier Objekte\n",
    "mitarbeiter1 = Mitarbeiter('Bob', 'Donawan', 'IT')\n",
    "mitarbeiter2 = Mitarbeiter('Alice', 'Müller', 'HR')\n",
    "mitarbeiter3 = Mitarbeiter('Charlie', 'Schmidt', 'Marketing')\n",
    "\n",
    "# Einfügen der Mitarbeiter in dictionary. Die Namen dienen als Schlüssel\n",
    "mitarbeiter_dict = {\n",
    "    'mitarbeiter1': mitarbeiter1.__dict__,\n",
    "    'mitarbeiter2': mitarbeiter2.__dict__,\n",
    "    'mitarbeiter3': mitarbeiter3.__dict__\n",
    "}\n",
    "\n",
    "\n",
    "print(\"Wörterbuch der Mitarbeiter:\")\n",
    "for key, value in mitarbeiter_dict.items():\n",
    "    print(f\"{key}: {value}\")\n",
    "\n",
    "#Variante mit update-funktion:\n",
    "class Mitarbeiter:\n",
    "    def __init__(self, vorname, name, abteilung):\n",
    "        self.vorname = vorname\n",
    "        self.name = name\n",
    "        self.abteilung = abteilung\n",
    "\n",
    "# Erstellen eines leeren Dictionarys:\n",
    "mitarbeiter_dict = {}\n",
    "\n",
    "# Erstellen der Mitarbeiter-Objekte\n",
    "mitarbeiter1 = Mitarbeiter('Bob', 'Donawan', 'IT')\n",
    "mitarbeiter2 = Mitarbeiter('Alice', 'Müller', 'HR')\n",
    "mitarbeiter3 = Mitarbeiter('Charlie', 'Schmidt', 'Marketing')\n",
    "\n",
    "# Hinzufügen der Mitarbaeiter in dictionary\n",
    "mitarbeiter_dict.update({'mitarbeiter1': mitarbeiter1.__dict__})\n",
    "mitarbeiter_dict.update({'mitarbeiter2': mitarbeiter2.__dict__})\n",
    "mitarbeiter_dict.update({'mitarbeiter3': mitarbeiter3.__dict__})\n",
    "\n",
    "print(\"Wörterbuch der Mitarbeiter nach update:\")\n",
    "for key, value in mitarbeiter_dict.items():\n",
    "    print(f\"{key}: {value}\")\n",
    "\n",
    "print(mitarbeiter_dict)# alles in ein dictionary\n",
    "\n"
   ]
  },
  {
   "cell_type": "markdown",
   "metadata": {},
   "source": [
    "\n",
    "17. Write a Python program to remove duplicates from the dictionary.\n",
    "Click me to see the sample solution\n"
   ]
  },
  {
   "cell_type": "code",
   "execution_count": 90,
   "metadata": {},
   "outputs": [
    {
     "name": "stdout",
     "output_type": "stream",
     "text": [
      "Dictionary ohne Duplikate: {'Mitarbeiter1': 'Alice', 'Mitarbeiter3': 'Bob'}\n"
     ]
    }
   ],
   "source": [
    "# your solution\n",
    "dictionary = {'Mitarbeiter1': 'Alice', 'Mitarbeiter2': 'Alice', 'Mitarbeiter3': 'Bob'}\n",
    "to_remove = []\n",
    "liste_seende_values= []\n",
    "for key, value in dictionary.items():\n",
    "    if value in liste_seende_values:\n",
    "        to_remove.append(key)\n",
    "    else:\n",
    "        liste_seende_values.append(value)\n",
    "\n",
    "\n",
    "for key in to_remove:\n",
    "    del dictionary[key]\n",
    "\n",
    "print(\"Dictionary ohne Duplikate:\", dictionary)       \n",
    "\n",
    "\n"
   ]
  },
  {
   "cell_type": "markdown",
   "metadata": {},
   "source": [
    "\n",
    "18. Write a Python program to check if a dictionary is empty or not.\n",
    "Click me to see the sample solution\n"
   ]
  },
  {
   "cell_type": "code",
   "execution_count": 100,
   "metadata": {},
   "outputs": [
    {
     "name": "stdout",
     "output_type": "stream",
     "text": [
      "Dictionary ist NICHT leer\n",
      "Dictionary ist leer\n",
      "{'Mitarbeiter1': 'Alice', 'Mitarbeiter2': 'Alice', 'Mitarbeiter3': 'Bob'}\n",
      "Dictionary ist leer\n"
     ]
    }
   ],
   "source": [
    "# your solution LEER oder NICHT?\n",
    "d1= {'Mitarbeiter1': 'Alice', 'Mitarbeiter2': 'Alice', 'Mitarbeiter3': 'Bob'}\n",
    "d2 = {}\n",
    "\n",
    "def check_empty_or_not(dictionary):\n",
    "    count = 0\n",
    "    for  key in dictionary.keys():\n",
    "        if key in dictionary.keys():\n",
    "            count +=1\n",
    "\n",
    "    if  count  < 1:\n",
    "        return 'Dictionary ist leer'\n",
    "    else:\n",
    "        return 'Dictionary ist NICHT leer'\n",
    "\n",
    "print(check_empty_or_not(d1))\n",
    "print(check_empty_or_not(d2))\n",
    "\n",
    "#Variante 2:\n",
    "\n",
    "\n",
    "def check_empty_or_not(dictionary):\n",
    "    if len(dictionary) == 0:  \n",
    "        return 'Dictionary ist leer'\n",
    "    else:\n",
    "        return dictionary  \n",
    "\n",
    "# Ausgabe der Ergebnisse\n",
    "print(check_empty_or_not(d1)) \n",
    "print(check_empty_or_not(d2))   \n"
   ]
  },
  {
   "cell_type": "markdown",
   "metadata": {},
   "source": [
    "\n",
    "19. Write a Python program to combine two dictionary by adding values for common keys.\n",
    "d1 = {'a': 100, 'b': 200, 'c':300}\n",
    "d2 = {'a': 300, 'b': 200, 'd':400}\n",
    "Sample output: Counter({'a': 400, 'b': 400, 'd': 400, 'c': 300})\n",
    "Click me to see the sample solution\n"
   ]
  },
  {
   "cell_type": "code",
   "execution_count": 126,
   "metadata": {},
   "outputs": [
    {
     "name": "stdout",
     "output_type": "stream",
     "text": [
      "{'a': 400, 'b': 400, 'c': 300, 'd': 1200}\n",
      "Counter({'a': 400, 'b': 400, 'd': 400, 'c': 300})\n"
     ]
    }
   ],
   "source": [
    "# your solution\n",
    "d1 = {'a': 100, 'b': 200, 'c':300}\n",
    "d2 = {'a': 300, 'b': 200, 'd':400}\n",
    "d.update(d1)\n",
    "for key, value in d2.items():\n",
    "    if key in d:\n",
    "        d[key] += value  # Add values for common keys\n",
    "    else:\n",
    "        d[key] = value   # Add new keys from d2\n",
    "\n",
    "print(d)\n",
    "\n",
    "\n",
    "from collections import Counter\n",
    "zusammen = Counter(d1) +  Counter(d2)\n",
    "print(zusammen)"
   ]
  },
  {
   "cell_type": "markdown",
   "metadata": {},
   "source": [
    "\n",
    "20. Write a Python program to print all distinct values in a dictionary.\n",
    "Sample Data : [{\"V\":\"S001\"}, {\"V\": \"S002\"}, {\"VI\": \"S001\"}, {\"VI\": \"S005\"}, {\"VII\":\"S005\"}, {\"V\":\"S009\"},{\"VIII\":\"S007\"}]\n",
    "Expected Output : Unique Values: {'S005', 'S002', 'S007', 'S001', 'S009'}\n",
    "Click me to see the sample solution"
   ]
  },
  {
   "cell_type": "code",
   "execution_count": 134,
   "metadata": {},
   "outputs": [
    {
     "name": "stdout",
     "output_type": "stream",
     "text": [
      "{'S002', 'S005', 'S001', 'S007', 'S009'}\n"
     ]
    }
   ],
   "source": [
    "# your solution\n",
    "data = [{\"V\":\"S001\"}, {\"V\": \"S002\"}, {\"VI\": \"S001\"}, {\"VI\": \"S005\"}, {\"VII\":\"S005\"}, {\"V\":\"S009\"},{\"VIII\":\"S007\"}]\n",
    "uniquevalues = []\n",
    "for x in data:\n",
    "    for value in x.values():\n",
    "        uniquevalues.append(value)\n",
    "print(set(uniquevalues))\n"
   ]
  }
 ],
 "metadata": {
  "kernelspec": {
   "display_name": "Python 3",
   "language": "python",
   "name": "python3"
  },
  "language_info": {
   "codemirror_mode": {
    "name": "ipython",
    "version": 3
   },
   "file_extension": ".py",
   "mimetype": "text/x-python",
   "name": "python",
   "nbconvert_exporter": "python",
   "pygments_lexer": "ipython3",
   "version": "3.12.4"
  }
 },
 "nbformat": 4,
 "nbformat_minor": 2
}
