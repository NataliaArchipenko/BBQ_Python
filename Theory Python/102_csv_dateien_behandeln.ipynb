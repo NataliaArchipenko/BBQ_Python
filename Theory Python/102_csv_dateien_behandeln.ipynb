{
 "cells": [
  {
   "cell_type": "markdown",
   "metadata": {},
   "source": [
    "# CSV\n",
    "\n",
    "- oder \"Comma Seperated Values\" ist eine weitverbreitete Datei-Erweiterung \n",
    "- tabellarische Daten in einem textähnlichen Format.\n",
    "- Informationen in einer tabellarischen Form organisieren.\n",
    "- csv-Dateien sind angesicht ihrer Größe sehr günstig: weniger Speicherplatz benötigt.\n",
    "\n",
    "CSV Dateien könen in Python sehr gut verarbeitet/bearbeitet werden:"
   ]
  },
  {
   "cell_type": "code",
   "execution_count": 1,
   "metadata": {},
   "outputs": [
    {
     "name": "stdout",
     "output_type": "stream",
     "text": [
      "titel;autor;verlag;jahr\n",
      "Der Alchemist;Paulo Coelho;Diogenes;2008\n",
      "Das Café am Rande der Welt;John Strelecky;dtv;2007\n",
      "Sofies Welt ;Jostein Gaarder;dtv;2000\n",
      "\n"
     ]
    }
   ],
   "source": [
    "with open(\"books.csv\", \"r\") as csv_file:\n",
    "    data = csv_file.read()\n",
    "    print(data)"
   ]
  },
  {
   "cell_type": "markdown",
   "metadata": {},
   "source": [
    "Für datenanalytische Aufgaben braucht man meistens die Kopfzeile nicht:"
   ]
  },
  {
   "cell_type": "code",
   "execution_count": 5,
   "metadata": {},
   "outputs": [
    {
     "name": "stdout",
     "output_type": "stream",
     "text": [
      "Der Alchemist;Paulo Coelho;Diogenes;2008\n",
      "\n",
      "Das Café am Rande der Welt;John Strelecky;dtv;2007\n",
      "\n",
      "Sofies Welt ;Jostein Gaarder;dtv;2000\n",
      "\n"
     ]
    }
   ],
   "source": [
    "with open(\"books.csv\", \"r\") as csv_file:\n",
    "    data = csv_file.readlines()\n",
    "    data = data[1:]\n",
    "    for row in data:\n",
    "        print(row)"
   ]
  },
  {
   "cell_type": "markdown",
   "metadata": {},
   "source": [
    "Die Leerzeilen brauchen wir auch nicht:"
   ]
  },
  {
   "cell_type": "code",
   "execution_count": 6,
   "metadata": {},
   "outputs": [
    {
     "name": "stdout",
     "output_type": "stream",
     "text": [
      "Der Alchemist;Paulo Coelho;Diogenes;2008\n",
      "Das Café am Rande der Welt;John Strelecky;dtv;2007\n",
      "Sofies Welt ;Jostein Gaarder;dtv;2000\n"
     ]
    }
   ],
   "source": [
    "with open(\"books.csv\", \"r\") as csv_file:\n",
    "    data = csv_file.readlines()\n",
    "    data = data[1:]\n",
    "    for row in data:\n",
    "        print(row.strip())"
   ]
  },
  {
   "cell_type": "markdown",
   "metadata": {},
   "source": [
    "Und wie kann man die `;` s loswerden?"
   ]
  },
  {
   "cell_type": "code",
   "execution_count": 7,
   "metadata": {},
   "outputs": [
    {
     "name": "stdout",
     "output_type": "stream",
     "text": [
      "['Der Alchemist', 'Paulo Coelho', 'Diogenes', '2008']\n",
      "['Das Café am Rande der Welt', 'John Strelecky', 'dtv', '2007']\n",
      "['Sofies Welt ', 'Jostein Gaarder', 'dtv', '2000']\n"
     ]
    }
   ],
   "source": [
    "with open(\"books.csv\", \"r\") as csv_file:\n",
    "    data = csv_file.readlines()\n",
    "    data = data[1:]\n",
    "    for row in data:\n",
    "        print(row.strip().split(';'))"
   ]
  },
  {
   "cell_type": "markdown",
   "metadata": {},
   "source": [
    "**Aufgabe**  \n",
    "Welches Buch bzw., welche Bücher wurde im Jahr 2005 oder danach publiziert?"
   ]
  },
  {
   "cell_type": "markdown",
   "metadata": {},
   "source": [
    "Wir definieren eine Funktion, die eine Jahreszahl als Argument akzeptiert und `True` zurückliefert, wenn diese größer als oder gleich 2005 ist:"
   ]
  },
  {
   "cell_type": "code",
   "execution_count": 8,
   "metadata": {},
   "outputs": [],
   "source": [
    "def year(n):\n",
    "    if n >= 2005:\n",
    "        return True"
   ]
  },
  {
   "cell_type": "code",
   "execution_count": 13,
   "metadata": {},
   "outputs": [
    {
     "name": "stdout",
     "output_type": "stream",
     "text": [
      "Der Alchemist,Paulo Coelho\n",
      "Das Café am Rande der Welt,John Strelecky\n"
     ]
    }
   ],
   "source": [
    "with open(\"books.csv\", \"r\") as csv_file:\n",
    "    data = csv_file.readlines()\n",
    "    data = data[1:]\n",
    "    for row in data:\n",
    "        buch = row.strip().split(';')\n",
    "        # print(buch)\n",
    "        jahr = int(buch[-1])\n",
    "        # print(jahr)\n",
    "        if year(jahr):\n",
    "            print(buch[0], buch[1], sep=',')"
   ]
  },
  {
   "cell_type": "markdown",
   "metadata": {},
   "source": [
    "**Aufgabe** \n",
    "\n",
    "Lade den Inhalt der Datei `airports_eu.csv` in deinem Programm und analysiere die Daten. Beispielsweise kann man Fragen stellen, wie _welche Flughäfen haben einen Rang von 1 bis 5?_"
   ]
  },
  {
   "cell_type": "code",
   "execution_count": 36,
   "metadata": {},
   "outputs": [
    {
     "name": "stdout",
     "output_type": "stream",
     "text": [
      "Amsterdam Airport Schiphol || Amsterdam || 4\n",
      "Charles de Gaulle Airport || Paris || 2\n",
      "Heathrow Airport || London || 3\n",
      "Istanbul Airport || Istanbul || 1\n",
      "Sheremetyevo International Airport || Moscow || 5\n"
     ]
    }
   ],
   "source": [
    "with open(\"airports_eu.csv\", \"r\", encoding=\"utf-8\") as csv_file:\n",
    "    data = csv_file.readlines()\n",
    "    for row in data[1:]:\n",
    "        airport = row.strip().split(';')\n",
    "        ranking = int(airport[0])\n",
    "        if ranking <= 5:\n",
    "            # print(airport)\n",
    "            print(airport[2], airport[3], ranking, sep=' || ')\n",
    "            "
   ]
  },
  {
   "cell_type": "markdown",
   "metadata": {},
   "source": [
    "Wie bekommen wir in Output eine sortierte Liste von Flugäfen mit Ranking 1 bis 5?"
   ]
  },
  {
   "cell_type": "code",
   "execution_count": 40,
   "metadata": {},
   "outputs": [
    {
     "name": "stdout",
     "output_type": "stream",
     "text": [
      "[(4, 'Amsterdam Airport Schiphol'), (2, 'Charles de Gaulle Airport'), (3, 'Heathrow Airport'), (1, 'Istanbul Airport'), (5, 'Sheremetyevo International Airport')]\n"
     ]
    }
   ],
   "source": [
    "with open(\"airports_eu.csv\", \"r\", encoding=\"utf-8\") as csv_file:\n",
    "    data = csv_file.readlines()\n",
    "    the_best_five = []\n",
    "    for row in data[1:]:\n",
    "        airport = row.strip().split(';')\n",
    "        ranking = int(airport[0])\n",
    "        if ranking <= 5:\n",
    "            the_best_five.append((ranking, airport[2]))\n",
    "\n",
    "print(the_best_five)"
   ]
  },
  {
   "cell_type": "code",
   "execution_count": 41,
   "metadata": {},
   "outputs": [],
   "source": [
    "the_best_five.sort()"
   ]
  },
  {
   "cell_type": "code",
   "execution_count": 42,
   "metadata": {},
   "outputs": [
    {
     "data": {
      "text/plain": [
       "[(1, 'Istanbul Airport'),\n",
       " (2, 'Charles de Gaulle Airport'),\n",
       " (3, 'Heathrow Airport'),\n",
       " (4, 'Amsterdam Airport Schiphol'),\n",
       " (5, 'Sheremetyevo International Airport')]"
      ]
     },
     "execution_count": 42,
     "metadata": {},
     "output_type": "execute_result"
    }
   ],
   "source": [
    "the_best_five"
   ]
  }
 ],
 "metadata": {
  "kernelspec": {
   "display_name": "Python 3",
   "language": "python",
   "name": "python3"
  },
  "language_info": {
   "codemirror_mode": {
    "name": "ipython",
    "version": 3
   },
   "file_extension": ".py",
   "mimetype": "text/x-python",
   "name": "python",
   "nbconvert_exporter": "python",
   "pygments_lexer": "ipython3",
   "version": "3.8.3"
  },
  "nbTranslate": {
   "displayLangs": [
    "en",
    "de"
   ],
   "hotkey": "alt-t",
   "langInMainMenu": true,
   "sourceLang": "de",
   "targetLang": "en",
   "useGoogleTranslate": true
  }
 },
 "nbformat": 4,
 "nbformat_minor": 4
}
