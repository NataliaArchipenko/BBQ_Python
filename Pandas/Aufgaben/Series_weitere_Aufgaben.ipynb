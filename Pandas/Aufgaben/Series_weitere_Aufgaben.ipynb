{
 "cells": [
  {
   "cell_type": "markdown",
   "metadata": {},
   "source": [
    "Übung 1: \n",
    "\n",
    "Grundlegende Series-Erstellung und Zugriff auf Elemente<bp><bp>\n",
    "\n",
    "Aufgabe 1:<bp>\n",
    "\n",
    "Erstelle eine Series mit den folgenden Daten:<bp> \n",
    "['Apfel', 'Banane',\n",
    "'Kirsche', 'Dattel', 'Erdbeere']<bp>\n",
    " und nutze als Index die Buchstaben ['A','B', 'C', 'D', 'E'].<bp>\n",
    "\n",
    "<bp>Greife auf das zweite und das letzte Element der Serie zu.<bp>\n",
    "\n",
    "Ändere das erste Element der Series auf 'Ananas' und gib die Serie erneut aus."
   ]
  },
  {
   "cell_type": "code",
   "execution_count": 18,
   "metadata": {},
   "outputs": [
    {
     "name": "stdout",
     "output_type": "stream",
     "text": [
      "Zweites Element: Banane\n",
      "Letztes Element: Erdbeere\n"
     ]
    },
    {
     "data": {
      "text/plain": [
       "A      Ananas\n",
       "B      Banane\n",
       "C     Kirsche\n",
       "D      Dattel\n",
       "E    Erdbeere\n",
       "dtype: object"
      ]
     },
     "execution_count": 18,
     "metadata": {},
     "output_type": "execute_result"
    }
   ],
   "source": [
    "import pandas as pd\n",
    "buchstaben = ['A','B', 'C', 'D', 'E']\n",
    "obst = ['Apfel', 'Banane','Kirsche', 'Dattel', 'Erdbeere']\n",
    "s= pd.Series(obst, index = buchstaben)\n",
    "#print(f'Zweites Element: {s[1]}')\n",
    "#print(f'Letztes Element: {s.tail(1)}')\n",
    "\n",
    "#print(f\"Zweites Element: {s['B']}\")\n",
    "#print(f\"Letztes Element: {s['E']}\")\n",
    "\n",
    "#print(f\"Zweites Element: {s.iat[1]}\")\n",
    "#print(f\"Letztes Element: {s.iat[-1]}\")\n",
    " \n",
    " #letzte zwei am besten:\n",
    "print(f\"Zweites Element: {s.loc['B']}\")\n",
    "print(f\"Letztes Element: {s.loc['E']}\")\n",
    "\n",
    "#print(f\"Zweites Element: {s.iloc[1]}\")\n",
    "#print(f\"Letztes Element: {s.iloc[-1]}\")\n",
    "\n",
    "#Änderung des Elements der Series\n",
    "\n",
    "#s[0]='Ananas'\n",
    "\n",
    "#s['A'] = 'Ananas'\n",
    "\n",
    "#s.iloc[0] = 'Ananas'\n",
    "\n",
    "s.iat[0] = 'Ananas'\n",
    "s"
   ]
  },
  {
   "cell_type": "markdown",
   "metadata": {},
   "source": [
    "Aufgabe 2:\n",
    "\n",
    "Erstelle eine Series mit Temperaturen der Woche:\n",
    "\n",
    " Temperaturen = [20, 21,19, 22, 23, 24, 18] \n",
    "\n",
    " und als Index die Tage der Woche \n",
    " \n",
    " ['Mo', 'Di', 'Mi','Do', 'Fr', 'Sa', 'So'].\n",
    "\n",
    "Gib die Temperatur für Mittwoch aus.\n",
    "\n",
    "Ändere die Temperatur für Sonntag auf 19 und gib die Serie erneut aus"
   ]
  },
  {
   "cell_type": "code",
   "execution_count": 27,
   "metadata": {},
   "outputs": [
    {
     "name": "stdout",
     "output_type": "stream",
     "text": [
      "Die Temperatur am Mittwoch war 19 Grad\n"
     ]
    },
    {
     "data": {
      "text/plain": [
       "Mo    20\n",
       "Di    21\n",
       "Mi    19\n",
       "Do    22\n",
       "Fr    23\n",
       "Sa    24\n",
       "So    19\n",
       "dtype: int64"
      ]
     },
     "execution_count": 27,
     "metadata": {},
     "output_type": "execute_result"
    }
   ],
   "source": [
    "Temperaturen = [20, 21, 19, 22, 23, 24, 18]\n",
    "Tage_der_Woche=['Mo', 'Di', 'Mi','Do', 'Fr', 'Sa', 'So']\n",
    "ser = pd.Series(Temperaturen, index = Tage_der_Woche)\n",
    "print(f'Die Temperatur am Mittwoch war {ser.loc['Mi']} Grad')\n",
    "ser.loc['So'] = 19\n",
    "ser"
   ]
  },
  {
   "cell_type": "markdown",
   "metadata": {},
   "source": [
    "Aufgabe 3:\n",
    "\n",
    "Erstelle eine Series mit den Namen ['Alice', 'Bob', 'Charlie', 'David','Eve'] \n",
    "\n",
    "und ordne den Namen jeweils eine zufällige Punktzahl zu, z.B. [85, 90,78, 88, 92].\n",
    "\n",
    "Greife auf die Punktzahl von Bob zu und aktualisiere seine Punktzahl auf 95.\n",
    "\n",
    "Gib die Series mit den aktualisierten Werten aus."
   ]
  },
  {
   "cell_type": "code",
   "execution_count": 36,
   "metadata": {},
   "outputs": [
    {
     "name": "stdout",
     "output_type": "stream",
     "text": [
      "Bob hatte 90 Punkten\n"
     ]
    },
    {
     "data": {
      "text/plain": [
       "Alice      85\n",
       "Bob        95\n",
       "Charlie    78\n",
       "David      88\n",
       "Eve        92\n",
       "dtype: int64"
      ]
     },
     "execution_count": 36,
     "metadata": {},
     "output_type": "execute_result"
    }
   ],
   "source": [
    "namen = ['Alice', 'Bob', 'Charlie', 'David', 'Eve']\n",
    "punktzahl = [85, 90, 78, 88, 92]\n",
    "ser = pd.Series(punktzahl, index = namen)\n",
    "print(f'Bob hatte {ser.loc['Bob']} Punkten')\n",
    "ser.loc['Bob']=95\n",
    "ser\n"
   ]
  },
  {
   "cell_type": "markdown",
   "metadata": {},
   "source": [
    "Übung 2: Mathematische Operationen auf Series\n",
    "\n",
    "Aufgabe 1:\n",
    "\n",
    "Erstelle eine Series namens preise mit den Werten [2.5, 3.0, 4.5, 3.75, 2.25] , \n",
    "die die Preise von Artikeln darstellt.\n",
    "\n",
    "Multipliziere alle Werte in der Series mit 1.19, um die Preise inklusive Mehrwertsteuer zu berechnen.\n",
    "\n",
    "Gib die Series nach der Berechnung aus und berechne anschließend den Gesamtpreis."
   ]
  },
  {
   "cell_type": "code",
   "execution_count": 48,
   "metadata": {},
   "outputs": [
    {
     "name": "stdout",
     "output_type": "stream",
     "text": [
      "Neue Priese  sind \n",
      "0    4.750\n",
      "1    5.700\n",
      "2    8.550\n",
      "3    7.125\n",
      "4    4.275\n",
      "dtype: float64\n",
      "Gesamtpreis mit Steuern ist 30.4 Euro\n"
     ]
    }
   ],
   "source": [
    "preise = [2.5, 3.0, 4.5, 3.75, 2.25]\n",
    "s = pd.Series(preise)\n",
    "s_mit_steuertn= s*1.9\n",
    "print(f'Neue Priese  sind \\n{s_mit_steuertn}')\n",
    "print(f'Gesamtpreis mit Steuern ist {sum(s_mit_steuertn)} Euro')"
   ]
  },
  {
   "cell_type": "markdown",
   "metadata": {},
   "source": [
    "Aufgabe 2:\n",
    "\n",
    "Erstelle eine Series namens vorrat mit den Werten [5, 3, 6, 8, 2], die die\n",
    "Anzahl der vorrätigen Artikel in einem Lager darstellt.\n",
    "\n",
    "Erhöhe die Werte um 10 %, um eine Lagerauffüllung zu simulieren.\n",
    "\n",
    "Gib die durchschnittliche Anzahl der Artikel im Lager vor und nach der Erhöhung\n",
    "an."
   ]
  },
  {
   "cell_type": "code",
   "execution_count": 56,
   "metadata": {},
   "outputs": [
    {
     "name": "stdout",
     "output_type": "stream",
     "text": [
      "Die Preise vor Erhöhung\n",
      "0    5\n",
      "1    3\n",
      "2    6\n",
      "3    8\n",
      "4    2\n",
      "dtype: int64\n",
      "Die Preise nach der Erhöhung\n",
      "0    5.5\n",
      "1    3.3\n",
      "2    6.6\n",
      "3    8.8\n",
      "4    2.2\n",
      "dtype: float64\n",
      "\n",
      "Die durchschnittliche Anzahl der Artikel im Lager vor  Erhöhung: 4.8\n",
      "Die durchschnittliche Anzahl der Artikel im Lager nach  Erhöhung: 5.28\n"
     ]
    }
   ],
   "source": [
    "vorrat = [5, 3, 6, 8, 2]\n",
    "s = pd.Series(vorrat)\n",
    "print(f'Die Preise vor Erhöhung\\n{s}')\n",
    "s_10_proz = s * 1.1\n",
    "print(f'Die Preise nach der Erhöhung\\n{s_10_proz}')\n",
    "durchschnit_nach= s_10_proz.mean()\n",
    "durchschnit_vor= s.mean()\n",
    "print()\n",
    "print(f'Die durchschnittliche Anzahl der Artikel im Lager vor  Erhöhung: {durchschnit_vor}')\n",
    "print(f'Die durchschnittliche Anzahl der Artikel im Lager nach  Erhöhung: {durchschnit_nach}')"
   ]
  },
  {
   "cell_type": "markdown",
   "metadata": {},
   "source": [
    "Aufgabe 3:\n",
    "Erstelle eine Series namens umsatz mit monatlichen Umsätzen in Tausend [50, 45, 60, 55, 70, 65] .\n",
    "\n",
    "Berechne für jeden Monat einen Bonus von 10 % des Umsatzes und speichere\n",
    "diesen als neue Series bonus.\n",
    "\n",
    "Gib den Gesamtwert von bonus sowie die Summe von umsatz + bonus aus"
   ]
  },
  {
   "cell_type": "code",
   "execution_count": 69,
   "metadata": {},
   "outputs": [
    {
     "name": "stdout",
     "output_type": "stream",
     "text": [
      "0    50\n",
      "1    45\n",
      "2    60\n",
      "3    55\n",
      "4    70\n",
      "5    65\n",
      "dtype: int64 \n",
      "\n",
      "Die Summe von Umsatz ist 345\n",
      "\n",
      "Bonus:\n",
      "0    5.0\n",
      "1    4.5\n",
      "2    6.0\n",
      "3    5.5\n",
      "4    7.0\n",
      "5    6.5\n",
      "dtype: float64\n",
      "\n",
      "Gesamtwert von Bonus ist 34.5 Tausend Euro\n",
      "\n",
      "Die Summe von Umzatz mit Bonus ist 379.5 Tausend Euro\n"
     ]
    }
   ],
   "source": [
    "umsatz = [50,45, 60, 55, 70, 65]\n",
    "ser= pd.Series(umsatz)\n",
    "print(ser,'\\n')\n",
    "print(f'Die Summe von Umsatz ist {sum(ser)}\\n')\n",
    "ser_bon = ser * 10 /100\n",
    "print(f'Bonus:\\n{ser_bon}\\n')\n",
    "print(f'Gesamtwert von Bonus ist {sum(ser_bon)} Tausend Euro\\n')\n",
    "print(f'Die Summe von Umzatz mit Bonus ist {sum(ser)+sum(ser_bon)} Tausend Euro')"
   ]
  },
  {
   "cell_type": "markdown",
   "metadata": {},
   "source": [
    "Übung 3: Logische Operationen und Filter\n",
    "\n",
    "Aufgabe 1:\n",
    "\n",
    "Erstelle eine Series namens alter mit Alterswerten [18, 21, 30, 16, 22,\n",
    "25, 17, 19] .\n",
    "Filtere alle Einträge, bei denen das Alter über 18 Jahre liegt, und speichere diese in\n",
    "einer neuen Series .\n",
    "Gib die Anzahl der Alterswerte an, die genau 18 Jahre betragen."
   ]
  },
  {
   "cell_type": "code",
   "execution_count": 82,
   "metadata": {},
   "outputs": [
    {
     "name": "stdout",
     "output_type": "stream",
     "text": [
      "Personen, die älter als 18 sind \n",
      "1    21\n",
      "2    30\n",
      "4    22\n",
      "5    25\n",
      "7    19\n",
      "dtype: int64\n",
      "Anzahl Personen, die 18 Jahre alt sind, ist 1\n"
     ]
    }
   ],
   "source": [
    "alter = [18, 21, 30, 16, 22, 25, 17, 19]\n",
    "ser = pd.Series(alter)\n",
    "neu = ser[ser > 18]\n",
    "print(f'Personen, die älter als 18 sind \\n{neu}')\n",
    "genau_18= ser[ser == 18]\n",
    "print(f'Anzahl Personen, die 18 Jahre alt sind, ist {len(genau_18)}')"
   ]
  },
  {
   "cell_type": "markdown",
   "metadata": {},
   "source": [
    "Aufgabe 2:\n",
    "\n",
    "Erstelle eine Series mit dem Namen punkte und den Werten [60, 45, 88,\n",
    "72, 90, 55, 40] , die die Punktzahl verschiedener Teilnehmer darstellt.\n",
    "\n",
    "Filtere alle Teilnehmer heraus, die mindestens 70 Punkte erreicht haben, und gib\n",
    "diese in einer neuen Series aus.\n",
    "\n",
    "Gib außerdem die Anzahl der Teilnehmer mit weniger als 50 Punkten an."
   ]
  },
  {
   "cell_type": "code",
   "execution_count": 91,
   "metadata": {},
   "outputs": [
    {
     "name": "stdout",
     "output_type": "stream",
     "text": [
      " Teilnehmer*innen, die mehr als 70 Punkten haben:\n",
      "2    88\n",
      "3    72\n",
      "4    90\n",
      "dtype: int64\n",
      "\n",
      "Anzahl der Teilnehmer*innen, die weniger als 70 Punkten haben: 4\n"
     ]
    }
   ],
   "source": [
    "punkte = [60, 45, 88, 72, 90, 55, 40]\n",
    "ser = pd.Series(punkte)\n",
    "neu = ser[ser > 70]\n",
    "print(f' Teilnehmer*innen, die mehr als 70 Punkten haben:\\n{neu}\\n')\n",
    "print(f'Anzahl der Teilnehmer*innen, die weniger als 70 Punkten haben: {len(ser) - len(neu)}')\n"
   ]
  },
  {
   "cell_type": "markdown",
   "metadata": {},
   "source": [
    "Aufgabe 3:\n",
    "\n",
    "Erstelle eine Series namens note mit Noten [2.5, 3.0, 1.7, 4.0, 2.0, 3.3,\n",
    "1.0, 2.8].\n",
    "\n",
    "Filtere alle Einträge heraus, bei denen die Note besser als 2.0 ist, und speichere\n",
    "diese in einer neuen Series beste_noten.\n",
    "\n",
    "Gib die Anzahl und den Durchschnittswert der Noten in beste_noten aus."
   ]
  },
  {
   "cell_type": "code",
   "execution_count": 97,
   "metadata": {},
   "outputs": [
    {
     "name": "stdout",
     "output_type": "stream",
     "text": [
      "Beste Punkte:\n",
      "0    2.5\n",
      "1    3.0\n",
      "3    4.0\n",
      "5    3.3\n",
      "7    2.8\n",
      "dtype: float64\n",
      "\n",
      "Durchschnittswert der besten Noten:\n",
      "3.12\n"
     ]
    }
   ],
   "source": [
    "noten = [2.5, 3.0, 1.7, 4.0, 2.0, 3.3, 1.0, 2.8]\n",
    "ser = pd.Series(noten)\n",
    "neu = ser[ser > 2]\n",
    "print(f'Beste Punkte:\\n{neu}\\n')\n",
    "print(f'Durchschnittswert der besten Noten:\\n{neu.mean()}')\n"
   ]
  }
 ],
 "metadata": {
  "kernelspec": {
   "display_name": "Python 3",
   "language": "python",
   "name": "python3"
  },
  "language_info": {
   "codemirror_mode": {
    "name": "ipython",
    "version": 3
   },
   "file_extension": ".py",
   "mimetype": "text/x-python",
   "name": "python",
   "nbconvert_exporter": "python",
   "pygments_lexer": "ipython3",
   "version": "3.12.4"
  }
 },
 "nbformat": 4,
 "nbformat_minor": 2
}
