{
 "cells": [
  {
   "cell_type": "markdown",
   "metadata": {},
   "source": [
    "# Module und Modularisierung\n",
    "\n",
    "### Was ist ein Modul?\n",
    "\n",
    "Ein Module ist ein Python-Programm, eine Datei mit der Dateierweiterung von `.py`"
   ]
  },
  {
   "cell_type": "markdown",
   "metadata": {},
   "source": [
    "### In Jupyter Notebook ein Modul erstellen:"
   ]
  },
  {
   "cell_type": "code",
   "execution_count": 1,
   "metadata": {},
   "outputs": [
    {
     "name": "stdout",
     "output_type": "stream",
     "text": [
      "Overwriting mymodule.py\n"
     ]
    }
   ],
   "source": [
    "%%writefile mymodule.py\n",
    "# Module contents\n",
    "sentence = 'Welcome to mymodule.py'"
   ]
  },
  {
   "cell_type": "markdown",
   "metadata": {},
   "source": [
    "### Warum Module?\n",
    "\n",
    "Module sind eine gute Lösung zum speichern von weiteren Funktionen und Variablen außerhalb des _aktuellen_ Programms. So kann man den Inhalt von einem Modul in verschiedenen Programmen _laden_ und wieder verwenden. Außerdem bleibt unser _Hauptprogramm_ übersichtlich."
   ]
  },
  {
   "cell_type": "markdown",
   "metadata": {},
   "source": [
    "### Modulinhalte laden\n",
    "\n",
    "Mit dem befehl ``import`` können wir den Inhalt eines Modules in unser Programm _laden_ :"
   ]
  },
  {
   "cell_type": "code",
   "execution_count": 3,
   "metadata": {},
   "outputs": [],
   "source": [
    "# import the whole module\n",
    "import mymodule"
   ]
  },
  {
   "cell_type": "markdown",
   "metadata": {},
   "source": [
    "### Den Inhalt eines Modules sehen\n",
    "\n",
    "Die eingebaute Funktion ``dir()`` zeigt die innere Struktur eines Modules an:"
   ]
  },
  {
   "cell_type": "code",
   "execution_count": 4,
   "metadata": {},
   "outputs": [
    {
     "data": {
      "text/plain": [
       "['__builtins__',\n",
       " '__cached__',\n",
       " '__doc__',\n",
       " '__file__',\n",
       " '__loader__',\n",
       " '__name__',\n",
       " '__package__',\n",
       " '__spec__',\n",
       " 'sentence']"
      ]
     },
     "execution_count": 4,
     "metadata": {},
     "output_type": "execute_result"
    }
   ],
   "source": [
    "dir(mymodule)"
   ]
  },
  {
   "cell_type": "markdown",
   "metadata": {},
   "source": [
    "Die Objekte wie '\\_\\_builtins\\_\\_', '\\_\\_cached\\_\\_', '\\_\\_doc\\_\\_' usw sind eingebaute Methoden und Attribute, die Python _automatisch_ erstellt hat.\n",
    "\n",
    "``sentence`` ist der Name der Variable, die wir selbst in dem Modul gespeichert haben.\n",
    "\n",
    "Wir können diese hier in unserem Programm laden:\n",
    " "
   ]
  },
  {
   "cell_type": "code",
   "execution_count": 6,
   "metadata": {},
   "outputs": [
    {
     "name": "stdout",
     "output_type": "stream",
     "text": [
      "Welcome to mymodule.py\n"
     ]
    }
   ],
   "source": [
    "print(mymodule.sentence)"
   ]
  },
  {
   "cell_type": "markdown",
   "metadata": {},
   "source": [
    "Wenn der Inhalt des Moduls sich ändert, dann ist diese Änderung in allen Programmen, die dieses Modul aufrufen, spürbar. Inzwischen haben wir in unserem Modul eine neue Funktion definiert. Jetzt _importieren_ wir das Modul erneut:"
   ]
  },
  {
   "cell_type": "code",
   "execution_count": 1,
   "metadata": {},
   "outputs": [],
   "source": [
    "import mymodule"
   ]
  },
  {
   "cell_type": "markdown",
   "metadata": {},
   "source": [
    "Wenn wir versuchen, den Inhalt des Modules mit ``dir()`` aufzurufen, dann können wir wie vorher eine Liste der eingebauten Funktionen und selbstdefinierten Variablen sehen, aber die Funktion ``myfunction`` ist hier nicht zu sehen!"
   ]
  },
  {
   "cell_type": "code",
   "execution_count": 13,
   "metadata": {},
   "outputs": [
    {
     "ename": "AttributeError",
     "evalue": "module 'mymodule' has no attribute 'myfunction'",
     "output_type": "error",
     "traceback": [
      "\u001b[1;31m---------------------------------------------------------------------------\u001b[0m",
      "\u001b[1;31mAttributeError\u001b[0m                            Traceback (most recent call last)",
      "\u001b[1;32m<ipython-input-13-bf0121bb4eb6>\u001b[0m in \u001b[0;36m<module>\u001b[1;34m\u001b[0m\n\u001b[1;32m----> 1\u001b[1;33m \u001b[0mmymodule\u001b[0m\u001b[1;33m.\u001b[0m\u001b[0mmyfunction\u001b[0m\u001b[1;33m(\u001b[0m\u001b[1;36m3\u001b[0m\u001b[1;33m,\u001b[0m\u001b[1;36m6\u001b[0m\u001b[1;33m)\u001b[0m\u001b[1;33m\u001b[0m\u001b[1;33m\u001b[0m\u001b[0m\n\u001b[0m",
      "\u001b[1;31mAttributeError\u001b[0m: module 'mymodule' has no attribute 'myfunction'"
     ]
    }
   ],
   "source": [
    "mymodule.myfunction(3,6) # Function call generates Error"
   ]
  },
  {
   "cell_type": "markdown",
   "metadata": {},
   "source": [
    "**Achtung**  \n",
    "\n",
    "Bei Jupyter Notebook, wenn der Inhalt eines Modules außerhalb JN manipuliert wurde, dann muss der _Kernel_ neugestartet werden, damit die Änderungen im Modul auch hier in JN aktualisiert werden:"
   ]
  },
  {
   "cell_type": "markdown",
   "metadata": {},
   "source": [
    "Und dann schauen wir uns seinen Inhalt erneut an:"
   ]
  },
  {
   "cell_type": "code",
   "execution_count": 3,
   "metadata": {},
   "outputs": [
    {
     "data": {
      "text/plain": [
       "['__builtins__',\n",
       " '__cached__',\n",
       " '__doc__',\n",
       " '__file__',\n",
       " '__loader__',\n",
       " '__name__',\n",
       " '__package__',\n",
       " '__spec__',\n",
       " 'myfunction',\n",
       " 'sentence']"
      ]
     },
     "execution_count": 3,
     "metadata": {},
     "output_type": "execute_result"
    }
   ],
   "source": [
    "import mymodule\n",
    "dir(mymodule)"
   ]
  },
  {
   "cell_type": "markdown",
   "metadata": {},
   "source": [
    "Erst jetzt ist die Funktion ``myfunction`` sichtbar und kann aufgerufen werden:"
   ]
  },
  {
   "cell_type": "code",
   "execution_count": 4,
   "metadata": {},
   "outputs": [
    {
     "name": "stdout",
     "output_type": "stream",
     "text": [
      "Help on function myfunction in module mymodule:\n",
      "\n",
      "myfunction(x: int, y: int) -> int\n",
      "    returns the sum of two integers\n",
      "\n"
     ]
    }
   ],
   "source": [
    "help(mymodule.myfunction) # call help on this function"
   ]
  },
  {
   "cell_type": "code",
   "execution_count": 5,
   "metadata": {},
   "outputs": [
    {
     "data": {
      "text/plain": [
       "9"
      ]
     },
     "execution_count": 5,
     "metadata": {},
     "output_type": "execute_result"
    }
   ],
   "source": [
    "mymodule.myfunction(3,6)"
   ]
  },
  {
   "cell_type": "markdown",
   "metadata": {},
   "source": [
    "Ein Modul kann im selben Verzeichnis gespeichert werden, wo unser Hauptprogramm drin ist, kann aber auch in einem weiteren Verzeichnis gespeichert werden. Beispielsweise haben wir einen Ordner ``many`` und da drin haben wir ein Modul ``pymods.py``:"
   ]
  },
  {
   "cell_type": "code",
   "execution_count": 6,
   "metadata": {},
   "outputs": [],
   "source": [
    "from many import pymods"
   ]
  },
  {
   "cell_type": "markdown",
   "metadata": {},
   "source": [
    "In der vorigen Zeile sagen wir, wir wollen aus dem Ordner ``many`` das ganze Modul ``pymods`` importieren. Mit Holfer der Funktion ``dir()`` können wir uns den Inhalt des Moduls anschauen:"
   ]
  },
  {
   "cell_type": "code",
   "execution_count": 10,
   "metadata": {},
   "outputs": [
    {
     "data": {
      "text/plain": [
       "['__builtins__',\n",
       " '__cached__',\n",
       " '__doc__',\n",
       " '__file__',\n",
       " '__loader__',\n",
       " '__name__',\n",
       " '__package__',\n",
       " '__spec__',\n",
       " 'welcome']"
      ]
     },
     "execution_count": 10,
     "metadata": {},
     "output_type": "execute_result"
    }
   ],
   "source": [
    "dir(pymods)"
   ]
  },
  {
   "cell_type": "markdown",
   "metadata": {},
   "source": [
    "Und jetzt möchten wir die Variable ``welcome`` aus diesem Modul sehen:"
   ]
  },
  {
   "cell_type": "code",
   "execution_count": 7,
   "metadata": {},
   "outputs": [
    {
     "name": "stdout",
     "output_type": "stream",
     "text": [
      "welcome to pymods.py\n"
     ]
    }
   ],
   "source": [
    "print(pymods.welcome) "
   ]
  },
  {
   "cell_type": "markdown",
   "metadata": {},
   "source": [
    "In einem ordner können mehrere Module gespeichert werden. Z.B. im Ordner ``many`` haben wir noch ein Modul namens ``monday.py``. Wir importieren dieses Modul:"
   ]
  },
  {
   "cell_type": "code",
   "execution_count": 11,
   "metadata": {},
   "outputs": [],
   "source": [
    "from many import monday"
   ]
  },
  {
   "cell_type": "markdown",
   "metadata": {},
   "source": [
    "Und wir wollen uns den Inhalt dieses Moduls anschauen:"
   ]
  },
  {
   "cell_type": "code",
   "execution_count": 12,
   "metadata": {},
   "outputs": [
    {
     "data": {
      "text/plain": [
       "['__builtins__',\n",
       " '__cached__',\n",
       " '__doc__',\n",
       " '__file__',\n",
       " '__loader__',\n",
       " '__name__',\n",
       " '__package__',\n",
       " '__spec__',\n",
       " 'welcome']"
      ]
     },
     "execution_count": 12,
     "metadata": {},
     "output_type": "execute_result"
    }
   ],
   "source": [
    "dir(monday)"
   ]
  },
  {
   "cell_type": "markdown",
   "metadata": {},
   "source": [
    "Und wir können sehen, dass auch dieses Modul eine Variable mit dem selben Namen ``welcome`` enthält:"
   ]
  },
  {
   "cell_type": "code",
   "execution_count": 13,
   "metadata": {},
   "outputs": [
    {
     "name": "stdout",
     "output_type": "stream",
     "text": [
      "welcome to monday.py\n"
     ]
    }
   ],
   "source": [
    "print(monday.welcome)"
   ]
  },
  {
   "cell_type": "markdown",
   "metadata": {},
   "source": [
    "Ein gewisser Namensraum (Ordner) kann mehrere Module enthalten. Diese Module können dann selektiv importiert werden. Und diese können eventuell auch Funktionen oder/und Variablen mit ähnlichen Namen haben."
   ]
  },
  {
   "cell_type": "markdown",
   "metadata": {},
   "source": [
    "Aus einem normalen Ordner kann ein Python-Paket erstellt werden. Es reicht aus, wenn wir eine Datei, bzw. ein Modul mit dem Namen ``__init__.py`` speichern."
   ]
  },
  {
   "cell_type": "markdown",
   "metadata": {},
   "source": [
    "### Wozu denn ``__init__``?!\n",
    "\n",
    "``__init__.py`` kann leer sein, kann aber auch Befehle enthalten die für Python eine besondere Priorität haben: diese Befehle werden _automatisch_ ausgeführt, sobald aus dem paket etwas _importiert_ wird."
   ]
  },
  {
   "cell_type": "code",
   "execution_count": 1,
   "metadata": {},
   "outputs": [
    {
     "name": "stdout",
     "output_type": "stream",
     "text": [
      "loading package ....\n"
     ]
    }
   ],
   "source": [
    "# in Jupyter notebook restart Kernel\n",
    "# import more modules\n",
    "from many import pymods, monday"
   ]
  },
  {
   "cell_type": "code",
   "execution_count": 5,
   "metadata": {},
   "outputs": [
    {
     "name": "stdout",
     "output_type": "stream",
     "text": [
      "welcome to monday.py\n"
     ]
    }
   ],
   "source": [
    "print(monday.welcome)"
   ]
  },
  {
   "cell_type": "markdown",
   "metadata": {},
   "source": [
    "Die Datei bzw. die eingebaute Funktion ``__init__`` deckt den Tisch, bevor die Gäste kommen: die bereitet die sogenannten _dependencies_ vor, bevor die Module geladen werden. Sie initiiert die Pakete, die unser Programm braucht, um richtig zu funktionieren."
   ]
  }
 ],
 "metadata": {
  "kernelspec": {
   "display_name": "Python 3",
   "language": "python",
   "name": "python3"
  },
  "language_info": {
   "codemirror_mode": {
    "name": "ipython",
    "version": 3
   },
   "file_extension": ".py",
   "mimetype": "text/x-python",
   "name": "python",
   "nbconvert_exporter": "python",
   "pygments_lexer": "ipython3",
   "version": "3.12.4"
  },
  "nbTranslate": {
   "displayLangs": [
    "en",
    "de"
   ],
   "hotkey": "alt-t",
   "langInMainMenu": true,
   "sourceLang": "de",
   "targetLang": "en",
   "useGoogleTranslate": true
  }
 },
 "nbformat": 4,
 "nbformat_minor": 4
}
