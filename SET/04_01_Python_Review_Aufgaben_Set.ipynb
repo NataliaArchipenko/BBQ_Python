{
 "cells": [
  {
   "cell_type": "markdown",
   "metadata": {},
   "source": [
    "1. Write a Python program to create a set.\n",
    "[Click me to see the sample solution](https://www.w3resource.com/python-exercises/sets/python-sets-exercise-1.php)\n"
   ]
  },
  {
   "cell_type": "code",
   "execution_count": 12,
   "metadata": {},
   "outputs": [
    {
     "name": "stdout",
     "output_type": "stream",
     "text": [
      "{1, 2, 4, 6} <class 'set'>\n",
      "{'t', 'x', 'e'}\n",
      "{1, 4, 5}\n"
     ]
    }
   ],
   "source": [
    "# hier bitte ihre Lösung erstellen\n",
    "a = {1,2,4,6}\n",
    "string = 'text'\n",
    "b = set(string)\n",
    "my_liste = [1, 4, 5]\n",
    "s = set(my_liste)\n",
    "print(a, type(a))\n",
    "print(b)\n",
    "print(s)"
   ]
  },
  {
   "cell_type": "markdown",
   "metadata": {},
   "source": [
    "\n",
    "2. Write a Python program to iterate over sets.<br/>\n",
    "[Click me to see the sample solution](https://www.w3resource.com/python-exercises/sets/python-sets-exercise-2.php)\n"
   ]
  },
  {
   "cell_type": "code",
   "execution_count": 16,
   "metadata": {},
   "outputs": [
    {
     "name": "stdout",
     "output_type": "stream",
     "text": [
      "0 1 5 8 9 e h   t r i x "
     ]
    }
   ],
   "source": [
    "# hier bitte ihre Lösung erstellen\n",
    "my_liste = [1,8,9,0,5]\n",
    "num_set = set(my_liste)\n",
    "num_set = set([1,8,9,0,5])\n",
    "string = 'text hier'\n",
    "text_set = set(string)\n",
    "\n",
    "# Iterate through the elements in 'num_set' and print them with a space separator:\n",
    "for n in num_set:\n",
    "    print(n, end=' ')\n",
    "\n",
    "for i in text_set:\n",
    "    print(i, end=' ')\n",
    "\n"
   ]
  },
  {
   "cell_type": "markdown",
   "metadata": {},
   "source": [
    "\n",
    "3. Write a Python program to add member(s) to a set.\n",
    "[Click me to see the sample solutio](https://www.w3resource.com/python-exercises/sets/python-sets-exercise-3.php)\n"
   ]
  },
  {
   "cell_type": "code",
   "execution_count": 21,
   "metadata": {},
   "outputs": [
    {
     "name": "stdout",
     "output_type": "stream",
     "text": [
      "{1, 3, 7, 'a', 'b'}\n"
     ]
    }
   ],
   "source": [
    "# hier bitte ihre Lösung erstellen\n",
    "liste = [1,3,7, 'a']\n",
    "s = set(liste)\n",
    "s.add(3)\n",
    "s.add('b')\n",
    "print(s)"
   ]
  },
  {
   "cell_type": "markdown",
   "metadata": {},
   "source": [
    "\n",
    "4. Write a Python program to remove item(s) from a given set.\n",
    "[Click me to see the sample solution](https://www.w3resource.com/python-exercises/sets/python-sets-exercise-4.php)\n"
   ]
  },
  {
   "cell_type": "code",
   "execution_count": 34,
   "metadata": {},
   "outputs": [
    {
     "name": "stdout",
     "output_type": "stream",
     "text": [
      "{3, 7}\n"
     ]
    }
   ],
   "source": [
    "# hier bitte ihre Lösung erstellen\n",
    "liste = [1,3,7, 'a']\n",
    "set_my = set(liste)\n",
    "b = set_my.pop() # erste Element löschen\n",
    "set_my.discard('a')\n",
    "print(set_my)"
   ]
  },
  {
   "cell_type": "markdown",
   "metadata": {},
   "source": [
    "\n",
    "5. Write a Python program to remove an item from a set if it is present in the set.\n",
    "[Click me to see the sample solution](https://www.w3resource.com/python-exercises/sets/python-sets-exercise-5.php)\n"
   ]
  },
  {
   "cell_type": "code",
   "execution_count": 32,
   "metadata": {},
   "outputs": [
    {
     "name": "stdout",
     "output_type": "stream",
     "text": [
      "{4, 5, 6, 7}\n",
      "{4, 5, 6, 7}\n"
     ]
    }
   ],
   "source": [
    "# hier bitte ihre Lösung erstellen\n",
    "liste = [1,2,3]\n",
    "my_set = {1,4,5,6,7}\n",
    "\n",
    "for i in my_set.copy():\n",
    "    if i in liste:\n",
    "        my_set.discard(i)\n",
    "print(my_set)\n",
    "\n",
    "#Variante ohne Copy:\n",
    "liste = [1, 2, 3]\n",
    "my_set = {1, 4, 5, 6, 7}\n",
    "\n",
    "to_remove = []  \n",
    "#alle Elemente, die ich löschen will, werden in die liste to_remove hinzufügt\n",
    "for i in my_set:\n",
    "    if i in liste:\n",
    "        to_remove.append(i)\n",
    "\n",
    "# Entfernen des Elements\n",
    "for i in to_remove:\n",
    "    my_set.discard(i)\n",
    "\n",
    "print(my_set)\n"
   ]
  },
  {
   "cell_type": "markdown",
   "metadata": {},
   "source": [
    "\n",
    "6. Write a Python program to create an intersection of sets.\n",
    "[Click me to see the sample solution](https://www.w3resource.com/python-exercises/sets/python-sets-exercise-6.php)\n"
   ]
  },
  {
   "cell_type": "code",
   "execution_count": 39,
   "metadata": {},
   "outputs": [
    {
     "name": "stdout",
     "output_type": "stream",
     "text": [
      "{'a'}\n",
      "{'a'}\n"
     ]
    }
   ],
   "source": [
    "# hier bitte ihre Lösung erstellen\n",
    "#Let A = {a, b, c, d} and B = {b, d, e}. Then A ∩ B = {b, d}\n",
    "s1 = {'a', 'b', 'c'}\n",
    "s2 = {1, 2,'a'}\n",
    "liste_gemeins_elemente = []\n",
    "for i in s1:\n",
    "    if i in s2:\n",
    "        liste_gemeins_elemente.append(i)  \n",
    "print(set(liste_gemeins_elemente))\n",
    "\n",
    "setz = s1 & s2\n",
    "print(setz)\n"
   ]
  },
  {
   "cell_type": "markdown",
   "metadata": {},
   "source": [
    "\n",
    "7. Write a Python program to create a union of sets.\n",
    "[Click me to see the sample solution](https://www.w3resource.com/python-exercises/sets/python-sets-exercise-7.php)\n"
   ]
  },
  {
   "cell_type": "code",
   "execution_count": 37,
   "metadata": {},
   "outputs": [
    {
     "name": "stdout",
     "output_type": "stream",
     "text": [
      "{1, 'b', 2, 'a', 'c'}\n"
     ]
    }
   ],
   "source": [
    "# hier bitte ihre Lösung erstellen\n",
    "s1 = {'a', 'b', 'c'}\n",
    "s2 = {1, 2,'a'}\n",
    "\n",
    "setc = s1.union(s2)\n",
    "print(setc)"
   ]
  },
  {
   "cell_type": "markdown",
   "metadata": {},
   "source": [
    "\n",
    "8. Write a Python program to create set difference.\n",
    "[Click me to see the sample solution](https://www.w3resource.com/python-exercises/sets/python-sets-exercise-8.php)\n"
   ]
  },
  {
   "cell_type": "code",
   "execution_count": 42,
   "metadata": {},
   "outputs": [
    {
     "name": "stdout",
     "output_type": "stream",
     "text": [
      "{'b', 2, 'c'}\n"
     ]
    }
   ],
   "source": [
    "# hier bitte ihre Lösung erstellen\n",
    "s1 = {'a', 'b', 'c', 1, 2 }\n",
    "s2 = {1,'a'}\n",
    "r = s1 - s2\n",
    "print(r)"
   ]
  },
  {
   "cell_type": "markdown",
   "metadata": {},
   "source": [
    "\n",
    "9. Write a Python program to create a symmetric difference.\n",
    "[Click me to see the sample solution](https://www.w3resource.com/python-exercises/sets/python-sets-exercise-9.php)\n"
   ]
  },
  {
   "cell_type": "code",
   "execution_count": 49,
   "metadata": {},
   "outputs": [
    {
     "name": "stdout",
     "output_type": "stream",
     "text": [
      "{1, 3, 4, 6, 7, 'a'}\n"
     ]
    }
   ],
   "source": [
    "# hier bitte ihre Lösung erstellen\n",
    "s1 = {1, 2, 3, 4, 5, 6}\n",
    "s2 = {2, 'a', 5, 7}\n",
    "r = s1.symmetric_difference(s2)\n",
    "print(r)"
   ]
  },
  {
   "cell_type": "markdown",
   "metadata": {},
   "source": [
    "\n",
    "10. Write a Python program to check if a set is a subset of another set.\n",
    "[Click me to see the sample solution](https://www.w3resource.com/python-exercises/sets/python-sets-exercise-10.php)\n"
   ]
  },
  {
   "cell_type": "code",
   "execution_count": 57,
   "metadata": {},
   "outputs": [
    {
     "name": "stdout",
     "output_type": "stream",
     "text": [
      "x:  {'mango', 'apple'}\n",
      "y:  {'mango', 'orange'}\n",
      "z:  {'mango'} \n",
      "\n",
      "If x is a subset of y\n",
      "False\n",
      "False\n",
      "If y is a subset of x\n",
      "False\n",
      "False\n",
      "\n",
      "If y is a subset of z\n",
      "False\n",
      "False\n",
      "\n",
      "If z is a subset of y\n",
      "True\n",
      "True\n",
      "True\n",
      "False\n"
     ]
    }
   ],
   "source": [
    "# hier bitte ihre Lösung erstellen\n",
    "setx = set([\"apple\", \"mango\"])\n",
    "sety = set([\"mango\", \"orange\"])\n",
    "setz = set([\"mango\"])\n",
    "print(\"x: \", setx)\n",
    "print(\"y: \", sety)\n",
    "print(\"z: \", setz, \"\\n\")\n",
    "\n",
    "print(\"If x is a subset of y\")\n",
    "print(setx <= sety)\n",
    "print(setx.issubset(sety))#False\n",
    "\n",
    "print(\"If y is a subset of x\")\n",
    "print(sety <= setx)\n",
    "print(sety.issubset(setx))#False\n",
    "\n",
    "print(\"\\nIf y is a subset of z\")\n",
    "print(sety <= setz)\n",
    "print(sety.issubset(setz))#False\n",
    "\n",
    "print(\"\\nIf z is a subset of y\")\n",
    "print(setz <= sety)\n",
    "print(setz.issubset(sety))#True\n",
    "\n",
    "s1 = {1,2,3,3,4}\n",
    "s2 ={1,2,3}\n",
    "print(s2 <= s1)#True\n",
    "print(s1 <= s2)#False\n",
    "\n"
   ]
  },
  {
   "cell_type": "markdown",
   "metadata": {},
   "source": [
    "\n",
    "11. Write a Python program to create a shallow copy of sets.\n",
    "Note : Shallow copy is a bit-wise copy of an object. A new object is created that has an exact copy of the values in the original object.\n",
    "[Click me to see the sample solution](https://www.w3resource.com/python-exercises/sets/python-sets-exercise-11.php)\n"
   ]
  },
  {
   "cell_type": "code",
   "execution_count": 60,
   "metadata": {},
   "outputs": [
    {
     "name": "stdout",
     "output_type": "stream",
     "text": [
      "{'b', 'a', 'c'} {'d', 'b'}\n"
     ]
    }
   ],
   "source": [
    "# hier bitte ihre Lösung erstellen\n",
    "s1 = set([\"a\", \"b\", \"c\"])\n",
    "s2 = set([\"b\", \"d\"])\n",
    "\n",
    "# Erstellen des Kopies\n",
    "skopy= s1.copy()\n",
    "skopy2 = s2.copy()\n",
    "\n",
    "print(skopy, skopy2)"
   ]
  },
  {
   "cell_type": "markdown",
   "metadata": {},
   "source": [
    "\n",
    "12. Write a Python program to remove all elements from a given set.\n",
    "[Click me to see the sample solution](https://www.w3resource.com/python-exercises/sets/python-sets-exercise-12.php)\n"
   ]
  },
  {
   "cell_type": "code",
   "execution_count": 62,
   "metadata": {},
   "outputs": [
    {
     "name": "stdout",
     "output_type": "stream",
     "text": [
      "{1, 2, 3, 'l'}\n",
      "set()\n"
     ]
    }
   ],
   "source": [
    "# hier bitte ihre Lösung erstellen\n",
    "s1 = {1,2,3, 'l'}\n",
    "print(s1)\n",
    "s1.clear()\n",
    "print(s1)"
   ]
  },
  {
   "cell_type": "markdown",
   "metadata": {},
   "source": [
    "\n",
    "13. Write a Python program that uses frozensets.\n",
    "Note: Frozensets behave just like sets except they are immutable.\n",
    "[Click me to see the sample solution](https://www.w3resource.com/python-exercises/sets/python-sets-exercise-13.php)\n"
   ]
  },
  {
   "cell_type": "code",
   "execution_count": 91,
   "metadata": {},
   "outputs": [
    {
     "name": "stdout",
     "output_type": "stream",
     "text": [
      "1\n",
      "2\n",
      "3\n",
      "4\n",
      "5\n",
      "union\n",
      "frozenset({1, 2, 3, 4, 5})\n",
      "False\n",
      "True\n",
      "frozenset({1, 2})\n",
      "frozenset({10})\n",
      "frozenset({1, 2, 3, 4, 5, 6, 7})\n",
      "frozenset({1, 2, 3, 4, 5, 10})\n"
     ]
    }
   ],
   "source": [
    "# hier bitte ihre Lösung erstellen\n",
    "\n",
    "x = frozenset([1, 2, 3, 4, 5])#diese Objekt wird erzeugt, aber nie verändert darf\n",
    "y = frozenset([3, 4, 5, 6, 7])\n",
    "z = frozenset([10])\n",
    "for i in x:\n",
    "    print(i)\n",
    "\n",
    "print('union')\n",
    "x.union({6,7})\n",
    "print(x)\n",
    "\n",
    "# Use the 'isdisjoint()' method to check if 'x' and 'y' have no common elements and print the result.\n",
    "# Return True if the sets have no elements in common with each other.\n",
    "print(x.isdisjoint(y))#False, weil es gemeinsame Elemente bei x and y gibt\n",
    "print(x.isdisjoint(z))#True, weil 10 ist nicht in x\n",
    "\n",
    "# Use the 'difference()' method to find the elements in 'x' that are not in 'y' and print the result.\n",
    "# Return a new frozenset with elements in 'x' that are not in 'y'.\n",
    "print(x.difference(y))#{1,2}\n",
    "print(z.difference(x))#10\n",
    "\n",
    "# Create a new frozenset with elements that are a union of 'x' and 'y' and print the result.\n",
    "# This combines elements from both 'x' and 'y'.\n",
    "print(x | y) # {1,2,3,4.5.6.7}\n",
    "print(x | z) # {1.2.3.4.5.10}"
   ]
  },
  {
   "cell_type": "markdown",
   "metadata": {},
   "source": [
    "\n",
    "14. Write a Python program to find the maximum and minimum values in a set.\n",
    "[Click me to see the sample solution](https://www.w3resource.com/python-exercises/sets/python-sets-exercise-14.php)\n"
   ]
  },
  {
   "cell_type": "code",
   "execution_count": 74,
   "metadata": {},
   "outputs": [
    {
     "name": "stdout",
     "output_type": "stream",
     "text": [
      " Max: 5, min: 1\n"
     ]
    }
   ],
   "source": [
    "# hier bitte ihre Lösung erstellen\n",
    "s= set([1,2,3,4,5])\n",
    "print(f' Max: {max(s)}, min: {min(s)}')\n"
   ]
  },
  {
   "cell_type": "markdown",
   "metadata": {},
   "source": [
    "\n",
    "15. Write a Python program to find the length of a set.\n",
    "[Click me to see the sample solution](https://www.w3resource.com/python-exercises/sets/python-sets-exercise-15.php)\n"
   ]
  },
  {
   "cell_type": "code",
   "execution_count": 75,
   "metadata": {},
   "outputs": [
    {
     "name": "stdout",
     "output_type": "stream",
     "text": [
      "4\n"
     ]
    }
   ],
   "source": [
    "# hier bitte ihre Lösung erstellen\n",
    "set_my = {1,2,3,'h'}\n",
    "print(len(set_my))"
   ]
  },
  {
   "cell_type": "markdown",
   "metadata": {},
   "source": [
    "\n",
    "16. Write a Python program to check if a given value is present in a set or not.\n",
    "[Click me to see the sample solution](https://www.w3resource.com/python-exercises/sets/python-sets-exercise-16.php)\n"
   ]
  },
  {
   "cell_type": "code",
   "execution_count": 77,
   "metadata": {},
   "outputs": [
    {
     "name": "stdout",
     "output_type": "stream",
     "text": [
      "True\n",
      "False\n"
     ]
    }
   ],
   "source": [
    "# hier bitte ihre Lösung erstellen\n",
    "set_my = {1,2,3,'h'}\n",
    "print (1 in set_my)\n",
    "print(10 in set_my)"
   ]
  },
  {
   "cell_type": "markdown",
   "metadata": {},
   "source": [
    "\n",
    "17. Write a Python program to check if two given sets have no elements in common.\n",
    "[Click me to see the sample solution](https://www.w3resource.com/python-exercises/sets/python-sets-exercise-17.php)\n"
   ]
  },
  {
   "cell_type": "code",
   "execution_count": 81,
   "metadata": {},
   "outputs": [
    {
     "name": "stdout",
     "output_type": "stream",
     "text": [
      "False\n",
      "False\n",
      "True\n"
     ]
    }
   ],
   "source": [
    "# hier bitte ihre Lösung erstellen\n",
    "x = {1, 2, 3, 4}\n",
    "y = {4, 5, 6, 7}\n",
    "z = {8}\n",
    "print(x.isdisjoint(y))#False\n",
    "print(y.isdisjoint(x))#False\n",
    "print(z.isdisjoint(x))#True\n"
   ]
  },
  {
   "cell_type": "markdown",
   "metadata": {},
   "source": [
    "\n",
    "18. Write a Python program to check if a given set is a superset of itself and a superset of another given set.\n",
    "[Click me to see the sample solution](https://www.w3resource.com/python-exercises/sets/python-sets-exercise-18.php)\n"
   ]
  },
  {
   "cell_type": "code",
   "execution_count": 86,
   "metadata": {},
   "outputs": [
    {
     "name": "stdout",
     "output_type": "stream",
     "text": [
      "True\n",
      "True\n",
      "False\n",
      "True\n"
     ]
    }
   ],
   "source": [
    "# hier bitte ihre Lösung erstellen\n",
    "nums = {10, 20, 30, 40, 50}\n",
    "print(nums.issuperset(nums))#überprüft, ob ein Set ein Superset eines anderen Sets ist. Ein Set A ist ein Superset von Set B, wenn alle Elemente von B auch in A enthalten sind.\n",
    "num1 = {1, 2, 3, 4, 5, 7}\n",
    "num2 = {2, 4}\n",
    "num3 = {2, 4}\n",
    "print(num1 > num2)#true\n",
    "print(num2 > num1)#false\n",
    "print(num1.issuperset(num2))#true\n"
   ]
  },
  {
   "cell_type": "markdown",
   "metadata": {},
   "source": [
    "\n",
    "19. Write a Python program to find elements in a given set that are not in another set.\n",
    "[Click me to see the sample solution](https://www.w3resource.com/python-exercises/sets/python-sets-exercise-19.php)"
   ]
  },
  {
   "cell_type": "code",
   "execution_count": 88,
   "metadata": {},
   "outputs": [
    {
     "name": "stdout",
     "output_type": "stream",
     "text": [
      "{1, 3}\n",
      "{4, 5}\n"
     ]
    }
   ],
   "source": [
    "# hier bitte ihre Lösung erstellen\n",
    "s1 = {1,2,3}\n",
    "s2= {2,4,5}\n",
    "print(s1.difference(s2))\n",
    "print(s2.difference(s1))"
   ]
  }
 ],
 "metadata": {
  "kernelspec": {
   "display_name": "Python 3",
   "language": "python",
   "name": "python3"
  },
  "language_info": {
   "codemirror_mode": {
    "name": "ipython",
    "version": 3
   },
   "file_extension": ".py",
   "mimetype": "text/x-python",
   "name": "python",
   "nbconvert_exporter": "python",
   "pygments_lexer": "ipython3",
   "version": "3.12.4"
  }
 },
 "nbformat": 4,
 "nbformat_minor": 2
}
