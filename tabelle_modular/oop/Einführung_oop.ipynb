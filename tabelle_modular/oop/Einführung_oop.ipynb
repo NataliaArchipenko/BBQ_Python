{
 "cells": [
  {
   "cell_type": "markdown",
   "metadata": {},
   "source": [
    "# Einführung OOP in Python\n",
    "\n",
    "Klasse car\n",
    "Attribute eines Autos:\n",
    "-make\n",
    "-model\n",
    "-year\n",
    "-color\n",
    "\n"
   ]
  },
  {
   "cell_type": "code",
   "execution_count": 21,
   "metadata": {},
   "outputs": [
    {
     "name": "stdout",
     "output_type": "stream",
     "text": [
      "Mercedes None\n",
      "S300\n",
      "{'make': 'Mercedes', 'model': 'S300', 'year': 2020, 'color': 'Green', 'symbol': None}\n"
     ]
    }
   ],
   "source": [
    "class Car:# der Name der Klasse ist Car\n",
    "    def __init__(self, make, model, year, color):#Parametr\n",
    "        self.make = make # Erzeugen der Attributen, die entweder durch den Konstruktor \n",
    "        self.model = model# oder in der Klasse selbst definiert wurden.\n",
    "        self.year = year\n",
    "        self.color = color\n",
    "        self.symbol = None#Attribute nicht immer gleich von Parametrn\n",
    "\n",
    "\n",
    "c1 = Car('Mercedes', 'S300', 2020, 'Green')#Hier wird ein Objekt oder eine Instanz der Klasse Car erstellt.Das bedeutet, dass der Ausdruck Car('Mercedes', 'S300', 2020, 'Green') ein neues Objekt erzeugt, und dieses Objekt wird der Variablen c1 zugewiesen.\n",
    "\n",
    "print(c1.make, c1.symbol) # Instanz - attribut (Instanz == Objekt) nstanz (Objekt): c1 ist eine Instanz der Klasse Car, die die Parameter 'Mercedes', 'S300', 2020 und 'Green' als Werte für die Attribute make, model, year und color besitzt. Jedes Mal, wenn du Car(...) aufrufst, erstellst du ein neues, separates Objekt.\n",
    "print(c1.model) # gibt das Attribut model der Instanz c1 aus.\n",
    "print(c1.__dict__)#__dict__ zeigt dir ein Dictionary mit allen Attributen und deren Werten für c1."
   ]
  },
  {
   "cell_type": "code",
   "execution_count": 22,
   "metadata": {},
   "outputs": [
    {
     "name": "stdout",
     "output_type": "stream",
     "text": [
      "{'make': 'Mercedes', 'model': 'S300', 'year': 2020, 'color': 'Green', 'symbol': None, 'no_of_doors': 2}\n"
     ]
    }
   ],
   "source": [
    "c1.__dict__['no_of_doors']=2\n",
    "print(c1.__dict__)"
   ]
  },
  {
   "cell_type": "code",
   "execution_count": 23,
   "metadata": {},
   "outputs": [
    {
     "name": "stdout",
     "output_type": "stream",
     "text": [
      "{'make': 'Mercedes', 'model': 'S300', 'year': 2020, 'color': 'Green', 'symbol': None}\n"
     ]
    }
   ],
   "source": [
    "c2 = Car('Mercedes', 'S300', 2020,'Green')\n",
    "print(c2.__dict__)"
   ]
  },
  {
   "cell_type": "markdown",
   "metadata": {},
   "source": [
    "Methoden\n",
    "und Getter und Setter"
   ]
  },
  {
   "cell_type": "code",
   "execution_count": 24,
   "metadata": {},
   "outputs": [],
   "source": [
    "class Fahrzeug:\n",
    "    def __init__(self, hersteller, baujahr, geschwindigkeit = 0):#parametr des Classes\n",
    "        self.hersteller = hersteller#Die Attribute wurden erzeugt\n",
    "        self.baujahr = baujahr\n",
    "        self.geschwindigkeit = geschwindigkeit\n",
    "\n",
    "    def beschleunigen(self, x):#die Methode wurden erstellt\n",
    "        '''Ändert die Geschwindigkeit um x'''\n",
    "        self.geschwindigkeit +=x #berechnen\n",
    "\n",
    "    def get_geschwindigkeit(self):#die Methode wurden erstellt\n",
    "        '''Zeigt die aktuelle Geschwindigkeit'''\n",
    "        return self.geschwindigkeit\n",
    "    \n",
    "    def set_geschwindigkeit(self, x):#die Methode wurden erstellt\n",
    "        self.geschwindigkeit = x\n",
    "\n"
   ]
  },
  {
   "cell_type": "code",
   "execution_count": 25,
   "metadata": {},
   "outputs": [
    {
     "name": "stdout",
     "output_type": "stream",
     "text": [
      "Aktuelle Geschwindigkeit: 0 km/h\n",
      "Neue Geschwindigkeit: 50 km/h\n",
      "Geschwindigkeit nach manuellem Setzen: 180 km/h\n",
      "Geschwindigkeit nach ungültiger Änderung: 180 km/h\n"
     ]
    }
   ],
   "source": [
    "class Fahrzeug:\n",
    "    def __init__(self, hersteller, baujahr, geschwindigkeit = 0):#parametr des Classes\n",
    "        self.hersteller = hersteller#Die Attribute wurden erzeugt\n",
    "        self.baujahr = baujahr\n",
    "        self.geschwindigkeit = geschwindigkeit\n",
    "\n",
    "    def beschleunigen(self, x):#die Methode wurden erstellt\n",
    "        g = self.get_geschwindigkeit()\n",
    "        self.set_geschwindigkeit(g+x)\n",
    "      \n",
    "        \n",
    "    def get_geschwindigkeit(self):#die Methode wurden erstellt\n",
    "        '''Zeigt die aktuelle Geschwindigkeit'''\n",
    "        return self.geschwindigkeit\n",
    "    \n",
    "\n",
    "    def set_geschwindigkeit(self, x):#die Methode wurden erstellt\n",
    "        if x>= 0 and x <= 200:\n",
    "            self.geschwindigkeit = x\n",
    "\n",
    "# Erstellen einer Instanz der Klasse Fahrzeug\n",
    "auto = Fahrzeug('BMW', 2022)  # Hersteller: BMW, Baujahr: 2022, Standardgeschwindigkeit: 0\n",
    "\n",
    "# Zeigen der aktuelle Geschwindigkeit\n",
    "print(f\"Aktuelle Geschwindigkeit: {auto.get_geschwindigkeit()} km/h\")  # Ausgabe: 0\n",
    "\n",
    "# Beschleunigen des Autos um 50 km/h\n",
    "auto.beschleunigen(50)\n",
    "\n",
    "# Zeigen der neuen Geschwindigkeit\n",
    "print(f\"Neue Geschwindigkeit: {auto.get_geschwindigkeit()} km/h\")  # Ausgabe: 50\n",
    "\n",
    "# Versuch, die Geschwindigkeit auf 180 km/h zu setzen\n",
    "auto.set_geschwindigkeit(180)\n",
    "\n",
    "# Zeigen der aktuellen Geschwindigkeit nach der Änderung\n",
    "print(f\"Geschwindigkeit nach manuellem Setzen: {auto.get_geschwindigkeit()} km/h\")  # Ausgabe: 180\n",
    "\n",
    "# Versuch eine Geschwindigkeit außerhalb der zulässigen Grenze zu setzen (z. B. 250 km/h)\n",
    "auto.set_geschwindigkeit(250)\n",
    "\n",
    "# Die Geschwindigkeit sollte sich nicht ändern, da sie über der Grenze liegt\n",
    "print(f\"Geschwindigkeit nach ungültiger Änderung: {auto.get_geschwindigkeit()} km/h\")  # Ausgabe: 180\n"
   ]
  },
  {
   "cell_type": "code",
   "execution_count": 26,
   "metadata": {},
   "outputs": [],
   "source": [
    "class Fahrzeug:\n",
    "    def __init__(self, hersteller, baujahr, geschwindigkeit = 0):#parametr des Classes\n",
    "        self.hersteller = hersteller#Die Attribute wurden erzeugt\n",
    "        self.baujahr = baujahr\n",
    "        self.geschwindigkeit = geschwindigkeit\n",
    "\n",
    "    def beschleunigen(self, x):#die Methode wurden erstellt\n",
    "        g = self.get_geschwindigkeit()\n",
    "        self.set_geschwindigkeit(g+x)\n",
    "      \n",
    "        \n",
    "    def get_geschwindigkeit(self):#die Methode wurden erstellt\n",
    "        '''Zeigt die aktuelle Geschwindigkeit'''\n",
    "        return self.geschwindigkeit\n",
    "    \n",
    "\n",
    "    def set_geschwindigkeit(self, x):#die Methode wurden erstellt\n",
    "        self.geschwindigkeit = x\n",
    "    \n"
   ]
  },
  {
   "cell_type": "markdown",
   "metadata": {},
   "source": [
    "Wie kommuniezieren Objekte?"
   ]
  },
  {
   "cell_type": "code",
   "execution_count": 27,
   "metadata": {},
   "outputs": [
    {
     "name": "stdout",
     "output_type": "stream",
     "text": [
      "Hallo, ich heiße \"XENON\"\n",
      "Hallo,\"MARVIN\"\n"
     ]
    }
   ],
   "source": [
    "class Roboter:\n",
    "    def __init__(self, name):\n",
    "        self.name = name\n",
    "    def intro(self):\n",
    "        '''Roboter stellt sich mit seinem Namen vor'''\n",
    "        print(f'Hallo, ich heiße \"{self.name}\"') # Zugriff auf das eigene Attribut\n",
    "\n",
    "    def hallo(self, other):#other: ein Objekt, das ebenfalls das Atributt 'name besitzt\n",
    "        '''Roboter begrüsst anderen Roboter'''\n",
    "        print(f'Hallo,\"{other.name}\"') # Zugriff auf das Attribut des anderen Roboters zu\n",
    "\n",
    "if __name__ =='__main__':\n",
    "    xenon = Roboter('XENON')\n",
    "    marvin = Roboter('MARVIN')\n",
    "    #stellt sich vor\n",
    "    xenon.intro()\n",
    "    xenon.hallo(marvin)"
   ]
  },
  {
   "cell_type": "markdown",
   "metadata": {},
   "source": [
    "Private (stark private) Attribute):"
   ]
  },
  {
   "cell_type": "code",
   "execution_count": 31,
   "metadata": {},
   "outputs": [
    {
     "name": "stdout",
     "output_type": "stream",
     "text": [
      "adfg23679\n",
      "None\n",
      "100000\n",
      "105000\n"
     ]
    }
   ],
   "source": [
    "class Konto:\n",
    "    def __init__(self, inhaber, eröffnungsbetrag):\n",
    "        self.__inhaber = inhaber # Schweizer Modell, Inhaber nicht öffentlich __ bedeutet stark geheim, privat, versteckt\n",
    "        self.__kontostand = eröffnungsbetrag\n",
    "        self.__password = \"geheim\"\n",
    "        self.kontonummer = \"adfg23679\" # schreiben eine randome Zahl\n",
    "\n",
    "    def get_kontostand(self, pw):#pw = password\n",
    "        if pw == self.__password:\n",
    "            return self.__kontostand\n",
    "        else:\n",
    "            return None\n",
    "    \n",
    "    def einzahlen(self, pw, betrag):\n",
    "        if self.__password == pw:\n",
    "            self.__kontostand +=betrag\n",
    "\n",
    "geheim_konto =  Konto(\"Andreas\", 100000)\n",
    "\n",
    "print(geheim_konto.kontonummer)\n",
    "#print(self.__inhaber)#private Attribute inhaber und kontostand\n",
    "#print(self.__kontostand) # direkter Zugriff ist verboten => Kapsulering\n",
    "print(geheim_konto.get_kontostand(\"Falsches password\"))\n",
    "print(geheim_konto.get_kontostand(\"geheim\"))#wenn password richig ist, dann zeigt er kontostand\n",
    "\n",
    "geheim_konto.einzahlen(\"geheim\", 5000)\n",
    "print(geheim_konto.get_kontostand(\"geheim\"))\n",
    "\n",
    "\n",
    "\n",
    "\n",
    "\n",
    "\n"
   ]
  }
 ],
 "metadata": {
  "kernelspec": {
   "display_name": "Python 3",
   "language": "python",
   "name": "python3"
  },
  "language_info": {
   "codemirror_mode": {
    "name": "ipython",
    "version": 3
   },
   "file_extension": ".py",
   "mimetype": "text/x-python",
   "name": "python",
   "nbconvert_exporter": "python",
   "pygments_lexer": "ipython3",
   "version": "3.12.4"
  }
 },
 "nbformat": 4,
 "nbformat_minor": 2
}
