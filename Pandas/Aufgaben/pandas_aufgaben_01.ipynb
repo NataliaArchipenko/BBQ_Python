{
 "cells": [
  {
   "cell_type": "markdown",
   "id": "2cfccd74",
   "metadata": {},
   "source": [
    "# Pandas Aufgaben\n",
    "\n",
    "##### Aufgabe (1)\n",
    "Erzeugen Sie ein beliebiges DataFrame mit einem Index, der aus Vornamen besteht,\n",
    "sowie einer Spalte für das Gewicht und einer Spalte für die Körpergröße. Befüllen Sie dann mit _imaginäre Daten_ Ihren Dataframe.\n"
   ]
  },
  {
   "cell_type": "code",
   "execution_count": 2,
   "id": "f5f1ce59",
   "metadata": {},
   "outputs": [
    {
     "data": {
      "text/html": [
       "<div>\n",
       "<style scoped>\n",
       "    .dataframe tbody tr th:only-of-type {\n",
       "        vertical-align: middle;\n",
       "    }\n",
       "\n",
       "    .dataframe tbody tr th {\n",
       "        vertical-align: top;\n",
       "    }\n",
       "\n",
       "    .dataframe thead th {\n",
       "        text-align: right;\n",
       "    }\n",
       "</style>\n",
       "<table border=\"1\" class=\"dataframe\">\n",
       "  <thead>\n",
       "    <tr style=\"text-align: right;\">\n",
       "      <th></th>\n",
       "      <th>Vorname</th>\n",
       "      <th>Gewicht</th>\n",
       "      <th>Körpergröße</th>\n",
       "    </tr>\n",
       "  </thead>\n",
       "  <tbody>\n",
       "    <tr>\n",
       "      <th>0</th>\n",
       "      <td>Max</td>\n",
       "      <td>80</td>\n",
       "      <td>186</td>\n",
       "    </tr>\n",
       "    <tr>\n",
       "      <th>1</th>\n",
       "      <td>Lena</td>\n",
       "      <td>55</td>\n",
       "      <td>165</td>\n",
       "    </tr>\n",
       "    <tr>\n",
       "      <th>2</th>\n",
       "      <td>Tim</td>\n",
       "      <td>93</td>\n",
       "      <td>181</td>\n",
       "    </tr>\n",
       "    <tr>\n",
       "      <th>3</th>\n",
       "      <td>Lisa</td>\n",
       "      <td>39</td>\n",
       "      <td>158</td>\n",
       "    </tr>\n",
       "    <tr>\n",
       "      <th>4</th>\n",
       "      <td>Don</td>\n",
       "      <td>120</td>\n",
       "      <td>176</td>\n",
       "    </tr>\n",
       "  </tbody>\n",
       "</table>\n",
       "</div>"
      ],
      "text/plain": [
       "  Vorname  Gewicht  Körpergröße\n",
       "0     Max       80          186\n",
       "1    Lena       55          165\n",
       "2     Tim       93          181\n",
       "3    Lisa       39          158\n",
       "4     Don      120          176"
      ]
     },
     "execution_count": 2,
     "metadata": {},
     "output_type": "execute_result"
    }
   ],
   "source": [
    "# schreibe deinen code hier\n",
    "import pandas as pd\n",
    "df=pd.DataFrame({'Vorname':['Max', 'Lena', 'Tim','Lisa', 'Don'], 'Gewicht': [80, 55, 93, 39, 120], 'Körpergröße': [186, 165, 181, 158, 176]})\n",
    "df"
   ]
  },
  {
   "cell_type": "markdown",
   "id": "55760d58",
   "metadata": {},
   "source": [
    "##### Aufgabe (2)\n",
    "\n",
    "Extrahieren Sie dann alle Zeilen, deren BMI (Body Mass Index) im normalen Bereich liegt, d.h. zwischen 18.5 und 25.\n",
    "  \n",
    "Es gilt:\n",
    "- BMI = m / (h ∗∗ 2)\n",
    "- m: Körpermaße in Kilogramm\n",
    "- h: Körpergröße in Meter\n",
    "\n",
    "_Tipp_ Sie können in Dataframe eine neue Spalte `bmi` hinzufügen:  \n",
    "\n",
    "```python\n",
    "df['bmi'] = # Berechnung\n",
    "```"
   ]
  },
  {
   "cell_type": "code",
   "execution_count": 5,
   "id": "233a110b",
   "metadata": {},
   "outputs": [
    {
     "data": {
      "text/html": [
       "<div>\n",
       "<style scoped>\n",
       "    .dataframe tbody tr th:only-of-type {\n",
       "        vertical-align: middle;\n",
       "    }\n",
       "\n",
       "    .dataframe tbody tr th {\n",
       "        vertical-align: top;\n",
       "    }\n",
       "\n",
       "    .dataframe thead th {\n",
       "        text-align: right;\n",
       "    }\n",
       "</style>\n",
       "<table border=\"1\" class=\"dataframe\">\n",
       "  <thead>\n",
       "    <tr style=\"text-align: right;\">\n",
       "      <th></th>\n",
       "      <th>Vorname</th>\n",
       "      <th>Gewicht</th>\n",
       "      <th>Körpergröße</th>\n",
       "      <th>bmi</th>\n",
       "    </tr>\n",
       "  </thead>\n",
       "  <tbody>\n",
       "    <tr>\n",
       "      <th>0</th>\n",
       "      <td>Max</td>\n",
       "      <td>80</td>\n",
       "      <td>186</td>\n",
       "      <td>23.124061</td>\n",
       "    </tr>\n",
       "    <tr>\n",
       "      <th>1</th>\n",
       "      <td>Lena</td>\n",
       "      <td>55</td>\n",
       "      <td>165</td>\n",
       "      <td>20.202020</td>\n",
       "    </tr>\n",
       "  </tbody>\n",
       "</table>\n",
       "</div>"
      ],
      "text/plain": [
       "  Vorname  Gewicht  Körpergröße        bmi\n",
       "0     Max       80          186  23.124061\n",
       "1    Lena       55          165  20.202020"
      ]
     },
     "execution_count": 5,
     "metadata": {},
     "output_type": "execute_result"
    }
   ],
   "source": [
    "# schreibe deinen code hier\n",
    "#BMI = m / (h ∗∗ 2)\n",
    "df['bmi'] = df['Gewicht'] / (df['Körpergröße'] / 100) ** 2\n",
    "df.query('bmi>18.5 & bmi < 25') # and - &, | - oder\n",
    "\n",
    "\n"
   ]
  },
  {
   "cell_type": "markdown",
   "id": "0ad44372",
   "metadata": {},
   "source": [
    "##### Aufgabe(3)\n",
    "\n",
    "Exportieren Sie Ihren Dataframe als eine `csv` Datei, z.B. `bmi.csv`"
   ]
  },
  {
   "cell_type": "code",
   "execution_count": 6,
   "id": "32ce4cfd",
   "metadata": {},
   "outputs": [],
   "source": [
    "# schreibe deinen code hier\n",
    "df.to_csv('bmi.csv', \n",
    "              index=None) # keine Extra Index-Spalte erzeugen"
   ]
  },
  {
   "cell_type": "markdown",
   "id": "f05cdba3",
   "metadata": {},
   "source": [
    "Happy Coding!"
   ]
  }
 ],
 "metadata": {
  "kernelspec": {
   "display_name": "Python 3",
   "language": "python",
   "name": "python3"
  },
  "language_info": {
   "codemirror_mode": {
    "name": "ipython",
    "version": 3
   },
   "file_extension": ".py",
   "mimetype": "text/x-python",
   "name": "python",
   "nbconvert_exporter": "python",
   "pygments_lexer": "ipython3",
   "version": "3.12.4"
  },
  "nbTranslate": {
   "displayLangs": [
    "en",
    "de"
   ],
   "hotkey": "alt-t",
   "langInMainMenu": true,
   "sourceLang": "de",
   "targetLang": "en",
   "useGoogleTranslate": true
  }
 },
 "nbformat": 4,
 "nbformat_minor": 5
}
