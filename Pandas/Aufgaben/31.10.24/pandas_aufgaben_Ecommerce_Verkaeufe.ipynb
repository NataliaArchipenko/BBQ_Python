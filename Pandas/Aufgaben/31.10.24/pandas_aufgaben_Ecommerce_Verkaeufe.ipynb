{
 "cells": [
  {
   "cell_type": "markdown",
   "metadata": {},
   "source": [
    "# Ecommerce Verkäufe Übung - Aufgabe\n",
    "In dieser Übung werden wir unechte Verkaufsdaten von Amazon nutzen. Dieser Datensatz liegt uns in Englisch vor und heißt \"Ecommerce Purchases\" (dt. Ecommerce Verkäufe). \n",
    "\n",
    "Folgt dem Notebook und beantwortet die gestellten Aufgaben. Dabei ist es wichtig, dass es häufig mehrere Lösungen zum gewünschten Ergebnis gibt, jede Aufgabe aber in einer Zeile Code gelöst werden kann. Außerdem werden die Aufgaben nach und nach schwerer.\n",
    "\n",
    "Bitte seht es uns nach, wenn nicht alle Ergebnisse \"realistisch\" sind bzw. Sinn ergeben. Das liegt daran, dass es sich hier um unechte, ausgedachte Daten handelt."
   ]
  },
  {
   "cell_type": "markdown",
   "metadata": {},
   "source": [
    "**Importiere Pandas als pd.**"
   ]
  },
  {
   "cell_type": "code",
   "execution_count": 44,
   "metadata": {
    "collapsed": true
   },
   "outputs": [],
   "source": [
    "import pandas as pd"
   ]
  },
  {
   "cell_type": "markdown",
   "metadata": {},
   "source": [
    "**Lese die CSV-Datei \"Ecommerce-Verkaeufe.csv\" ein und setze einen DataFrame names \"ecom\" darauf auf.**"
   ]
  },
  {
   "cell_type": "code",
   "execution_count": 46,
   "metadata": {
    "collapsed": true
   },
   "outputs": [],
   "source": [
    "ecom= pd.read_csv('Ecommerce-Verkaeufe.csv')\n"
   ]
  },
  {
   "cell_type": "markdown",
   "metadata": {},
   "source": [
    "**Schaue dir den *head* des DataFrame an.**"
   ]
  },
  {
   "cell_type": "code",
   "execution_count": 47,
   "metadata": {},
   "outputs": [
    {
     "name": "stdout",
     "output_type": "stream",
     "text": [
      "                                             Address    Lot AM or PM  \\\n",
      "0  16629 Pace Camp Apt. 448\\nAlexisborough, NE 77...  46 in       PM   \n",
      "1  9374 Jasmine Spurs Suite 508\\nSouth John, TN 8...  28 rn       PM   \n",
      "2                   Unit 0065 Box 5052\\nDPO AP 27450  94 vE       PM   \n",
      "3              7780 Julia Fords\\nNew Stacy, WA 45798  36 vm       PM   \n",
      "\n",
      "                                        Browser Info  \\\n",
      "0  Opera/9.56.(X11; Linux x86_64; sl-SI) Presto/2...   \n",
      "1  Opera/8.93.(Windows 98; Win 9x 4.90; en-US) Pr...   \n",
      "2  Mozilla/5.0 (compatible; MSIE 9.0; Windows NT ...   \n",
      "3  Mozilla/5.0 (Macintosh; Intel Mac OS X 10_8_0 ...   \n",
      "\n",
      "                           Company       Credit Card CC Exp Date  \\\n",
      "0                  Martinez-Herman  6011929061123406       02/20   \n",
      "1  Fletcher, Richards and Whitaker  3337758169645356       11/18   \n",
      "2       Simpson, Williams and Pham      675957666125       08/19   \n",
      "3  Williams, Marshall and Buchanan  6011578504430710       02/24   \n",
      "\n",
      "   CC Security Code   CC Provider                           Email  \\\n",
      "0               900  JCB 16 digit               pdunlap@yahoo.com   \n",
      "1               561    Mastercard              anthony41@reed.com   \n",
      "2               699  JCB 16 digit  amymiller@morales-harrison.com   \n",
      "3               384      Discover     brent16@olson-robinson.info   \n",
      "\n",
      "                                      Job       IP Address Language  \\\n",
      "0  Scientist, product/process development  149.146.147.205       el   \n",
      "1                       Drilling engineer     15.160.41.51       fr   \n",
      "2                Customer service manager   132.207.160.22       de   \n",
      "3                       Drilling engineer     30.250.74.19       es   \n",
      "\n",
      "   Purchase Price  \n",
      "0           98.14  \n",
      "1           70.73  \n",
      "2            0.95  \n",
      "3           78.04  \n"
     ]
    }
   ],
   "source": [
    "print(ecom.head(4))"
   ]
  },
  {
   "cell_type": "markdown",
   "metadata": {},
   "source": [
    "**Wie viele Zeilen und Spalten gibt es?**"
   ]
  },
  {
   "cell_type": "code",
   "execution_count": 48,
   "metadata": {},
   "outputs": [
    {
     "name": "stdout",
     "output_type": "stream",
     "text": [
      "<class 'pandas.core.frame.DataFrame'>\n",
      "RangeIndex: 10000 entries, 0 to 9999\n",
      "Data columns (total 14 columns):\n",
      " #   Column            Non-Null Count  Dtype  \n",
      "---  ------            --------------  -----  \n",
      " 0   Address           10000 non-null  object \n",
      " 1   Lot               10000 non-null  object \n",
      " 2   AM or PM          10000 non-null  object \n",
      " 3   Browser Info      10000 non-null  object \n",
      " 4   Company           10000 non-null  object \n",
      " 5   Credit Card       10000 non-null  int64  \n",
      " 6   CC Exp Date       10000 non-null  object \n",
      " 7   CC Security Code  10000 non-null  int64  \n",
      " 8   CC Provider       10000 non-null  object \n",
      " 9   Email             10000 non-null  object \n",
      " 10  Job               10000 non-null  object \n",
      " 11  IP Address        10000 non-null  object \n",
      " 12  Language          10000 non-null  object \n",
      " 13  Purchase Price    10000 non-null  float64\n",
      "dtypes: float64(1), int64(2), object(11)\n",
      "memory usage: 1.1+ MB\n"
     ]
    }
   ],
   "source": [
    "ecom.info()"
   ]
  },
  {
   "cell_type": "markdown",
   "metadata": {},
   "source": [
    "**Was ist der durchschnittliche (en. mean) Einkaufspreis (en. purchase price)?**"
   ]
  },
  {
   "cell_type": "code",
   "execution_count": 49,
   "metadata": {},
   "outputs": [
    {
     "name": "stdout",
     "output_type": "stream",
     "text": [
      "Der durchschnittliche Einkaufspreis ist 50.35 Euro\n"
     ]
    }
   ],
   "source": [
    "print(f'Der durchschnittliche Einkaufspreis ist {ecom['Purchase Price'].mean():.2f} Euro')"
   ]
  },
  {
   "cell_type": "markdown",
   "metadata": {},
   "source": [
    "**Was waren der höchste und der niedrigste Einkaufspreis?**"
   ]
  },
  {
   "cell_type": "code",
   "execution_count": 50,
   "metadata": {},
   "outputs": [
    {
     "name": "stdout",
     "output_type": "stream",
     "text": [
      "Der höchste Einkaufspreis ist 99.99 Euro\n"
     ]
    }
   ],
   "source": [
    "print(f'Der höchste Einkaufspreis ist {ecom['Purchase Price'].max():.2f} Euro')"
   ]
  },
  {
   "cell_type": "code",
   "execution_count": 51,
   "metadata": {},
   "outputs": [
    {
     "name": "stdout",
     "output_type": "stream",
     "text": [
      "Der minimale Einkaufspreis ist 0.00 Euro\n"
     ]
    }
   ],
   "source": [
    "print(f'Der minimale Einkaufspreis ist {ecom['Purchase Price'].min():.2f} Euro')"
   ]
  },
  {
   "cell_type": "markdown",
   "metadata": {},
   "source": [
    "**Wie viele Leute haben Deutsch \"de\" als ihre Sprache (en. language) der Wahl?**"
   ]
  },
  {
   "cell_type": "code",
   "execution_count": 13,
   "metadata": {},
   "outputs": [
    {
     "name": "stdout",
     "output_type": "stream",
     "text": [
      "<class 'pandas.core.frame.DataFrame'>\n",
      "Int64Index: 1155 entries, 2 to 9992\n",
      "Data columns (total 14 columns):\n",
      "Address             1155 non-null object\n",
      "Lot                 1155 non-null object\n",
      "AM or PM            1155 non-null object\n",
      "Browser Info        1155 non-null object\n",
      "Company             1155 non-null object\n",
      "Credit Card         1155 non-null int64\n",
      "CC Exp Date         1155 non-null object\n",
      "CC Security Code    1155 non-null int64\n",
      "CC Provider         1155 non-null object\n",
      "Email               1155 non-null object\n",
      "Job                 1155 non-null object\n",
      "IP Address          1155 non-null object\n",
      "Language            1155 non-null object\n",
      "Purchase Price      1155 non-null float64\n",
      "dtypes: float64(1), int64(2), object(11)\n",
      "memory usage: 135.4+ KB\n"
     ]
    }
   ],
   "source": []
  },
  {
   "cell_type": "code",
   "execution_count": 22,
   "metadata": {},
   "outputs": [
    {
     "name": "stdout",
     "output_type": "stream",
     "text": [
      "Anzahl der Personen, die auf Deutsch sprechen, ist  1155\n"
     ]
    }
   ],
   "source": [
    "print(f'Anzahl der Personen, die auf Deutsch sprechen, ist  {ecom[ecom['Language'] == 'de'].shape[0]}')"
   ]
  },
  {
   "cell_type": "code",
   "execution_count": 29,
   "metadata": {},
   "outputs": [
    {
     "name": "stdout",
     "output_type": "stream",
     "text": [
      "Anzahl der Personen, die auf Deutsch sprechen, ist  1155\n"
     ]
    }
   ],
   "source": [
    "print(f'Anzahl der Personen, die auf Deutsch sprechen, ist  {ecom[ecom['Language'] == 'de'].value_counts().sum()}')"
   ]
  },
  {
   "cell_type": "markdown",
   "metadata": {},
   "source": [
    "**Wie viele Leute tragen als Berufsbezeichnung \"Lawyer\" (dt. Anwalt)?**"
   ]
  },
  {
   "cell_type": "code",
   "execution_count": 23,
   "metadata": {},
   "outputs": [
    {
     "name": "stdout",
     "output_type": "stream",
     "text": [
      "Anzahl der Personen, die als Berufsbezeichnung \"Lawyer\" tragen, ist  30\n"
     ]
    }
   ],
   "source": [
    "print(f'Anzahl der Personen, die als Berufsbezeichnung \"Lawyer\" tragen, ist  {ecom[ecom['Job'] == 'Lawyer'].shape[0]}')"
   ]
  },
  {
   "cell_type": "code",
   "execution_count": 30,
   "metadata": {},
   "outputs": [
    {
     "name": "stdout",
     "output_type": "stream",
     "text": [
      "Anzahl der Personen, die als Berufsbezeichnung \"Lawyer\" tragen, ist  30\n"
     ]
    }
   ],
   "source": [
    "print(f'Anzahl der Personen, die als Berufsbezeichnung \"Lawyer\" tragen, ist  {ecom[ecom['Job'] == 'Lawyer'].value_counts().sum()}')\n"
   ]
  },
  {
   "cell_type": "markdown",
   "metadata": {},
   "source": [
    "**Wie viele Leute tätigten ihren Einkauf vor 12 Uhr (en. AM) und wie viele nach 12 Uhr (en. PM)?**\n",
    "\n",
    "*Hinweis: Schaut euch dazu [value_counts()](http://pandas.pydata.org/pandas-docs/stable/generated/pandas.Series.value_counts.html) an!*"
   ]
  },
  {
   "cell_type": "code",
   "execution_count": 28,
   "metadata": {},
   "outputs": [
    {
     "name": "stdout",
     "output_type": "stream",
     "text": [
      "Anzahl der Personen, die vormittags einkaufen, ist  4932\n",
      "Anzahl der Personen, die nachmittags einkaufen, ist  5068\n"
     ]
    }
   ],
   "source": [
    "print(f'Anzahl der Personen, die vormittags einkaufen, ist  {ecom[ecom['AM or PM'] == 'AM'].value_counts().sum()}')\n",
    "print(f'Anzahl der Personen, die nachmittags einkaufen, ist  {ecom[ecom['AM or PM'] == 'PM'].value_counts().sum()}')"
   ]
  },
  {
   "cell_type": "code",
   "execution_count": null,
   "metadata": {},
   "outputs": [
    {
     "name": "stdout",
     "output_type": "stream",
     "text": [
      "Anzahl der Personen, die vormittags einkaufen, ist  4932\n",
      "Anzahl der Personen, dienachmittags einkaufen, ist  5068\n"
     ]
    }
   ],
   "source": [
    "\n",
    "print(f'Anzahl der Personen, dienachmittags einkaufen, ist  {ecom[ecom['AM or PM'] == 'PM'].shape[0]}')"
   ]
  },
  {
   "cell_type": "markdown",
   "metadata": {},
   "source": [
    "**Was sind die 5 häufigsten Berufsbezeichnungen (en. job title)?**"
   ]
  },
  {
   "cell_type": "code",
   "execution_count": 31,
   "metadata": {},
   "outputs": [
    {
     "name": "stdout",
     "output_type": "stream",
     "text": [
      "Job\n",
      "Interior and spatial designer        31\n",
      "Lawyer                               30\n",
      "Social researcher                    28\n",
      "Designer, jewellery                  27\n",
      "Research officer, political party    27\n",
      "Name: count, dtype: int64\n"
     ]
    }
   ],
   "source": [
    "anzahl = ecom['Job'].value_counts()\n",
    "sort= anzahl.sort_values(ascending=False)\n",
    "print(sort.head(5))"
   ]
  },
  {
   "cell_type": "markdown",
   "metadata": {},
   "source": [
    "**Jemand tätigte einen Kauf vom Lot \"90 WT\" aus. Wie war dessen Einkaufspreis (en. purchase price)?**"
   ]
  },
  {
   "cell_type": "code",
   "execution_count": 33,
   "metadata": {},
   "outputs": [
    {
     "data": {
      "text/plain": [
       "513    75.1\n",
       "Name: Purchase Price, dtype: float64"
      ]
     },
     "execution_count": 33,
     "metadata": {},
     "output_type": "execute_result"
    }
   ],
   "source": [
    "ecom[ecom['Lot'] == '90 WT']['Purchase Price']"
   ]
  },
  {
   "cell_type": "markdown",
   "metadata": {},
   "source": [
    "**Wie lautet die Emailadresse der Person mit folgender Kreditkartennummer: 4926535242672853?**"
   ]
  },
  {
   "cell_type": "code",
   "execution_count": 35,
   "metadata": {},
   "outputs": [
    {
     "data": {
      "text/plain": [
       "1234    bondellen@williams-garza.com\n",
       "Name: Email, dtype: object"
      ]
     },
     "execution_count": 35,
     "metadata": {},
     "output_type": "execute_result"
    }
   ],
   "source": [
    "ecom[ecom['Credit Card'] == 4926535242672853]['Email']"
   ]
  },
  {
   "cell_type": "markdown",
   "metadata": {},
   "source": [
    "**Wie viele Leute haben als Kreditkartenanbieter (en. credit card provider) *American Express* und haben einen Einkauf über $95 getätigt?**"
   ]
  },
  {
   "cell_type": "code",
   "execution_count": 42,
   "metadata": {},
   "outputs": [
    {
     "name": "stdout",
     "output_type": "stream",
     "text": [
      "Address             39\n",
      "Lot                 39\n",
      "AM or PM            39\n",
      "Browser Info        39\n",
      "Company             39\n",
      "Credit Card         39\n",
      "CC Exp Date         39\n",
      "CC Security Code    39\n",
      "CC Provider         39\n",
      "Email               39\n",
      "Job                 39\n",
      "IP Address          39\n",
      "Language            39\n",
      "Purchase Price      39\n",
      "dtype: int64\n"
     ]
    }
   ],
   "source": [
    "\n",
    "filtered = ecom[(ecom['CC Provider'] == 'American Express') & (ecom['Purchase Price'] > 95)]\n",
    "\n",
    "count_non_nulls = filtered.count()\n",
    "print(count_non_nulls)\n"
   ]
  },
  {
   "cell_type": "code",
   "execution_count": null,
   "metadata": {},
   "outputs": [
    {
     "name": "stdout",
     "output_type": "stream",
     "text": [
      "39\n"
     ]
    }
   ],
   "source": [
    "print(ecom[(ecom['CC Provider'].appla== 'American Express') & (ecom['Purchase Price'] > 95)].value_counts().sum())"
   ]
  },
  {
   "cell_type": "markdown",
   "metadata": {},
   "source": [
    "**Die Kreditkarte wie vieler Kunden läuft im Jahr 2025 ab?**<br>\n",
    "**Hinweis:** mit apply() und lambda Ausdruck können wir einen Teil aus den Daten extrahieren und einen Vergleich durchführen      "
   ]
  },
  {
   "cell_type": "code",
   "execution_count": 68,
   "metadata": {},
   "outputs": [
    {
     "name": "stdout",
     "output_type": "stream",
     "text": [
      "Die Anzahl der Kunden, deren Kreditkarten im Jahr 2025 ablaufen, ist: 1033\n"
     ]
    }
   ],
   "source": [
    "ecom['Exp Year'] = ecom['CC Exp Date'].apply(lambda x: int(x.split('/')[1])+2000) # teilen date auf jahr und rest, da jahr zeigt als 25 + 2000 = 2025\n",
    "\n",
    "anzahl_karten_2025 = ecom[ecom['Exp Year'] == 2025].shape[0]\n",
    "\n",
    "print(f\"Die Anzahl der Kunden, deren Kreditkarten im Jahr 2025 ablaufen, ist: {anzahl_karten_2025}\")\n"
   ]
  },
  {
   "cell_type": "code",
   "execution_count": null,
   "metadata": {},
   "outputs": [],
   "source": [
    "#???ecom['CC Exp Date'] == "
   ]
  },
  {
   "cell_type": "markdown",
   "metadata": {},
   "source": [
    "**Was sind die populärsten Email-Anbieter (z.B. gmail.com)?**<br>\n",
    "**Hinweis:** mit apply , lambda Ausdruck und String-Methode können wir den Namen extrahieren "
   ]
  },
  {
   "cell_type": "code",
   "execution_count": 65,
   "metadata": {},
   "outputs": [
    {
     "name": "stdout",
     "output_type": "stream",
     "text": [
      "Die populärsten E-Mail-Anbieter sind:\n",
      "Email-Anbieter\n",
      "hotmail.com     1638\n",
      "yahoo.com       1616\n",
      "gmail.com       1605\n",
      "smith.com         42\n",
      "williams.com      37\n",
      "Name: count, dtype: int64\n"
     ]
    }
   ],
   "source": [
    "\n",
    "ecom['Email-Anbieter'] = ecom['Email'].apply(lambda x: x.split('@')[1])\n",
    "\n",
    "pop_anbieter = ecom['Email-Anbieter'].value_counts()\n",
    "\n",
    "print(\"Die populärsten E-Mail-Anbieter sind:\")\n",
    "print(pop_anbieter.head(5))\n"
   ]
  },
  {
   "cell_type": "markdown",
   "metadata": {},
   "source": [
    "# Gut gemacht"
   ]
  }
 ],
 "metadata": {
  "kernelspec": {
   "display_name": "Python 3",
   "language": "python",
   "name": "python3"
  },
  "language_info": {
   "codemirror_mode": {
    "name": "ipython",
    "version": 3
   },
   "file_extension": ".py",
   "mimetype": "text/x-python",
   "name": "python",
   "nbconvert_exporter": "python",
   "pygments_lexer": "ipython3",
   "version": "3.12.4"
  }
 },
 "nbformat": 4,
 "nbformat_minor": 2
}
