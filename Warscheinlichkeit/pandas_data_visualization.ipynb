{
 "cells": [
  {
   "cell_type": "markdown",
   "metadata": {},
   "source": [
    "### Voraussetzungen\n",
    "Falls nicht installiert, müssen Seaborn und Matplotlib zuerst installiert werden:"
   ]
  },
  {
   "cell_type": "code",
   "execution_count": null,
   "metadata": {},
   "outputs": [],
   "source": [
    "!pip install seaborn matplotlib"
   ]
  },
  {
   "cell_type": "markdown",
   "metadata": {},
   "source": [
    "### Beispiel-Daten\n",
    "Wir verwenden den Iris-Datensatz von Seaborn, um die Diagramme zu demonstrieren."
   ]
  },
  {
   "cell_type": "code",
   "execution_count": null,
   "metadata": {},
   "outputs": [],
   "source": [
    "import seaborn as sns\n",
    "import matplotlib.pyplot as plt\n",
    "import pandas as pd\n",
    "\n",
    "# Beispiel-Daten laden\n",
    "data = sns.load_dataset('iris')\n",
    "df2 = pd.read_csv(\"Df2\")\n",
    "data.info()"
   ]
  },
  {
   "cell_type": "markdown",
   "metadata": {},
   "source": [
    "Der Iris-Datensatz ist ein berühmter Datensatz, der häufig in der Statistik und im maschinellen Lernen verwendet wird. Er enthält Messungen von vier Merkmalen von 150 Iris-Blumenarten: drei verschiedene Arten (setosa, versicolor, virginica).\n",
    "\n",
    "Merkmale:\n",
    "- sepal_length: Länge des Kelchblattes (in cm)\n",
    "- sepal_width: Breite des Kelchblattes (in cm)\n",
    "- petal_length: Länge des Blütenblattes (in cm)\n",
    "- petal_width: Breite des Blütenblattes (in cm)\n",
    "- species: Die Art der Iris-Blume (kategorische Variable: setosa, versicolor, virginica)\n",
    "\n",
    "Struktur:\n",
    "- 150 Zeilen (jeweils eine Beobachtung einer Blume)\n",
    "- 5 Spalten (4 numerische Merkmale und eine kategoriale Zielvariable)\n",
    "\n",
    "Dieser Datensatz wird oft verwendet, um Modelle zu trainieren, die Klassifikationen vornehmen, z. B. um die Art einer Iris-Blume anhand ihrer Blütenmerkmale zu bestimmen."
   ]
  },
  {
   "cell_type": "markdown",
   "metadata": {},
   "source": [
    "### 1. Scatter Plot (Streudiagramm)\n",
    "Ein Streudiagramm wird verwendet, um die Beziehung zwischen zwei kontinuierlichen Variablen zu zeigen."
   ]
  },
  {
   "cell_type": "markdown",
   "metadata": {},
   "source": [
    "#### `matplotlib`"
   ]
  },
  {
   "cell_type": "code",
   "execution_count": null,
   "metadata": {},
   "outputs": [],
   "source": [
    "# Scatter Plot für die Variablen 'sepal_length' und 'sepal_width'\n",
    "plt.figure(figsize=(6.5, 5))\n",
    "plt.scatter(data['sepal_length'], data['sepal_width'], color='blue', alpha=0.7)\n",
    "plt.xlabel('Sepal Length')\n",
    "plt.ylabel('Sepal Width')\n",
    "plt.title('Scatter Plot von Sepal Length und Sepal Width')\n",
    "plt.show()"
   ]
  },
  {
   "cell_type": "markdown",
   "metadata": {},
   "source": [
    "#### `pandas` - gleiches Bild mit nur einer Code-Zeile"
   ]
  },
  {
   "cell_type": "code",
   "execution_count": null,
   "metadata": {},
   "outputs": [],
   "source": [
    "data.plot(kind=\"scatter\",x='sepal_length', y='sepal_width', title=\"Scatterplot von Sepal Length und Sepal Width\");"
   ]
  },
  {
   "cell_type": "markdown",
   "metadata": {},
   "source": [
    "Man kann sogar 3 Werte damit darstellen:"
   ]
  },
  {
   "cell_type": "code",
   "execution_count": null,
   "metadata": {},
   "outputs": [],
   "source": [
    "# 3.Dimension durch Farbe\n",
    "data.plot(kind=\"scatter\", x=\"sepal_length\", y=\"sepal_width\",c=\"petal_length\", cmap='coolwarm');"
   ]
  },
  {
   "cell_type": "code",
   "execution_count": null,
   "metadata": {},
   "outputs": [],
   "source": [
    "# 3.Dimension durch Größe\n",
    "data.plot(kind=\"scatter\", x=\"sepal_length\", y=\"sepal_width\",s=data[\"petal_length\"]*50, alpha=0.5);"
   ]
  },
  {
   "cell_type": "markdown",
   "metadata": {},
   "source": [
    "### 2. Balkendiagramm (Bar Plot)\n",
    "Ein Balkendiagramm wird verwendet, um kategorische Daten darzustellen, indem die Häufigkeit oder der Durchschnitt einer Variablen für verschiedene Kategorien angezeigt wird."
   ]
  },
  {
   "cell_type": "code",
   "execution_count": null,
   "metadata": {},
   "outputs": [],
   "source": [
    "data.groupby(\"species\")[\"sepal_length\"].mean().plot(kind='bar', title=\"Durchschnittliche Sepal Length pro Spezies\");"
   ]
  },
  {
   "cell_type": "markdown",
   "metadata": {},
   "source": [
    "Alle Spalten nebeneinander anzeigen lassen:"
   ]
  },
  {
   "cell_type": "code",
   "execution_count": null,
   "metadata": {},
   "outputs": [],
   "source": [
    "df2.plot(kind=\"bar\")"
   ]
  },
  {
   "cell_type": "markdown",
   "metadata": {},
   "source": [
    "Kann auch gesapelt dargestellt werden:"
   ]
  },
  {
   "cell_type": "code",
   "execution_count": null,
   "metadata": {},
   "outputs": [],
   "source": [
    "df2.plot(kind=\"bar\", stacked=True)"
   ]
  },
  {
   "cell_type": "markdown",
   "metadata": {},
   "source": [
    "Oder auch so:"
   ]
  },
  {
   "cell_type": "code",
   "execution_count": null,
   "metadata": {},
   "outputs": [],
   "source": [
    "df2.plot(kind=\"barh\", stacked=True)"
   ]
  },
  {
   "cell_type": "markdown",
   "metadata": {},
   "source": [
    "### 3. Histogramm\n",
    "Ein Histogramm zeigt die Verteilung einer einzelnen numerischen Variablen und ordnet die Werte in Intervalle (bins) ein."
   ]
  },
  {
   "cell_type": "code",
   "execution_count": null,
   "metadata": {},
   "outputs": [],
   "source": [
    "data[\"sepal_length\"].plot(kind='hist', bins=20, title=\"Histogramm der Sepal Length\");"
   ]
  },
  {
   "cell_type": "markdown",
   "metadata": {},
   "source": [
    "### 4. Flächendiagramm (Area Plot)\n",
    "Ein Flächendiagramm (Area Plot) wird verwendet, um die Veränderung von Daten über eine kontinuierliche Dimension darzustellen, wobei die Fläche unter der Kurve die kumulierten Werte anzeigt."
   ]
  },
  {
   "cell_type": "code",
   "execution_count": null,
   "metadata": {},
   "outputs": [],
   "source": [
    "data.plot(kind='area', title=\"Flächendiagramm kummulierten Spaltenwerte\");"
   ]
  },
  {
   "cell_type": "markdown",
   "metadata": {},
   "source": [
    "### 5. Boxplot"
   ]
  },
  {
   "cell_type": "code",
   "execution_count": null,
   "metadata": {},
   "outputs": [],
   "source": [
    "data.plot(kind=\"box\");"
   ]
  },
  {
   "cell_type": "markdown",
   "metadata": {},
   "source": [
    "### 6.Kreisdiagramm"
   ]
  },
  {
   "cell_type": "code",
   "execution_count": null,
   "metadata": {},
   "outputs": [],
   "source": [
    "data['species'].value_counts().plot(kind='pie', autopct='%1.1f%%', title=\"Verteilung der Iris-Spezies\", startangle=90);"
   ]
  },
  {
   "cell_type": "markdown",
   "metadata": {},
   "source": [
    "### 7. histplot und kdeplot mit Seaborn\n",
    "Pandas unterstützt diese Diagrammtypen direkt nicht. Dafür verwenden wir Seaborn.<br>"
   ]
  },
  {
   "cell_type": "code",
   "execution_count": null,
   "metadata": {},
   "outputs": [],
   "source": [
    "sns.histplot(data['sepal_length'],bins=20, kde=True)\n",
    "plt.title(\"Histogramm mit KDE von Sepal Length\")\n",
    "plt.show()"
   ]
  },
  {
   "cell_type": "markdown",
   "metadata": {},
   "source": [
    "**KDE (Kernel Density Estimation)** ist eine Methode zur Schätzung der Dichtefunktion einer Zufallsvariablen. Sie ist ein nicht-parametrisches Verfahren, das verwendet wird, um die zugrunde liegende Wahrscheinlichkeitsdichte von Daten zu schätzen, ohne eine bestimmte Verteilungsform (wie Normalverteilung) anzunehmen"
   ]
  },
  {
   "cell_type": "markdown",
   "metadata": {},
   "source": [
    "#### KDE-Plot\n",
    "Der KDE-Plot zeigt die Dichte einer Variablen und ist oft als Alternative zum Histogramm nützlich."
   ]
  },
  {
   "cell_type": "code",
   "execution_count": null,
   "metadata": {},
   "outputs": [],
   "source": [
    "sns.kdeplot(data['sepal_length'])\n",
    "plt.title(\"KDE-Plot von Sepal Length\")\n",
    "plt.xlim([4,8])\n",
    "plt.show()"
   ]
  },
  {
   "cell_type": "markdown",
   "metadata": {},
   "source": [
    "### 6. Pairplot\n",
    "Der Pairplot zeigt Scatterplots für alle Variablenpaare und die Verteilung jeder Variable auf der Diagonalen.<br>\n",
    "Das Argument hue in Seaborn-Visualisierungen, wie dem pairplot, wird verwendet, um die Daten nach einer kategorialen Variable zu färben. So lassen sich Unterschiede zwischen den Kategorien direkt in der Grafik erkennen."
   ]
  },
  {
   "cell_type": "code",
   "execution_count": null,
   "metadata": {},
   "outputs": [],
   "source": [
    "# Mit KDE t in der Diagonale\n",
    "sns.pairplot(data, hue='species')\n",
    "plt.suptitle(\"Pairplot für den Iris-Datensatz\", y=1.02)\n",
    "plt.show()"
   ]
  },
  {
   "cell_type": "code",
   "execution_count": null,
   "metadata": {},
   "outputs": [],
   "source": [
    "# Mit Hist Plot in der Diagonale\n",
    "sns.pairplot(data, hue='species', diag_kind='hist')\n",
    "plt.suptitle(\"Pairplot für den Iris-Datensatz\", y=1.02)\n",
    "plt.show()"
   ]
  },
  {
   "cell_type": "markdown",
   "metadata": {},
   "source": [
    "### 7. Heatmap\n",
    "Eignet sich gut zur Darstellung der Korrelationsmatrix:"
   ]
  },
  {
   "cell_type": "code",
   "execution_count": null,
   "metadata": {},
   "outputs": [],
   "source": [
    "corr_m = data.corr(numeric_only=True)\n",
    "sns.heatmap(corr_m, annot=True, cmap=\"coolwarm\");"
   ]
  }
 ],
 "metadata": {
  "kernelspec": {
   "display_name": "Python 3",
   "language": "python",
   "name": "python3"
  },
  "language_info": {
   "codemirror_mode": {
    "name": "ipython",
    "version": 3
   },
   "file_extension": ".py",
   "mimetype": "text/x-python",
   "name": "python",
   "nbconvert_exporter": "python",
   "pygments_lexer": "ipython3",
   "version": "3.12.4"
  }
 },
 "nbformat": 4,
 "nbformat_minor": 2
}
