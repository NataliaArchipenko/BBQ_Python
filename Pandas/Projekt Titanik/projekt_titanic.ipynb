{
 "cells": [
  {
   "cell_type": "markdown",
   "id": "1db03705",
   "metadata": {},
   "source": [
    "# Titanic-Projekt  \n",
    "\n",
    "<img src='https://upload.wikimedia.org/wikipedia/commons/thumb/f/fd/RMS_Titanic_3.jpg/375px-RMS_Titanic_3.jpg' width='250px;'/>\n",
    "\n",
    "Die traruige Geschichte des Passagierschiffs [\"Titanic\"](https://de.wikipedia.org/wiki/RMS_Titanic) ist uns wohl bekannt.   \n",
    "Wir wollen in diesem Notebook die Daten von Titanics Passigieren mit Hilfe von Pandas analysieren. Dazu haben wir die Daten in der Datei `titanic.csv` gespeichert."
   ]
  },
  {
   "cell_type": "code",
   "execution_count": 4,
   "id": "964312e6",
   "metadata": {},
   "outputs": [],
   "source": [
    "import pandas as pd"
   ]
  },
  {
   "cell_type": "markdown",
   "id": "5086a9b1",
   "metadata": {},
   "source": [
    "Erstelle aus `titanic.csv` ein Dataframe."
   ]
  },
  {
   "cell_type": "code",
   "execution_count": 5,
   "id": "75f0c6be",
   "metadata": {},
   "outputs": [
    {
     "name": "stdout",
     "output_type": "stream",
     "text": [
      "   PassengerId  Survived  Pclass  \\\n",
      "0            1         0       3   \n",
      "1            2         1       1   \n",
      "2            3         1       3   \n",
      "\n",
      "                                                Name     Sex   Age  SibSp  \\\n",
      "0                            Braund, Mr. Owen Harris    male  22.0      1   \n",
      "1  Cumings, Mrs. John Bradley (Florence Briggs Th...  female  38.0      1   \n",
      "2                             Heikkinen, Miss. Laina  female  26.0      0   \n",
      "\n",
      "   Parch            Ticket     Fare Cabin Embarked  \n",
      "0      0         A/5 21171   7.2500   NaN        S  \n",
      "1      0          PC 17599  71.2833   C85        C  \n",
      "2      0  STON/O2. 3101282   7.9250   NaN        S  \n"
     ]
    }
   ],
   "source": [
    "\n",
    "titanic_df = pd.read_csv('titanic.csv')\n",
    "\n",
    "print(titanic_df.head(3))\n"
   ]
  },
  {
   "cell_type": "markdown",
   "id": "ad2a93cc",
   "metadata": {},
   "source": [
    "Ermittle dann statistische Eckdaten des Dataframes, z.B. Lagemaße, Datentypen, Anzahl der Zeilen und Spalten ..."
   ]
  },
  {
   "cell_type": "code",
   "execution_count": 6,
   "id": "382af17f",
   "metadata": {},
   "outputs": [
    {
     "name": "stdout",
     "output_type": "stream",
     "text": [
      "Anzahl der Zeilen und Spalten:\n",
      "\n",
      "(891, 12)\n",
      "\n",
      "Informationen zu den Spalten und Datentypen:\n",
      "\n",
      "<class 'pandas.core.frame.DataFrame'>\n",
      "RangeIndex: 891 entries, 0 to 890\n",
      "Data columns (total 12 columns):\n",
      " #   Column       Non-Null Count  Dtype  \n",
      "---  ------       --------------  -----  \n",
      " 0   PassengerId  891 non-null    int64  \n",
      " 1   Survived     891 non-null    int64  \n",
      " 2   Pclass       891 non-null    int64  \n",
      " 3   Name         891 non-null    object \n",
      " 4   Sex          891 non-null    object \n",
      " 5   Age          714 non-null    float64\n",
      " 6   SibSp        891 non-null    int64  \n",
      " 7   Parch        891 non-null    int64  \n",
      " 8   Ticket       891 non-null    object \n",
      " 9   Fare         891 non-null    float64\n",
      " 10  Cabin        204 non-null    object \n",
      " 11  Embarked     889 non-null    object \n",
      "dtypes: float64(2), int64(5), object(5)\n",
      "memory usage: 83.7+ KB\n",
      "None\n",
      "\n",
      "Statistische Eckdaten:\n",
      "\n",
      "        PassengerId    Survived      Pclass                 Name   Sex  \\\n",
      "count    891.000000  891.000000  891.000000                  891   891   \n",
      "unique          NaN         NaN         NaN                  891     2   \n",
      "top             NaN         NaN         NaN  Dooley, Mr. Patrick  male   \n",
      "freq            NaN         NaN         NaN                    1   577   \n",
      "mean     446.000000    0.383838    2.308642                  NaN   NaN   \n",
      "std      257.353842    0.486592    0.836071                  NaN   NaN   \n",
      "min        1.000000    0.000000    1.000000                  NaN   NaN   \n",
      "25%      223.500000    0.000000    2.000000                  NaN   NaN   \n",
      "50%      446.000000    0.000000    3.000000                  NaN   NaN   \n",
      "75%      668.500000    1.000000    3.000000                  NaN   NaN   \n",
      "max      891.000000    1.000000    3.000000                  NaN   NaN   \n",
      "\n",
      "               Age       SibSp       Parch  Ticket        Fare Cabin Embarked  \n",
      "count   714.000000  891.000000  891.000000     891  891.000000   204      889  \n",
      "unique         NaN         NaN         NaN     681         NaN   147        3  \n",
      "top            NaN         NaN         NaN  347082         NaN    G6        S  \n",
      "freq           NaN         NaN         NaN       7         NaN     4      644  \n",
      "mean     29.699118    0.523008    0.381594     NaN   32.204208   NaN      NaN  \n",
      "std      14.526497    1.102743    0.806057     NaN   49.693429   NaN      NaN  \n",
      "min       0.420000    0.000000    0.000000     NaN    0.000000   NaN      NaN  \n",
      "25%      20.125000    0.000000    0.000000     NaN    7.910400   NaN      NaN  \n",
      "50%      28.000000    0.000000    0.000000     NaN   14.454200   NaN      NaN  \n",
      "75%      38.000000    1.000000    0.000000     NaN   31.000000   NaN      NaN  \n",
      "max      80.000000    8.000000    6.000000     NaN  512.329200   NaN      NaN  \n",
      "\n",
      "Statistische Eckdaten (numerisch, transponiert):\n",
      "\n",
      "             count        mean         std   min       25%       50%    75%  \\\n",
      "PassengerId  891.0  446.000000  257.353842  1.00  223.5000  446.0000  668.5   \n",
      "Survived     891.0    0.383838    0.486592  0.00    0.0000    0.0000    1.0   \n",
      "Pclass       891.0    2.308642    0.836071  1.00    2.0000    3.0000    3.0   \n",
      "Age          714.0   29.699118   14.526497  0.42   20.1250   28.0000   38.0   \n",
      "SibSp        891.0    0.523008    1.102743  0.00    0.0000    0.0000    1.0   \n",
      "Parch        891.0    0.381594    0.806057  0.00    0.0000    0.0000    0.0   \n",
      "Fare         891.0   32.204208   49.693429  0.00    7.9104   14.4542   31.0   \n",
      "\n",
      "                  max  \n",
      "PassengerId  891.0000  \n",
      "Survived       1.0000  \n",
      "Pclass         3.0000  \n",
      "Age           80.0000  \n",
      "SibSp          8.0000  \n",
      "Parch          6.0000  \n",
      "Fare         512.3292  \n"
     ]
    }
   ],
   "source": [
    "# Anzahl der Zeilen und Spalten\n",
    "print('Anzahl der Zeilen und Spalten:\\n')\n",
    "print(titanic_df.shape)\n",
    "\n",
    "# Informationen zu den Spalten und Datentypen\n",
    "print('\\nInformationen zu den Spalten und Datentypen:\\n')\n",
    "print(titanic_df.info())\n",
    "\n",
    "# Statistische Eckdaten für alle Spalten\n",
    "print('\\nStatistische Eckdaten:\\n')\n",
    "print(titanic_df.describe(include='all'))\n",
    "\n",
    "# Statistische Eckdaten für numerische Spalten (optional) und transponiert\n",
    "print('\\nStatistische Eckdaten (numerisch, transponiert):\\n')\n",
    "print(titanic_df.describe().transpose())\n",
    "\n",
    "\n",
    "\n",
    "\n"
   ]
  },
  {
   "cell_type": "markdown",
   "id": "a58d37b6",
   "metadata": {},
   "source": [
    "Gibt es Datenlücken in Dataset? Wie kann man sie behandeln?"
   ]
  },
  {
   "cell_type": "code",
   "execution_count": null,
   "id": "bf28c358",
   "metadata": {},
   "outputs": [
    {
     "name": "stdout",
     "output_type": "stream",
     "text": [
      "PassengerId      0\n",
      "Survived         0\n",
      "Pclass           0\n",
      "Name             0\n",
      "Sex              0\n",
      "Age            177\n",
      "SibSp            0\n",
      "Parch            0\n",
      "Ticket           0\n",
      "Fare             0\n",
      "Cabin          687\n",
      "Embarked         2\n",
      "dtype: int64\n",
      "PassengerId      0\n",
      "Survived         0\n",
      "Pclass           0\n",
      "Name             0\n",
      "Sex              0\n",
      "Age            177\n",
      "SibSp            0\n",
      "Parch            0\n",
      "Ticket           0\n",
      "Fare             0\n",
      "Cabin          687\n",
      "Embarked         2\n",
      "dtype: int64\n"
     ]
    }
   ],
   "source": [
    "#print(titanic_df.isna())#Überall wo `True` steht, heißt es, dass wir dort ein `NaN` haben.\n",
    "\n",
    "print(titanic_df.isna().sum()) # Anzal der Datenlücken \n",
    "#alternative: \n",
    "print(titanic_df.isnull().sum())\n",
    "\n",
    "#Wie kann man Lücken ersetzen\n",
    "#drop machen\n",
    "#df.Age.fillna(age_avg, inplace=True)\n",
    "#df.loc[df['Sex']== 'female','Age'] = df.loc[df['Sex']]=='female, 'Age'].fillna(avg_age_female)\n",
    "#df.loc[df['Sex']]=='male', 'Age' = df.loc[df['Sex'] == 'male', 'Age'].fillna(avg_age_male)\n"
   ]
  },
  {
   "cell_type": "markdown",
   "id": "ba9218a4",
   "metadata": {},
   "source": [
    "Gibt es kategorische Attribute in Dataset? Kann man diese in Zahlen umwandeln?"
   ]
  },
  {
   "cell_type": "code",
   "execution_count": 36,
   "id": "574d81d1",
   "metadata": {},
   "outputs": [
    {
     "name": "stdout",
     "output_type": "stream",
     "text": [
      "Originale erste drei Zeile:\n",
      "   PassengerId  Survived  Pclass  \\\n",
      "0            1         0       3   \n",
      "1            2         1       1   \n",
      "2            3         1       3   \n",
      "\n",
      "                                                Name     Sex   Age  SibSp  \\\n",
      "0                            Braund, Mr. Owen Harris    male  22.0      1   \n",
      "1  Cumings, Mrs. John Bradley (Florence Briggs Th...  female  38.0      1   \n",
      "2                             Heikkinen, Miss. Laina  female  26.0      0   \n",
      "\n",
      "   Parch            Ticket     Fare Cabin Embarked  \n",
      "0      0         A/5 21171   7.2500   NaN        S  \n",
      "1      0          PC 17599  71.2833   C85        C  \n",
      "2      0  STON/O2. 3101282   7.9250   NaN        S  \n",
      "Originale letzte drei Zeile:\n",
      "     PassengerId  Survived  Pclass                                      Name  \\\n",
      "888          889         0       3  Johnston, Miss. Catherine Helen \"Carrie\"   \n",
      "889          890         1       1                     Behr, Mr. Karl Howell   \n",
      "890          891         0       3                       Dooley, Mr. Patrick   \n",
      "\n",
      "        Sex   Age  SibSp  Parch      Ticket   Fare Cabin Embarked  \n",
      "888  female   NaN      1      2  W./C. 6607  23.45   NaN        S  \n",
      "889    male  26.0      0      0      111369  30.00  C148        C  \n",
      "890    male  32.0      0      0      370376   7.75   NaN        Q  \n",
      "   PassengerId  Survived  Pclass  \\\n",
      "0            1         0       3   \n",
      "1            2         1       1   \n",
      "2            3         1       3   \n",
      "\n",
      "                                                Name Sex   Age  SibSp  Parch  \\\n",
      "0                            Braund, Mr. Owen Harris   1  22.0      1      0   \n",
      "1  Cumings, Mrs. John Bradley (Florence Briggs Th...   0  38.0      1      0   \n",
      "2                             Heikkinen, Miss. Laina   0  26.0      0      0   \n",
      "\n",
      "             Ticket     Fare Cabin Embarked  \n",
      "0         A/5 21171   7.2500   NaN        S  \n",
      "1          PC 17599  71.2833   C85        C  \n",
      "2  STON/O2. 3101282   7.9250   NaN        S  \n",
      "0      S\n",
      "1      C\n",
      "2      S\n",
      "3      S\n",
      "4      S\n",
      "      ..\n",
      "886    S\n",
      "887    S\n",
      "888    S\n",
      "889    C\n",
      "890    Q\n",
      "Name: Embarked, Length: 891, dtype: object\n",
      "     PassengerId  Survived  Pclass                                      Name  \\\n",
      "888          889         0       3  Johnston, Miss. Catherine Helen \"Carrie\"   \n",
      "889          890         1       1                     Behr, Mr. Karl Howell   \n",
      "890          891         0       3                       Dooley, Mr. Patrick   \n",
      "\n",
      "    Sex   Age  SibSp  Parch      Ticket   Fare Cabin Embarked  \n",
      "888   0   NaN      1      2  W./C. 6607  23.45   NaN        1  \n",
      "889   1  26.0      0      0      111369  30.00  C148        2  \n",
      "890   1  32.0      0      0      370376   7.75   NaN        3  \n"
     ]
    }
   ],
   "source": [
    "print('Originale erste drei Zeile:')\n",
    "print(titanic_df.head(3))\n",
    "print(f'Originale letzte drei Zeile:\\n{titanic_df.tail(3)}')\n",
    "#Kateg_att= titanic_df[['Survived', 'Pclass', 'Name', 'Sex', 'Cabin', 'Embarked']]\n",
    "# Ja, kann man z.B Geschlecht als Zahlen 0 und 1 vorstellen. Z.B. male = 1, female = 0\n",
    "kopie_titanic_df = titanic_df.copy()\n",
    "\n",
    "kopie_titanic_df.loc[kopie_titanic_df['Sex'] =='male', 'Sex'] = 1\n",
    "kopie_titanic_df.loc[kopie_titanic_df['Sex'] =='female', 'Sex'] = 0\n",
    "print(kopie_titanic_df.head(3))\n",
    "\n",
    "print(kopie_titanic_df['Embarked'])\n",
    "# Bei 'Embarked' kann man Buchstabe als Zahlen umtauschen, z,B. S = 1, C = 2, Q = 3\n",
    "kopie_titanic_df.loc[kopie_titanic_df['Embarked'] =='S', 'Embarked'] = 1\n",
    "kopie_titanic_df.loc[kopie_titanic_df['Embarked'] =='C', 'Embarked'] = 2\n",
    "kopie_titanic_df.loc[kopie_titanic_df['Embarked'] =='Q', 'Embarked'] = 3\n",
    "print(kopie_titanic_df.tail(3))#sehe letzte drei Zeile"
   ]
  },
  {
   "cell_type": "markdown",
   "id": "62e25cb1",
   "metadata": {},
   "source": [
    "Sind alle Datentypen in Dataset _richtig_ und für analytische Aufgaben geeignet? (Für nummerische Analysen müssen die Daten als Zahlen vorliegen, welche Spalte könnte man entsprechend umwandeln ? ) <br>\n",
    "Zeicchenketten können unter anderem der `replace()`-Methode umgewandelt werden, in dem man jedes Vorkommen durch eine entsprechende Zahl ersetzt. "
   ]
  },
  {
   "cell_type": "code",
   "execution_count": null,
   "id": "cd970eec",
   "metadata": {},
   "outputs": [
    {
     "data": {
      "text/plain": [
       "PassengerId      int64\n",
       "Survived         int64\n",
       "Pclass           int64\n",
       "Name            object\n",
       "Sex             object\n",
       "Age            float64\n",
       "SibSp            int64\n",
       "Parch            int64\n",
       "Ticket          object\n",
       "Fare           float64\n",
       "Cabin           object\n",
       "Embarked        object\n",
       "dtype: object"
      ]
     },
     "execution_count": 40,
     "metadata": {},
     "output_type": "execute_result"
    }
   ],
   "source": [
    "titanic_df.dtypes\n",
    "# Sex, Embarked wäre es besser in Zahlen umwandeln\n"
   ]
  },
  {
   "cell_type": "code",
   "execution_count": null,
   "id": "151b945b",
   "metadata": {},
   "outputs": [
    {
     "data": {
      "text/plain": [
       "PassengerId      int64\n",
       "Survived         int64\n",
       "Pclass           int64\n",
       "Name            object\n",
       "Sex             object\n",
       "Age            float64\n",
       "SibSp            int64\n",
       "Parch            int64\n",
       "Ticket          object\n",
       "Fare           float64\n",
       "Cabin           object\n",
       "Embarked        object\n",
       "dtype: object"
      ]
     },
     "execution_count": 41,
     "metadata": {},
     "output_type": "execute_result"
    }
   ],
   "source": [
    "kopie_titanic_df.dtypes"
   ]
  },
  {
   "cell_type": "code",
   "execution_count": 45,
   "id": "316f5839",
   "metadata": {},
   "outputs": [
    {
     "name": "stderr",
     "output_type": "stream",
     "text": [
      "C:\\Users\\NataliaArchipenko\\AppData\\Local\\Temp\\ipykernel_18508\\556910976.py:2: FutureWarning: Downcasting behavior in `replace` is deprecated and will be removed in a future version. To retain the old behavior, explicitly call `result.infer_objects(copy=False)`. To opt-in to the future behavior, set `pd.set_option('future.no_silent_downcasting', True)`\n",
      "  kopie_titanic_df['Embarked'] = kopie_titanic_df['Embarked'].replace({'S': 1, 'C': 2, 'Q': 3})\n"
     ]
    },
    {
     "data": {
      "text/plain": [
       "PassengerId      int64\n",
       "Survived         int64\n",
       "Pclass           int64\n",
       "Name            object\n",
       "Sex              int64\n",
       "Age            float64\n",
       "SibSp            int64\n",
       "Parch            int64\n",
       "Ticket          object\n",
       "Fare           float64\n",
       "Cabin           object\n",
       "Embarked       float64\n",
       "dtype: object"
      ]
     },
     "execution_count": 45,
     "metadata": {},
     "output_type": "execute_result"
    }
   ],
   "source": [
    "kopie_titanic_df['Sex'] = kopie_titanic_df['Sex'].replace({'male': 1, 'female': 0})\n",
    "kopie_titanic_df['Embarked'] = kopie_titanic_df['Embarked'].replace({'S': 1, 'C': 2, 'Q': 3})\n",
    "kopie_titanic_df.dtypes"
   ]
  },
  {
   "cell_type": "markdown",
   "id": "e78c790d",
   "metadata": {},
   "source": [
    "Wie viele von Passagieren waren weiblich und wie viele männlich?"
   ]
  },
  {
   "cell_type": "code",
   "execution_count": 55,
   "id": "67baf664",
   "metadata": {},
   "outputs": [
    {
     "name": "stdout",
     "output_type": "stream",
     "text": [
      "Anzahl der Männer ist 577\n",
      "Anzahl der Frauen ist 314\n",
      "314\n",
      " Anzahl von Männern ist 577, Anzahl von Frauen ist 314\n"
     ]
    }
   ],
   "source": [
    "maennlich_anzahl = kopie_titanic_df['Sex'].sum()\n",
    "print(f'Anzahl der Männer ist {maennlich_anzahl}')\n",
    "anzahl_zeilen = kopie_titanic_df.shape[0]\n",
    "weiblich_anzahl = anzahl_zeilen - maennlich_anzahl\n",
    "print(f'Anzahl der Frauen ist {weiblich_anzahl}')\n",
    "\n",
    "#oder so:\n",
    "weiblich_anzahl2 = kopie_titanic_df[kopie_titanic_df['Sex']== 0]['PassengerId'].count()\n",
    "print(weiblich_anzahl2 )\n",
    "#Vom Original:\n",
    "anzahl_m = titanic_df[titanic_df['Sex']=='male']['PassengerId'].count()\n",
    "anzahl_w = titanic_df[titanic_df['Sex']=='female']['PassengerId'].count()\n",
    "print(f' Anzahl von Männern ist {anzahl_m}, Anzahl von Frauen ist {anzahl_w}')"
   ]
  },
  {
   "cell_type": "markdown",
   "id": "14f588b2",
   "metadata": {},
   "source": [
    "Wie ist der Prozentanteil der geretteten weiblichen Personen im Vergleich zu geretteten männlichen Personen?"
   ]
  },
  {
   "cell_type": "code",
   "execution_count": 61,
   "id": "b082ab26",
   "metadata": {},
   "outputs": [
    {
     "name": "stdout",
     "output_type": "stream",
     "text": [
      "Prozent der getretten weiblichen Personen ist 35.24%\n",
      "Prozent der getretten männlichen Personen ist 64.76%\n"
     ]
    }
   ],
   "source": [
    "print(F'Prozent der getretten weiblichen Personen ist {anzahl_w*100/anzahl_zeilen:.2f}%')\n",
    "print(F'Prozent der getretten männlichen Personen ist {anzahl_m*100/anzahl_zeilen:.2f}%')"
   ]
  },
  {
   "cell_type": "code",
   "execution_count": 64,
   "id": "6d4fed96",
   "metadata": {},
   "outputs": [
    {
     "name": "stdout",
     "output_type": "stream",
     "text": [
      "Sex\n",
      "female    74.203822\n",
      "male      18.890815\n",
      "Name: Survived, dtype: float64\n"
     ]
    }
   ],
   "source": [
    "print(titanic_df.groupby('Sex')['Survived'].mean() * 100)\n",
    " "
   ]
  },
  {
   "cell_type": "markdown",
   "id": "144e7860",
   "metadata": {},
   "source": [
    "Wie ist der Durchschnittalter von weiblichen Personen, bzw. männlichen Passagieren?"
   ]
  },
  {
   "cell_type": "code",
   "execution_count": 79,
   "id": "ee9f07df",
   "metadata": {},
   "outputs": [
    {
     "name": "stdout",
     "output_type": "stream",
     "text": [
      "Allgemein durchschnittliches Alter von aller Passagieren: 29.70\n",
      "Das Durchschnittliche Alter von Männern: 30.73\n",
      "Das durchschnittliche Alter von Frauen: 27.92\n"
     ]
    }
   ],
   "source": [
    "durchschnitt_alter = titanic_df['Age'].mean()\n",
    "\n",
    "print(f'Allgemein durchschnittliches Alter von aller Passagieren: {durchschnitt_alter:.2f}')\n",
    "durchschnitt_alter_m = titanic_df[titanic_df['Sex'] == 'male']['Age'].mean()\n",
    "durchschnitt_alter_w = titanic_df[titanic_df['Sex'] == 'female']['Age'].mean()\n",
    "print(f'Das Durchschnittliche Alter von Männern: {durchschnitt_alter_m:.2f}')\n",
    "\n",
    "print(f'Das durchschnittliche Alter von Frauen: {durchschnitt_alter_w:.2f}')\n",
    "\n"
   ]
  },
  {
   "cell_type": "markdown",
   "id": "4eb269ff",
   "metadata": {},
   "source": [
    "Happy Coding!"
   ]
  }
 ],
 "metadata": {
  "kernelspec": {
   "display_name": "Python 3",
   "language": "python",
   "name": "python3"
  },
  "language_info": {
   "codemirror_mode": {
    "name": "ipython",
    "version": 3
   },
   "file_extension": ".py",
   "mimetype": "text/x-python",
   "name": "python",
   "nbconvert_exporter": "python",
   "pygments_lexer": "ipython3",
   "version": "3.12.4"
  },
  "nbTranslate": {
   "displayLangs": [
    "en",
    "de"
   ],
   "hotkey": "alt-t",
   "langInMainMenu": true,
   "sourceLang": "de",
   "targetLang": "en",
   "useGoogleTranslate": true
  }
 },
 "nbformat": 4,
 "nbformat_minor": 5
}
