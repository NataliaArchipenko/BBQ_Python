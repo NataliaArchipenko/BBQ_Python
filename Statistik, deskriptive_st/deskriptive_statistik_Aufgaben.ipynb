{
 "cells": [
  {
   "cell_type": "markdown",
   "metadata": {},
   "source": [
    "## Lage- und Streuungsmaße selber berechnen\n",
    "Bitte die Funktionsnamen aus den Kommentaren verwenden. Lösung mit Python ohne zusätzliche Bibliotheken (`math` kann benutzt werden falls ihr es benötigt). \\\n",
    "Die Ergebnisse sollen mit der letzten Code-Zelle geprüft werden, dort werden eure Funktionen aufgerufen."
   ]
  },
  {
   "cell_type": "markdown",
   "metadata": {},
   "source": [
    "### Mittelwert bestimmen"
   ]
  },
  {
   "cell_type": "code",
   "execution_count": 11,
   "metadata": {},
   "outputs": [],
   "source": [
    "def calc_mean(data: list) -> float:\n",
    "    return sum(data)/len(data)"
   ]
  },
  {
   "cell_type": "markdown",
   "metadata": {},
   "source": [
    "### Modus bestimmen\n",
    "Es reicht ein Wert falls mehrere in Frage kommen."
   ]
  },
  {
   "cell_type": "code",
   "execution_count": 1,
   "metadata": {},
   "outputs": [
    {
     "name": "stdout",
     "output_type": "stream",
     "text": [
      "[3, 4, 5]\n"
     ]
    }
   ],
   "source": [
    "def calc_mode(data: list) -> float | list | None:\n",
    "    \"\"\"modus oder mode zeigt wie oft trefft sich eine Wert in der Liste.... beeenden\"\"\"\n",
    "  #modus oder mode zeigt wie oft trefft sich eine Wert in der Liste\n",
    "    haeuftigkeit = {}#Erstellen der leeren dictionary\n",
    "# Wenn ein Element  im Dictionary vorhanden ist, man muss 1 addieren.\n",
    "# Wenn das Element noch nicht im Dictionary ist, man fügt es hinzu.\n",
    "    for el in data:\n",
    "        if el in haeuftigkeit:\n",
    "                haeuftigkeit[el] += 1\n",
    "        else:\n",
    "                haeuftigkeit[el] = 1\n",
    "        \n",
    " #Erstellen counter für maximale Häuftigkeit:   \n",
    "    max_haeufigkeit = 0\n",
    "    for value in haeuftigkeit.values():\n",
    "        if value > max_haeufigkeit:\n",
    "                max_haeufigkeit = value \n",
    "    # andere Variante: man kann max Funktion benutzen\n",
    "    #max_haeufigkeit = max(haeuftigkeit.values())\n",
    " \n",
    "    mode_candidates = []  # Leere Liste für die gleiche Ergebnisse des Moduses\n",
    "    for key, value in haeuftigkeit.items():  \n",
    "        if value == max_haeufigkeit:  \n",
    "            mode_candidates.append(key)  \n",
    "\n",
    "# Wenn alle Elemente gleich häufig sind, gibt es keinen Modus\n",
    "    if len(mode_candidates) == len(haeuftigkeit):\n",
    "        return \"Es gibt kein Modus, weil alle Elemente gleich häufig sind\"\n",
    "#hinzufügen bedigung, wenn es gleiche moduse gibt    \n",
    "    if len(mode_candidates) == 1:\n",
    "        return mode_candidates[0]\n",
    "     \n",
    "    return mode_candidates\n",
    "    \n",
    "da = [1,2,3,3,4,4,5,5]\n",
    "print(calc_mode(da))\n"
   ]
  },
  {
   "cell_type": "code",
   "execution_count": 116,
   "metadata": {},
   "outputs": [
    {
     "name": "stdout",
     "output_type": "stream",
     "text": [
      "2: {2: 1}\n",
      "5: {2: 1, 5: 1}\n",
      "6: {2: 1, 5: 1, 6: 1}\n",
      "6: {2: 1, 5: 1, 6: 2}\n",
      "9: {2: 1, 5: 1, 6: 2, 9: 1}\n",
      "9: {2: 1, 5: 1, 6: 2, 9: 2}\n",
      "9: {2: 1, 5: 1, 6: 2, 9: 3}\n",
      "10: {2: 1, 5: 1, 6: 2, 9: 3, 10: 1}\n",
      "11: {2: 1, 5: 1, 6: 2, 9: 3, 10: 1, 11: 1}\n",
      "13: {2: 1, 5: 1, 6: 2, 9: 3, 10: 1, 11: 1, 13: 1}\n"
     ]
    },
    {
     "data": {
      "text/plain": [
       "9"
      ]
     },
     "execution_count": 116,
     "metadata": {},
     "output_type": "execute_result"
    }
   ],
   "source": [
    "#Variant von Andreas:\n",
    "def calc_mode(data: list) -> float:\n",
    " # durch deinen Code ersetzen #modus - wie oft treffen wir eine Wert in der Liste\n",
    "    counts = {}\n",
    "    for value in data:\n",
    "        counts[value] = counts.get(value, 0) + 1\n",
    "        print(f\"{value}: {counts}\")\n",
    "    mode = max(counts, key = counts.get) \n",
    "    return mode\n",
    "\n",
    "calc_mode(data)"
   ]
  },
  {
   "cell_type": "markdown",
   "metadata": {},
   "source": [
    "### Median bestimmen"
   ]
  },
  {
   "cell_type": "code",
   "execution_count": 70,
   "metadata": {},
   "outputs": [],
   "source": [
    "def calc_median(data: list) -> float:\n",
    "        data = sorted(data)\n",
    "        if len(data) % 2 == 0: # gerade\n",
    "                m = (data[len(data)//2] + data[len(data)//2 -1])/2\n",
    "                return m\n",
    "        else:\n",
    "                m = data[len(data)//2]\n",
    "                return m\n",
    "                \n",
    "                "
   ]
  },
  {
   "cell_type": "markdown",
   "metadata": {},
   "source": [
    "### Quartil 1 bestimmen"
   ]
  },
  {
   "cell_type": "code",
   "execution_count": 158,
   "metadata": {},
   "outputs": [
    {
     "name": "stdout",
     "output_type": "stream",
     "text": [
      "5.0\n"
     ]
    }
   ],
   "source": [
    "def calc_25percentile(data: list) -> float:\n",
    "    data = sorted(data) # Sortieren der Liste\n",
    "    n = len(data)# Anzahl Elemente \n",
    "    p = (n+1)/4 # Formel für q1 \n",
    "    k = int(p)# ganze Zahl  berecnen\n",
    "    f = p - k # Nachkommaanteil \n",
    "    # die Formel ist q = xk + f * (xk+1 - xk)\n",
    "    if k + 1 < n:\n",
    "        q = data[k-1] + f * (data[k-1+ 1] - data[k-1]) # Index in der Liste fang bei 0 an!!! deswegen -1\n",
    "    else:\n",
    "        q = data[k-1]  # Wenn k + 1 außerhalb der Liste ist, nimm einfach xk      \n",
    "    return q\n",
    "\n",
    "\n"
   ]
  },
  {
   "cell_type": "markdown",
   "metadata": {},
   "source": [
    "### Quartil 3 bestimmen"
   ]
  },
  {
   "cell_type": "code",
   "execution_count": 157,
   "metadata": {},
   "outputs": [
    {
     "name": "stdout",
     "output_type": "stream",
     "text": [
      "6.0\n",
      "12\n"
     ]
    }
   ],
   "source": [
    "def calc_75percentile(data: list) -> float:\n",
    "    #formel für q 3 p = 3*(len(data)+1)/4\n",
    "    data = sorted(data) # Sortieren der Liste\n",
    "    n = len(data)# Anzahl Elemente \n",
    "    p = 3*(n+1)/4 # Formel für q1 \n",
    "    print(p)\n",
    "    k = int(p)# ganze Zahl  berecnen\n",
    "    f = p - k # Nachkommaanteil \n",
    "    if k + 1 < n:\n",
    "        q = data[k-1] + f * (data[k-1+ 1] - data[k-1]) # Index in der Liste fang bei 0 an!!! deswegen -1\n",
    "    else:\n",
    "        q = data[k-1]  # Wenn k + 1 außerhalb der Liste ist, nimm einfach xk      \n",
    "    return q\n"
   ]
  },
  {
   "cell_type": "markdown",
   "metadata": {},
   "source": [
    "### Varianz der Grundgesamtheit (ganze Population) berechnen"
   ]
  },
  {
   "cell_type": "code",
   "execution_count": 76,
   "metadata": {},
   "outputs": [],
   "source": [
    "def calc_variance(data: list) -> float:\n",
    "    sum_qw = 0\n",
    "    for el in data:\n",
    "        sum_qw += (el - calc_mean(data))**2\n",
    "    return sum_qw / len(data)  \n",
    "\n",
    "\n",
    "    "
   ]
  },
  {
   "cell_type": "markdown",
   "metadata": {},
   "source": [
    "### Standardabweichung (sigma) berechnen"
   ]
  },
  {
   "cell_type": "code",
   "execution_count": 108,
   "metadata": {},
   "outputs": [
    {
     "name": "stdout",
     "output_type": "stream",
     "text": [
      "3.0659419433511785\n",
      "8.0\n",
      "94\n",
      "3.0659419433511785\n"
     ]
    }
   ],
   "source": [
    "def calc_stdev(data: list) -> float:\n",
    "    if len(data) == 0:\n",
    "        raise ZeroDivisionError\n",
    "    else:\n",
    "        m_w = sum(data)/len(data)\n",
    "        sum_qw = 0\n",
    "        for el in data:\n",
    "            sum_qw += (el - m_w)**2\n",
    "        return (sum_qw / (len(data)))**0.5#\n",
    "\n",
    "data = [2, 5, 6, 6, 9, 9, 9, 10, 11, 13]\n",
    "print(calc_stdev(data))\n",
    "\n",
    "mittelwert=(2+5+6+6+9+9+9+10+11+13)/10\n",
    "print(mittelwert)\n",
    "sum_von_qw = (2-8)**2 + (5-8)**2 + (6-8)**2 + (6-8)**2 + (9-8)**2 + (9-8)**2 + (9-8)**2 + (10-8)**2 + (11-8)**2 + (13 -8)**2\n",
    "print(sum_von_qw)\n",
    "ab = (sum_von_qw/(10))**0.5\n",
    "print(ab)\n",
    "\n",
    "    "
   ]
  },
  {
   "cell_type": "markdown",
   "metadata": {},
   "source": [
    "### Testfälle für die statistischen Berechnungen"
   ]
  },
  {
   "cell_type": "code",
   "execution_count": 144,
   "metadata": {},
   "outputs": [
    {
     "name": "stdout",
     "output_type": "stream",
     "text": [
      "Alle Tests bestanden!\n"
     ]
    }
   ],
   "source": [
    "if __name__ == \"__main__\":\n",
    "    daten = [2, 5, 6, 6, 9, 9, 9, 10, 11, 13]\n",
    "\n",
    "    # Berechnungen\n",
    "    mittelwert = calc_mean(daten)\n",
    "    median = calc_median(daten)\n",
    "    modus = calc_mode(daten)\n",
    "    varianz = calc_variance(daten)\n",
    "    standardabweichung = calc_stdev(daten)\n",
    "\n",
    "    # Tests mit Assertions\n",
    "    assert round(mittelwert, 2) == 8.0, f\"Erwarteter Mittelwert: 8.0, erhalten: {mittelwert}\"\n",
    "    assert round(median, 2) == 9.0, f\"Erwarteter Median: 9.0, erhalten: {median}\"\n",
    "    assert modus == 9, f\"Erwarteter Modus: 9, erhalten: {modus}\"\n",
    "    assert round(varianz, 4) == 9.4, f\"Erwartete Varianz: 9.4 , erhalten: {varianz}\"\n",
    "    assert round(standardabweichung, 4) == 3.0659, f\"Erwartete Standardabweichung: 3.0659, erhalten: {standardabweichung}\"\n",
    "\n",
    "    print(\"Alle Tests bestanden!\")\n"
   ]
  },
  {
   "cell_type": "markdown",
   "metadata": {},
   "source": [
    "Keine Testfälle für Quartilsbrechenung\n",
    "Für den Datensatz `daten = [1, 2, 3, 4]` könnt ihr die studyfilx Methode benutzen, d.h. Q1 = 1,5 und Q3 = 3,5 <br>\n",
    "oder die Methode aus dem PDF, die liefert folgende Ergebnisse: Q1 = 1,25 und Q3 = 3,75"
   ]
  },
  {
   "cell_type": "code",
   "execution_count": 154,
   "metadata": {},
   "outputs": [
    {
     "name": "stdout",
     "output_type": "stream",
     "text": [
      "Q1 für [1, 2, 3, 4]: 1.25\n",
      "Q3 für [1, 2, 3, 4]: 4\n",
      "Q1 für [2, 5, 6, 6, 9, 9, 9, 10, 11, 13]: 5.75\n",
      "Q3 für [2, 5, 6, 6, 9, 9, 9, 10, 11, 13]: 10.25\n"
     ]
    }
   ],
   "source": [
    "daten = [1, 2, 3, 4]\n",
    "q1 = calc_25percentile(daten)\n",
    "q3 = calc_75percentile(daten)\n",
    "\n",
    "print(f\"Q1 für {daten}:\", q1)#1,25\n",
    "print(f\"Q3 für {daten}:\", q3)#3,75\n",
    "\n",
    "\n",
    "daten = [2, 5, 6, 6, 9, 9, 9, 10, 11, 13]\n",
    "q1 = calc_25percentile(daten)\n",
    "q3 = calc_75percentile(daten) \n",
    "\n",
    "print(f\"Q1 für {daten}:\", q1) # 5,75\n",
    "print(f\"Q3 für {daten}:\", q3) # 10,25"
   ]
  }
 ],
 "metadata": {
  "kernelspec": {
   "display_name": ".my_venv",
   "language": "python",
   "name": "python3"
  },
  "language_info": {
   "codemirror_mode": {
    "name": "ipython",
    "version": 3
   },
   "file_extension": ".py",
   "mimetype": "text/x-python",
   "name": "python",
   "nbconvert_exporter": "python",
   "pygments_lexer": "ipython3",
   "version": "3.12.4"
  }
 },
 "nbformat": 4,
 "nbformat_minor": 2
}
