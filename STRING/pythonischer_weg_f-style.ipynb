{
 "cells": [
  {
   "attachments": {},
   "cell_type": "markdown",
   "metadata": {},
   "source": [
    "# Pythonischer Weg - f-String"
   ]
  },
  {
   "attachments": {},
   "cell_type": "markdown",
   "metadata": {},
   "source": [
    "## Bündigkeit\n",
    "\n",
    "Strings können links, rechts und zentriert dargestellt werden.\n",
    "\n",
    "### Links\n",
    "In der Formatierungsanweisung wird durch das Zeichen `<` der Text linksbündig positioniert. Die Ziffer hinter dem Zeichen gibt ide Anzahl an Stellen an, die zur Verfügung steht.\n",
    "\n",
    "```python\n",
    "print(f\"{'Spam & Ham:':<20s} {6.99:6.2f}\")\n",
    "# output: \"Spam & Ham:            6.99\"\n",
    "```\n",
    "\n",
    "### Rechts\n",
    "In der Formatierungsanweisung wird durch das Zeichen `>` der Text linksbündig positioniert. Die Ziffer hinter dem Zeichen gibt ide Anzahl an Stellen an, die zur Verfügung steht.\n",
    "\n",
    "```python\n",
    "print(f\"{'Spam & Ham:':>20s} {7.99:6.2f}\")\n",
    "# output: \"         Spam & Ham:   7.99\"\n",
    "```\n",
    "\n",
    "### Mittig\n",
    "In der Formatierungsanweisung wird durch das Zeichen `^` der Text zentriert positioniert. Die Ziffer hinter dem Zeichen gibt ide Anzahl an Stellen an, die zur Verfügung steht.\n",
    "\n",
    "```python\n",
    "print(f\"{'Spam & Ham:':^20s} {7.99:6.2f}\")\n",
    "# output: \"    Spam & Ham:        7.99\"\n",
    "```\n",
    "\n"
   ]
  },
  {
   "cell_type": "code",
   "execution_count": 43,
   "metadata": {},
   "outputs": [
    {
     "name": "stdout",
     "output_type": "stream",
     "text": [
      "Spam & Ham:            7.99\n",
      "    Spam & Ham:        7.99\n",
      "         Spam & Ham:   7.99\n"
     ]
    }
   ],
   "source": [
    "print(f\"{'Spam & Ham:':<20s} {7.99:6.2f}\")\n",
    "print(f\"{'Spam & Ham:':^20s} {7.99:6.2f}\")\n",
    "print(f\"{'Spam & Ham:':>20s} {7.99:6.2f}\")"
   ]
  },
  {
   "cell_type": "code",
   "execution_count": 1,
   "metadata": {},
   "outputs": [
    {
     "name": "stdout",
     "output_type": "stream",
     "text": [
      " 1. | FC Bayern                      |  13 |   2 |   3 | 230:12  | +218 |  42\n"
     ]
    }
   ],
   "source": [
    "count = 1\n",
    "name = 'FC Bayern'\n",
    "tore = 230\n",
    "gegentore = 12\n",
    "gewonnen = 13\n",
    "verloren = 2\n",
    "unentschieden = 3\n",
    "spiele = gewonnen + verloren + unentschieden\n",
    "punkte = 42\n",
    "tore_gegentore = str(tore) + ':' + str(gegentore)\n",
    "differenz = \"+\" + str(tore-gegentore) if tore > gegentore else str(tore - gegentore)\n",
    "print(f'{count:>2}. | {name:<30s} | {gewonnen:>3} | {verloren:>3} | {unentschieden:>3} | {tore:>3}:{gegentore:<3} | {differenz:>4} | {punkte:>3}')"
   ]
  },
  {
   "cell_type": "code",
   "execution_count": 41,
   "metadata": {},
   "outputs": [
    {
     "name": "stdout",
     "output_type": "stream",
     "text": [
      "Pos | Team                           | Spiele |   S |   U |   N |  Tore   |    D | Punkte\n",
      " 1. | FC Bayern                      |     18 |  13 |   3 |   2 | 230:12  | +218 |     42\n"
     ]
    }
   ],
   "source": [
    "print(f'{\"Pos\":^} | {\"Team\":<30s} | {\"Spiele\":>} | {\"S\":>3} | {\"U\":>3} | {\"N\":>3} | {\"Tore\":^7} | {\"D\":>4} | Punkte')\n",
    "\n",
    "print(f'{count:>2}. | {name:<30s} | {spiele:>6} | {gewonnen:>3} | {unentschieden:>3} | {verloren:>3} | {tore_gegentore:^7} | {differenz:^4} | {punkte:>6}')"
   ]
  }
 ],
 "metadata": {
  "kernelspec": {
   "display_name": "Python 3",
   "language": "python",
   "name": "python3"
  },
  "language_info": {
   "codemirror_mode": {
    "name": "ipython",
    "version": 3
   },
   "file_extension": ".py",
   "mimetype": "text/x-python",
   "name": "python",
   "nbconvert_exporter": "python",
   "pygments_lexer": "ipython3",
   "version": "3.12.6"
  },
  "orig_nbformat": 4
 },
 "nbformat": 4,
 "nbformat_minor": 2
}
