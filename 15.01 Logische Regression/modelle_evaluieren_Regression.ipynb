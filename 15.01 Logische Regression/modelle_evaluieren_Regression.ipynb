{
 "cells": [
  {
   "cell_type": "markdown",
   "id": "d1531b0e",
   "metadata": {},
   "source": [
    "## Modelle auswerten"
   ]
  },
  {
   "cell_type": "code",
   "execution_count": null,
   "id": "3641d72b",
   "metadata": {},
   "outputs": [],
   "source": [
    "import numpy as np\n",
    "import pandas as pd \n",
    "import matplotlib.pyplot as plt\n",
    "import seaborn as sns\n",
    "from sklearn.linear_model import LinearRegression\n",
    "from sklearn.model_selection import train_test_split\n",
    "import warnings\n",
    "warnings.filterwarnings('ignore')\n",
    "%matplotlib inline\n",
    "print('Pakete erfolgreich importiert.')"
   ]
  },
  {
   "cell_type": "code",
   "execution_count": null,
   "id": "d29d2d94",
   "metadata": {},
   "outputs": [],
   "source": [
    "size = [25, 32, 40, 48, 55] # Pizza-Größen in cm\n",
    "price = [3.28, 4.33, 5.75, 6.10, 6.15] # Preise\n",
    "df = pd.DataFrame({'size':size, 'price':price})\n",
    "df"
   ]
  },
  {
   "cell_type": "markdown",
   "id": "20e11e5d",
   "metadata": {},
   "source": [
    "Auf lineare Korrelation prüfen:"
   ]
  },
  {
   "cell_type": "code",
   "execution_count": null,
   "id": "a014c116",
   "metadata": {},
   "outputs": [],
   "source": [
    "sns.regplot(x='size',y='price',data=df)\n",
    "plt.show()"
   ]
  },
  {
   "cell_type": "code",
   "execution_count": null,
   "id": "2909017d",
   "metadata": {},
   "outputs": [],
   "source": [
    "df.corr()"
   ]
  },
  {
   "cell_type": "code",
   "execution_count": null,
   "id": "599fd628",
   "metadata": {},
   "outputs": [],
   "source": [
    "sns.heatmap(df.corr(), annot=True)\n",
    "plt.show()"
   ]
  },
  {
   "cell_type": "markdown",
   "id": "fd76039b",
   "metadata": {},
   "source": [
    "Um die genaue Korrelationen beschreiben zu können, brauchen wir ein Modell der Klasse LinearRegression:"
   ]
  },
  {
   "cell_type": "code",
   "execution_count": 25,
   "id": "83664af4",
   "metadata": {},
   "outputs": [],
   "source": [
    "reg = LinearRegression()"
   ]
  },
  {
   "cell_type": "markdown",
   "id": "13939328",
   "metadata": {},
   "source": [
    "Das Modell trainieren:\n",
    "\n",
    "- mit dem ganzen Dataset trainieren\n",
    "- Daten in Train- und Test-set einteilen"
   ]
  },
  {
   "cell_type": "markdown",
   "id": "f3fb5ff9",
   "metadata": {},
   "source": [
    "Wir können entweder unser Modell mit ganzen Daten trainieren und eben da noch evaluieren, oder die Daten in zwei Subsets, nämlich Train-Set und Test-Set einteilen. Dann das Modell mit Train-Set trainieren und mit Test-Set evaluieren."
   ]
  },
  {
   "cell_type": "markdown",
   "id": "a9918b5b",
   "metadata": {},
   "source": [
    "Weil jetzt unser Dataset viel zu klein ist (nur 5 Einträge), trainieren wir das Modell mit dem ganzen Dataset:"
   ]
  },
  {
   "cell_type": "code",
   "execution_count": null,
   "id": "7536a8de",
   "metadata": {},
   "outputs": [],
   "source": [
    "X = df[['size']]\n",
    "y = df['price']\n",
    "reg.fit(X,y)"
   ]
  },
  {
   "cell_type": "code",
   "execution_count": null,
   "id": "2e2867f0",
   "metadata": {},
   "outputs": [],
   "source": [
    "features = df[['size']]\n",
    "reg.predict(features)"
   ]
  },
  {
   "cell_type": "code",
   "execution_count": null,
   "id": "21f1f074",
   "metadata": {},
   "outputs": [],
   "source": [
    "df['prediction'] = reg.predict(features)\n",
    "df"
   ]
  },
  {
   "cell_type": "markdown",
   "id": "d1f56aa3",
   "metadata": {},
   "source": [
    "### Wie ist überhaupt 'Genauigkeit' beschreibbar?\n",
    "\n",
    "In der Statistik wird Genauigkeit anhand der sogenannten Maßzahlen beschrieben.  \n",
    "Jede Maßzahl eignet sich für gewisse Modelle und wird anhand eines Algorithmus Berechnet. \n",
    "### Mittlerer absoluter Fehler\n",
    "Eine der Maßzahlen in der Statistik heißt _mean absolut error_. (Deutsch: Mittlerer absoluter Fehler). Der mittlere absolute Fehler ist wie folgt definiert:\n",
    "<img src='https://wikimedia.org/api/rest_v1/media/math/render/svg/d19c272643189496e85c66d8c9722b515d3b39ac' />\n",
    "wobei folgende Variablen Verwendung finden:\n",
    "\n",
    "- Anzahl der Vorhersagewerte(n)\n",
    "- Vorhersagewerte\n",
    "- Beobachtungswerte (Realität)\n",
    "\n",
    "[Quelle](https://de.wikipedia.org/wiki/Mittlerer_absoluter_Fehler)\n",
    "\n",
    "\n",
    "Im Folgenden berechnen wir diese Maßzahl für unser aktuelles Modell:"
   ]
  },
  {
   "cell_type": "code",
   "execution_count": 29,
   "id": "b371c7c0",
   "metadata": {},
   "outputs": [],
   "source": [
    "# Wir berechnen die Differenzen:\n",
    "dif = df['price'] - df['prediction']\n",
    "difs = dif.abs() # Absoluter Wert von Elementen (unabhängig von Richtung/Vorzeichen)"
   ]
  },
  {
   "cell_type": "markdown",
   "id": "33ddf368",
   "metadata": {},
   "source": [
    "Dann berechnen wir den Durchschnitt dieser Differenzen:"
   ]
  },
  {
   "cell_type": "code",
   "execution_count": null,
   "id": "6e99a750",
   "metadata": {},
   "outputs": [],
   "source": [
    "difs.mean()"
   ]
  },
  {
   "cell_type": "markdown",
   "id": "891b01ad",
   "metadata": {},
   "source": [
    "Wir kommen auf ca. `0.325666435986159`. Das heißt, die Einschätzung unseres Modells liegt meistens ca. `0.33` über oder unter der Realität."
   ]
  },
  {
   "cell_type": "markdown",
   "id": "fef45146",
   "metadata": {},
   "source": [
    "### R²-Wert (R-Quadrat) berechnen\n",
    "Eine weitere wichtige Maßzahl (engl. metric) ist dabei der sogenannte R-Quadrat $R^2$, den wir mit Hilfe der Methode `score()` für lineare Regressionsmodelle berechnen. "
   ]
  },
  {
   "cell_type": "code",
   "execution_count": null,
   "id": "46a15ab9",
   "metadata": {},
   "outputs": [],
   "source": [
    "reg.score(X,y)"
   ]
  },
  {
   "cell_type": "markdown",
   "id": "fe815a88",
   "metadata": {},
   "source": [
    "Die Methode `score()` liefert den sogenannten R-Quadrat-Wert zurück. Dieser Wert liegt zwischen `0.0` und `1.0`. Je dieser Wert `1.0` näher steht, desto _genauer_ ist das Modell."
   ]
  },
  {
   "cell_type": "markdown",
   "id": "c8f75a73",
   "metadata": {},
   "source": [
    "[Bestimmtheitsmaß bei Wiki](https://de.wikipedia.org/wiki/Bestimmtheitsma%C3%9F)"
   ]
  },
  {
   "cell_type": "markdown",
   "id": "822f9271",
   "metadata": {},
   "source": [
    "Jede Maßzahl eignet sich für gewisse Algorithmen. In unserem Beispiel, also Single-Linear-Regression (lineare Regression mit einem einzelnen Feature) eignet sich R-Squared sehr gut, um die Genauigkeit des Modells zu beschreiben. Daher die Methode `score()`"
   ]
  },
  {
   "cell_type": "markdown",
   "id": "202dbba5",
   "metadata": {},
   "source": [
    "#### Mean-Squared-Error (MSE) oder Mittlere quadratische Abweichung\n",
    "\n",
    "wird von Mittlerem-Absolut-Fehler abgeleitet [Quelle](https://de.wikipedia.org/wiki/Mittlere_quadratische_Abweichung).\n",
    "\n",
    "MSE = $\\frac{1}{n} \\Sigma_{i=1}^n({y}-\\hat{y})^2$\n",
    "\n",
    "Im Folgenden berechnen wir diese Abweichung für unser Modell:"
   ]
  },
  {
   "cell_type": "code",
   "execution_count": null,
   "id": "17f879f3",
   "metadata": {},
   "outputs": [],
   "source": [
    "df"
   ]
  },
  {
   "cell_type": "code",
   "execution_count": null,
   "id": "d784daa5",
   "metadata": {},
   "outputs": [],
   "source": [
    "pow((df['price'] - df['prediction']),2).sum()/df.shape[0]"
   ]
  },
  {
   "cell_type": "markdown",
   "id": "eff8b8c6",
   "metadata": {},
   "source": [
    "Scikitlearn verfügt in Submodul `metrics` über Methoden und Funktionen, die diese Maßzahlen direkt berechnen können:"
   ]
  },
  {
   "cell_type": "code",
   "execution_count": null,
   "id": "f1b1a8d1",
   "metadata": {},
   "outputs": [],
   "source": [
    "from sklearn.metrics import mean_squared_error, mean_absolute_error, root_mean_squared_error\n",
    "mse = mean_squared_error(df['price'], df['prediction'])\n",
    "mae = mean_absolute_error(df['price'], df['prediction'])\n",
    "rmse = root_mean_squared_error(df['price'], df['prediction'])\n",
    "print(f\"MAE: {mae}\", f\"MSE: {mse}\", f\"RMSE: {rmse}\", sep=\"\\n\")"
   ]
  },
  {
   "cell_type": "markdown",
   "id": "6a03dc11",
   "metadata": {},
   "source": [
    "### p-Wert (engl. Pearson Value)\n",
    "ist noch eine weitere maßgebende Zahl in Statistik, bzw. Machine Learning. Im Deutschen heißt es `Korrelationskoeffizient` [Quelle](https://de.wikipedia.org/wiki/Korrelationskoeffizient)\n",
    "Diese Zahl wird anhand eines sogenannten Pearson-Algorithmus berechnet und wie folgend interpretiert:\n",
    "\n",
    "- `p < 0.001` spricht für eine _starke_ Korrelation\n",
    "- `0.001 < p < 0.05`: spricht für eine _moderate_ Korrelation\n",
    "- `0.05 < p < 0.1`: spricht für eine _schwache_ Korrelation\n",
    "- `0.1 < p`: spricht für _keine_ Korrelation\n",
    "\n",
    "zwischen Attributen. Den p-Wert kann man direkt aus `scipy.stats` berechnen lassen:"
   ]
  },
  {
   "cell_type": "code",
   "execution_count": null,
   "id": "5fba4707",
   "metadata": {},
   "outputs": [],
   "source": [
    "from scipy.stats import pearsonr\n",
    "# In wiefern besteht eine Korrelation\n",
    "# zwischen size und price?\n",
    "pearsonr(df['size'],df['price'])"
   ]
  },
  {
   "cell_type": "markdown",
   "id": "b0c3978b",
   "metadata": {},
   "source": [
    "Die zwei Zahlen im Tupel sind jeweils ein Pearson-Koeffizient und ein p-Wert.  \n",
    "Wir können damit eine Funktion bilden, die auf Basis der Größe (size) den P-Wert berechnet:"
   ]
  },
  {
   "cell_type": "code",
   "execution_count": 53,
   "id": "89b2d926",
   "metadata": {},
   "outputs": [],
   "source": [
    "def correl(x,y):\n",
    "    p = pearsonr(df[x],df[y])[1]\n",
    "    if p < 0.001:\n",
    "        return 'Strong'\n",
    "    elif 0.001 < p < 0.05:\n",
    "        return 'Moderate'\n",
    "    elif 0.05 < p < 0.1:\n",
    "        return 'Weak'\n",
    "    else:\n",
    "        return 'No way!'"
   ]
  },
  {
   "cell_type": "code",
   "execution_count": null,
   "id": "26ead0bb",
   "metadata": {},
   "outputs": [],
   "source": [
    "correl('size', 'price')"
   ]
  },
  {
   "cell_type": "markdown",
   "id": "01cc4a31",
   "metadata": {},
   "source": [
    "In unserem Beispiel besteht eine _moderate_ lineare Korrelation zwischen `size` und `price`"
   ]
  },
  {
   "cell_type": "markdown",
   "id": "72690cf8",
   "metadata": {},
   "source": [
    "Weitere Metrics werden wir im Rahmen von Projekten und Aufgaben kennenlernen, u.a. F-Score und Recall."
   ]
  }
 ],
 "metadata": {
  "kernelspec": {
   "display_name": "Python 3",
   "language": "python",
   "name": "python3"
  },
  "language_info": {
   "codemirror_mode": {
    "name": "ipython",
    "version": 3
   },
   "file_extension": ".py",
   "mimetype": "text/x-python",
   "name": "python",
   "nbconvert_exporter": "python",
   "pygments_lexer": "ipython3",
   "version": "3.12.4"
  },
  "nbTranslate": {
   "displayLangs": [
    "en",
    "de"
   ],
   "hotkey": "alt-t",
   "langInMainMenu": true,
   "sourceLang": "de",
   "targetLang": "en",
   "useGoogleTranslate": true
  }
 },
 "nbformat": 4,
 "nbformat_minor": 5
}
