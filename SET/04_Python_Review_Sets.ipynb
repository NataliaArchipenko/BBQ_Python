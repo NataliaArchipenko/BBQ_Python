{
 "cells": [
  {
   "cell_type": "markdown",
   "id": "9852ab65",
   "metadata": {},
   "source": [
    "# Python Sequenztypen\n",
    "\n",
    "## Sets\n",
    "\n",
    "Wie wird ein Set erzeugt, definiert ?"
   ]
  },
  {
   "cell_type": "code",
   "execution_count": 54,
   "id": "4aa04c49",
   "metadata": {},
   "outputs": [
    {
     "data": {
      "text/plain": [
       "set"
      ]
     },
     "execution_count": 54,
     "metadata": {},
     "output_type": "execute_result"
    }
   ],
   "source": [
    "s = {1,2,3}\n",
    "type(s)"
   ]
  },
  {
   "cell_type": "markdown",
   "id": "7e6f60c0",
   "metadata": {},
   "source": [
    "### Sets sind mathematisch einfach Mengen\n",
    "\n",
    "#### Mengenoperation:\n",
    "\n",
    "1. Intersection - Schnittmenge\n",
    "2. Conjunction - Union - Vereinigungsmenge\n",
    "3.  ? - Differenzmenge"
   ]
  },
  {
   "cell_type": "code",
   "execution_count": 55,
   "id": "3d8c1d42",
   "metadata": {},
   "outputs": [
    {
     "name": "stdout",
     "output_type": "stream",
     "text": [
      "{2, 3}\n"
     ]
    }
   ],
   "source": [
    "# Schnittmenge\n",
    "t = {2,3,4,5}\n",
    "\n",
    "sm = s & t    # element ist in s und in t\n",
    "\n",
    "print(sm)"
   ]
  },
  {
   "cell_type": "code",
   "execution_count": 56,
   "id": "cef497ee",
   "metadata": {},
   "outputs": [
    {
     "name": "stdout",
     "output_type": "stream",
     "text": [
      "{1, 2, 3, 4, 5}\n"
     ]
    }
   ],
   "source": [
    "# Vereinigungsmenge\n",
    "vm = s | t    # element ist entweder in s oder in t oder in beiden Mengen\n",
    "\n",
    "print(vm)"
   ]
  },
  {
   "cell_type": "code",
   "execution_count": 57,
   "id": "5e5300e6",
   "metadata": {},
   "outputs": [
    {
     "name": "stdout",
     "output_type": "stream",
     "text": [
      "{1, 4, 5}\n"
     ]
    }
   ],
   "source": [
    "# Differenzmenge\n",
    "dm = s ^ t    # Element ist entweder nur in s oder nur in t (exklusiv-oder)\n",
    "\n",
    "print(dm)"
   ]
  },
  {
   "cell_type": "code",
   "execution_count": 58,
   "id": "37eab37e",
   "metadata": {},
   "outputs": [
    {
     "name": "stdout",
     "output_type": "stream",
     "text": [
      "{'e', 'g', 'd', 'f', 'b', 'c', 'a', 'h'}\n",
      "{'e', 'g', 'd', 'f', 'b', 'c', 'a', 'h'}\n",
      "2009309004736\n",
      "2009304240352\n"
     ]
    }
   ],
   "source": [
    "# Übung\n",
    "\n",
    "a = {'a', 'b','e','g'}\n",
    "b = {'b', 'c','f','h'}\n",
    "\n",
    "# h = {'a', 'b', 'c', 'd', 'e', 'f', 'g', 'h'} , mit a und b bestimmen:\n",
    "h = a | {'d'} | b\n",
    "\n",
    "z = set(sorted(h))\n",
    "\n",
    "print(h)\n",
    "print(z)\n",
    "\n",
    "print(id(h))\n",
    "print(id(z))\n",
    "\n",
    "# sets sind mutable, set sind ungeordnet, nicht sortierbar"
   ]
  },
  {
   "cell_type": "code",
   "execution_count": 59,
   "id": "40bd3735",
   "metadata": {},
   "outputs": [],
   "source": [
    "# sets haben keinen Index\n",
    "# das geht nicht : z[0]"
   ]
  },
  {
   "cell_type": "code",
   "execution_count": 60,
   "id": "e9969870",
   "metadata": {},
   "outputs": [
    {
     "name": "stdout",
     "output_type": "stream",
     "text": [
      "{'e', 'g', 'd', 'b', 'c', 'a', 'h'}\n"
     ]
    }
   ],
   "source": [
    "#Löschen eines Elementes\n",
    "z.discard('f')\n",
    "print(z)"
   ]
  },
  {
   "cell_type": "code",
   "execution_count": 61,
   "id": "96a54a6e",
   "metadata": {},
   "outputs": [
    {
     "name": "stdout",
     "output_type": "stream",
     "text": [
      "{'e', 'g', 'd', 'f', 'b', 'c', 'a', 'h'}\n"
     ]
    }
   ],
   "source": [
    "# Hinzufügen eines Elementes zum Set\n",
    "z.add('f')\n",
    "# alternativ :z |= {'f'}\n",
    "\n",
    "print(z)\n",
    "\n",
    "# Merke, ein Element kann beliebig oft mit add() \"hinzugefügt\" werden. \n",
    "# Allerdings kommt jedes Element nur einmal in einer Menge vor!"
   ]
  },
  {
   "cell_type": "code",
   "execution_count": 62,
   "id": "0df10803",
   "metadata": {},
   "outputs": [
    {
     "name": "stdout",
     "output_type": "stream",
     "text": [
      "['s', 'd', 'T', '?', 'u', 'o', 'v', 'c', 'Z', 'x', 'n', 'W', 'a', 'e', 't', 'r', ' ', 'b', 'm', 'i', ')', 'B', 'l', '(', 'k', 'h']\n",
      "[1, 9, 0, 0, 0, 0, 0, 0, 0, 0, 0, 0, 0, 0, 0, 0, 0, 0, 0, 0, 0, 0, 0, 0, 0, 0]\n",
      "'W' kommt 1 mal vor.\n",
      "'e' kommt 9 mal vor.\n",
      "'l' kommt 1 mal vor.\n",
      "'c' kommt 3 mal vor.\n",
      "'h' kommt 3 mal vor.\n",
      "' ' kommt 8 mal vor.\n",
      "'B' kommt 1 mal vor.\n",
      "'u' kommt 1 mal vor.\n",
      "'s' kommt 2 mal vor.\n",
      "'t' kommt 2 mal vor.\n",
      "'a' kommt 1 mal vor.\n",
      "'b' kommt 1 mal vor.\n",
      "'n' kommt 4 mal vor.\n",
      "'(' kommt 1 mal vor.\n",
      "'Z' kommt 1 mal vor.\n",
      "'i' kommt 3 mal vor.\n",
      "')' kommt 1 mal vor.\n",
      "'k' kommt 1 mal vor.\n",
      "'o' kommt 2 mal vor.\n",
      "'m' kommt 3 mal vor.\n",
      "'d' kommt 1 mal vor.\n",
      "'T' kommt 1 mal vor.\n",
      "'x' kommt 1 mal vor.\n",
      "'v' kommt 1 mal vor.\n",
      "'r' kommt 1 mal vor.\n",
      "'?' kommt 1 mal vor.\n"
     ]
    }
   ],
   "source": [
    "# Aufgabe :\n",
    "# Welche Buchstaben kommen in einem Text vor?   \n",
    "text = 'Welche Buchstaben (Zeichen) kommen in diesem Text vor ?'\n",
    "zeichen_im_text = set(text)\n",
    "\n",
    "\n",
    "# Und wie oft kommen diese jeweils im Text vor ?\n",
    "# Lösubng über zwei Listen\n",
    "\n",
    "z_l = list(zeichen_im_text)\n",
    "n_l = [0 for c in z_l]\n",
    "\n",
    "# Wie oft kommt 'v' im Text vor ?\n",
    "# Merke den Index 'v' in z_l: 0\n",
    "# => Welches Element in n_l gehört zu 'v' ? n_L[0]\n",
    "\n",
    "n_l[0] = n_l[0] + 1\n",
    "\n",
    "# Wie oft kommt 'e' im Text vor ?\n",
    "# Merke den Index 'e' in z_l: 1\n",
    "# => Welches Element in d_l gehört zu 'e' ? n_l[1]\n",
    "n_l[1] = n_l[1] + 1\n",
    "n_l[1] = n_l[1] + 1\n",
    "n_l[1] = n_l[1] + 1\n",
    "n_l[1] = n_l[1] + 1\n",
    "n_l[1] = n_l[1] + 1\n",
    "n_l[1] = n_l[1] + 1\n",
    "n_l[1] = n_l[1] + 1\n",
    "n_l[1] = n_l[1] + 1\n",
    "n_l[1] = n_l[1] + 1\n",
    "\n",
    "print(z_l)\n",
    "print(n_l)\n",
    "\n",
    "#Andere Variante mit mydictionary\n",
    "zeichen_quantity = {}\n",
    "for zeichen in text:\n",
    "    if zeichen in zeichen_quantity:\n",
    "        zeichen_quantity[zeichen] += 1\n",
    "    else:\n",
    "        zeichen_quantity[zeichen] = 1\n",
    "\n",
    "for zeichen, quantity in zeichen_quantity.items():\n",
    "    print(f\"'{zeichen}' kommt {quantity} mal vor.\")"
   ]
  },
  {
   "cell_type": "code",
   "execution_count": 33,
   "id": "9e666ba6",
   "metadata": {},
   "outputs": [
    {
     "name": "stdout",
     "output_type": "stream",
     "text": [
      "v 1\n",
      "e 9\n",
      "m 3\n",
      "x 1\n",
      "u 1\n",
      "c 3\n",
      "T 1\n",
      "r 1\n",
      "( 1\n",
      "l 1\n",
      "B 1\n",
      "i 3\n",
      "n 4\n",
      "b 1\n",
      ") 1\n",
      "a 1\n",
      "t 2\n",
      "h 3\n",
      "  8\n",
      "d 1\n",
      "? 1\n",
      "s 2\n",
      "o 2\n",
      "k 1\n",
      "W 1\n",
      "Z 1\n"
     ]
    }
   ],
   "source": [
    "# Aufgabe :\n",
    "# Welche Buchstaben kommen in einem Text vor?   \n",
    "text = 'Welche Buchstaben (Zeichen) kommen in diesem Text vor ?'\n",
    "zeichen_im_text = set(text)\n",
    "\n",
    "# Und wie oft kommen diese jeweils im Text vor ?\n",
    "# Lösung über zwei Listen\n",
    "z_l = list(zeichen_im_text)\n",
    "n_l = [0 for c in z_l]\n",
    "\n",
    "index = 0\n",
    "for z in z_l:\n",
    "    for t in text:\n",
    "        if z == t:\n",
    "            # Anzahl\n",
    "            n_l[index] += 1\n",
    "\n",
    "    index += 1\n",
    "\n",
    "for i in range(0, len(z_l)):\n",
    "    print(z_l[i] , n_l[i])"
   ]
  },
  {
   "cell_type": "code",
   "execution_count": 35,
   "id": "d47eb55b",
   "metadata": {},
   "outputs": [
    {
     "name": "stdout",
     "output_type": "stream",
     "text": [
      "v 1\n",
      "e 9\n",
      "m 3\n",
      "x 1\n",
      "u 1\n",
      "c 3\n",
      "T 1\n",
      "r 1\n",
      "( 1\n",
      "l 1\n",
      "B 1\n",
      "i 3\n",
      "n 4\n",
      "b 1\n",
      ") 1\n",
      "a 1\n",
      "t 2\n",
      "h 3\n",
      "  8\n",
      "d 1\n",
      "? 1\n",
      "s 2\n",
      "o 2\n",
      "k 1\n",
      "W 1\n",
      "Z 1\n"
     ]
    }
   ],
   "source": [
    "# Aufgabe :\n",
    "# Welche Buchstaben kommen in einem Text vor?   \n",
    "text = 'Welche Buchstaben (Zeichen) kommen in diesem Text vor ?'\n",
    "zeichen_im_text = set(text)\n",
    "\n",
    "# Und wie oft kommen diese jeweils im Text vor ?\n",
    "# Lösung über zwei Listen\n",
    "z_l = list(zeichen_im_text)\n",
    "n_l = [0 for c in z_l]\n",
    "\n",
    "# innere Schleife zum Zählen der Vorkommnisse des jeweiligen Zeichens \n",
    "'''\n",
    "    for t in text:\n",
    "        if z == t:\n",
    "            # Anzahl\n",
    "            n_l[index] += 1\n",
    "'''\n",
    "# Wird ersetzt durch\n",
    "'''\n",
    "    n_l[index] = text.count(z)\n",
    "'''\n",
    "\n",
    "index = 0\n",
    "for z in z_l:\n",
    "    n_l[index] = text.count(z)\n",
    "\n",
    "    index += 1\n",
    "\n",
    "for i in range(0, len(z_l)):\n",
    "    print(z_l[i] , n_l[i])"
   ]
  },
  {
   "cell_type": "code",
   "execution_count": 36,
   "id": "8d070ea6",
   "metadata": {},
   "outputs": [
    {
     "name": "stdout",
     "output_type": "stream",
     "text": [
      "v 1\n",
      "e 9\n",
      "m 3\n",
      "x 1\n",
      "u 1\n",
      "c 3\n",
      "T 1\n",
      "r 1\n",
      "( 1\n",
      "l 1\n",
      "B 1\n",
      "i 3\n",
      "n 4\n",
      "b 1\n",
      ") 1\n",
      "a 1\n",
      "t 2\n",
      "h 3\n",
      "  8\n",
      "d 1\n",
      "? 1\n",
      "s 2\n",
      "o 2\n",
      "k 1\n",
      "W 1\n",
      "Z 1\n"
     ]
    }
   ],
   "source": [
    "# Aufgabe :\n",
    "# Welche Buchstaben kommen in einem Text vor?   \n",
    "text = 'Welche Buchstaben (Zeichen) kommen in diesem Text vor ?'\n",
    "zeichen_im_text = set(text)\n",
    "\n",
    "# Und wie oft kommen diese jeweils im Text vor ?\n",
    "# Lösung über zwei Listen\n",
    "z_l = list(zeichen_im_text)\n",
    "\n",
    "# Schleife zum Bestimmen der Anzahl der Vorkommnisse des jeweiligen Zeichens\n",
    "'''\n",
    "index = 0\n",
    "for z in z_l:\n",
    "    n_l[index] = text.count(z)\n",
    "\n",
    "    index += 1\n",
    "'''\n",
    "# wurde in die List-Comprehension übernommen\n",
    "n_l = [text.count(z) for z in z_l]\n",
    "\n",
    "for i in range(0, len(z_l)):\n",
    "    print(z_l[i] , n_l[i])"
   ]
  }
 ],
 "metadata": {
  "hide_input": false,
  "kernelspec": {
   "display_name": "Python 3 (ipykernel)",
   "language": "python",
   "name": "python3"
  },
  "language_info": {
   "codemirror_mode": {
    "name": "ipython",
    "version": 3
   },
   "file_extension": ".py",
   "mimetype": "text/x-python",
   "name": "python",
   "nbconvert_exporter": "python",
   "pygments_lexer": "ipython3",
   "version": "3.12.4"
  }
 },
 "nbformat": 4,
 "nbformat_minor": 5
}
