{
 "cells": [
  {
   "cell_type": "code",
   "execution_count": null,
   "metadata": {},
   "outputs": [],
   "source": []
  },
  {
   "cell_type": "code",
   "execution_count": 2,
   "metadata": {},
   "outputs": [
    {
     "data": {
      "text/html": [
       "<div>\n",
       "<style scoped>\n",
       "    .dataframe tbody tr th:only-of-type {\n",
       "        vertical-align: middle;\n",
       "    }\n",
       "\n",
       "    .dataframe tbody tr th {\n",
       "        vertical-align: top;\n",
       "    }\n",
       "\n",
       "    .dataframe thead th {\n",
       "        text-align: right;\n",
       "    }\n",
       "</style>\n",
       "<table border=\"1\" class=\"dataframe\">\n",
       "  <thead>\n",
       "    <tr style=\"text-align: right;\">\n",
       "      <th></th>\n",
       "      <th>PassengerId</th>\n",
       "      <th>Survived</th>\n",
       "      <th>Pclass</th>\n",
       "      <th>Name</th>\n",
       "      <th>Sex</th>\n",
       "      <th>Age</th>\n",
       "      <th>SibSp</th>\n",
       "      <th>Parch</th>\n",
       "      <th>Ticket</th>\n",
       "      <th>Fare</th>\n",
       "      <th>Cabin</th>\n",
       "      <th>Embarked</th>\n",
       "    </tr>\n",
       "  </thead>\n",
       "  <tbody>\n",
       "    <tr>\n",
       "      <th>0</th>\n",
       "      <td>1</td>\n",
       "      <td>0</td>\n",
       "      <td>3</td>\n",
       "      <td>Braund, Mr. Owen Harris</td>\n",
       "      <td>male</td>\n",
       "      <td>22.0</td>\n",
       "      <td>1</td>\n",
       "      <td>0</td>\n",
       "      <td>A/5 21171</td>\n",
       "      <td>7.2500</td>\n",
       "      <td>NaN</td>\n",
       "      <td>S</td>\n",
       "    </tr>\n",
       "    <tr>\n",
       "      <th>1</th>\n",
       "      <td>2</td>\n",
       "      <td>1</td>\n",
       "      <td>1</td>\n",
       "      <td>Cumings, Mrs. John Bradley (Florence Briggs Th...</td>\n",
       "      <td>female</td>\n",
       "      <td>38.0</td>\n",
       "      <td>1</td>\n",
       "      <td>0</td>\n",
       "      <td>PC 17599</td>\n",
       "      <td>71.2833</td>\n",
       "      <td>C85</td>\n",
       "      <td>C</td>\n",
       "    </tr>\n",
       "    <tr>\n",
       "      <th>2</th>\n",
       "      <td>3</td>\n",
       "      <td>1</td>\n",
       "      <td>3</td>\n",
       "      <td>Heikkinen, Miss. Laina</td>\n",
       "      <td>female</td>\n",
       "      <td>26.0</td>\n",
       "      <td>0</td>\n",
       "      <td>0</td>\n",
       "      <td>STON/O2. 3101282</td>\n",
       "      <td>7.9250</td>\n",
       "      <td>NaN</td>\n",
       "      <td>S</td>\n",
       "    </tr>\n",
       "  </tbody>\n",
       "</table>\n",
       "</div>"
      ],
      "text/plain": [
       "   PassengerId  Survived  Pclass  \\\n",
       "0            1         0       3   \n",
       "1            2         1       1   \n",
       "2            3         1       3   \n",
       "\n",
       "                                                Name     Sex   Age  SibSp  \\\n",
       "0                            Braund, Mr. Owen Harris    male  22.0      1   \n",
       "1  Cumings, Mrs. John Bradley (Florence Briggs Th...  female  38.0      1   \n",
       "2                             Heikkinen, Miss. Laina  female  26.0      0   \n",
       "\n",
       "   Parch            Ticket     Fare Cabin Embarked  \n",
       "0      0         A/5 21171   7.2500   NaN        S  \n",
       "1      0          PC 17599  71.2833   C85        C  \n",
       "2      0  STON/O2. 3101282   7.9250   NaN        S  "
      ]
     },
     "execution_count": 2,
     "metadata": {},
     "output_type": "execute_result"
    }
   ],
   "source": [
    "import pandas as pd\n",
    "\n",
    "df=pd.read_csv('titanic.csv')\n",
    "df.head(3)"
   ]
  },
  {
   "cell_type": "code",
   "execution_count": 3,
   "metadata": {},
   "outputs": [
    {
     "data": {
      "text/plain": [
       "Title\n",
       "Mr.              517\n",
       "Miss.            182\n",
       "Mrs.             125\n",
       "Master.           40\n",
       "Dr.                7\n",
       "Rev.               6\n",
       "Col.               2\n",
       "Mlle.              2\n",
       "Major.             2\n",
       "Ms.                1\n",
       "Mme.               1\n",
       "Don.               1\n",
       "Lady.              1\n",
       "Sir.               1\n",
       "Capt.              1\n",
       "the Countess.      1\n",
       "Jonkheer.          1\n",
       "Name: count, dtype: int64"
      ]
     },
     "execution_count": 3,
     "metadata": {},
     "output_type": "execute_result"
    }
   ],
   "source": [
    "def title_teil(df):\n",
    "    erste_aenderung = df['Name'].split(',')[1] # Das Nehmen des Werts der Spalte 'Name' in einer einzelnen Zeile und das Teilen am Komma sowie das Nehmen des zweiten Teils (mit dem Index 1)\n",
    "\n",
    "    zweite_aenderung = erste_aenderung.split('.')[0] + '.' # Teilen des Restes an Punkt. Das Nehmen des Werts mit Index 0.\n",
    "\n",
    "    return zweite_aenderung.strip() #Löschen von der Leerzeichens\n",
    "\n",
    "df['Title'] = df.apply(title_teil, axis =1) # Erstellen einer neuen Spalte und Verwendung der Funktion mit apply\n",
    "#print(df.head(3)) # Überprüfung, ob die Funktion richtig ist\n",
    "\n",
    "df['Title'].value_counts() # Häuftigkeit der Title\n"
   ]
  },
  {
   "cell_type": "markdown",
   "metadata": {},
   "source": [
    "**Überlebenswahrscheinlichkeit nach Titel schätzen** \\\n",
    "Verwende die zuvor erstellte  Title -Spalte und berechne für jede Titelkategorieden durchschnilichen Überlebensstatus ( Survived ). \n",
    "Nutze  apply  und groupby, um die Überlebensrate nach Titel darzustellen (sorert nach Überlebensrate).\n",
    "\n"
   ]
  },
  {
   "cell_type": "code",
   "execution_count": 4,
   "metadata": {},
   "outputs": [
    {
     "name": "stdout",
     "output_type": "stream",
     "text": [
      "\n",
      "Title\n",
      "Capt.            0.000000\n",
      "Col.             0.500000\n",
      "Don.             0.000000\n",
      "Dr.              0.428571\n",
      "Jonkheer.        0.000000\n",
      "Lady.            1.000000\n",
      "Major.           0.500000\n",
      "Master.          0.575000\n",
      "Miss.            0.697802\n",
      "Mlle.            1.000000\n",
      "Mme.             1.000000\n",
      "Mr.              0.156673\n",
      "Mrs.             0.792000\n",
      "Ms.              1.000000\n",
      "Rev.             0.000000\n",
      "Sir.             1.000000\n",
      "the Countess.    1.000000\n",
      "Name: Survived, dtype: float64\n"
     ]
    }
   ],
   "source": [
    "#filtr = df.groupby(['Survived', 'Title'])\n",
    "def mean_funktion(df):\n",
    "    return df['Survived'].mean()\n",
    "\n",
    "#filtr = df.groupby(['Title']).apply(mean_funktion)\n",
    "#filtr = df.groupby(['Title'])['Survived'].mean()\n",
    "survival_by_title = df.groupby('Title')['Survived'].apply(lambda x: x.mean())\n",
    "#print(filtr)\n",
    "print()\n",
    "print(survival_by_title )\n",
    "\n",
    "\n"
   ]
  },
  {
   "cell_type": "markdown",
   "metadata": {},
   "source": [
    "**Länge der Namen analysieren**\n",
    "Ersetze die Werte der Spalte  Surveived  mit  alive  bzw. dead. \\\n",
    "\n",
    "\n"
   ]
  },
  {
   "cell_type": "code",
   "execution_count": 5,
   "metadata": {},
   "outputs": [
    {
     "name": "stderr",
     "output_type": "stream",
     "text": [
      "C:\\Users\\NataliaArchipenko\\AppData\\Local\\Temp\\ipykernel_26088\\4233697054.py:1: FutureWarning: Setting an item of incompatible dtype is deprecated and will raise an error in a future version of pandas. Value 'alive' has dtype incompatible with int64, please explicitly cast to a compatible dtype first.\n",
      "  df.loc[df['Survived'] == 1, 'Survived'] = 'alive'\n"
     ]
    },
    {
     "data": {
      "text/html": [
       "<div>\n",
       "<style scoped>\n",
       "    .dataframe tbody tr th:only-of-type {\n",
       "        vertical-align: middle;\n",
       "    }\n",
       "\n",
       "    .dataframe tbody tr th {\n",
       "        vertical-align: top;\n",
       "    }\n",
       "\n",
       "    .dataframe thead th {\n",
       "        text-align: right;\n",
       "    }\n",
       "</style>\n",
       "<table border=\"1\" class=\"dataframe\">\n",
       "  <thead>\n",
       "    <tr style=\"text-align: right;\">\n",
       "      <th></th>\n",
       "      <th>PassengerId</th>\n",
       "      <th>Survived</th>\n",
       "      <th>Pclass</th>\n",
       "      <th>Name</th>\n",
       "      <th>Sex</th>\n",
       "      <th>Age</th>\n",
       "      <th>SibSp</th>\n",
       "      <th>Parch</th>\n",
       "      <th>Ticket</th>\n",
       "      <th>Fare</th>\n",
       "      <th>Cabin</th>\n",
       "      <th>Embarked</th>\n",
       "      <th>Title</th>\n",
       "    </tr>\n",
       "  </thead>\n",
       "  <tbody>\n",
       "    <tr>\n",
       "      <th>0</th>\n",
       "      <td>1</td>\n",
       "      <td>dead</td>\n",
       "      <td>3</td>\n",
       "      <td>Braund, Mr. Owen Harris</td>\n",
       "      <td>male</td>\n",
       "      <td>22.0</td>\n",
       "      <td>1</td>\n",
       "      <td>0</td>\n",
       "      <td>A/5 21171</td>\n",
       "      <td>7.2500</td>\n",
       "      <td>NaN</td>\n",
       "      <td>S</td>\n",
       "      <td>Mr.</td>\n",
       "    </tr>\n",
       "    <tr>\n",
       "      <th>1</th>\n",
       "      <td>2</td>\n",
       "      <td>alive</td>\n",
       "      <td>1</td>\n",
       "      <td>Cumings, Mrs. John Bradley (Florence Briggs Th...</td>\n",
       "      <td>female</td>\n",
       "      <td>38.0</td>\n",
       "      <td>1</td>\n",
       "      <td>0</td>\n",
       "      <td>PC 17599</td>\n",
       "      <td>71.2833</td>\n",
       "      <td>C85</td>\n",
       "      <td>C</td>\n",
       "      <td>Mrs.</td>\n",
       "    </tr>\n",
       "    <tr>\n",
       "      <th>2</th>\n",
       "      <td>3</td>\n",
       "      <td>alive</td>\n",
       "      <td>3</td>\n",
       "      <td>Heikkinen, Miss. Laina</td>\n",
       "      <td>female</td>\n",
       "      <td>26.0</td>\n",
       "      <td>0</td>\n",
       "      <td>0</td>\n",
       "      <td>STON/O2. 3101282</td>\n",
       "      <td>7.9250</td>\n",
       "      <td>NaN</td>\n",
       "      <td>S</td>\n",
       "      <td>Miss.</td>\n",
       "    </tr>\n",
       "  </tbody>\n",
       "</table>\n",
       "</div>"
      ],
      "text/plain": [
       "   PassengerId Survived  Pclass  \\\n",
       "0            1     dead       3   \n",
       "1            2    alive       1   \n",
       "2            3    alive       3   \n",
       "\n",
       "                                                Name     Sex   Age  SibSp  \\\n",
       "0                            Braund, Mr. Owen Harris    male  22.0      1   \n",
       "1  Cumings, Mrs. John Bradley (Florence Briggs Th...  female  38.0      1   \n",
       "2                             Heikkinen, Miss. Laina  female  26.0      0   \n",
       "\n",
       "   Parch            Ticket     Fare Cabin Embarked  Title  \n",
       "0      0         A/5 21171   7.2500   NaN        S    Mr.  \n",
       "1      0          PC 17599  71.2833   C85        C   Mrs.  \n",
       "2      0  STON/O2. 3101282   7.9250   NaN        S  Miss.  "
      ]
     },
     "execution_count": 5,
     "metadata": {},
     "output_type": "execute_result"
    }
   ],
   "source": [
    "df.loc[df['Survived'] == 1, 'Survived'] = 'alive'\n",
    "df.loc[df['Survived'] == 0, 'Survived'] = 'dead'\n",
    "df.head(3)\n"
   ]
  },
  {
   "cell_type": "markdown",
   "metadata": {},
   "source": [
    "Berechne die Anzahl der Zeichen im  Name  jeder Person und erstelle eine neue Spalte  NameLength. \n"
   ]
  },
  {
   "cell_type": "code",
   "execution_count": 6,
   "metadata": {},
   "outputs": [
    {
     "data": {
      "text/html": [
       "<div>\n",
       "<style scoped>\n",
       "    .dataframe tbody tr th:only-of-type {\n",
       "        vertical-align: middle;\n",
       "    }\n",
       "\n",
       "    .dataframe tbody tr th {\n",
       "        vertical-align: top;\n",
       "    }\n",
       "\n",
       "    .dataframe thead th {\n",
       "        text-align: right;\n",
       "    }\n",
       "</style>\n",
       "<table border=\"1\" class=\"dataframe\">\n",
       "  <thead>\n",
       "    <tr style=\"text-align: right;\">\n",
       "      <th></th>\n",
       "      <th>PassengerId</th>\n",
       "      <th>Survived</th>\n",
       "      <th>Pclass</th>\n",
       "      <th>Name</th>\n",
       "      <th>Sex</th>\n",
       "      <th>Age</th>\n",
       "      <th>SibSp</th>\n",
       "      <th>Parch</th>\n",
       "      <th>Ticket</th>\n",
       "      <th>Fare</th>\n",
       "      <th>Cabin</th>\n",
       "      <th>Embarked</th>\n",
       "      <th>Title</th>\n",
       "      <th>NameLength</th>\n",
       "    </tr>\n",
       "  </thead>\n",
       "  <tbody>\n",
       "    <tr>\n",
       "      <th>0</th>\n",
       "      <td>1</td>\n",
       "      <td>dead</td>\n",
       "      <td>3</td>\n",
       "      <td>Braund, Mr. Owen Harris</td>\n",
       "      <td>male</td>\n",
       "      <td>22.0</td>\n",
       "      <td>1</td>\n",
       "      <td>0</td>\n",
       "      <td>A/5 21171</td>\n",
       "      <td>7.2500</td>\n",
       "      <td>NaN</td>\n",
       "      <td>S</td>\n",
       "      <td>Mr.</td>\n",
       "      <td>28</td>\n",
       "    </tr>\n",
       "    <tr>\n",
       "      <th>1</th>\n",
       "      <td>2</td>\n",
       "      <td>alive</td>\n",
       "      <td>1</td>\n",
       "      <td>Cumings, Mrs. John Bradley (Florence Briggs Th...</td>\n",
       "      <td>female</td>\n",
       "      <td>38.0</td>\n",
       "      <td>1</td>\n",
       "      <td>0</td>\n",
       "      <td>PC 17599</td>\n",
       "      <td>71.2833</td>\n",
       "      <td>C85</td>\n",
       "      <td>C</td>\n",
       "      <td>Mrs.</td>\n",
       "      <td>35</td>\n",
       "    </tr>\n",
       "  </tbody>\n",
       "</table>\n",
       "</div>"
      ],
      "text/plain": [
       "   PassengerId Survived  Pclass  \\\n",
       "0            1     dead       3   \n",
       "1            2    alive       1   \n",
       "\n",
       "                                                Name     Sex   Age  SibSp  \\\n",
       "0                            Braund, Mr. Owen Harris    male  22.0      1   \n",
       "1  Cumings, Mrs. John Bradley (Florence Briggs Th...  female  38.0      1   \n",
       "\n",
       "   Parch     Ticket     Fare Cabin Embarked Title  NameLength  \n",
       "0      0  A/5 21171   7.2500   NaN        S   Mr.          28  \n",
       "1      0   PC 17599  71.2833   C85        C  Mrs.          35  "
      ]
     },
     "execution_count": 6,
     "metadata": {},
     "output_type": "execute_result"
    }
   ],
   "source": [
    "df['NameLength'] = df.groupby('Title')['Name'].apply(lambda x: x.str.len()).reset_index(drop=True)\n",
    "#df['NameLength'] = df['Name'].apply(len)\n",
    "\n",
    "df.head(2)"
   ]
  },
  {
   "cell_type": "markdown",
   "metadata": {},
   "source": [
    "Verwende  apply  und besmme die durchschnilicheNamenslänge für Überlebende und Nicht-Überlebende. "
   ]
  },
  {
   "cell_type": "code",
   "execution_count": 7,
   "metadata": {},
   "outputs": [
    {
     "data": {
      "text/plain": [
       "Survived\n",
       "alive    26.64\n",
       "dead     27.17\n",
       "Name: NameLength, dtype: float64"
      ]
     },
     "execution_count": 7,
     "metadata": {},
     "output_type": "execute_result"
    }
   ],
   "source": [
    "filtr = df.groupby(['Survived'])['NameLength'].mean().round(2)# Durchschnittliche Anzahl der Buchstaben in Name für überlebende und nicht überlebende\n",
    "filtr"
   ]
  },
  {
   "cell_type": "markdown",
   "metadata": {},
   "source": [
    "**Überlebensrate basierend auf dem Fahrpreis**\n",
    "Teile die Passagiere in drei Gruppen anhand des Fahrpreises ( Fare ) auf. \n",
    "Überlege,wie du diese Gruppen ungefähr gleichmäßig verteilen kannst. \n",
    "Berechne für jededer drei Gruppen die durchschniliche Überlebensrate und gib sie aus. (dasDataFrame kann mit  sort_values(<Spaltenname>)  sorert werden)"
   ]
  },
  {
   "cell_type": "code",
   "execution_count": 8,
   "metadata": {},
   "outputs": [
    {
     "name": "stdout",
     "output_type": "stream",
     "text": [
      "Die durchschnittliche Preis des Tickets ist 32.2 Euro, min ist 0.0, max ist 512.3292\n",
      "Fare\n",
      "(-0.512, 170.776]     0.376579\n",
      "(170.776, 341.553]    0.647059\n",
      "(341.553, 512.329]         1.0\n",
      "Name: Survived, dtype: object\n"
     ]
    },
    {
     "name": "stderr",
     "output_type": "stream",
     "text": [
      "C:\\Users\\NataliaArchipenko\\AppData\\Local\\Temp\\ipykernel_26088\\2763682616.py:13: FutureWarning: The default of observed=False is deprecated and will be changed to True in a future version of pandas. Pass observed=False to retain current behavior or observed=True to adopt the future default and silence this warning.\n",
      "  durchschnit_ueberlebensrat = df.groupby(teilen_3_gruppe)['Survived'].mean()\n"
     ]
    },
    {
     "data": {
      "text/html": [
       "<div>\n",
       "<style scoped>\n",
       "    .dataframe tbody tr th:only-of-type {\n",
       "        vertical-align: middle;\n",
       "    }\n",
       "\n",
       "    .dataframe tbody tr th {\n",
       "        vertical-align: top;\n",
       "    }\n",
       "\n",
       "    .dataframe thead th {\n",
       "        text-align: right;\n",
       "    }\n",
       "</style>\n",
       "<table border=\"1\" class=\"dataframe\">\n",
       "  <thead>\n",
       "    <tr style=\"text-align: right;\">\n",
       "      <th></th>\n",
       "      <th></th>\n",
       "      <th>Fare</th>\n",
       "    </tr>\n",
       "    <tr>\n",
       "      <th>Pclass</th>\n",
       "      <th>Survived</th>\n",
       "      <th></th>\n",
       "    </tr>\n",
       "  </thead>\n",
       "  <tbody>\n",
       "    <tr>\n",
       "      <th rowspan=\"2\" valign=\"top\">1</th>\n",
       "      <th>alive</th>\n",
       "      <td>95.61</td>\n",
       "    </tr>\n",
       "    <tr>\n",
       "      <th>dead</th>\n",
       "      <td>64.68</td>\n",
       "    </tr>\n",
       "    <tr>\n",
       "      <th rowspan=\"2\" valign=\"top\">2</th>\n",
       "      <th>alive</th>\n",
       "      <td>22.06</td>\n",
       "    </tr>\n",
       "    <tr>\n",
       "      <th>dead</th>\n",
       "      <td>19.41</td>\n",
       "    </tr>\n",
       "    <tr>\n",
       "      <th rowspan=\"2\" valign=\"top\">3</th>\n",
       "      <th>alive</th>\n",
       "      <td>13.69</td>\n",
       "    </tr>\n",
       "    <tr>\n",
       "      <th>dead</th>\n",
       "      <td>13.67</td>\n",
       "    </tr>\n",
       "  </tbody>\n",
       "</table>\n",
       "</div>"
      ],
      "text/plain": [
       "                  Fare\n",
       "Pclass Survived       \n",
       "1      alive     95.61\n",
       "       dead      64.68\n",
       "2      alive     22.06\n",
       "       dead      19.41\n",
       "3      alive     13.69\n",
       "       dead      13.67"
      ]
     },
     "execution_count": 8,
     "metadata": {},
     "output_type": "execute_result"
    }
   ],
   "source": [
    "\n",
    "durchschnitt = df['Fare'].mean()\n",
    "min_preis = df['Fare'].min()\n",
    "max_preis=df['Fare'].max()\n",
    "print(f'Die durchschnittliche Preis des Tickets ist {durchschnitt.round(2)} Euro, min ist {min_preis}, max ist {max_preis}')\n",
    "\n",
    "#tauschen Überlebensrat von string zu Zahl\n",
    "df.loc[df['Survived'] == 'alive', 'Survived'] = 1\n",
    "df.loc[df['Survived'] == 'dead', 'Survived'] = 0\n",
    "\n",
    "# Teilen der 'Fare'-Spalte in 3 Gruppen bins= 3\n",
    "teilen_3_gruppe = pd.cut(df['Fare'], bins=3)\n",
    "\n",
    "durchschnit_ueberlebensrat = df.groupby(teilen_3_gruppe)['Survived'].mean()\n",
    "\n",
    "print(durchschnit_ueberlebensrat)\n",
    "\n",
    "#andere Variante mit Teilung durch Klassen\n",
    "df.loc[df['Survived'] == 1, 'Survived'] = 'alive'\n",
    "df.loc[df['Survived'] == 0, 'Survived'] = 'dead'\n",
    "\n",
    "filtr = df.groupby(['Pclass','Survived'])['Fare'].mean().round(2)\n",
    "\n",
    "filtr.to_frame()"
   ]
  },
  {
   "cell_type": "code",
   "execution_count": 9,
   "metadata": {},
   "outputs": [
    {
     "name": "stdout",
     "output_type": "stream",
     "text": [
      "891\n",
      "297\n",
      "Überlebensrate für die erste Gruppe: 0.20\n",
      "Überlebensrate für die zweite Gruppe: 0.39\n",
      "Überlebensrate für die dritte Gruppe: 0.56\n"
     ]
    }
   ],
   "source": [
    "#Variant von Andreas\n",
    "df.loc[df['Survived'] == 'alive', 'Survived'] = 1\n",
    "df.loc[df['Survived'] == 'dead', 'Survived'] = 0\n",
    "df_sorted=df.sort_values('Fare')\n",
    "n = len(df_sorted)\n",
    "print(n)\n",
    "\n",
    "# Teilen auf drei Gruppen:\n",
    "group_size = n // 3\n",
    "print(group_size)\n",
    "\n",
    "# Gruppenzuordnung\n",
    "group_1 = df_sorted.iloc[:group_size]\n",
    "group_2 = df_sorted.iloc[group_size:2*group_size]\n",
    "group_3 = df_sorted.iloc[2*group_size:]\n",
    "\n",
    "# Überlebensrate für jede Gruppe:\n",
    "survived_g1 = group_1['Survived'].mean()\n",
    "survived_g2 = group_2['Survived'].mean()\n",
    "survived_g3 = group_3['Survived'].mean()\n",
    "\n",
    "# Korrektur der Ausgabetexte\n",
    "print(f'Überlebensrate für die erste Gruppe: {survived_g1:.2f}')\n",
    "print(f'Überlebensrate für die zweite Gruppe: {survived_g2:.2f}')\n",
    "print(f'Überlebensrate für die dritte Gruppe: {survived_g3:.2f}')\n",
    "\n",
    "\n",
    "\n"
   ]
  },
  {
   "cell_type": "markdown",
   "metadata": {},
   "source": [
    "**Analyse des Alters basierend auf Überlebensstatus**\n",
    "\n",
    "Untersuche das Alter (Age) der Überlebenden und Nicht-Überlebenden. \n",
    "Berechne für jede Gruppe (Überlebende und Nicht-Überlebende) das Durchschnittsalter sowie den Median. Erstelle einen KDE-Plot mit seaborn, um die Altersverteilung in den beiden Gruppen visuell darzustellen. Die Optionen fill=True und color=\"<Farbe>\" können benutzt werden, um die Fläche unter der Dichtefunktion farbig darzustellen."
   ]
  },
  {
   "cell_type": "code",
   "execution_count": 10,
   "metadata": {},
   "outputs": [
    {
     "data": {
      "text/html": [
       "<div>\n",
       "<style scoped>\n",
       "    .dataframe tbody tr th:only-of-type {\n",
       "        vertical-align: middle;\n",
       "    }\n",
       "\n",
       "    .dataframe tbody tr th {\n",
       "        vertical-align: top;\n",
       "    }\n",
       "\n",
       "    .dataframe thead th {\n",
       "        text-align: right;\n",
       "    }\n",
       "</style>\n",
       "<table border=\"1\" class=\"dataframe\">\n",
       "  <thead>\n",
       "    <tr style=\"text-align: right;\">\n",
       "      <th></th>\n",
       "      <th>mean</th>\n",
       "      <th>median</th>\n",
       "    </tr>\n",
       "    <tr>\n",
       "      <th>Survived</th>\n",
       "      <th></th>\n",
       "      <th></th>\n",
       "    </tr>\n",
       "  </thead>\n",
       "  <tbody>\n",
       "    <tr>\n",
       "      <th>0</th>\n",
       "      <td>30.626179</td>\n",
       "      <td>28.0</td>\n",
       "    </tr>\n",
       "    <tr>\n",
       "      <th>1</th>\n",
       "      <td>28.343690</td>\n",
       "      <td>28.0</td>\n",
       "    </tr>\n",
       "  </tbody>\n",
       "</table>\n",
       "</div>"
      ],
      "text/plain": [
       "               mean  median\n",
       "Survived                   \n",
       "0         30.626179    28.0\n",
       "1         28.343690    28.0"
      ]
     },
     "execution_count": 10,
     "metadata": {},
     "output_type": "execute_result"
    }
   ],
   "source": [
    "df.head(3)\n",
    "\n",
    "filtr = df.groupby(['Survived'])['Age'].agg(['mean', 'median'])\n",
    "filtr"
   ]
  },
  {
   "cell_type": "code",
   "execution_count": 11,
   "metadata": {},
   "outputs": [
    {
     "name": "stdout",
     "output_type": "stream",
     "text": [
      "Median Alter der Überlebenden: nan\n",
      "Das durchschnittliche Alter: nan\n",
      "\n",
      "Median Alter der Nicht-Überlebenden: nan\n",
      "Das durchschnittliches Alter: nan\n"
     ]
    },
    {
     "name": "stderr",
     "output_type": "stream",
     "text": [
      "c:\\Users\\NataliaArchipenko\\AppData\\Local\\Programs\\Python\\Python312\\Lib\\site-packages\\numpy\\_core\\fromnumeric.py:3904: RuntimeWarning: Mean of empty slice.\n",
      "  return _methods._mean(a, axis=axis, dtype=dtype,\n",
      "c:\\Users\\NataliaArchipenko\\AppData\\Local\\Programs\\Python\\Python312\\Lib\\site-packages\\numpy\\_core\\_methods.py:147: RuntimeWarning: invalid value encountered in scalar divide\n",
      "  ret = ret.dtype.type(ret / rcount)\n"
     ]
    }
   ],
   "source": [
    "import numpy as np\n",
    "liste_ueberlebende = df[df['Survived'] == 'alive']['Age'].dropna().tolist()\n",
    "liste_nicht_ueberlebende = df[df['Survived'] == 'dead']['Age'].dropna().tolist()\n",
    "\n",
    "# Median berechnen\n",
    "median_ueberlebende = np.median(liste_ueberlebende)\n",
    "median_nicht_ueberlebende = np.median(liste_nicht_ueberlebende)\n",
    "mean_ueberlebende = np.mean(liste_ueberlebende )\n",
    "mean_nicht_ueberlebende = np.mean(liste_nicht_ueberlebende)\n",
    "print(f\"Median Alter der Überlebenden: {median_ueberlebende}\\nDas durchschnittliche Alter: {mean_ueberlebende:.2f}\\n\")\n",
    "print(f\"Median Alter der Nicht-Überlebenden: {median_nicht_ueberlebende}\\nDas durchschnittliches Alter: {mean_ueberlebende:.2f}\")\n"
   ]
  },
  {
   "cell_type": "code",
   "execution_count": 21,
   "metadata": {},
   "outputs": [
    {
     "name": "stdout",
     "output_type": "stream",
     "text": [
      "               mean  median\n",
      "Survived                   \n",
      "0         30.626179    28.0\n",
      "1         28.343690    28.0\n"
     ]
    },
    {
     "data": {
      "text/plain": [
       "<Axes: xlabel='median', ylabel='mean'>"
      ]
     },
     "execution_count": 21,
     "metadata": {},
     "output_type": "execute_result"
    },
    {
     "data": {
      "image/png": "[encoded data removed]",
      "text/plain": [
       "<Figure size 640x480 with 1 Axes>"
      ]
     },
     "metadata": {},
     "output_type": "display_data"
    }
   ],
   "source": [
    "import matplotlib.pyplot as plt\n",
    "import seaborn as sns\n",
    "print(filtr)\n",
    "sns.barplot( data=filtr, x='median', y='mean', hue='Survived', palette='Greens')\n",
    "\n"
   ]
  },
  {
   "cell_type": "code",
   "execution_count": 27,
   "metadata": {},
   "outputs": [
    {
     "name": "stderr",
     "output_type": "stream",
     "text": [
      "C:\\Users\\NataliaArchipenko\\AppData\\Local\\Temp\\ipykernel_26088\\914045720.py:1: UserWarning: Dataset has 0 variance; skipping density estimate. Pass `warn_singular=False` to disable this warning.\n",
      "  sns.kdeplot(filtr)\n"
     ]
    },
    {
     "data": {
      "text/plain": [
       "<Axes: ylabel='Density'>"
      ]
     },
     "execution_count": 27,
     "metadata": {},
     "output_type": "execute_result"
    },
    {
     "data": {
      "image/png": "[encoded data removed]",
      "text/plain": [
       "<Figure size 640x480 with 1 Axes>"
      ]
     },
     "metadata": {},
     "output_type": "display_data"
    }
   ],
   "source": [
    "sns.kdeplot(filtr)"
   ]
  }
 ],
 "metadata": {
  "kernelspec": {
   "display_name": "Python 3",
   "language": "python",
   "name": "python3"
  },
  "language_info": {
   "codemirror_mode": {
    "name": "ipython",
    "version": 3
   },
   "file_extension": ".py",
   "mimetype": "text/x-python",
   "name": "python",
   "nbconvert_exporter": "python",
   "pygments_lexer": "ipython3",
   "version": "3.12.4"
  }
 },
 "nbformat": 4,
 "nbformat_minor": 2
}
