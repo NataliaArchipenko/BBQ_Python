{
 "cells": [
  {
   "cell_type": "markdown",
   "metadata": {},
   "source": [
    "### Logistische Regression zur Vorhersage der Klassifikation\n",
    "Logistische Regression ist ein statistisches Verfahren, das verwendet wird, um die Wahrscheinlichkeit eines Ereignisses vorherzusagen, welches nur zwei mögliche Ergebnisse hat. Stellen Sie sich vor, Sie möchten vorhersagen, ob ein Student eine Prüfung besteht (Ereignis = 1) oder nicht besteht (Ereignis = 0), basierend auf der Anzahl der Stunden, die er für die Prüfung gelernt hat.\n",
    "\n",
    "Hier ist eine einfache Erklärung des Prozesses in Python:\n"
   ]
  },
  {
   "cell_type": "markdown",
   "metadata": {},
   "source": [
    "\n",
    "1. **Daten sammeln:** Zuerst benötigen Sie Daten. In unserem Beispiel wären das die Anzahl der Studienstunden und ob der Student die Prüfung bestanden hat oder nicht.\n",
    "\n",
    "2. **Modell vorbereiten:** Logistische Regression verwendet eine spezielle Funktion, die \"Sigmoid-Funktion\" genannt wird, um die Wahrscheinlichkeit zu berechnen, dass ein bestimmtes Ereignis eintritt. Diese Funktion gibt Werte zwischen 0 und 1 zurück, was perfekt für Wahrscheinlichkeiten ist.\n",
    "\n",
    "3. **Training des Modells:** Das Modell \"lernt\" aus den Daten. Es versucht, die Beziehung zwischen der Anzahl der Studienstunden und der Wahrscheinlichkeit des Bestehens der Prüfung zu verstehen. Dabei wird eine \"Verlustfunktion\" verwendet, um zu messen, wie gut das Modell die Daten vorhersagt, und es versucht, diesen Verlust zu minimieren.\n",
    "\n",
    "4. **Vorhersagen treffen:** Nachdem das Modell trainiert wurde, können Sie es verwenden, um die Wahrscheinlichkeit des Bestehens der Prüfung basierend auf der Anzahl der Studienstunden vorherzusagen.\n",
    "\n",
    "Lassen Sie uns dies mit einem einfachen Python-Codebeispiel demonstrieren. Wir werden die `LogisticRegression`-Klasse aus der `scikit-learn`-Bibliothek verwenden. Stellen Sie sich vor, wir haben einen Datensatz mit Stunden (`hours`) und einer binären Variablen, die angibt, ob der Student die Prüfung bestanden hat (`passed`).\n",
    "\n",
    "In diesem Beispiel haben wir ein logistisches Regressionsmodell mit einem einfachen Datensatz trainiert, der aus der Anzahl der Studienstunden (`hours`) und Informationen darüber besteht, ob der Student die Prüfung bestanden hat (`passed`).\n",
    "\n",
    "Das Modell wurde dann verwendet, um die Wahrscheinlichkeit vorherzusagen, dass ein Student, der 5 Stunden lernt, die Prüfung besteht. Laut unserem Modell beträgt diese Wahrscheinlichkeit etwa 38.87%. \n",
    "\n",
    "Es ist wichtig zu beachten, dass diese Zahl stark von der Qualität und Quantität der Daten, die für das Training des Modells verwendet werden, abhängt. In einem realen Szenario würde man ein viel umfangreicheres und komplexeres Datenset verwenden, um genauere Vorhersagen zu machen."
   ]
  },
  {
   "cell_type": "code",
   "execution_count": null,
   "metadata": {},
   "outputs": [],
   "source": [
    "from sklearn.linear_model import LogisticRegression\n",
    "import numpy as np\n",
    "\n",
    "# Beispiel Daten\n",
    "# Stunden studiert\n",
    "hours = np.array([1, 2, 3, 4, 5, 6, 7, 8, 9, 10]).reshape(-1, 1)\n",
    "# Ob bestanden: 0 = nicht bestanden, 1 = bestanden\n",
    "passed = np.array([0, 0, 0, 0, 1, 0, 1, 1, 1, 1])\n",
    "\n",
    "# Modell erstellen und trainieren\n",
    "model = LogisticRegression()\n",
    "model.fit(hours, passed)\n",
    "\n",
    "# Vorhersage für einen Studenten, der 5 Stunden gelernt hat\n",
    "predicted_probability = model.predict_proba([[5]])[0][1]\n",
    "predicted_probability\n"
   ]
  },
  {
   "cell_type": "markdown",
   "metadata": {},
   "source": [
    "Die Konfusionsmatrix ist ein mächtiges Werkzeug zur Bewertung der Leistung von Klassifikationsmodellen. Sie zeigt, wie gut ein Modell bei der Vorhersage von Klassen funktioniert. Ich werde zunächst eine schematische Darstellung der Konfusionsmatrix erstellen und dann detailliert auf die Formeln eingehen, die zur Berechnung verschiedener Gütekriterien verwendet werden.\n",
    "\n",
    "### Schematische Darstellung der Konfusionsmatrix\n",
    "\n",
    "Stellen Sie sich die Konfusionsmatrix als eine Tabelle vor, die die tatsächlichen Klassen (oben) und die vorhergesagten Klassen (links) eines Klassifikationsmodells anzeigt:\n",
    "\n",
    "| Tatsächlich \\ Vorhergesagt | Positiv    | Negativ    |\n",
    "|----------------------------|------------|------------|\n",
    "| **Positiv**                | TP         | FN         |\n",
    "| **Negativ**                | FP         | TN         |\n",
    "\n",
    "- **TP (True Positives):** Anzahl der Fälle, die korrekt als positiv klassifiziert wurden.\n",
    "- **TN (True Negatives):** Anzahl der Fälle, die korrekt als negativ klassifiziert wurden.\n",
    "- **FP (False Positives):** Anzahl der Fälle, die fälschlicherweise als positiv klassifiziert wurden (Typ I Fehler).\n",
    "- **FN (False Negatives):** Anzahl der Fälle, die fälschlicherweise als negativ klassifiziert wurden (Typ II Fehler).\n",
    "\n",
    "### Berechnung der Gütekriterien\n",
    "\n",
    "1. **Genauigkeit (Accuracy):** Gesamtanteil der korrekten Vorhersagen.<br/><br/>\n",
    "   $\\text{Accuracy} = \\frac{TP + TN}{TP + TN + FP + FN}$\n",
    "\n",
    "2. **Präzision (Precision):** Anteil der korrekten positiven Vorhersagen an allen positiven Vorhersagen.\n",
    "   <br/><br/>\n",
    "   $\\text{Precision} = \\frac{TP}{TP + FP}$\n",
    "\n",
    "3. **Sensitivität (Recall) / Trefferquote:**\n",
    "   Anteil der korrekten positiven Vorhersagen an der Gesamtzahl der tatsächlich positiven Fälle.\n",
    "   <br/><br/>\n",
    "   $\\text{Recall} = \\frac{TP}{TP + FN}$\n",
    "\n",
    "4. **Spezifität (Specificity):**\n",
    "   Anteil der korrekten negativen Vorhersagen an der Gesamtzahl der tatsächlich negativen Fälle.\n",
    "   <br/><br/>\n",
    "   $\\text{Specificity} = \\frac{TN}{TN + FP}$\n",
    "\n",
    "5. **F1-Score:**\n",
    "   Harmonisches Mittel von Präzision und Sensitivität, nützlich bei unausgewogenen Klassen.\n",
    "   <br/><br/>\n",
    "   $\\text{F1} = 2 \\times \\frac{\\text{Precision} \\times \\text{Recall}}{\\text{Precision} + \\text{Recall}}$\n",
    "\n",
    "Diese Maße geben Auskunft über verschiedene Aspekte der Klassifikationsleistung und sind besonders wichtig, um die Stärken und Schwächen des Modells zu verstehen, insbesondere in Fällen unausgewogener Datensätze."
   ]
  },
  {
   "cell_type": "markdown",
   "metadata": {},
   "source": [
    "### Gütekriterien - Konfusionsmatrix\n",
    "\n",
    "Um die Konfusionsmatrix und die damit verbundenen Gütekriterien zu erklären, werden wir das Beispiel in Python durchgehen. Wir verwenden wieder ein logistisches Regressionsmodell, wie zuvor, und erstellen eine Konfusionsmatrix für die Ergebnisse. Anschließend berechnen wir verschiedene Gütekriterien wie Genauigkeit (Accuracy), Präzision (Precision), Sensitivität (Recall), Spezifität und F1-Score.\n",
    "\n",
    "### Schritt 1: Datenvorbereitung und Modelltraining\n",
    "Wir verwenden denselben Datensatz wie zuvor, in dem wir vorhersagen wollen, ob ein Student eine Prüfung besteht, basierend auf der Anzahl der Studienstunden.\n",
    "\n",
    "### Schritt 2: Modellvorhersagen\n",
    "Wir verwenden das Modell, um Vorhersagen für unseren Datensatz zu treffen. Diese Vorhersagen werden dann verwendet, um die Konfusionsmatrix zu erstellen.\n",
    "\n",
    "### Schritt 3: Erstellen der Konfusionsmatrix\n",
    "Die Konfusionsmatrix ist eine Tabelle, die zeigt, wie viele Vorhersagen in jede Kategorie fallen (True Positive, False Positive, True Negative, False Negative).\n",
    "\n",
    "### Schritt 4: Berechnung der Gütekriterien\n",
    "Wir berechnen verschiedene Maße wie Genauigkeit, Präzision, Sensitivität, Spezifität und F1-Score, die uns ein detailliertes Bild über die Leistung unseres Modells geben.\n",
    "\n",
    "Lassen Sie uns diesen Prozess in Python durchführen:\n"
   ]
  },
  {
   "cell_type": "code",
   "execution_count": 2,
   "metadata": {},
   "outputs": [
    {
     "data": {
      "text/plain": [
       "(array([[4, 1],\n",
       "        [1, 4]]),\n",
       " 0.8,\n",
       " 0.8,\n",
       " 0.8,\n",
       " 0.8,\n",
       " 0.8000000000000002)"
      ]
     },
     "execution_count": 2,
     "metadata": {},
     "output_type": "execute_result"
    }
   ],
   "source": [
    "from sklearn.linear_model import LogisticRegression\n",
    "from sklearn.metrics import confusion_matrix, accuracy_score, precision_score, recall_score, f1_score\n",
    "import numpy as np\n",
    "\n",
    "# Beispiel Daten\n",
    "# Stunden studiert\n",
    "hours = np.array([1, 2, 3, 4, 5, 6, 7, 8, 9, 10]).reshape(-1, 1)\n",
    "# Ob bestanden: 0 = nicht bestanden, 1 = bestanden\n",
    "passed = np.array([0, 0, 0, 0, 1, 0, 1, 1, 1, 1])\n",
    "\n",
    "# Modell erstellen und trainieren\n",
    "model = LogisticRegression()\n",
    "model.fit(hours, passed)\n",
    "\n",
    "# Vorhersagen für den gesamten Datensatz\n",
    "predictions = model.predict(hours)\n",
    "\n",
    "# Erstellen der Konfusionsmatrix\n",
    "conf_matrix = confusion_matrix(passed, predictions)\n",
    "\n",
    "# Berechnung der Gütekriterien\n",
    "accuracy = accuracy_score(passed, predictions)\n",
    "precision = precision_score(passed, predictions)\n",
    "recall = recall_score(passed, predictions)\n",
    "f1 = f1_score(passed, predictions)\n",
    "\n",
    "# Spezifität manuell berechnen\n",
    "tn, fp, fn, tp = conf_matrix.ravel()\n",
    "specificity = tn / (tn + fp)\n",
    "\n",
    "conf_matrix, accuracy, precision, recall, specificity, f1\n"
   ]
  },
  {
   "cell_type": "markdown",
   "metadata": {},
   "source": [
    "\n",
    "Hier sind die Ergebnisse der Konfusionsmatrix und der Gütekriterien für unser logistisches Regressionsmodell:\n",
    "\n",
    "### Konfusionsmatrix\n",
    "Die Konfusionsmatrix für unser Modell sieht so aus:\n",
    "\n",
    "| Tatsächlich \\ Vorhergesagt | Positiv | Negativ |\n",
    "|----------------------------|---------|---------|\n",
    "| **Positiv**                | 4 (TP)  | 1 (FN)  |\n",
    "| **Negativ**                | 1 (FP)  | 4 (TN)  |\n",
    "\n",
    "### Gütekriterien\n",
    "- **Genauigkeit (Accuracy):** 0.8 (80%)\n",
    "- **Präzision (Precision):** 0.8 (80%)\n",
    "- **Sensitivität (Recall):** 0.8 (80%)\n",
    "- **Spezifität:** 0.8 (80%)\n",
    "- **F1-Score:** 0.8\n",
    "\n",
    "Diese Zahlen bedeuten, dass das Modell in 80% der Fälle korrekt vorhersagt, ob ein Student die Prüfung besteht oder nicht. Die Präzision und Sensitivität sind ebenfalls bei 80%, was darauf hinweist, dass das Modell eine ausgewogene Leistung in Bezug auf die Vermeidung von falsch positiven und falsch negativen Vorhersagen zeigt. Der F1-Score, der ein harmonisches Mittel aus Präzision und Sensitivität darstellt, bestätigt ebenfalls die ausgewogene Leistung des Modells."
   ]
  }
 ],
 "metadata": {
  "kernelspec": {
   "display_name": "base",
   "language": "python",
   "name": "python3"
  },
  "language_info": {
   "codemirror_mode": {
    "name": "ipython",
    "version": 3
   },
   "file_extension": ".py",
   "mimetype": "text/x-python",
   "name": "python",
   "nbconvert_exporter": "python",
   "pygments_lexer": "ipython3",
   "version": "3.11.4"
  }
 },
 "nbformat": 4,
 "nbformat_minor": 2
}
