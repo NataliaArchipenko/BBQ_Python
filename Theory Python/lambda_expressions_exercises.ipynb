{
 "cells": [
  {
   "cell_type": "markdown",
   "metadata": {},
   "source": [
    "1. Write a Python program to create a lambda function that adds 15 to a given number passed in as an argument, also create a lambda function that multiplies argument x with argument y and prints the result.\n",
    "\n",
    "    Sample Output:\n",
    "    25\n",
    "    48\n",
    "\n",
    "[Click me to see the sample solution](https://w3resource.com/python-exercises/lambda/python-lambda-exercise-1.php)\n"
   ]
  },
  {
   "cell_type": "code",
   "execution_count": 35,
   "metadata": {},
   "outputs": [
    {
     "name": "stdout",
     "output_type": "stream",
     "text": [
      "25 48\n",
      "40\n",
      "63\n",
      "25 48\n"
     ]
    }
   ],
   "source": [
    "# your solution\n",
    "a = lambda x: x+15\n",
    "b = lambda x, y: x * y\n",
    "print (a(10), b(6,8))\n",
    "\n",
    "#von Lorena\n",
    "lamb_l = ['25', '48']\n",
    "mObj = map(lambda a: int(a) + 15, lamb_l)\n",
    "for x in mObj: \n",
    "    print(x)\n",
    "\n",
    "#von Lena\n",
    "print((lambda a: a + 15)(10), (lambda x, y: x * y)(6, 8))\n",
    " \n"
   ]
  },
  {
   "cell_type": "markdown",
   "metadata": {},
   "source": [
    "\n",
    "2. Write a Python program to create a function that takes one argument, and that argument will be multiplied with an unknown given number.\n",
    "Sample Output:\n",
    "Double the number of 15 = 30\n",
    "Triple the number of 15 = 45\n",
    "Quadruple the number of 15 = 60\n",
    "Quintuple the number 15 = 75\n",
    "\n",
    "[Click me to see the sample solution](https://w3resource.com/python-exercises/lambda/python-lambda-exercise-2.php)\n"
   ]
  },
  {
   "cell_type": "code",
   "execution_count": 36,
   "metadata": {},
   "outputs": [
    {
     "name": "stdout",
     "output_type": "stream",
     "text": [
      "30\n",
      "45\n",
      "60\n",
      "75\n",
      "Double of 15 = 30\n",
      "Triple of 15 = 45\n",
      "Quadruple of 15 = 60\n",
      "Quintuple of 15 = 75\n"
     ]
    }
   ],
   "source": [
    "# your solution\n",
    "def multi(b):\n",
    "    return lambda x: x*b\n",
    "\n",
    "print(multi(2)(15))\n",
    "print(multi(3)(15))\n",
    "print(multi(4)(15))\n",
    "print(multi(5)(15))\n",
    "\n",
    "#von Julia\n",
    "mult = lambda x, factor: x * factor\n",
    "\n",
    "num = 15\n",
    "\n",
    "print(f\"Double of {num} = {mult(num, 2)}\")    # 30\n",
    "print(f\"Triple of {num} = {mult(num, 3)}\")   # 45\n",
    "print(f\"Quadruple of {num} = {mult(num, 4)}\") # 60\n",
    "print(f\"Quintuple of {num} = {mult(num, 5)}\") # 75\n",
    "\n"
   ]
  },
  {
   "cell_type": "markdown",
   "metadata": {},
   "source": [
    "\n",
    "3. Write a Python program to sort a list of tuples using Lambda.\n",
    "Original list of tuples:\n",
    "[('English', 88), ('Science', 90), ('Maths', 97), ('Social sciences', 82)]\n",
    "Sorting the List of Tuples:\n",
    "[('Social sciences', 82), ('English', 88), ('Science', 90), ('Maths', 97)]\n",
    "\n",
    "[Click me to see the sample solution](https://w3resource.com/python-exercises/lambda/python-lambda-exercise-3.php)\n"
   ]
  },
  {
   "cell_type": "code",
   "execution_count": 37,
   "metadata": {},
   "outputs": [
    {
     "name": "stdout",
     "output_type": "stream",
     "text": [
      "[('Social sciences', 82), ('English', 88), ('Science', 90), ('Maths', 97)]\n"
     ]
    }
   ],
   "source": [
    "# your solution\n",
    "# Liste der Fächer mit Noten\n",
    "faeche_noten = [('English', 88), ('Science', 90), ('Maths', 97), ('Social sciences', 82)]\n",
    "\n",
    "sorted_list = sorted(faeche_noten, key=lambda x: x[1])\n",
    "\n",
    "print(sorted_list)\n"
   ]
  },
  {
   "cell_type": "markdown",
   "metadata": {},
   "source": [
    "\n",
    "4. Write a Python program to sort a list of dictionaries using Lambda.\n",
    "Original list of dictionaries :\n",
    "[{'make': 'Nokia', 'model': 216, 'color': 'Black'}, {'make': 'Mi Max', 'model': '2', 'color': 'Gold'}, {'make': 'Samsung', 'model': 7, 'color': 'Blue'}]\n",
    "Sorting the List of dictionaries :\n",
    "[{'make': 'Nokia', 'model': 216, 'color': 'Black'}, {'make': 'Samsung', 'model': 7, 'color': 'Blue'}, {'make': 'Mi Max', 'model': '2', 'color': 'Gold'}]\n",
    "\n",
    "[Click me to see the sample solution](https://w3resource.com/python-exercises/lambda/python-lambda-exercise-4.php)"
   ]
  },
  {
   "cell_type": "code",
   "execution_count": 38,
   "metadata": {},
   "outputs": [
    {
     "name": "stdout",
     "output_type": "stream",
     "text": [
      "[{'make': 'Mi Max', 'model': '2', 'color': 'Gold'}, {'make': 'Nokia', 'model': 216, 'color': 'Black'}, {'make': 'Samsung', 'model': 7, 'color': 'Blue'}]\n"
     ]
    }
   ],
   "source": [
    "# your solution\n",
    "dictionary =[{'make': 'Nokia', 'model': 216, 'color': 'Black'}, {'make': 'Mi Max', 'model': '2', 'color': 'Gold'}, {'make': 'Samsung', 'model': 7, 'color': 'Blue'}]\n",
    "\n",
    "sorted_dictionary =  sorted(dictionary, key=lambda x:x['make'])\n",
    "print(sorted_dictionary)\n"
   ]
  },
  {
   "cell_type": "markdown",
   "metadata": {},
   "source": [
    "5. Write a Python program to filter a list of integers using Lambda.\n",
    "Original list of integers:\n",
    "\n",
    "[1, 2, 3, 4, 5, 6, 7, 8, 9, 10]\n",
    "\n",
    "Even numbers from the said list:\n",
    "[2, 4, 6, 8, 10]\n",
    "\n",
    "Odd numbers from the said list:\n",
    "[1, 3, 5, 7, 9]\n",
    "\n",
    "[Click me to see the sample solution](https://w3resource.com/python-exercises/lambda/python-lambda-exercise-5.php#google_vignette)\n"
   ]
  },
  {
   "cell_type": "code",
   "execution_count": 39,
   "metadata": {},
   "outputs": [
    {
     "name": "stdout",
     "output_type": "stream",
     "text": [
      "[2, 4, 6, 8, 10]\n",
      "[1, 3, 5, 7, 9]\n",
      "Odd numbers: [1, 3, 5, 7, 9]\n",
      "Even numbers: [2, 4, 6, 8, 10]\n",
      "[2, 4, 6, 8, 10]\n",
      "[1, 3, 5, 7, 9]\n"
     ]
    }
   ],
   "source": [
    "# your solution\n",
    "original_list = [1, 2, 3, 4, 5, 6, 7, 8, 9, 10]\n",
    "even_nums = list(filter(lambda x: x % 2 == 0, original_list))\n",
    "odd_nums = list(filter(lambda x: x % 2 != 0, original_list))\n",
    "print(even_nums)\n",
    "print(odd_nums)\n",
    "\n",
    "#Lösung von Lena\n",
    "l = [1, 2, 3, 4, 5, 6, 7, 8, 9, 10]\n",
    "print('Odd numbers:', list(filter(lambda x: x %2, l)))\n",
    "print('Even numbers:', list(filter(lambda x: x %2 -1, l)))\n",
    "\n",
    "#Lösung von Lisa\n",
    "nums = [1, 2, 3, 4, 5, 6, 7, 8, 9, 10]\n",
    "even_nums = list(filter(lambda x: x % 2 == 0, nums))\n",
    "odd_nums = list(filter(lambda x: x%2 == 1, nums))\n",
    " \n",
    "print(even_nums)\n",
    "print(odd_nums)\n",
    " \n"
   ]
  },
  {
   "cell_type": "markdown",
   "metadata": {},
   "source": [
    "6. Write a Python program to square and cube every number in a given list of integers using Lambda.\n",
    "\n",
    "Original list of integers:\n",
    "[1, 2, 3, 4, 5, 6, 7, 8, 9, 10]\n",
    "\n",
    "Square every number of the said list:\n",
    "[1, 4, 9, 16, 25, 36, 49, 64, 81, 100]\n",
    "\n",
    "Cube every number of the said list:\n",
    "[1, 8, 27, 64, 125, 216, 343, 512, 729, 1000]\n",
    "\n",
    "[Click me to see the sample solution](https://w3resource.com/python-exercises/lambda/python-lambda-exercise-6.php#google_vignette)\n"
   ]
  },
  {
   "cell_type": "code",
   "execution_count": 40,
   "metadata": {},
   "outputs": [
    {
     "name": "stdout",
     "output_type": "stream",
     "text": [
      "[1, 4, 9, 16, 25, 36, 49, 64, 81, 100]\n",
      "[1, 8, 27, 64, 125, 216, 343, 512, 729, 1000]\n",
      "   1    1     1\n",
      "   2    4     8\n",
      "   3    9    27\n",
      "   4   16    64\n",
      "   5   25   125\n",
      "   6   36   216\n",
      "   7   49   343\n",
      "   8   64   512\n",
      "   9   81   729\n",
      "  10  100  1000\n"
     ]
    }
   ],
   "source": [
    "# your solution\n",
    "numbers = [1, 2, 3, 4, 5, 6, 7, 8, 9, 10]\n",
    "square = list(map(lambda x: x ** 2, numbers))\n",
    "cube = list(map(lambda x: x ** 3, numbers))\n",
    "print(square)\n",
    "print(cube)\n",
    "\n",
    "#von Olha\n",
    "umbers = [i for i in range(1,11)]\n",
    "list_of_squares = list(map(lambda x: x**2, numbers))\n",
    "list_of_cube = list(map(lambda x: x**3, numbers))\n",
    "for i, j, k in zip(numbers, list_of_squares, list_of_cube):\n",
    "    print(f\"{i:>4d} {j:=4d} {k:>5d}\")\n"
   ]
  },
  {
   "cell_type": "markdown",
   "metadata": {},
   "source": [
    "7. Write a Python program to find if a given string starts with a given character using Lambda.\n",
    "\n",
    "Sample Output:\n",
    "True\n",
    "False\n",
    "\n",
    "[Click me to see the sample solution](https://w3resource.com/python-exercises/lambda/python-lambda-exercise-7.php#google_vignette)\n"
   ]
  },
  {
   "cell_type": "code",
   "execution_count": 41,
   "metadata": {},
   "outputs": [
    {
     "name": "stdout",
     "output_type": "stream",
     "text": [
      "True\n",
      "False\n",
      "ohne if\n",
      "True\n",
      "False\n",
      "Lösung von Jay\n",
      "True\n",
      "False\n",
      "True\n"
     ]
    }
   ],
   "source": [
    "# your solution\n",
    "starts_with = lambda x: True if x.startswith('P') else False\n",
    "print(starts_with('Privet'))\n",
    "print(starts_with('privet'))\n",
    "print('ohne if')\n",
    "starts_with = lambda x: x.startswith('P')\n",
    "print(starts_with('Privet'))\n",
    "print(starts_with('privet'))\n",
    "\n",
    "print('Lösung von Jay')\n",
    "starts_with = lambda s, char: s.startswith(char)\n",
    "print(starts_with(\"Tom!\", \"T\"))  # True\n",
    "print(starts_with(\"Tom!\", \"M\"))  # False\n",
    "\n",
    "#Lösung von Cristian:\n",
    "my_str = 'Hello'\n",
    "print((lambda x: bool(my_str[0] == x))('H'))\n",
    " "
   ]
  },
  {
   "cell_type": "markdown",
   "metadata": {},
   "source": [
    "8. Write a Python program to extract year, month, date and time using Lambda.\n",
    "\n",
    "Sample Output:\n",
    "2020-01-15 09:03:32.744178\n",
    "\n",
    "2020\n",
    "\n",
    "1\n",
    "\n",
    "15\n",
    "\n",
    "09:03:32.744178\n",
    "\n",
    "[Click me to see the sample solution](https://w3resource.com/python-exercises/lambda/python-lambda-exercise-8.php#google_vignette)\n"
   ]
  },
  {
   "cell_type": "code",
   "execution_count": 16,
   "metadata": {},
   "outputs": [
    {
     "name": "stdout",
     "output_type": "stream",
     "text": [
      "2024\n",
      "10\n",
      "8\n",
      "12:55:03.526990\n",
      "2020\n",
      "1\n",
      "15\n",
      "09:03:32.744178\n",
      "Variante mit split\n",
      "['2020', '01', '15']\n",
      "09:03:32.744178\n",
      "2020\n",
      "1\n",
      "15\n",
      "09:03:32.744178\n",
      "2020\n",
      "1\n",
      "15\n",
      "09:03:32.744178\n",
      "2020 1 15 09:03:32.744178\n"
     ]
    }
   ],
   "source": [
    "# your solution\n",
    "import datetime\n",
    "time = datetime.datetime.now()\n",
    "year = lambda x: x.year\n",
    "month= lambda x: x.month\n",
    "day = lambda x: x.day\n",
    "time_now = lambda x: x.time()\n",
    "\n",
    "print(year(time))\n",
    "print(month(time))\n",
    "print(day(time))\n",
    "print(time_now(time))\n",
    "\n",
    "#Variante mit gegebene Zeit\n",
    "dtef = lambda dt: (dt[0:4], int(dt[5:7]), dt[8:10], dt[11:])\n",
    "(y, m, d, t) = dtef(\"2020-01-15 09:03:32.744178\")\n",
    "print(y, m, d, t, sep=\"\\n\")\n",
    "print('Variante mit split')\n",
    "dtef = lambda dt: (dt.split(\" \")[0].split(\"-\"), dt.split(\" \")[1])\n",
    "(d, t) = dtef(\"2020-01-15 09:03:32.744178\")\n",
    "print(d, t, sep=\"\\n\")\n",
    "(y,m,d) = map(lambda s: int(s), d)\n",
    "print(y,m,d,t, sep =\"\\n\")\n",
    "\n",
    "#Von Julia\n",
    "#datetime.strptime(date_string, format)\n",
    "#%Y: year\n",
    "#%m: month \n",
    "#%d:  day\n",
    "#%H:  hour \n",
    "#%M: minute \n",
    "#%S:  second \n",
    "#%f: microsecond \n",
    "from datetime import datetime\n",
    "dt_str = '2020-01-15 09:03:32.744178'\n",
    "dt = datetime.strptime(dt_str, '%Y-%m-%d %H:%M:%S.%f')\n",
    "print(dt.year, dt.month, dt.day, dt.time(), sep=\"\\n\")\n",
    "\n",
    "from datetime import datetime\n",
    "dt_str = '2020-01-15 09:03:32.744178'\n",
    "dt = datetime.strptime(dt_str, '%Y-%m-%d %H:%M:%S.%f')\n",
    "get_year = lambda x: x.year\n",
    "get_month = lambda x: x.month\n",
    "get_date = lambda x: x.day\n",
    "get_time = lambda x: x.time()\n",
    "print(get_year(dt), get_month(dt), get_date(dt), get_time(dt))"
   ]
  },
  {
   "cell_type": "markdown",
   "metadata": {},
   "source": [
    "9. Write a Python program to check whether a given string is a number or not using Lambda.\n",
    "\n",
    "Sample Output:\n",
    "\n",
    "True\n",
    "\n",
    "True\n",
    "\n",
    "False\n",
    "\n",
    "True\n",
    "\n",
    "False\n",
    "\n",
    "True\n",
    "\n",
    "Print checking numbers:\n",
    "\n",
    "True\n",
    "\n",
    "True\n",
    "\n",
    "[Click me to see the sample solution](https://w3resource.com/python-exercises/lambda/python-lambda-exercise-9.php#google_vignette)\n"
   ]
  },
  {
   "cell_type": "code",
   "execution_count": 23,
   "metadata": {},
   "outputs": [
    {
     "name": "stdout",
     "output_type": "stream",
     "text": [
      "True\n",
      "False\n",
      "True\n",
      "True\n",
      "False\n",
      "False\n"
     ]
    }
   ],
   "source": [
    "# your solution\n",
    "number_or_string = lambda x: x.isdigit()\n",
    "print(number_or_string('2'))\n",
    "print(number_or_string('a'))\n",
    "print(number_or_string('7'))\n",
    "\n",
    "y = lambda x: sum([c in ['0','1','2','3','4','5','6','7','8','9'] for c in x]) == len(x)\n",
    "print(y('1080'))\n",
    "print(y('g4st'))\n",
    "\n",
    "import re # Regular Expressions\n",
    "r = lambda x: bool(re.match(\"^[0-9]*$\", x))\n",
    "print(r('10A80'))#False"
   ]
  },
  {
   "cell_type": "markdown",
   "metadata": {},
   "source": [
    "10. Write a Python program to create Fibonacci series up to n using Lambda.\n",
    "\n",
    "Fibonacci series upto 2:\n",
    "[0, 1]\n",
    "\n",
    "Fibonacci series upto 5:\n",
    "[0, 1, 1, 2, 3]\n",
    "\n",
    "Fibonacci series upto 6:\n",
    "[0, 1, 1, 2, 3, 5]\n",
    "\n",
    "Fibonacci series upto 9:\n",
    "[0, 1, 1, 2, 3, 5, 8, 13, 21]\n",
    "\n",
    "[Click me to see the sample solution](https://w3resource.com/python-exercises/lambda/python-lambda-exercise-10.php#google_vignette)"
   ]
  },
  {
   "cell_type": "code",
   "execution_count": 28,
   "metadata": {},
   "outputs": [
    {
     "name": "stdout",
     "output_type": "stream",
     "text": [
      "[0, 1]\n",
      "[0, 1, 1, 2, 3]\n",
      "[0, 1, 1, 2, 3, 5, 8, 13, 21]\n",
      "[0, 1, 1, 2, 3, 5, 8, 13, 21]\n"
     ]
    }
   ],
   "source": [
    "# your solution\n",
    "from functools import reduce\n",
    "fib_series = lambda n: reduce(lambda x, _: x + [x[-1] + x[-2]], range(n - 2), [0, 1])\n",
    "print(fib_series(2))\n",
    "print(fib_series(5))\n",
    "print(fib_series(9))\n",
    "\n",
    "#Variante 2:\n",
    "fibonacci = lambda y: fibonacci(y - 1) + fibonacci(y- 2) if y > 1 else y\n",
    "\n",
    "# Generiere die ersten n Fibonacci-Zahlen\n",
    "fib_sequence = [fibonacci(i) for i in range(2)]\n",
    "fib_sequence = [fibonacci(i) for i in range(5)]\n",
    "fib_sequence = [fibonacci(i) for i in range(9)]\n",
    "\n",
    "print(fib_sequence) "
   ]
  }
 ],
 "metadata": {
  "kernelspec": {
   "display_name": "Python 3",
   "language": "python",
   "name": "python3"
  },
  "language_info": {
   "codemirror_mode": {
    "name": "ipython",
    "version": 3
   },
   "file_extension": ".py",
   "mimetype": "text/x-python",
   "name": "python",
   "nbconvert_exporter": "python",
   "pygments_lexer": "ipython3",
   "version": "3.12.4"
  }
 },
 "nbformat": 4,
 "nbformat_minor": 2
}
